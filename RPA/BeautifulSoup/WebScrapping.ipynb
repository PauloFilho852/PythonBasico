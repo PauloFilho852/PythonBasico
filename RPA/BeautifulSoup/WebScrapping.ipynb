{
 "cells": [
  {
   "cell_type": "code",
   "execution_count": 10,
   "id": "462f1838-6ea6-4abe-b27f-6647c12c2c13",
   "metadata": {},
   "outputs": [],
   "source": [
    "from bs4 import BeautifulSoup as bs"
   ]
  },
  {
   "cell_type": "code",
   "execution_count": 28,
   "id": "e261ff4d-a1d1-4648-827d-a2f6f9c877fb",
   "metadata": {},
   "outputs": [],
   "source": [
    "import pandas as pd"
   ]
  },
  {
   "cell_type": "code",
   "execution_count": 13,
   "id": "380be07f-d7ce-43dd-b184-6ddefacad8d4",
   "metadata": {},
   "outputs": [],
   "source": [
    "html_file = open('Files\\\\data_in_table.html', mode = 'r', encoding = 'utf-8')"
   ]
  },
  {
   "cell_type": "code",
   "execution_count": 16,
   "id": "91bceb4c-0fdd-4be0-a978-4515c339c898",
   "metadata": {},
   "outputs": [],
   "source": [
    "soup = bs(html_file, 'html.parser')"
   ]
  },
  {
   "cell_type": "code",
   "execution_count": 17,
   "id": "734dbf87-cb31-4270-8939-022fc433390f",
   "metadata": {},
   "outputs": [],
   "source": [
    "table = soup.find(id = 'main_table')"
   ]
  },
  {
   "cell_type": "code",
   "execution_count": 18,
   "id": "6330da84-76af-4f8f-a10e-fd8a8d49cae2",
   "metadata": {},
   "outputs": [],
   "source": [
    "table_rows = table.find_all('tr')"
   ]
  },
  {
   "cell_type": "code",
   "execution_count": 30,
   "id": "e2e2f493-8309-4f75-96d4-658b987ace99",
   "metadata": {},
   "outputs": [
    {
     "data": {
      "text/html": [
       "<div>\n",
       "<style scoped>\n",
       "    .dataframe tbody tr th:only-of-type {\n",
       "        vertical-align: middle;\n",
       "    }\n",
       "\n",
       "    .dataframe tbody tr th {\n",
       "        vertical-align: top;\n",
       "    }\n",
       "\n",
       "    .dataframe thead th {\n",
       "        text-align: right;\n",
       "    }\n",
       "</style>\n",
       "<table border=\"1\" class=\"dataframe\">\n",
       "  <thead>\n",
       "    <tr style=\"text-align: right;\">\n",
       "      <th></th>\n",
       "      <th>Codigo</th>\n",
       "      <th>Nome</th>\n",
       "      <th>Nota</th>\n",
       "    </tr>\n",
       "  </thead>\n",
       "  <tbody>\n",
       "    <tr>\n",
       "      <th>0</th>\n",
       "      <td>100</td>\n",
       "      <td>Rodrigo</td>\n",
       "      <td>8</td>\n",
       "    </tr>\n",
       "    <tr>\n",
       "      <th>1</th>\n",
       "      <td>101</td>\n",
       "      <td>Diego</td>\n",
       "      <td>8</td>\n",
       "    </tr>\n",
       "    <tr>\n",
       "      <th>2</th>\n",
       "      <td>103</td>\n",
       "      <td>Alan</td>\n",
       "      <td>9</td>\n",
       "    </tr>\n",
       "    <tr>\n",
       "      <th>3</th>\n",
       "      <td>104</td>\n",
       "      <td>Tony</td>\n",
       "      <td>10</td>\n",
       "    </tr>\n",
       "    <tr>\n",
       "      <th>4</th>\n",
       "      <td>105</td>\n",
       "      <td>Fabiano</td>\n",
       "      <td>0</td>\n",
       "    </tr>\n",
       "  </tbody>\n",
       "</table>\n",
       "</div>"
      ],
      "text/plain": [
       "  Codigo     Nome Nota\n",
       "0    100  Rodrigo    8\n",
       "1    101    Diego    8\n",
       "2    103     Alan    9\n",
       "3    104     Tony   10\n",
       "4    105  Fabiano    0"
      ]
     },
     "execution_count": 30,
     "metadata": {},
     "output_type": "execute_result"
    }
   ],
   "source": [
    "dados_alunos = []\n",
    "\n",
    "for linha in table_rows:\n",
    "    colunas = linha.find_all('td')\n",
    "    if len(colunas) > 0: \n",
    "        dict_aluno = {\n",
    "        'Codigo': colunas[0].text,\n",
    "         'Nome': colunas[1].text,\n",
    "         'Nota': colunas[2].text\n",
    "        }\n",
    "        dados_alunos.append(dict_aluno)\n",
    "\n",
    "df = pd.DataFrame(dados_alunos)\n",
    "df"
   ]
  },
  {
   "cell_type": "code",
   "execution_count": null,
   "id": "5afd01c6-349e-43da-8705-fb84c211402c",
   "metadata": {},
   "outputs": [],
   "source": [
    "#Para interagir com o script em linha de comando\n",
    "#import pdb\n",
    "#pdb.set_trace()"
   ]
  }
 ],
 "metadata": {
  "kernelspec": {
   "display_name": "Python 3 (ipykernel)",
   "language": "python",
   "name": "python3"
  },
  "language_info": {
   "codemirror_mode": {
    "name": "ipython",
    "version": 3
   },
   "file_extension": ".py",
   "mimetype": "text/x-python",
   "name": "python",
   "nbconvert_exporter": "python",
   "pygments_lexer": "ipython3",
   "version": "3.11.7"
  }
 },
 "nbformat": 4,
 "nbformat_minor": 5
}
