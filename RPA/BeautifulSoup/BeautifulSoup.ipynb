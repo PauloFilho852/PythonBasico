{
 "cells": [
  {
   "cell_type": "code",
   "execution_count": 1,
   "id": "ed41d8db",
   "metadata": {},
   "outputs": [],
   "source": [
    "from bs4 import BeautifulSoup as bs"
   ]
  },
  {
   "cell_type": "code",
   "execution_count": 7,
   "id": "74864374",
   "metadata": {},
   "outputs": [],
   "source": [
    "html_file = open('Files\\\\generic_simple.html', mode='r', encoding='utf-8')"
   ]
  },
  {
   "cell_type": "code",
   "execution_count": 8,
   "id": "857c7b0e",
   "metadata": {},
   "outputs": [],
   "source": [
    "#Inicializa o objeto BeautifulSoup\n",
    "soup = bs(html_file)"
   ]
  },
  {
   "cell_type": "code",
   "execution_count": 9,
   "id": "45ff7b41",
   "metadata": {},
   "outputs": [
    {
     "data": {
      "text/plain": [
       "<!DOCTYPE html>\n",
       "<html>\n",
       "<head>\n",
       "<title>Um HTML simples</title>\n",
       "</head>\n",
       "<body bgcolor=\"salmon\">\n",
       "<h1 style=\"background-color:peachpuff\">Um tópico aleatório</h1>\n",
       "<div class=\"article\" id=\"I_AM_Unique\" style=\"background-color:peachpuff\">\n",
       "<p style=\"background-color:peachpuff\">Eu sou a descrição do tópico aleatório acima. Não há necessidade de me ler em tudo.\n",
       "\t\tAinda assim, se você está lendo, o problema é seu.\n",
       "\t\tVocê ainda não consegue descobrir, eu sou inútil?\n",
       "\t\tPessoal, parem de me ler agora.\n",
       "\t\tObrigado\n",
       "\t</p>\n",
       "</div>\n",
       "<br/><br/><br/>\n",
       "<div class=\"article\" id=\"imp_article_ID\" style=\"background-color:peachpuff\">\n",
       "<h2>Já utilizou o google hoje?</h2>\n",
       "<a href=\"http://www.google.com\"><h3><b> Ir para o google </b></h3></a>\n",
       "</div>\n",
       "<br/><br/><br/>\n",
       "<div class=\"article\" id=\"I_AM_AnotherDivID\" style=\"background-color:peachpuff\">\n",
       "<b>Sou apenas uma nova divisão<b><br/>\n",
       "\tQuer ir para o site do professor?\n",
       "\t<a href=\"https://www.udemy.com/user/gabriel-henrique-casemiro/\">Ir agora</a>\n",
       "</b></b></div>\n",
       "<div class=\"article\" id=\"I_AM_AnotherDivID\" style=\"background-color:peachpuff\">\n",
       "<b>Vamos participar do grupo do curso?<b><br/>\n",
       "<a href=\"https://t.me/criandoroboscompython\">Entrar no grupo do telegram</a>\n",
       "</b></b></div>\n",
       "<br/><br/><br/>\n",
       "<div id=\"footer\" style=\"background-color:peachpuff\">\n",
       "<center><h2>Sou um rodapé</h2> </center>\n",
       "</div>\n",
       "</body>\n",
       "</html>"
      ]
     },
     "execution_count": 9,
     "metadata": {},
     "output_type": "execute_result"
    }
   ],
   "source": [
    "#Mostra o arquivo HTML conforme escrito\n",
    "soup"
   ]
  },
  {
   "cell_type": "code",
   "execution_count": 10,
   "id": "2e2d1f29",
   "metadata": {},
   "outputs": [],
   "source": [
    "#mMostra todos os membros da instancia\n",
    "#print(dir(soup))"
   ]
  },
  {
   "cell_type": "code",
   "execution_count": 11,
   "id": "d319ee4f",
   "metadata": {},
   "outputs": [
    {
     "data": {
      "text/plain": [
       "'<!DOCTYPE html>\\n<html>\\n <head>\\n  <title>\\n   Um HTML simples\\n  </title>\\n </head>\\n <body bgcolor=\"salmon\">\\n  <h1 style=\"background-color:peachpuff\">\\n   Um tópico aleatório\\n  </h1>\\n  <div class=\"article\" id=\"I_AM_Unique\" style=\"background-color:peachpuff\">\\n   <p style=\"background-color:peachpuff\">\\n    Eu sou a descrição do tópico aleatório acima. Não há necessidade de me ler em tudo.\\n\\t\\tAinda assim, se você está lendo, o problema é seu.\\n\\t\\tVocê ainda não consegue descobrir, eu sou inútil?\\n\\t\\tPessoal, parem de me ler agora.\\n\\t\\tObrigado\\n   </p>\\n  </div>\\n  <br/>\\n  <br/>\\n  <br/>\\n  <div class=\"article\" id=\"imp_article_ID\" style=\"background-color:peachpuff\">\\n   <h2>\\n    Já utilizou o google hoje?\\n   </h2>\\n   <a href=\"http://www.google.com\">\\n    <h3>\\n     <b>\\n      Ir para o google\\n     </b>\\n    </h3>\\n   </a>\\n  </div>\\n  <br/>\\n  <br/>\\n  <br/>\\n  <div class=\"article\" id=\"I_AM_AnotherDivID\" style=\"background-color:peachpuff\">\\n   <b>\\n    Sou apenas uma nova divisão\\n    <b>\\n     <br/>\\n     Quer ir para o site do professor?\\n     <a href=\"https://www.udemy.com/user/gabriel-henrique-casemiro/\">\\n      Ir agora\\n     </a>\\n    </b>\\n   </b>\\n  </div>\\n  <div class=\"article\" id=\"I_AM_AnotherDivID\" style=\"background-color:peachpuff\">\\n   <b>\\n    Vamos participar do grupo do curso?\\n    <b>\\n     <br/>\\n     <a href=\"https://t.me/criandoroboscompython\">\\n      Entrar no grupo do telegram\\n     </a>\\n    </b>\\n   </b>\\n  </div>\\n  <br/>\\n  <br/>\\n  <br/>\\n  <div id=\"footer\" style=\"background-color:peachpuff\">\\n   <center>\\n    <h2>\\n     Sou um rodapé\\n    </h2>\\n   </center>\\n  </div>\\n </body>\\n</html>\\n'"
      ]
     },
     "execution_count": 11,
     "metadata": {},
     "output_type": "execute_result"
    }
   ],
   "source": [
    "#HTML em formato de texto com quebras de linha nas aberturas e fechamento das tags\n",
    "soup.prettify()"
   ]
  },
  {
   "cell_type": "code",
   "execution_count": 12,
   "id": "0ae0ca23",
   "metadata": {},
   "outputs": [
    {
     "data": {
      "text/plain": [
       "'\\n\\nUm HTML simples\\n\\n\\nUm tópico aleatório\\n\\nEu sou a descrição do tópico aleatório acima. Não há necessidade de me ler em tudo.\\n\\t\\tAinda assim, se você está lendo, o problema é seu.\\n\\t\\tVocê ainda não consegue descobrir, eu sou inútil?\\n\\t\\tPessoal, parem de me ler agora.\\n\\t\\tObrigado\\n\\t\\n\\n\\n\\nJá utilizou o google hoje?\\n Ir para o google \\n\\n\\n\\nSou apenas uma nova divisão\\n\\tQuer ir para o site do professor?\\n\\tIr agora\\n\\n\\nVamos participar do grupo do curso?\\nEntrar no grupo do telegram\\n\\n\\n\\nSou um rodapé \\n\\n\\n\\n'"
      ]
     },
     "execution_count": 12,
     "metadata": {},
     "output_type": "execute_result"
    }
   ],
   "source": [
    "#Somente o texto sem as tags, com quebras de linha.\n",
    "soup.get_text()"
   ]
  },
  {
   "cell_type": "code",
   "execution_count": 13,
   "id": "3d72d196",
   "metadata": {},
   "outputs": [
    {
     "data": {
      "text/plain": [
       "<title>Um HTML simples</title>"
      ]
     },
     "execution_count": 13,
     "metadata": {},
     "output_type": "execute_result"
    }
   ],
   "source": [
    "soup.title"
   ]
  },
  {
   "cell_type": "code",
   "execution_count": 14,
   "id": "4d7346ea",
   "metadata": {},
   "outputs": [
    {
     "data": {
      "text/plain": [
       "'Um HTML simples'"
      ]
     },
     "execution_count": 14,
     "metadata": {},
     "output_type": "execute_result"
    }
   ],
   "source": [
    "soup.title.string"
   ]
  },
  {
   "cell_type": "code",
   "execution_count": 15,
   "id": "e3a25098",
   "metadata": {},
   "outputs": [
    {
     "data": {
      "text/plain": [
       "'title'"
      ]
     },
     "execution_count": 15,
     "metadata": {},
     "output_type": "execute_result"
    }
   ],
   "source": [
    "soup.title.name"
   ]
  },
  {
   "cell_type": "code",
   "execution_count": 16,
   "id": "31c82b47",
   "metadata": {},
   "outputs": [
    {
     "data": {
      "text/plain": [
       "<head>\n",
       "<title>Um HTML simples</title>\n",
       "</head>"
      ]
     },
     "execution_count": 16,
     "metadata": {},
     "output_type": "execute_result"
    }
   ],
   "source": [
    "soup.title.parent"
   ]
  },
  {
   "cell_type": "code",
   "execution_count": 17,
   "id": "ff3d7968",
   "metadata": {},
   "outputs": [
    {
     "data": {
      "text/plain": [
       "'head'"
      ]
     },
     "execution_count": 17,
     "metadata": {},
     "output_type": "execute_result"
    }
   ],
   "source": [
    "soup.title.parent.name"
   ]
  },
  {
   "cell_type": "code",
   "execution_count": 18,
   "id": "56ed5db1",
   "metadata": {},
   "outputs": [
    {
     "data": {
      "text/plain": [
       "<div class=\"article\" id=\"I_AM_Unique\" style=\"background-color:peachpuff\">\n",
       "<p style=\"background-color:peachpuff\">Eu sou a descrição do tópico aleatório acima. Não há necessidade de me ler em tudo.\n",
       "\t\tAinda assim, se você está lendo, o problema é seu.\n",
       "\t\tVocê ainda não consegue descobrir, eu sou inútil?\n",
       "\t\tPessoal, parem de me ler agora.\n",
       "\t\tObrigado\n",
       "\t</p>\n",
       "</div>"
      ]
     },
     "execution_count": 18,
     "metadata": {},
     "output_type": "execute_result"
    }
   ],
   "source": [
    "#Pega a primeira tag com nome div\n",
    "soup.div"
   ]
  },
  {
   "cell_type": "code",
   "execution_count": 19,
   "id": "b5dd1097",
   "metadata": {},
   "outputs": [
    {
     "data": {
      "text/plain": [
       "['\\n',\n",
       " <p style=\"background-color:peachpuff\">Eu sou a descrição do tópico aleatório acima. Não há necessidade de me ler em tudo.\n",
       " \t\tAinda assim, se você está lendo, o problema é seu.\n",
       " \t\tVocê ainda não consegue descobrir, eu sou inútil?\n",
       " \t\tPessoal, parem de me ler agora.\n",
       " \t\tObrigado\n",
       " \t</p>,\n",
       " '\\n']"
      ]
     },
     "execution_count": 19,
     "metadata": {},
     "output_type": "execute_result"
    }
   ],
   "source": [
    "list(soup.div.children)"
   ]
  },
  {
   "cell_type": "code",
   "execution_count": 20,
   "id": "8e4c3a01",
   "metadata": {},
   "outputs": [
    {
     "name": "stdout",
     "output_type": "stream",
     "text": [
      "None\n",
      "p\n",
      "None\n",
      "\n",
      "\n",
      "Eu sou a descrição do tópico aleatório acima. Não há necessidade de me ler em tudo.\n",
      "\t\tAinda assim, se você está lendo, o problema é seu.\n",
      "\t\tVocê ainda não consegue descobrir, eu sou inútil?\n",
      "\t\tPessoal, parem de me ler agora.\n",
      "\t\tObrigado\n",
      "\t\n",
      "\n",
      "\n"
     ]
    }
   ],
   "source": [
    "for i in list(soup.div.children):\n",
    "    print(i.name)\n",
    "\n",
    "    \n",
    "for i in list(soup.div.children):\n",
    "    print(i.text)"
   ]
  },
  {
   "cell_type": "code",
   "execution_count": 21,
   "id": "81a5e211",
   "metadata": {},
   "outputs": [
    {
     "data": {
      "text/plain": [
       "'Eu sou a descrição do tópico aleatório acima. Não há necessidade de me ler em tudo.\\n\\t\\tAinda assim, se você está lendo, o problema é seu.\\n\\t\\tVocê ainda não consegue descobrir, eu sou inútil?\\n\\t\\tPessoal, parem de me ler agora.\\n\\t\\tObrigado\\n\\t'"
      ]
     },
     "execution_count": 21,
     "metadata": {},
     "output_type": "execute_result"
    }
   ],
   "source": [
    "soup.p.string"
   ]
  },
  {
   "cell_type": "code",
   "execution_count": 22,
   "id": "3ddb4fee",
   "metadata": {},
   "outputs": [
    {
     "data": {
      "text/plain": [
       "' Ir para o google '"
      ]
     },
     "execution_count": 22,
     "metadata": {},
     "output_type": "execute_result"
    }
   ],
   "source": [
    "soup.a.string"
   ]
  },
  {
   "cell_type": "code",
   "execution_count": 23,
   "id": "41d8e49f",
   "metadata": {},
   "outputs": [
    {
     "data": {
      "text/plain": [
       "'http://www.google.com'"
      ]
     },
     "execution_count": 23,
     "metadata": {},
     "output_type": "execute_result"
    }
   ],
   "source": [
    "soup.a['href']"
   ]
  },
  {
   "cell_type": "code",
   "execution_count": 24,
   "id": "c7e0a735",
   "metadata": {},
   "outputs": [
    {
     "data": {
      "text/plain": [
       "<div class=\"article\" id=\"imp_article_ID\" style=\"background-color:peachpuff\">\n",
       "<h2>Já utilizou o google hoje?</h2>\n",
       "<a href=\"http://www.google.com\"><h3><b> Ir para o google </b></h3></a>\n",
       "</div>"
      ]
     },
     "execution_count": 24,
     "metadata": {},
     "output_type": "execute_result"
    }
   ],
   "source": [
    "#Acessando a tag, informando um ID.\n",
    "soup.find('div', id='imp_article_ID')"
   ]
  },
  {
   "cell_type": "code",
   "execution_count": null,
   "id": "55c3303d",
   "metadata": {},
   "outputs": [],
   "source": []
  },
  {
   "cell_type": "code",
   "execution_count": 25,
   "id": "8d30fbd0",
   "metadata": {},
   "outputs": [
    {
     "data": {
      "text/plain": [
       "<div class=\"article\" id=\"I_AM_Unique\" style=\"background-color:peachpuff\">\n",
       "<p style=\"background-color:peachpuff\">Eu sou a descrição do tópico aleatório acima. Não há necessidade de me ler em tudo.\n",
       "\t\tAinda assim, se você está lendo, o problema é seu.\n",
       "\t\tVocê ainda não consegue descobrir, eu sou inútil?\n",
       "\t\tPessoal, parem de me ler agora.\n",
       "\t\tObrigado\n",
       "\t</p>\n",
       "</div>"
      ]
     },
     "execution_count": 25,
     "metadata": {},
     "output_type": "execute_result"
    }
   ],
   "source": [
    "#Acessando a tag, informando a classe (primeira taga com a classe)\n",
    "soup.find('div', class_ = 'article')"
   ]
  },
  {
   "cell_type": "code",
   "execution_count": 26,
   "id": "87c1a8f6",
   "metadata": {},
   "outputs": [
    {
     "data": {
      "text/plain": [
       "[<div class=\"article\" id=\"I_AM_Unique\" style=\"background-color:peachpuff\">\n",
       " <p style=\"background-color:peachpuff\">Eu sou a descrição do tópico aleatório acima. Não há necessidade de me ler em tudo.\n",
       " \t\tAinda assim, se você está lendo, o problema é seu.\n",
       " \t\tVocê ainda não consegue descobrir, eu sou inútil?\n",
       " \t\tPessoal, parem de me ler agora.\n",
       " \t\tObrigado\n",
       " \t</p>\n",
       " </div>,\n",
       " <div class=\"article\" id=\"imp_article_ID\" style=\"background-color:peachpuff\">\n",
       " <h2>Já utilizou o google hoje?</h2>\n",
       " <a href=\"http://www.google.com\"><h3><b> Ir para o google </b></h3></a>\n",
       " </div>,\n",
       " <div class=\"article\" id=\"I_AM_AnotherDivID\" style=\"background-color:peachpuff\">\n",
       " <b>Sou apenas uma nova divisão<b><br/>\n",
       " \tQuer ir para o site do professor?\n",
       " \t<a href=\"https://www.udemy.com/user/gabriel-henrique-casemiro/\">Ir agora</a>\n",
       " </b></b></div>,\n",
       " <div class=\"article\" id=\"I_AM_AnotherDivID\" style=\"background-color:peachpuff\">\n",
       " <b>Vamos participar do grupo do curso?<b><br/>\n",
       " <a href=\"https://t.me/criandoroboscompython\">Entrar no grupo do telegram</a>\n",
       " </b></b></div>]"
      ]
     },
     "execution_count": 26,
     "metadata": {},
     "output_type": "execute_result"
    }
   ],
   "source": [
    "#Encontra todas as divs com a classe article e atribui a uma lista\n",
    "divs = soup.find_all('div', class_ = 'article')\n",
    "divs"
   ]
  },
  {
   "cell_type": "code",
   "execution_count": 27,
   "id": "4f9dd5ff",
   "metadata": {},
   "outputs": [
    {
     "data": {
      "text/plain": [
       "'Eu sou a descrição do tópico aleatório acima. Não há necessidade de me ler em tudo.\\n\\t\\tAinda assim, se você está lendo, o problema é seu.\\n\\t\\tVocê ainda não consegue descobrir, eu sou inútil?\\n\\t\\tPessoal, parem de me ler agora.\\n\\t\\tObrigado\\n\\t'"
      ]
     },
     "execution_count": 27,
     "metadata": {},
     "output_type": "execute_result"
    }
   ],
   "source": [
    "#primeira div da lista. pode ser: divs[0].p.text\n",
    "divs[0].p.string"
   ]
  },
  {
   "cell_type": "code",
   "execution_count": 28,
   "id": "2fe82dd5",
   "metadata": {},
   "outputs": [
    {
     "data": {
      "text/plain": [
       "'Entrar no grupo do telegram'"
      ]
     },
     "execution_count": 28,
     "metadata": {},
     "output_type": "execute_result"
    }
   ],
   "source": [
    "divs[3].a.text"
   ]
  },
  {
   "cell_type": "code",
   "execution_count": 29,
   "id": "5cc41587",
   "metadata": {},
   "outputs": [
    {
     "data": {
      "text/plain": [
       "'https://t.me/criandoroboscompython'"
      ]
     },
     "execution_count": 29,
     "metadata": {},
     "output_type": "execute_result"
    }
   ],
   "source": [
    "divs[3].a['href']"
   ]
  },
  {
   "cell_type": "code",
   "execution_count": 30,
   "id": "0c5c5534",
   "metadata": {},
   "outputs": [
    {
     "data": {
      "text/plain": [
       "[<a href=\"http://www.google.com\"><h3><b> Ir para o google </b></h3></a>,\n",
       " <a href=\"https://www.udemy.com/user/gabriel-henrique-casemiro/\">Ir agora</a>,\n",
       " <a href=\"https://t.me/criandoroboscompython\">Entrar no grupo do telegram</a>]"
      ]
     },
     "execution_count": 30,
     "metadata": {},
     "output_type": "execute_result"
    }
   ],
   "source": [
    "soup.find_all('a')"
   ]
  },
  {
   "cell_type": "code",
   "execution_count": 31,
   "id": "ee78b262",
   "metadata": {},
   "outputs": [
    {
     "name": "stdout",
     "output_type": "stream",
     "text": [
      "http://www.google.com\n",
      "https://www.udemy.com/user/gabriel-henrique-casemiro/\n",
      "https://t.me/criandoroboscompython\n"
     ]
    }
   ],
   "source": [
    "for a in soup.find_all('a'):\n",
    "    print(a['href'])    "
   ]
  }
 ],
 "metadata": {
  "kernelspec": {
   "display_name": "venv",
   "language": "python",
   "name": "python3"
  },
  "language_info": {
   "codemirror_mode": {
    "name": "ipython",
    "version": 3
   },
   "file_extension": ".py",
   "mimetype": "text/x-python",
   "name": "python",
   "nbconvert_exporter": "python",
   "pygments_lexer": "ipython3",
   "version": "3.12.4"
  }
 },
 "nbformat": 4,
 "nbformat_minor": 5
}
