{
 "cells": [
  {
   "cell_type": "code",
   "execution_count": 1,
   "id": "b74cbcb3-e2a3-447b-ad4b-9a7be2e8c604",
   "metadata": {},
   "outputs": [],
   "source": [
    "import pyautogui as ag"
   ]
  },
  {
   "cell_type": "code",
   "execution_count": 2,
   "id": "1be1cbf9-d948-44b0-845a-f5b5c511c8e2",
   "metadata": {},
   "outputs": [],
   "source": [
    "posicao = ag.position()"
   ]
  },
  {
   "cell_type": "code",
   "execution_count": 9,
   "id": "1625e0d5-a7eb-41a5-a5cf-74401ec59b08",
   "metadata": {},
   "outputs": [],
   "source": [
    "ag.moveTo(posicao, duration = 1)\n",
    "\n",
    "#poderia ser \n",
    "#ag.click(posicao)\n",
    "\n",
    "ag.click()\n",
    "ag.typewrite('Hello, PyAutoGui!', interval = 0.2)"
   ]
  },
  {
   "cell_type": "code",
   "execution_count": 12,
   "id": "f107e1b0-46ac-4dce-92cb-d2f5c57ca9ea",
   "metadata": {},
   "outputs": [],
   "source": [
    "#lista todas as teclas possíveis\n",
    "#ag.KEYBOARD_KEYS"
   ]
  },
  {
   "cell_type": "code",
   "execution_count": 13,
   "id": "8104ae9e-319b-4eb0-af56-3528c324ce3a",
   "metadata": {},
   "outputs": [],
   "source": [
    "ag.moveTo(posicao, duration = 1)\n",
    "ag.click()\n",
    "ag.typewrite('Hello, PyAutoGui!', interval = 0.2)\n",
    "\n",
    "#Pressiona a tecla \"enter\" (quebra a linha)\n",
    "ag.press('enter')\n",
    "ag.typewrite('Muito legal!', interval = 0.2)"
   ]
  },
  {
   "cell_type": "code",
   "execution_count": 17,
   "id": "19578ca2-55f5-4597-bf2a-72c9b0e8b0ce",
   "metadata": {},
   "outputs": [],
   "source": [
    "#keyDown() mantém a tecla pressionada\n",
    "ag.keyDown('ctrl')\n",
    "ag.keyDown('alt')\n",
    "ag.keyDown('tab')\n",
    "\n",
    "#Libera as teclas\n",
    "ag.keyUp('tab')\n",
    "ag.keyUp('alt')\n",
    "ag.keyUp('ctrl')"
   ]
  },
  {
   "cell_type": "code",
   "execution_count": 19,
   "id": "7d0c7078-3ae9-4325-b576-8f084d256231",
   "metadata": {},
   "outputs": [],
   "source": [
    "#hotkey\n",
    "ag.hotkey('ctrl', 'alt', 'tab')"
   ]
  },
  {
   "cell_type": "code",
   "execution_count": null,
   "id": "59a8f688-6bd4-48df-b32a-f4c395c6a66d",
   "metadata": {},
   "outputs": [],
   "source": []
  }
 ],
 "metadata": {
  "kernelspec": {
   "display_name": "venv",
   "language": "python",
   "name": "python3"
  },
  "language_info": {
   "codemirror_mode": {
    "name": "ipython",
    "version": 3
   },
   "file_extension": ".py",
   "mimetype": "text/x-python",
   "name": "python",
   "nbconvert_exporter": "python",
   "pygments_lexer": "ipython3",
   "version": "3.12.4"
  }
 },
 "nbformat": 4,
 "nbformat_minor": 5
}
