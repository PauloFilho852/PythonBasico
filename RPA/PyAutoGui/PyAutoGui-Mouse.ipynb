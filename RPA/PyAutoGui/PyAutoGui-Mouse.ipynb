{
 "cells": [
  {
   "cell_type": "code",
   "execution_count": 1,
   "id": "6303b787",
   "metadata": {},
   "outputs": [],
   "source": [
    "import pyautogui as ag"
   ]
  },
  {
   "cell_type": "code",
   "execution_count": 2,
   "id": "b89652c2",
   "metadata": {},
   "outputs": [
    {
     "data": {
      "text/plain": [
       "Size(width=1920, height=1080)"
      ]
     },
     "execution_count": 2,
     "metadata": {},
     "output_type": "execute_result"
    }
   ],
   "source": [
    "#Obtem a resolução da tela\n",
    "ag.size()"
   ]
  },
  {
   "cell_type": "code",
   "execution_count": 3,
   "id": "365fd7f4",
   "metadata": {},
   "outputs": [
    {
     "data": {
      "text/plain": [
       "Point(x=330, y=230)"
      ]
     },
     "execution_count": 3,
     "metadata": {},
     "output_type": "execute_result"
    }
   ],
   "source": [
    "#Obtém a posição do mouse na tela\n",
    "position = ag.position()\n",
    "position"
   ]
  },
  {
   "cell_type": "code",
   "execution_count": 5,
   "id": "427f4662",
   "metadata": {},
   "outputs": [],
   "source": [
    "#Move o mouse da posição default até a posição indicada, com a duração especificada\n",
    "ag.moveTo(position, duration = 2)\n",
    "\n",
    "#Ao chegar na posição indicada, ocorre o evento click (botão esquerdo)\n",
    "ag.click()"
   ]
  },
  {
   "cell_type": "code",
   "execution_count": 6,
   "id": "a17b5f1e",
   "metadata": {},
   "outputs": [],
   "source": [
    "ag.moveTo(position, duration = 2)\n",
    "\n",
    "#Ao chegar na posição indicada, ocorre o evento click (botão direito)\n",
    "ag.rightClick()"
   ]
  },
  {
   "cell_type": "code",
   "execution_count": 7,
   "id": "80748c16",
   "metadata": {},
   "outputs": [],
   "source": [
    "#Move mouse a quantidades de pixels indicados - 300 pixels para direita e 300 pixels para baixo\n",
    "ag.moveRel(300, 300, duration = 2)"
   ]
  },
  {
   "cell_type": "code",
   "execution_count": 9,
   "id": "56144c70",
   "metadata": {},
   "outputs": [],
   "source": [
    "#Movimenta o mouse arrastanto da posição default até a posição indicada\n",
    "ag.dragTo(position, duration = 2)"
   ]
  },
  {
   "cell_type": "code",
   "execution_count": 8,
   "id": "919f951b",
   "metadata": {},
   "outputs": [],
   "source": [
    "#Arrasta mouse a quantidades de pixels indicados - 150 pixels para direita e 150 pixels para baixo\n",
    "ag.dragRel(150,150, duration = 2)"
   ]
  },
  {
   "cell_type": "code",
   "execution_count": 6,
   "id": "c451abab",
   "metadata": {},
   "outputs": [],
   "source": [
    "#Tira um print da tela\n",
    "img = ag.screenshot(\"my_screenshot.png\")"
   ]
  },
  {
   "cell_type": "code",
   "execution_count": 9,
   "id": "ca294a5f-a9dd-4dc1-a7c8-3b4ff412571a",
   "metadata": {},
   "outputs": [],
   "source": [
    "#Tira um print de um recorte da tela de 300pxx400px, iniciando em (0,0) da tela\n",
    "img_reg = ag.screenshot('my_screen_cut.png', region =(0,0, 300, 400))"
   ]
  },
  {
   "cell_type": "code",
   "execution_count": 11,
   "id": "428a97c2-6f55-431b-b5c9-3d1aa6da9da9",
   "metadata": {},
   "outputs": [],
   "source": [
    "#Faz o reconhcimento da imagem e retona a coordenada, assim o mouse se move até ponto informado.\n",
    "#A seguir faz o click (número 5 da calculadora em modo científico)\n",
    "ag.moveTo(ag.locateOnScreen('botao.png'), duration = 2)\n",
    "ag.click()"
   ]
  },
  {
   "cell_type": "code",
   "execution_count": 18,
   "id": "460bfced-b02b-46b2-9270-f0d63e15eed0",
   "metadata": {},
   "outputs": [],
   "source": [
    "#Move-se até o centro da imagem reconhecida.\n",
    "ag.moveTo(ag.locateCenterOnScreen('botao.png'), duration = 2)\n",
    "ag.click()"
   ]
  },
  {
   "cell_type": "code",
   "execution_count": 6,
   "id": "7ab3b712-a33c-496a-b356-65aacbaf2c16",
   "metadata": {},
   "outputs": [],
   "source": [
    "#Usando o parâmetro confidence (precisao), utiliza o OpenCV.\n",
    "ag.moveTo(ag.locateCenterOnScreen('botao.png', confidence = 0.8), duration = 2)\n",
    "ag.click()"
   ]
  },
  {
   "cell_type": "code",
   "execution_count": 7,
   "id": "7accbdc6-8e5a-4a43-b96a-7f77900d0a7c",
   "metadata": {},
   "outputs": [],
   "source": [
    "#grayscale faz o reconhecimento comparando tons de cinza (ganho de performance).\n",
    "ag.moveTo(ag.locateCenterOnScreen('botao.png', confidence = 0.8, grayscale =True), duration = 2)\n",
    "ag.click()"
   ]
  },
  {
   "cell_type": "code",
   "execution_count": 15,
   "id": "69323b9d",
   "metadata": {},
   "outputs": [
    {
     "name": "stdout",
     "output_type": "stream",
     "text": [
      "Press Ctrl-C to quit.\n",
      "X:  337 Y:  447 RGB: (164, 164, 16X:  337 Y:  447 RGB: (143, 144, 14X:  337 Y:  447 RGB: (143, 144, 14X:  337 Y:  447 RGB: (143, 144, 14X:  337 Y:  447 RGB: (143, 144, 14X:  337 Y:  447 RGB: (143, 144, 14X:  337 Y:  447 RGB: (143, 144, 14X:  337 Y:  447 RGB: (143, 144, 14X:  337 Y:  447 RGB: (143, 144, 14X:  337 Y:  447 RGB: (143, 144, 14X:  337 Y:  447 RGB: (143, 144, 14X:  337 Y:  447 RGB: (143, 144, 14X:  337 Y:  447 RGB: (143, 144, 14X:  337 Y:  447 RGB: (143, 144, 14X:  340 Y:  449 RGB: ( 62,  64,  6X:  344 Y:  454 RGB: ( 62,  64,  6X:  349 Y:  462 RGB: ( 29,  29,  2X:  368 Y:  489 RGB: ( 69,  69,  6X:  391 Y:  521 RGB: ( 31,  31,  3X:  399 Y:  527 RGB: ( 31,  31,  3X:  404 Y:  527 RGB: ( 31,  31,  3X:  412 Y:  494 RGB: ( 24,  24,  2X:  418 Y:  487 RGB: ( 24,  24,  2X:  418 Y:  487 RGB: ( 24,  24,  2X:  418 Y:  487 RGB: ( 24,  24,  2X:  415 Y:  487 RGB: ( 24,  24,  2X:  383 Y:  487 RGB: ( 24,  24,  2X:  378 Y:  485 RGB: ( 24,  24,  2X:  353 Y:  477 RGB: ( 31,  31,  3X:  348 Y:  469 RGB: ( 31,  31,  3X:  348 Y:  464 RGB: ( 31,  31,  3X:  348 Y:  463 RGB: ( 31,  31,  3X:  344 Y:  459 RGB: ( 62,  64,  6X:  340 Y:  459 RGB: ( 62,  64,  6X:  340 Y:  459 RGB: ( 62,  64,  6X:  340 Y:  459 RGB: ( 62,  64,  6X:  340 Y:  459 RGB: ( 62,  64,  6X:  340 Y:  459 RGB: ( 62,  64,  6\n"
     ]
    }
   ],
   "source": [
    "#Mostra a posição do mouse em tempo real (executar no prompt)\n",
    "#ag.displayMousePosition()"
   ]
  }
 ],
 "metadata": {
  "kernelspec": {
   "display_name": "venv",
   "language": "python",
   "name": "python3"
  },
  "language_info": {
   "codemirror_mode": {
    "name": "ipython",
    "version": 3
   },
   "file_extension": ".py",
   "mimetype": "text/x-python",
   "name": "python",
   "nbconvert_exporter": "python",
   "pygments_lexer": "ipython3",
   "version": "3.12.4"
  }
 },
 "nbformat": 4,
 "nbformat_minor": 5
}
