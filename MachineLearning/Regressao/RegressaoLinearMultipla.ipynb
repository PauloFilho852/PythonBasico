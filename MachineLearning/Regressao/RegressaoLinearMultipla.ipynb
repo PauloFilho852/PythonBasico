{
 "cells": [
  {
   "cell_type": "code",
   "execution_count": 39,
   "id": "659caa49",
   "metadata": {},
   "outputs": [],
   "source": [
    "import os\n",
    "import pandas as pd\n",
    "import numpy as np\n",
    "import matplotlib.pyplot as plt\n",
    "from sklearn.model_selection import train_test_split, KFold, cross_val_score\n",
    "from sklearn.metrics import mean_absolute_error, mean_squared_error\n",
    "from sklearn.linear_model import LinearRegression"
   ]
  },
  {
   "cell_type": "code",
   "execution_count": 40,
   "id": "f942890e",
   "metadata": {},
   "outputs": [
    {
     "data": {
      "text/html": [
       "<div>\n",
       "<style scoped>\n",
       "    .dataframe tbody tr th:only-of-type {\n",
       "        vertical-align: middle;\n",
       "    }\n",
       "\n",
       "    .dataframe tbody tr th {\n",
       "        vertical-align: top;\n",
       "    }\n",
       "\n",
       "    .dataframe thead th {\n",
       "        text-align: right;\n",
       "    }\n",
       "</style>\n",
       "<table border=\"1\" class=\"dataframe\">\n",
       "  <thead>\n",
       "    <tr style=\"text-align: right;\">\n",
       "      <th></th>\n",
       "      <th>RM</th>\n",
       "      <th>LSTAT</th>\n",
       "      <th>PTRATIO</th>\n",
       "      <th>MEDV</th>\n",
       "    </tr>\n",
       "  </thead>\n",
       "  <tbody>\n",
       "    <tr>\n",
       "      <th>0</th>\n",
       "      <td>6.575</td>\n",
       "      <td>4.98</td>\n",
       "      <td>15.3</td>\n",
       "      <td>504000.0</td>\n",
       "    </tr>\n",
       "    <tr>\n",
       "      <th>1</th>\n",
       "      <td>6.421</td>\n",
       "      <td>9.14</td>\n",
       "      <td>17.8</td>\n",
       "      <td>453600.0</td>\n",
       "    </tr>\n",
       "    <tr>\n",
       "      <th>2</th>\n",
       "      <td>7.185</td>\n",
       "      <td>4.03</td>\n",
       "      <td>17.8</td>\n",
       "      <td>728700.0</td>\n",
       "    </tr>\n",
       "  </tbody>\n",
       "</table>\n",
       "</div>"
      ],
      "text/plain": [
       "      RM  LSTAT  PTRATIO      MEDV\n",
       "0  6.575   4.98     15.3  504000.0\n",
       "1  6.421   9.14     17.8  453600.0\n",
       "2  7.185   4.03     17.8  728700.0"
      ]
     },
     "execution_count": 40,
     "metadata": {},
     "output_type": "execute_result"
    }
   ],
   "source": [
    "path = os.getcwd() + '\\\\Analise e Tratamento\\\\Dados\\\\'\n",
    "df = pd.read_csv(path + 'housing.csv', sep =',' , encoding = 'iso-8859-1')\n",
    "df.head(3)"
   ]
  },
  {
   "cell_type": "code",
   "execution_count": 41,
   "id": "516aacaf",
   "metadata": {},
   "outputs": [],
   "source": [
    "x = df.iloc[:, 0:3].values\n",
    "y = df.iloc[:, 3].values"
   ]
  },
  {
   "cell_type": "code",
   "execution_count": 42,
   "id": "d7a2a07a",
   "metadata": {},
   "outputs": [],
   "source": [
    "x_treino, x_teste, y_treino, y_teste = train_test_split(x, y, test_size = 0.3, random_state = 0)"
   ]
  },
  {
   "cell_type": "code",
   "execution_count": 43,
   "id": "dc1da283",
   "metadata": {},
   "outputs": [
    {
     "data": {
      "text/plain": [
       "LinearRegression()"
      ]
     },
     "execution_count": 43,
     "metadata": {},
     "output_type": "execute_result"
    }
   ],
   "source": [
    "regressao_multipla = LinearRegression()\n",
    "regressao_multipla.fit(x_treino, y_treino)"
   ]
  },
  {
   "cell_type": "code",
   "execution_count": 44,
   "id": "7ad34003",
   "metadata": {},
   "outputs": [
    {
     "data": {
      "text/plain": [
       "434789.45509552275"
      ]
     },
     "execution_count": 44,
     "metadata": {},
     "output_type": "execute_result"
    }
   ],
   "source": [
    "#Coeficientes Linear\n",
    "regressao_multipla.intercept_"
   ]
  },
  {
   "cell_type": "code",
   "execution_count": 45,
   "id": "928aa708",
   "metadata": {},
   "outputs": [
    {
     "data": {
      "text/plain": [
       "array([ 85325.36412937, -10775.41479323, -20133.58779106])"
      ]
     },
     "execution_count": 45,
     "metadata": {},
     "output_type": "execute_result"
    }
   ],
   "source": [
    "#Coeficiente das variáveis independentes\n",
    "regressao_multipla.coef_"
   ]
  },
  {
   "cell_type": "code",
   "execution_count": 46,
   "id": "cd020164",
   "metadata": {},
   "outputs": [
    {
     "data": {
      "text/plain": [
       "0.7343049403294957"
      ]
     },
     "execution_count": 46,
     "metadata": {},
     "output_type": "execute_result"
    }
   ],
   "source": [
    "#Coeficiente de Determinação dados de treino - r^2 (Fala se os dados estão explicando o modelo)\n",
    "regressao_multipla.score(x_treino, y_treino)"
   ]
  },
  {
   "cell_type": "code",
   "execution_count": 47,
   "id": "36cc0c48",
   "metadata": {},
   "outputs": [
    {
     "data": {
      "text/plain": [
       "0.6817814124380092"
      ]
     },
     "execution_count": 47,
     "metadata": {},
     "output_type": "execute_result"
    }
   ],
   "source": [
    "#Coeficiente de Determinação dados de teste - r^2\n",
    "regressao_multipla.score(x_teste, y_teste)"
   ]
  },
  {
   "cell_type": "code",
   "execution_count": 48,
   "id": "bf0f7247",
   "metadata": {},
   "outputs": [],
   "source": [
    "previsoes = regressao_multipla.predict(x_teste)"
   ]
  },
  {
   "cell_type": "code",
   "execution_count": 49,
   "id": "c757348d",
   "metadata": {},
   "outputs": [
    {
     "data": {
      "text/plain": [
       "array([546003.18143388])"
      ]
     },
     "execution_count": 49,
     "metadata": {},
     "output_type": "execute_result"
    }
   ],
   "source": [
    "#Realizando um predição\n",
    "valor_casa = regressao_multipla.predict([[8, 25, 15]])\n",
    "valor_casa"
   ]
  },
  {
   "cell_type": "code",
   "execution_count": 50,
   "id": "99ba47d6",
   "metadata": {},
   "outputs": [],
   "source": [
    "#MÉTRICAS DE DESEMPENHO"
   ]
  },
  {
   "cell_type": "code",
   "execution_count": 51,
   "id": "1d593f46",
   "metadata": {},
   "outputs": [
    {
     "data": {
      "text/plain": [
       "71651.46435650405"
      ]
     },
     "execution_count": 51,
     "metadata": {},
     "output_type": "execute_result"
    }
   ],
   "source": [
    "#Erro absoluto médio\n",
    "abs(y_teste - previsoes).mean()"
   ]
  },
  {
   "cell_type": "code",
   "execution_count": 52,
   "id": "f54da1c8",
   "metadata": {},
   "outputs": [
    {
     "data": {
      "text/plain": [
       "71651.46435650405"
      ]
     },
     "execution_count": 52,
     "metadata": {},
     "output_type": "execute_result"
    }
   ],
   "source": [
    "mean_absolute_error(y_teste, previsoes)"
   ]
  },
  {
   "cell_type": "code",
   "execution_count": 53,
   "id": "04149979",
   "metadata": {},
   "outputs": [
    {
     "data": {
      "text/plain": [
       "9232768512.15146"
      ]
     },
     "execution_count": 53,
     "metadata": {},
     "output_type": "execute_result"
    }
   ],
   "source": [
    "#Erro quadrático médio\n",
    "mse = mean_squared_error(y_teste, previsoes)\n",
    "mse"
   ]
  },
  {
   "cell_type": "code",
   "execution_count": 54,
   "id": "78079c60",
   "metadata": {},
   "outputs": [
    {
     "data": {
      "text/plain": [
       "96087.2963099257"
      ]
     },
     "execution_count": 54,
     "metadata": {},
     "output_type": "execute_result"
    }
   ],
   "source": [
    "#Raiz do erro quadrático médio\n",
    "rmse = np.sqrt(mse)\n",
    "rmse"
   ]
  },
  {
   "cell_type": "code",
   "execution_count": 55,
   "id": "a10cd1d9",
   "metadata": {},
   "outputs": [],
   "source": [
    "#VALIDAÇÃO CRUZADA"
   ]
  },
  {
   "cell_type": "code",
   "execution_count": 56,
   "id": "bca7ae63",
   "metadata": {},
   "outputs": [
    {
     "name": "stdout",
     "output_type": "stream",
     "text": [
      "Coeficiente de Determinação Médio - r^2: 69.25%\n"
     ]
    }
   ],
   "source": [
    "kfold = KFold(n_splits = 15, shuffle = True, random_state = 5)\n",
    "modelo = LinearRegression()\n",
    "resultado = cross_val_score(modelo, x, y, cv = kfold)\n",
    "print('Coeficiente de Determinação Médio - r^2: %.2f%%' % (resultado.mean() * 100))"
   ]
  }
 ],
 "metadata": {
  "kernelspec": {
   "display_name": "Python 3",
   "language": "python",
   "name": "python3"
  },
  "language_info": {
   "codemirror_mode": {
    "name": "ipython",
    "version": 3
   },
   "file_extension": ".py",
   "mimetype": "text/x-python",
   "name": "python",
   "nbconvert_exporter": "python",
   "pygments_lexer": "ipython3",
   "version": "3.8.8"
  }
 },
 "nbformat": 4,
 "nbformat_minor": 5
}
