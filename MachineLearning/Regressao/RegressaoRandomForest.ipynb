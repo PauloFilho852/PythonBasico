{
 "cells": [
  {
   "cell_type": "code",
   "execution_count": 3,
   "id": "659caa49",
   "metadata": {},
   "outputs": [],
   "source": [
    "import os\n",
    "import pandas as pd\n",
    "import numpy as np\n",
    "import matplotlib.pyplot as plt\n",
    "from sklearn.model_selection import train_test_split, KFold, cross_val_score\n",
    "from sklearn.metrics import mean_absolute_error, mean_squared_error\n",
    "from sklearn.ensemble import RandomForestRegressor"
   ]
  },
  {
   "cell_type": "code",
   "execution_count": 4,
   "id": "f942890e",
   "metadata": {},
   "outputs": [
    {
     "data": {
      "text/html": [
       "<div>\n",
       "<style scoped>\n",
       "    .dataframe tbody tr th:only-of-type {\n",
       "        vertical-align: middle;\n",
       "    }\n",
       "\n",
       "    .dataframe tbody tr th {\n",
       "        vertical-align: top;\n",
       "    }\n",
       "\n",
       "    .dataframe thead th {\n",
       "        text-align: right;\n",
       "    }\n",
       "</style>\n",
       "<table border=\"1\" class=\"dataframe\">\n",
       "  <thead>\n",
       "    <tr style=\"text-align: right;\">\n",
       "      <th></th>\n",
       "      <th>RM</th>\n",
       "      <th>LSTAT</th>\n",
       "      <th>PTRATIO</th>\n",
       "      <th>MEDV</th>\n",
       "    </tr>\n",
       "  </thead>\n",
       "  <tbody>\n",
       "    <tr>\n",
       "      <th>0</th>\n",
       "      <td>6.575</td>\n",
       "      <td>4.98</td>\n",
       "      <td>15.3</td>\n",
       "      <td>504000.0</td>\n",
       "    </tr>\n",
       "    <tr>\n",
       "      <th>1</th>\n",
       "      <td>6.421</td>\n",
       "      <td>9.14</td>\n",
       "      <td>17.8</td>\n",
       "      <td>453600.0</td>\n",
       "    </tr>\n",
       "    <tr>\n",
       "      <th>2</th>\n",
       "      <td>7.185</td>\n",
       "      <td>4.03</td>\n",
       "      <td>17.8</td>\n",
       "      <td>728700.0</td>\n",
       "    </tr>\n",
       "  </tbody>\n",
       "</table>\n",
       "</div>"
      ],
      "text/plain": [
       "      RM  LSTAT  PTRATIO      MEDV\n",
       "0  6.575   4.98     15.3  504000.0\n",
       "1  6.421   9.14     17.8  453600.0\n",
       "2  7.185   4.03     17.8  728700.0"
      ]
     },
     "execution_count": 4,
     "metadata": {},
     "output_type": "execute_result"
    }
   ],
   "source": [
    "path = os.getcwd() + '\\\\Analise e Tratamento\\\\Dados\\\\'\n",
    "df = pd.read_csv(path + 'housing.csv', sep =',' , encoding = 'iso-8859-1')\n",
    "df.head(3)"
   ]
  },
  {
   "cell_type": "code",
   "execution_count": 5,
   "id": "516aacaf",
   "metadata": {},
   "outputs": [],
   "source": [
    "x = df.iloc[:, 0:3].values\n",
    "y = df.iloc[:, 3].values"
   ]
  },
  {
   "cell_type": "code",
   "execution_count": 6,
   "id": "d7a2a07a",
   "metadata": {},
   "outputs": [],
   "source": [
    "x_treino, x_teste, y_treino, y_teste = train_test_split(x, y, test_size = 0.3, random_state = 0)"
   ]
  },
  {
   "cell_type": "code",
   "execution_count": 7,
   "id": "92360c0f",
   "metadata": {},
   "outputs": [
    {
     "data": {
      "text/plain": [
       "((342, 3), (147,))"
      ]
     },
     "execution_count": 7,
     "metadata": {},
     "output_type": "execute_result"
    }
   ],
   "source": [
    "x_treino.shape, y_teste.shape"
   ]
  },
  {
   "cell_type": "code",
   "execution_count": 8,
   "id": "dc1da283",
   "metadata": {},
   "outputs": [
    {
     "data": {
      "text/plain": [
       "RandomForestRegressor(max_depth=5, n_estimators=60, random_state=10)"
      ]
     },
     "execution_count": 8,
     "metadata": {},
     "output_type": "execute_result"
    }
   ],
   "source": [
    "random_forest = RandomForestRegressor(n_estimators = 60, criterion = 'mse', max_depth=5, random_state=10)\n",
    "random_forest.fit(x_treino, y_treino)"
   ]
  },
  {
   "cell_type": "code",
   "execution_count": 9,
   "id": "cd020164",
   "metadata": {},
   "outputs": [
    {
     "data": {
      "text/plain": [
       "0.9160346630571496"
      ]
     },
     "execution_count": 9,
     "metadata": {},
     "output_type": "execute_result"
    }
   ],
   "source": [
    "#Coeficiente de Determinação dados de treino - r^2(Fala se os dados estão explicando o modelo)\n",
    "random_forest.score(x_treino, y_treino)"
   ]
  },
  {
   "cell_type": "code",
   "execution_count": 10,
   "id": "36cc0c48",
   "metadata": {},
   "outputs": [
    {
     "data": {
      "text/plain": [
       "0.8465287311346861"
      ]
     },
     "execution_count": 10,
     "metadata": {},
     "output_type": "execute_result"
    }
   ],
   "source": [
    "#Coeficiente de Determinação dados de teste - r^2\n",
    "random_forest.score(x_teste, y_teste)"
   ]
  },
  {
   "cell_type": "code",
   "execution_count": 11,
   "id": "382d2a65",
   "metadata": {},
   "outputs": [],
   "source": [
    "previsoes = random_forest.predict(x_teste)"
   ]
  },
  {
   "cell_type": "code",
   "execution_count": 37,
   "id": "8e5a57fe",
   "metadata": {},
   "outputs": [
    {
     "data": {
      "text/plain": [
       "array([348427.44648407])"
      ]
     },
     "execution_count": 37,
     "metadata": {},
     "output_type": "execute_result"
    }
   ],
   "source": [
    "valor_casa = random_forest.predict([[4,19,10]])\n",
    "valor_casa"
   ]
  },
  {
   "cell_type": "code",
   "execution_count": 13,
   "id": "99ba47d6",
   "metadata": {},
   "outputs": [],
   "source": [
    "#MÉTRICAS DE DESEMPENHO"
   ]
  },
  {
   "cell_type": "code",
   "execution_count": 14,
   "id": "1d593f46",
   "metadata": {},
   "outputs": [
    {
     "data": {
      "text/plain": [
       "49730.29595322481"
      ]
     },
     "execution_count": 14,
     "metadata": {},
     "output_type": "execute_result"
    }
   ],
   "source": [
    "#Erro absoluto médio\n",
    "abs(y_teste - previsoes).mean()"
   ]
  },
  {
   "cell_type": "code",
   "execution_count": 15,
   "id": "f54da1c8",
   "metadata": {},
   "outputs": [
    {
     "data": {
      "text/plain": [
       "49730.29595322481"
      ]
     },
     "execution_count": 15,
     "metadata": {},
     "output_type": "execute_result"
    }
   ],
   "source": [
    "mean_absolute_error(y_teste, previsoes)"
   ]
  },
  {
   "cell_type": "code",
   "execution_count": 16,
   "id": "04149979",
   "metadata": {},
   "outputs": [
    {
     "data": {
      "text/plain": [
       "4452803054.515374"
      ]
     },
     "execution_count": 16,
     "metadata": {},
     "output_type": "execute_result"
    }
   ],
   "source": [
    "#Erro quadrático médio\n",
    "mse = mean_squared_error(y_teste, previsoes)\n",
    "mse"
   ]
  },
  {
   "cell_type": "code",
   "execution_count": 17,
   "id": "78079c60",
   "metadata": {},
   "outputs": [
    {
     "data": {
      "text/plain": [
       "66729.326795011"
      ]
     },
     "execution_count": 17,
     "metadata": {},
     "output_type": "execute_result"
    }
   ],
   "source": [
    "#Raiz do erro quadrático médio\n",
    "np.sqrt(mse)"
   ]
  },
  {
   "cell_type": "code",
   "execution_count": 18,
   "id": "21d4308b",
   "metadata": {},
   "outputs": [],
   "source": [
    "#VALIDAÇÃO CRUZADA"
   ]
  },
  {
   "cell_type": "code",
   "execution_count": 19,
   "id": "aa1dee77",
   "metadata": {},
   "outputs": [
    {
     "name": "stdout",
     "output_type": "stream",
     "text": [
      "Coeficiente de Determinação Médio - r^2: 82.85%\n"
     ]
    }
   ],
   "source": [
    "kfold = KFold(n_splits = 15, shuffle = True, random_state = 5)\n",
    "modelo = RandomForestRegressor(n_estimators = 60, criterion = 'mse', max_depth=5, random_state=10)\n",
    "resultado = cross_val_score(modelo, x, y, cv = kfold)\n",
    "print('Coeficiente de Determinação Médio - r^2: %.2f%%' % (resultado.mean() * 100))"
   ]
  }
 ],
 "metadata": {
  "kernelspec": {
   "display_name": "Python 3 (ipykernel)",
   "language": "python",
   "name": "python3"
  },
  "language_info": {
   "codemirror_mode": {
    "name": "ipython",
    "version": 3
   },
   "file_extension": ".py",
   "mimetype": "text/x-python",
   "name": "python",
   "nbconvert_exporter": "python",
   "pygments_lexer": "ipython3",
   "version": "3.11.3"
  }
 },
 "nbformat": 4,
 "nbformat_minor": 5
}
