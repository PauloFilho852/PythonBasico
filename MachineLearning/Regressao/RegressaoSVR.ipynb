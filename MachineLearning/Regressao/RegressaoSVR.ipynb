{
 "cells": [
  {
   "cell_type": "code",
   "execution_count": 1,
   "id": "659caa49",
   "metadata": {},
   "outputs": [],
   "source": [
    "import os\n",
    "import pandas as pd\n",
    "import numpy as np\n",
    "import matplotlib.pyplot as plt\n",
    "from sklearn.model_selection import train_test_split, KFold, cross_val_score\n",
    "from sklearn.metrics import mean_absolute_error, mean_squared_error\n",
    "from sklearn.svm import SVR\n",
    "from sklearn.preprocessing import StandardScaler"
   ]
  },
  {
   "cell_type": "code",
   "execution_count": 2,
   "id": "f942890e",
   "metadata": {},
   "outputs": [
    {
     "data": {
      "text/html": [
       "<div>\n",
       "<style scoped>\n",
       "    .dataframe tbody tr th:only-of-type {\n",
       "        vertical-align: middle;\n",
       "    }\n",
       "\n",
       "    .dataframe tbody tr th {\n",
       "        vertical-align: top;\n",
       "    }\n",
       "\n",
       "    .dataframe thead th {\n",
       "        text-align: right;\n",
       "    }\n",
       "</style>\n",
       "<table border=\"1\" class=\"dataframe\">\n",
       "  <thead>\n",
       "    <tr style=\"text-align: right;\">\n",
       "      <th></th>\n",
       "      <th>RM</th>\n",
       "      <th>LSTAT</th>\n",
       "      <th>PTRATIO</th>\n",
       "      <th>MEDV</th>\n",
       "    </tr>\n",
       "  </thead>\n",
       "  <tbody>\n",
       "    <tr>\n",
       "      <th>0</th>\n",
       "      <td>6.575</td>\n",
       "      <td>4.98</td>\n",
       "      <td>15.3</td>\n",
       "      <td>504000.0</td>\n",
       "    </tr>\n",
       "    <tr>\n",
       "      <th>1</th>\n",
       "      <td>6.421</td>\n",
       "      <td>9.14</td>\n",
       "      <td>17.8</td>\n",
       "      <td>453600.0</td>\n",
       "    </tr>\n",
       "    <tr>\n",
       "      <th>2</th>\n",
       "      <td>7.185</td>\n",
       "      <td>4.03</td>\n",
       "      <td>17.8</td>\n",
       "      <td>728700.0</td>\n",
       "    </tr>\n",
       "  </tbody>\n",
       "</table>\n",
       "</div>"
      ],
      "text/plain": [
       "      RM  LSTAT  PTRATIO      MEDV\n",
       "0  6.575   4.98     15.3  504000.0\n",
       "1  6.421   9.14     17.8  453600.0\n",
       "2  7.185   4.03     17.8  728700.0"
      ]
     },
     "execution_count": 2,
     "metadata": {},
     "output_type": "execute_result"
    }
   ],
   "source": [
    "path = os.getcwd() + '\\\\Analise e Tratamento\\\\Dados\\\\'\n",
    "df = pd.read_csv(path + 'housing.csv', sep =',' , encoding = 'iso-8859-1')\n",
    "df.head(3)"
   ]
  },
  {
   "cell_type": "code",
   "execution_count": 3,
   "id": "516aacaf",
   "metadata": {},
   "outputs": [
    {
     "data": {
      "text/plain": [
       "array([[ 0.52055395, -1.1250769 , -1.5250831 ],\n",
       "       [ 0.28104837, -0.53706982, -0.33974768],\n",
       "       [ 1.46924486, -1.25935736, -0.33974768],\n",
       "       ...,\n",
       "       [ 1.14420158, -1.03178731,  1.17748167],\n",
       "       [ 0.86114953, -0.91305511,  1.17748167],\n",
       "       [-0.32704695, -0.71516812,  1.17748167]])"
      ]
     },
     "execution_count": 3,
     "metadata": {},
     "output_type": "execute_result"
    }
   ],
   "source": [
    "x = df.iloc[:, 0:3].values\n",
    "y = df.iloc[:, 3].values\n",
    "\n",
    "#Fazendo escalonamento para um distribuição padrão\n",
    "x_scaler = StandardScaler()\n",
    "y_scaler = StandardScaler() \n",
    "\n",
    "x_sc = x_scaler.fit_transform(x)\n",
    "y_sc = y_scaler.fit_transform(y.reshape(-1,1))[:,0]\n",
    "x_sc"
   ]
  },
  {
   "cell_type": "code",
   "execution_count": 4,
   "id": "d7a2a07a",
   "metadata": {},
   "outputs": [],
   "source": [
    "x_treino, x_teste, y_treino, y_teste = train_test_split(x_sc, y_sc, test_size = 0.3, random_state = 0)"
   ]
  },
  {
   "cell_type": "code",
   "execution_count": 5,
   "id": "dc1da283",
   "metadata": {},
   "outputs": [
    {
     "data": {
      "text/plain": [
       "SVR()"
      ]
     },
     "execution_count": 5,
     "metadata": {},
     "output_type": "execute_result"
    }
   ],
   "source": [
    "regressao_svg = SVR(kernel = 'rbf')\n",
    "regressao_svg.fit(x_treino, y_treino)"
   ]
  },
  {
   "cell_type": "code",
   "execution_count": 6,
   "id": "52e6c7a7",
   "metadata": {},
   "outputs": [],
   "source": [
    "#regressao_svg.intercept_ "
   ]
  },
  {
   "cell_type": "code",
   "execution_count": 7,
   "id": "2ecd830f",
   "metadata": {},
   "outputs": [
    {
     "data": {
      "text/plain": [
       "0.8717539183265242"
      ]
     },
     "execution_count": 7,
     "metadata": {},
     "output_type": "execute_result"
    }
   ],
   "source": [
    "#Coeficiente de Determinaçã R^2\n",
    "regressao_svg.score(x_treino, y_treino )"
   ]
  },
  {
   "cell_type": "code",
   "execution_count": 8,
   "id": "67119bc3",
   "metadata": {},
   "outputs": [
    {
     "data": {
      "text/plain": [
       "0.8144350129953165"
      ]
     },
     "execution_count": 8,
     "metadata": {},
     "output_type": "execute_result"
    }
   ],
   "source": [
    "#Coeficiente de Determinaçã R^2\n",
    "regressao_svg.score(x_teste, y_teste)"
   ]
  },
  {
   "cell_type": "code",
   "execution_count": 9,
   "id": "193f1b86",
   "metadata": {},
   "outputs": [],
   "source": [
    "previsoes = regressao_svg.predict(x_teste)"
   ]
  },
  {
   "cell_type": "code",
   "execution_count": 10,
   "id": "2f8c6cac",
   "metadata": {},
   "outputs": [],
   "source": [
    "#Escala original\n",
    "y_teste_o = y_scaler.inverse_transform(y_teste)\n",
    "previsoes_o = y_scaler.inverse_transform(previsoes)"
   ]
  },
  {
   "cell_type": "code",
   "execution_count": 11,
   "id": "99ba47d6",
   "metadata": {},
   "outputs": [],
   "source": [
    "#MÉTRICAS DE DESEMPENHO"
   ]
  },
  {
   "cell_type": "code",
   "execution_count": 12,
   "id": "1d593f46",
   "metadata": {},
   "outputs": [
    {
     "data": {
      "text/plain": [
       "54708.26487434341"
      ]
     },
     "execution_count": 12,
     "metadata": {},
     "output_type": "execute_result"
    }
   ],
   "source": [
    "#Erro absoluto médio\n",
    "abs(y_teste_o - previsoes_o).mean()"
   ]
  },
  {
   "cell_type": "code",
   "execution_count": 13,
   "id": "f54da1c8",
   "metadata": {},
   "outputs": [
    {
     "data": {
      "text/plain": [
       "54708.26487434341"
      ]
     },
     "execution_count": 13,
     "metadata": {},
     "output_type": "execute_result"
    }
   ],
   "source": [
    "mean_absolute_error(y_teste_o, previsoes_o)"
   ]
  },
  {
   "cell_type": "code",
   "execution_count": 14,
   "id": "04149979",
   "metadata": {},
   "outputs": [
    {
     "data": {
      "text/plain": [
       "5383967612.014115"
      ]
     },
     "execution_count": 14,
     "metadata": {},
     "output_type": "execute_result"
    }
   ],
   "source": [
    "#Erro quadrático médio\n",
    "mse = mean_squared_error(y_teste_o, previsoes_o)\n",
    "mse"
   ]
  },
  {
   "cell_type": "code",
   "execution_count": 15,
   "id": "78079c60",
   "metadata": {},
   "outputs": [
    {
     "data": {
      "text/plain": [
       "73375.52461150868"
      ]
     },
     "execution_count": 15,
     "metadata": {},
     "output_type": "execute_result"
    }
   ],
   "source": [
    "#Raiz do erro quadrático médio\n",
    "rmse = np.sqrt(mse)\n",
    "rmse"
   ]
  },
  {
   "cell_type": "code",
   "execution_count": 16,
   "id": "a10cd1d9",
   "metadata": {},
   "outputs": [],
   "source": [
    "#VALIDAÇÃO CRUZADA"
   ]
  },
  {
   "cell_type": "code",
   "execution_count": 17,
   "id": "bca7ae63",
   "metadata": {},
   "outputs": [
    {
     "name": "stdout",
     "output_type": "stream",
     "text": [
      "Coeficiente de Determinação Médio - r^2: 82.37%\n"
     ]
    }
   ],
   "source": [
    "kfold = KFold(n_splits = 15, shuffle = True, random_state = 5)\n",
    "modelo = SVR(kernel = 'rbf')\n",
    "resultado = cross_val_score(modelo, x_sc, y_sc, cv = kfold)\n",
    "print('Coeficiente de Determinação Médio - r^2: %.2f%%' % (resultado.mean() * 100))"
   ]
  }
 ],
 "metadata": {
  "kernelspec": {
   "display_name": "Python 3",
   "language": "python",
   "name": "python3"
  },
  "language_info": {
   "codemirror_mode": {
    "name": "ipython",
    "version": 3
   },
   "file_extension": ".py",
   "mimetype": "text/x-python",
   "name": "python",
   "nbconvert_exporter": "python",
   "pygments_lexer": "ipython3",
   "version": "3.8.8"
  }
 },
 "nbformat": 4,
 "nbformat_minor": 5
}
