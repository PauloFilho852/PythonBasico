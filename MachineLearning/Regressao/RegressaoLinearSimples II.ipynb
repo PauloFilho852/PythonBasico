{
 "cells": [
  {
   "cell_type": "code",
   "execution_count": 97,
   "id": "659caa49",
   "metadata": {},
   "outputs": [],
   "source": [
    "import os\n",
    "import pandas as pd\n",
    "import numpy as np\n",
    "import matplotlib.pyplot as plt\n",
    "from sklearn.model_selection import train_test_split, KFold, cross_val_score\n",
    "from sklearn.metrics import mean_absolute_error, mean_squared_error\n",
    "from sklearn.linear_model import LinearRegression"
   ]
  },
  {
   "cell_type": "code",
   "execution_count": 98,
   "id": "f942890e",
   "metadata": {},
   "outputs": [
    {
     "data": {
      "text/html": [
       "<div>\n",
       "<style scoped>\n",
       "    .dataframe tbody tr th:only-of-type {\n",
       "        vertical-align: middle;\n",
       "    }\n",
       "\n",
       "    .dataframe tbody tr th {\n",
       "        vertical-align: top;\n",
       "    }\n",
       "\n",
       "    .dataframe thead th {\n",
       "        text-align: right;\n",
       "    }\n",
       "</style>\n",
       "<table border=\"1\" class=\"dataframe\">\n",
       "  <thead>\n",
       "    <tr style=\"text-align: right;\">\n",
       "      <th></th>\n",
       "      <th>RM</th>\n",
       "      <th>LSTAT</th>\n",
       "      <th>PTRATIO</th>\n",
       "      <th>MEDV</th>\n",
       "    </tr>\n",
       "  </thead>\n",
       "  <tbody>\n",
       "    <tr>\n",
       "      <th>0</th>\n",
       "      <td>6.575</td>\n",
       "      <td>4.98</td>\n",
       "      <td>15.3</td>\n",
       "      <td>504000.0</td>\n",
       "    </tr>\n",
       "    <tr>\n",
       "      <th>1</th>\n",
       "      <td>6.421</td>\n",
       "      <td>9.14</td>\n",
       "      <td>17.8</td>\n",
       "      <td>453600.0</td>\n",
       "    </tr>\n",
       "    <tr>\n",
       "      <th>2</th>\n",
       "      <td>7.185</td>\n",
       "      <td>4.03</td>\n",
       "      <td>17.8</td>\n",
       "      <td>728700.0</td>\n",
       "    </tr>\n",
       "  </tbody>\n",
       "</table>\n",
       "</div>"
      ],
      "text/plain": [
       "      RM  LSTAT  PTRATIO      MEDV\n",
       "0  6.575   4.98     15.3  504000.0\n",
       "1  6.421   9.14     17.8  453600.0\n",
       "2  7.185   4.03     17.8  728700.0"
      ]
     },
     "execution_count": 98,
     "metadata": {},
     "output_type": "execute_result"
    }
   ],
   "source": [
    "path = os.getcwd() + '\\\\Analise e Tratamento\\\\Dados\\\\'\n",
    "df = pd.read_csv(path + 'housing.csv', sep =',' , encoding = 'iso-8859-1')\n",
    "df.head(3)"
   ]
  },
  {
   "cell_type": "code",
   "execution_count": 99,
   "id": "516aacaf",
   "metadata": {},
   "outputs": [],
   "source": [
    "x = df.iloc[:, 1:2].values\n",
    "y = df.iloc[:, 3].values"
   ]
  },
  {
   "cell_type": "code",
   "execution_count": 100,
   "id": "d7a2a07a",
   "metadata": {},
   "outputs": [],
   "source": [
    "x_treino, x_teste, y_treino, y_teste = train_test_split(x, y, test_size = 0.3, random_state = 10)"
   ]
  },
  {
   "cell_type": "code",
   "execution_count": 101,
   "id": "dc1da283",
   "metadata": {},
   "outputs": [
    {
     "data": {
      "text/plain": [
       "LinearRegression()"
      ]
     },
     "execution_count": 101,
     "metadata": {},
     "output_type": "execute_result"
    }
   ],
   "source": [
    "regressao_linear = LinearRegression()\n",
    "regressao_linear.fit(x_treino, y_treino)"
   ]
  },
  {
   "cell_type": "code",
   "execution_count": 102,
   "id": "7ad34003",
   "metadata": {},
   "outputs": [
    {
     "data": {
      "text/plain": [
       "681977.7451055486"
      ]
     },
     "execution_count": 102,
     "metadata": {},
     "output_type": "execute_result"
    }
   ],
   "source": [
    "#Coeficiente Linear\n",
    "regressao_linear.intercept_"
   ]
  },
  {
   "cell_type": "code",
   "execution_count": 103,
   "id": "928aa708",
   "metadata": {},
   "outputs": [
    {
     "data": {
      "text/plain": [
       "array([-17263.75010515])"
      ]
     },
     "execution_count": 103,
     "metadata": {},
     "output_type": "execute_result"
    }
   ],
   "source": [
    "#Coeficiente angular\n",
    "regressao_linear.coef_"
   ]
  },
  {
   "cell_type": "code",
   "execution_count": 104,
   "id": "cd020164",
   "metadata": {},
   "outputs": [
    {
     "data": {
      "text/plain": [
       "0.5688289563355992"
      ]
     },
     "execution_count": 104,
     "metadata": {},
     "output_type": "execute_result"
    }
   ],
   "source": [
    "#Coeficiente de Determinação dados de treino - r^2(Fala se os dados estão explicando o modelo)\n",
    "regressao_linear.score(x_treino, y_treino)"
   ]
  },
  {
   "cell_type": "code",
   "execution_count": 105,
   "id": "36cc0c48",
   "metadata": {},
   "outputs": [
    {
     "data": {
      "text/plain": [
       "0.6006038196307664"
      ]
     },
     "execution_count": 105,
     "metadata": {},
     "output_type": "execute_result"
    }
   ],
   "source": [
    "#Coeficiente de Determinação dados de teste - r^2\n",
    "regressao_linear.score(x_teste, y_teste)"
   ]
  },
  {
   "cell_type": "code",
   "execution_count": 106,
   "id": "382d2a65",
   "metadata": {},
   "outputs": [],
   "source": [
    "previsoes = regressao_linear.predict(x_teste)"
   ]
  },
  {
   "cell_type": "code",
   "execution_count": 107,
   "id": "5681b637",
   "metadata": {},
   "outputs": [],
   "source": [
    "#RETA DE REGRESSÃO"
   ]
  },
  {
   "cell_type": "code",
   "execution_count": 108,
   "id": "ce0da989",
   "metadata": {},
   "outputs": [
    {
     "data": {
      "image/png": "[encoded data removed]",
      "text/plain": [
       "<Figure size 432x288 with 1 Axes>"
      ]
     },
     "metadata": {
      "needs_background": "light"
     },
     "output_type": "display_data"
    }
   ],
   "source": [
    "#Comparando a reta com dados de treino\n",
    "plt.scatter(y = y_treino, x = x_treino, color='blue', s=10, alpha = 0.9)\n",
    "X_plot = np.linspace(0,40)\n",
    "plt.plot(X_plot, X_plot*regressao_linear.coef_ + regressao_linear.intercept_, color = 'r')\n",
    "plt.title('Reta de Regressão')\n",
    "plt.ylabel('Valor Médio')\n",
    "plt.xlabel('LSTAT')\n",
    "plt.show()"
   ]
  },
  {
   "cell_type": "code",
   "execution_count": 109,
   "id": "8744f746",
   "metadata": {},
   "outputs": [
    {
     "data": {
      "image/png": "[encoded data removed]",
      "text/plain": [
       "<Figure size 432x288 with 1 Axes>"
      ]
     },
     "metadata": {
      "needs_background": "light"
     },
     "output_type": "display_data"
    }
   ],
   "source": [
    "#Comparando a reta com dados de treino\n",
    "plt.scatter(y = y_teste, x = x_teste, color='blue', s=10, alpha = 0.9)\n",
    "X_plot = np.linspace(0,40)\n",
    "plt.plot(X_plot, X_plot*regressao_linear.coef_ + regressao_linear.intercept_, color = 'r')\n",
    "plt.title('Reta de Regressão')\n",
    "plt.ylabel('Valor Médio')\n",
    "plt.xlabel('LSTAT')\n",
    "plt.show()"
   ]
  },
  {
   "cell_type": "code",
   "execution_count": 110,
   "id": "8e5a57fe",
   "metadata": {},
   "outputs": [
    {
     "data": {
      "text/plain": [
       "array([250383.99247685])"
      ]
     },
     "execution_count": 110,
     "metadata": {},
     "output_type": "execute_result"
    }
   ],
   "source": [
    "#Realizando uma predição\n",
    "valor_casa = regressao_linear.predict([[25]])\n",
    "valor_casa"
   ]
  },
  {
   "cell_type": "code",
   "execution_count": 111,
   "id": "99ba47d6",
   "metadata": {},
   "outputs": [],
   "source": [
    "#MÉTRICAS DE DESEMPENHO"
   ]
  },
  {
   "cell_type": "code",
   "execution_count": 112,
   "id": "1d593f46",
   "metadata": {},
   "outputs": [
    {
     "data": {
      "text/plain": [
       "76340.55192245146"
      ]
     },
     "execution_count": 112,
     "metadata": {},
     "output_type": "execute_result"
    }
   ],
   "source": [
    "#Erro absoluto médio\n",
    "abs(y_teste - previsoes).mean()"
   ]
  },
  {
   "cell_type": "code",
   "execution_count": 113,
   "id": "f54da1c8",
   "metadata": {},
   "outputs": [
    {
     "data": {
      "text/plain": [
       "76340.55192245146"
      ]
     },
     "execution_count": 113,
     "metadata": {},
     "output_type": "execute_result"
    }
   ],
   "source": [
    "mean_absolute_error(y_teste, previsoes)"
   ]
  },
  {
   "cell_type": "code",
   "execution_count": 114,
   "id": "04149979",
   "metadata": {},
   "outputs": [
    {
     "data": {
      "text/plain": [
       "9863567949.634668"
      ]
     },
     "execution_count": 114,
     "metadata": {},
     "output_type": "execute_result"
    }
   ],
   "source": [
    "#Erro quadrático médio\n",
    "mse = mean_squared_error(y_teste, previsoes)\n",
    "mse"
   ]
  },
  {
   "cell_type": "code",
   "execution_count": 115,
   "id": "78079c60",
   "metadata": {},
   "outputs": [
    {
     "data": {
      "text/plain": [
       "99315.49702657017"
      ]
     },
     "execution_count": 115,
     "metadata": {},
     "output_type": "execute_result"
    }
   ],
   "source": [
    "#Raiz do erro quadrático médio\n",
    "rmse = np.sqrt(mse)\n",
    "rmse"
   ]
  },
  {
   "cell_type": "code",
   "execution_count": 116,
   "id": "21d4308b",
   "metadata": {},
   "outputs": [],
   "source": [
    "#VALIDAÇÃO CRUZADA"
   ]
  },
  {
   "cell_type": "code",
   "execution_count": 117,
   "id": "aa1dee77",
   "metadata": {},
   "outputs": [
    {
     "name": "stdout",
     "output_type": "stream",
     "text": [
      "Coeficiente de Determinação Médio - r^2: 55.97%\n"
     ]
    }
   ],
   "source": [
    "kfold = KFold(n_splits = 15, shuffle = True, random_state = 5)\n",
    "modelo = LinearRegression()\n",
    "resultado = cross_val_score(modelo, x, y, cv = kfold)\n",
    "print('Coeficiente de Determinação Médio - r^2: %.2f%%' % (resultado.mean() * 100))"
   ]
  }
 ],
 "metadata": {
  "kernelspec": {
   "display_name": "Python 3",
   "language": "python",
   "name": "python3"
  },
  "language_info": {
   "codemirror_mode": {
    "name": "ipython",
    "version": 3
   },
   "file_extension": ".py",
   "mimetype": "text/x-python",
   "name": "python",
   "nbconvert_exporter": "python",
   "pygments_lexer": "ipython3",
   "version": "3.8.8"
  }
 },
 "nbformat": 4,
 "nbformat_minor": 5
}
