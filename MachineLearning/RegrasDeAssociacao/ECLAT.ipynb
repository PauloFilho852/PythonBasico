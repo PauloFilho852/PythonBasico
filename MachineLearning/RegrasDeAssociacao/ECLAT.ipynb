{
 "cells": [
  {
   "cell_type": "code",
   "execution_count": 4,
   "id": "4db6966e",
   "metadata": {},
   "outputs": [],
   "source": [
    "from pyECLAT import Example1, ECLAT"
   ]
  },
  {
   "cell_type": "code",
   "execution_count": 2,
   "id": "de3baf6e",
   "metadata": {},
   "outputs": [],
   "source": [
    "dados = Example1().get()"
   ]
  },
  {
   "cell_type": "code",
   "execution_count": 3,
   "id": "bb4e9d80",
   "metadata": {},
   "outputs": [
    {
     "data": {
      "text/html": [
       "<div>\n",
       "<style scoped>\n",
       "    .dataframe tbody tr th:only-of-type {\n",
       "        vertical-align: middle;\n",
       "    }\n",
       "\n",
       "    .dataframe tbody tr th {\n",
       "        vertical-align: top;\n",
       "    }\n",
       "\n",
       "    .dataframe thead th {\n",
       "        text-align: right;\n",
       "    }\n",
       "</style>\n",
       "<table border=\"1\" class=\"dataframe\">\n",
       "  <thead>\n",
       "    <tr style=\"text-align: right;\">\n",
       "      <th></th>\n",
       "      <th>0</th>\n",
       "      <th>1</th>\n",
       "      <th>2</th>\n",
       "      <th>3</th>\n",
       "    </tr>\n",
       "  </thead>\n",
       "  <tbody>\n",
       "    <tr>\n",
       "      <th>0</th>\n",
       "      <td>milk</td>\n",
       "      <td>beer</td>\n",
       "      <td>bread</td>\n",
       "      <td>butter</td>\n",
       "    </tr>\n",
       "    <tr>\n",
       "      <th>1</th>\n",
       "      <td>coffe</td>\n",
       "      <td>bread</td>\n",
       "      <td>butter</td>\n",
       "      <td>NaN</td>\n",
       "    </tr>\n",
       "    <tr>\n",
       "      <th>2</th>\n",
       "      <td>coffe</td>\n",
       "      <td>bread</td>\n",
       "      <td>butter</td>\n",
       "      <td>NaN</td>\n",
       "    </tr>\n",
       "    <tr>\n",
       "      <th>3</th>\n",
       "      <td>milk</td>\n",
       "      <td>coffe</td>\n",
       "      <td>bread</td>\n",
       "      <td>butter</td>\n",
       "    </tr>\n",
       "    <tr>\n",
       "      <th>4</th>\n",
       "      <td>beer</td>\n",
       "      <td>NaN</td>\n",
       "      <td>NaN</td>\n",
       "      <td>NaN</td>\n",
       "    </tr>\n",
       "    <tr>\n",
       "      <th>5</th>\n",
       "      <td>butter</td>\n",
       "      <td>NaN</td>\n",
       "      <td>NaN</td>\n",
       "      <td>NaN</td>\n",
       "    </tr>\n",
       "    <tr>\n",
       "      <th>6</th>\n",
       "      <td>bread</td>\n",
       "      <td>NaN</td>\n",
       "      <td>NaN</td>\n",
       "      <td>NaN</td>\n",
       "    </tr>\n",
       "    <tr>\n",
       "      <th>7</th>\n",
       "      <td>bean</td>\n",
       "      <td>NaN</td>\n",
       "      <td>NaN</td>\n",
       "      <td>NaN</td>\n",
       "    </tr>\n",
       "    <tr>\n",
       "      <th>8</th>\n",
       "      <td>rice</td>\n",
       "      <td>bean</td>\n",
       "      <td>NaN</td>\n",
       "      <td>NaN</td>\n",
       "    </tr>\n",
       "    <tr>\n",
       "      <th>9</th>\n",
       "      <td>rice</td>\n",
       "      <td>NaN</td>\n",
       "      <td>NaN</td>\n",
       "      <td>NaN</td>\n",
       "    </tr>\n",
       "  </tbody>\n",
       "</table>\n",
       "</div>"
      ],
      "text/plain": [
       "        0      1       2       3\n",
       "0    milk   beer   bread  butter\n",
       "1   coffe  bread  butter     NaN\n",
       "2   coffe  bread  butter     NaN\n",
       "3    milk  coffe   bread  butter\n",
       "4    beer    NaN     NaN     NaN\n",
       "5  butter    NaN     NaN     NaN\n",
       "6   bread    NaN     NaN     NaN\n",
       "7    bean    NaN     NaN     NaN\n",
       "8    rice   bean     NaN     NaN\n",
       "9    rice    NaN     NaN     NaN"
      ]
     },
     "execution_count": 3,
     "metadata": {},
     "output_type": "execute_result"
    }
   ],
   "source": [
    "dados"
   ]
  },
  {
   "cell_type": "code",
   "execution_count": 5,
   "id": "00f6c806",
   "metadata": {},
   "outputs": [
    {
     "name": "stderr",
     "output_type": "stream",
     "text": [
      "100%|███████████████████████████████████████████████████████████████████████████████████| 7/7 [00:00<00:00, 243.64it/s]\n",
      "100%|██████████████████████████████████████████████████████████████████████████████████| 7/7 [00:00<00:00, 6651.59it/s]\n",
      "100%|███████████████████████████████████████████████████████████████████████████████████| 7/7 [00:00<00:00, 426.42it/s]\n"
     ]
    }
   ],
   "source": [
    "eclat = ECLAT(data = dados, verbose = True)"
   ]
  },
  {
   "cell_type": "code",
   "execution_count": 6,
   "id": "3e49e58e",
   "metadata": {},
   "outputs": [
    {
     "data": {
      "text/html": [
       "<div>\n",
       "<style scoped>\n",
       "    .dataframe tbody tr th:only-of-type {\n",
       "        vertical-align: middle;\n",
       "    }\n",
       "\n",
       "    .dataframe tbody tr th {\n",
       "        vertical-align: top;\n",
       "    }\n",
       "\n",
       "    .dataframe thead th {\n",
       "        text-align: right;\n",
       "    }\n",
       "</style>\n",
       "<table border=\"1\" class=\"dataframe\">\n",
       "  <thead>\n",
       "    <tr style=\"text-align: right;\">\n",
       "      <th></th>\n",
       "      <th>milk</th>\n",
       "      <th>rice</th>\n",
       "      <th>beer</th>\n",
       "      <th>butter</th>\n",
       "      <th>coffe</th>\n",
       "      <th>bean</th>\n",
       "      <th>bread</th>\n",
       "    </tr>\n",
       "  </thead>\n",
       "  <tbody>\n",
       "    <tr>\n",
       "      <th>0</th>\n",
       "      <td>1</td>\n",
       "      <td>0</td>\n",
       "      <td>1</td>\n",
       "      <td>1</td>\n",
       "      <td>0</td>\n",
       "      <td>0</td>\n",
       "      <td>1</td>\n",
       "    </tr>\n",
       "    <tr>\n",
       "      <th>1</th>\n",
       "      <td>0</td>\n",
       "      <td>0</td>\n",
       "      <td>0</td>\n",
       "      <td>1</td>\n",
       "      <td>1</td>\n",
       "      <td>0</td>\n",
       "      <td>1</td>\n",
       "    </tr>\n",
       "    <tr>\n",
       "      <th>2</th>\n",
       "      <td>0</td>\n",
       "      <td>0</td>\n",
       "      <td>0</td>\n",
       "      <td>1</td>\n",
       "      <td>1</td>\n",
       "      <td>0</td>\n",
       "      <td>1</td>\n",
       "    </tr>\n",
       "    <tr>\n",
       "      <th>3</th>\n",
       "      <td>1</td>\n",
       "      <td>0</td>\n",
       "      <td>0</td>\n",
       "      <td>1</td>\n",
       "      <td>1</td>\n",
       "      <td>0</td>\n",
       "      <td>1</td>\n",
       "    </tr>\n",
       "    <tr>\n",
       "      <th>4</th>\n",
       "      <td>0</td>\n",
       "      <td>0</td>\n",
       "      <td>1</td>\n",
       "      <td>0</td>\n",
       "      <td>0</td>\n",
       "      <td>0</td>\n",
       "      <td>0</td>\n",
       "    </tr>\n",
       "    <tr>\n",
       "      <th>5</th>\n",
       "      <td>0</td>\n",
       "      <td>0</td>\n",
       "      <td>0</td>\n",
       "      <td>1</td>\n",
       "      <td>0</td>\n",
       "      <td>0</td>\n",
       "      <td>0</td>\n",
       "    </tr>\n",
       "    <tr>\n",
       "      <th>6</th>\n",
       "      <td>0</td>\n",
       "      <td>0</td>\n",
       "      <td>0</td>\n",
       "      <td>0</td>\n",
       "      <td>0</td>\n",
       "      <td>0</td>\n",
       "      <td>1</td>\n",
       "    </tr>\n",
       "    <tr>\n",
       "      <th>7</th>\n",
       "      <td>0</td>\n",
       "      <td>0</td>\n",
       "      <td>0</td>\n",
       "      <td>0</td>\n",
       "      <td>0</td>\n",
       "      <td>1</td>\n",
       "      <td>0</td>\n",
       "    </tr>\n",
       "    <tr>\n",
       "      <th>8</th>\n",
       "      <td>0</td>\n",
       "      <td>1</td>\n",
       "      <td>0</td>\n",
       "      <td>0</td>\n",
       "      <td>0</td>\n",
       "      <td>1</td>\n",
       "      <td>0</td>\n",
       "    </tr>\n",
       "    <tr>\n",
       "      <th>9</th>\n",
       "      <td>0</td>\n",
       "      <td>1</td>\n",
       "      <td>0</td>\n",
       "      <td>0</td>\n",
       "      <td>0</td>\n",
       "      <td>0</td>\n",
       "      <td>0</td>\n",
       "    </tr>\n",
       "  </tbody>\n",
       "</table>\n",
       "</div>"
      ],
      "text/plain": [
       "   milk  rice  beer  butter  coffe  bean  bread\n",
       "0     1     0     1       1      0     0      1\n",
       "1     0     0     0       1      1     0      1\n",
       "2     0     0     0       1      1     0      1\n",
       "3     1     0     0       1      1     0      1\n",
       "4     0     0     1       0      0     0      0\n",
       "5     0     0     0       1      0     0      0\n",
       "6     0     0     0       0      0     0      1\n",
       "7     0     0     0       0      0     1      0\n",
       "8     0     1     0       0      0     1      0\n",
       "9     0     1     0       0      0     0      0"
      ]
     },
     "execution_count": 6,
     "metadata": {},
     "output_type": "execute_result"
    }
   ],
   "source": [
    "eclat.df_bin"
   ]
  },
  {
   "cell_type": "code",
   "execution_count": 7,
   "id": "2fbbd5a7",
   "metadata": {},
   "outputs": [
    {
     "data": {
      "text/plain": [
       "['milk', 'rice', 'beer', 'butter', 'coffe', 'bean', 'bread', nan]"
      ]
     },
     "execution_count": 7,
     "metadata": {},
     "output_type": "execute_result"
    }
   ],
   "source": [
    "eclat.uniq_"
   ]
  },
  {
   "cell_type": "code",
   "execution_count": 11,
   "id": "e6ee706e",
   "metadata": {},
   "outputs": [
    {
     "name": "stdout",
     "output_type": "stream",
     "text": [
      "Combination 2 by 2\n"
     ]
    },
    {
     "name": "stderr",
     "output_type": "stream",
     "text": [
      "21it [00:00, 97.66it/s]\n"
     ]
    },
    {
     "name": "stdout",
     "output_type": "stream",
     "text": [
      "Combination 3 by 3\n"
     ]
    },
    {
     "name": "stderr",
     "output_type": "stream",
     "text": [
      "35it [00:00, 103.85it/s]\n"
     ]
    },
    {
     "name": "stdout",
     "output_type": "stream",
     "text": [
      "Combination 4 by 4\n"
     ]
    },
    {
     "name": "stderr",
     "output_type": "stream",
     "text": [
      "35it [00:00, 109.04it/s]\n"
     ]
    }
   ],
   "source": [
    "indices, suporte = eclat.fit(min_support = 0.1, min_combination=2, max_combination=4)"
   ]
  },
  {
   "cell_type": "code",
   "execution_count": 12,
   "id": "480d9b9e",
   "metadata": {},
   "outputs": [
    {
     "data": {
      "text/plain": [
       "{'milk & beer': [0],\n",
       " 'milk & butter': [0, 3],\n",
       " 'milk & coffe': [3],\n",
       " 'milk & bread': [0, 3],\n",
       " 'rice & bean': [8],\n",
       " 'beer & butter': [0],\n",
       " 'beer & bread': [0],\n",
       " 'butter & coffe': [1, 2, 3],\n",
       " 'butter & bread': [0, 1, 2, 3],\n",
       " 'coffe & bread': [1, 2, 3],\n",
       " 'milk & beer & butter': [0],\n",
       " 'milk & beer & bread': [0],\n",
       " 'milk & butter & coffe': [3],\n",
       " 'milk & butter & bread': [0, 3],\n",
       " 'milk & coffe & bread': [3],\n",
       " 'beer & butter & bread': [0],\n",
       " 'butter & coffe & bread': [1, 2, 3],\n",
       " 'milk & beer & butter & bread': [0],\n",
       " 'milk & butter & coffe & bread': [3]}"
      ]
     },
     "execution_count": 12,
     "metadata": {},
     "output_type": "execute_result"
    }
   ],
   "source": [
    "indices #indices em que aparecem"
   ]
  },
  {
   "cell_type": "code",
   "execution_count": 13,
   "id": "1ab8eb0f",
   "metadata": {},
   "outputs": [
    {
     "data": {
      "text/plain": [
       "{'milk & beer': 0.1,\n",
       " 'milk & butter': 0.2,\n",
       " 'milk & coffe': 0.1,\n",
       " 'milk & bread': 0.2,\n",
       " 'rice & bean': 0.1,\n",
       " 'beer & butter': 0.1,\n",
       " 'beer & bread': 0.1,\n",
       " 'butter & coffe': 0.3,\n",
       " 'butter & bread': 0.4,\n",
       " 'coffe & bread': 0.3,\n",
       " 'milk & beer & butter': 0.1,\n",
       " 'milk & beer & bread': 0.1,\n",
       " 'milk & butter & coffe': 0.1,\n",
       " 'milk & butter & bread': 0.2,\n",
       " 'milk & coffe & bread': 0.1,\n",
       " 'beer & butter & bread': 0.1,\n",
       " 'butter & coffe & bread': 0.3,\n",
       " 'milk & beer & butter & bread': 0.1,\n",
       " 'milk & butter & coffe & bread': 0.1}"
      ]
     },
     "execution_count": 13,
     "metadata": {},
     "output_type": "execute_result"
    }
   ],
   "source": [
    "suporte #F(x,y)/N --> Frequência da combinação dividido pelo total de combinações."
   ]
  }
 ],
 "metadata": {
  "kernelspec": {
   "display_name": "Python 3",
   "language": "python",
   "name": "python3"
  },
  "language_info": {
   "codemirror_mode": {
    "name": "ipython",
    "version": 3
   },
   "file_extension": ".py",
   "mimetype": "text/x-python",
   "name": "python",
   "nbconvert_exporter": "python",
   "pygments_lexer": "ipython3",
   "version": "3.8.8"
  }
 },
 "nbformat": 4,
 "nbformat_minor": 5
}
