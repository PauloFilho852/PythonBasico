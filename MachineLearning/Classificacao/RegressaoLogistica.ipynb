{
 "cells": [
  {
   "cell_type": "code",
   "execution_count": 35,
   "id": "c30a1e29",
   "metadata": {},
   "outputs": [],
   "source": [
    "import os\n",
    "import numpy as np\n",
    "import pandas as pd\n",
    "import pickle\n",
    "from sklearn.model_selection import train_test_split\n",
    "from sklearn.metrics import accuracy_score, confusion_matrix, classification_report\n",
    "from sklearn.model_selection import KFold\n",
    "from sklearn.model_selection import cross_val_score\n",
    "from sklearn.linear_model import LogisticRegression"
   ]
  },
  {
   "cell_type": "code",
   "execution_count": 36,
   "id": "9b97ef2f",
   "metadata": {},
   "outputs": [],
   "source": [
    "previsores_file = open(f'{os.getcwd()}\\\\Tratamento e Pre-Processamento\\\\Dados\\\\heart_previsores_ecd_esc.pkl', 'rb')\n",
    "previsores = pickle.load(previsores_file)\n",
    "previsores_file.close()\n",
    "previsores\n",
    "\n",
    "alvo_file = open(f'{os.getcwd()}\\\\Tratamento e Pre-Processamento\\\\Dados\\\\heart_alvo.pkl', 'rb')\n",
    "alvo = pickle.load(alvo_file)\n",
    "alvo_file.close()"
   ]
  },
  {
   "cell_type": "code",
   "execution_count": 37,
   "id": "d5ba5b13",
   "metadata": {},
   "outputs": [],
   "source": [
    "previsores_treino, previsores_teste, alvo_treino, alvo_teste = train_test_split(previsores, alvo, test_size = 0.3, random_state = 0)"
   ]
  },
  {
   "cell_type": "code",
   "execution_count": 38,
   "id": "b65ae7f7",
   "metadata": {},
   "outputs": [
    {
     "data": {
      "text/plain": [
       "LogisticRegression(C=1, max_iter=600, random_state=1)"
      ]
     },
     "execution_count": 38,
     "metadata": {},
     "output_type": "execute_result"
    }
   ],
   "source": [
    "logistica = LogisticRegression(random_state=1, max_iter = 600, penalty = 'l2', tol = 0.0001, C = 1, solver = 'lbfgs')\n",
    "logistica.fit(previsores_treino, alvo_treino)"
   ]
  },
  {
   "cell_type": "code",
   "execution_count": 39,
   "id": "c413dd53",
   "metadata": {},
   "outputs": [
    {
     "data": {
      "text/plain": [
       "array([0.27651292])"
      ]
     },
     "execution_count": 39,
     "metadata": {},
     "output_type": "execute_result"
    }
   ],
   "source": [
    "logistica.intercept_"
   ]
  },
  {
   "cell_type": "code",
   "execution_count": 40,
   "id": "cd6d7ba8",
   "metadata": {},
   "outputs": [
    {
     "data": {
      "text/plain": [
       "array([[-0.31429216,  0.31429216,  0.51145815, -0.41291678, -0.17911607,\n",
       "        -0.08746201,  0.05928251, -0.00197428, -0.05806686, -0.21969455,\n",
       "         0.21969455, -0.01971658,  0.60969113, -0.6055519 ,  0.1808035 ,\n",
       "        -0.00090394,  0.18908439,  0.43510469, -0.22824874,  0.29941155]])"
      ]
     },
     "execution_count": 40,
     "metadata": {},
     "output_type": "execute_result"
    }
   ],
   "source": [
    "logistica.coef_"
   ]
  },
  {
   "cell_type": "code",
   "execution_count": 41,
   "id": "48a47123",
   "metadata": {},
   "outputs": [],
   "source": [
    "previsoes_logistica = logistica.predict(previsores_teste)"
   ]
  },
  {
   "cell_type": "code",
   "execution_count": 42,
   "id": "23bb04dd",
   "metadata": {},
   "outputs": [
    {
     "name": "stdout",
     "output_type": "stream",
     "text": [
      "Acurácia 86.23%\n"
     ]
    }
   ],
   "source": [
    "print('Acurácia %.2f%%' % (accuracy_score(alvo_teste, previsoes_logistica) * 100))"
   ]
  },
  {
   "cell_type": "code",
   "execution_count": 43,
   "id": "302704e5",
   "metadata": {},
   "outputs": [
    {
     "data": {
      "text/plain": [
       "array([[102,  19],\n",
       "       [ 19, 136]], dtype=int64)"
      ]
     },
     "execution_count": 43,
     "metadata": {},
     "output_type": "execute_result"
    }
   ],
   "source": [
    "confusion_matrix(alvo_teste, previsoes_logistica)"
   ]
  },
  {
   "cell_type": "code",
   "execution_count": 44,
   "id": "b93d4818",
   "metadata": {},
   "outputs": [
    {
     "name": "stdout",
     "output_type": "stream",
     "text": [
      "              precision    recall  f1-score   support\n",
      "\n",
      "           0       0.84      0.84      0.84       121\n",
      "           1       0.88      0.88      0.88       155\n",
      "\n",
      "    accuracy                           0.86       276\n",
      "   macro avg       0.86      0.86      0.86       276\n",
      "weighted avg       0.86      0.86      0.86       276\n",
      "\n"
     ]
    }
   ],
   "source": [
    "print(classification_report(alvo_teste, previsoes_logistica))"
   ]
  },
  {
   "cell_type": "code",
   "execution_count": 45,
   "id": "c03f3ea9",
   "metadata": {},
   "outputs": [],
   "source": [
    "previsoes_treino = logistica.predict(previsores_treino)"
   ]
  },
  {
   "cell_type": "code",
   "execution_count": 46,
   "id": "4c3356bd",
   "metadata": {},
   "outputs": [
    {
     "data": {
      "text/plain": [
       "0.858034321372855"
      ]
     },
     "execution_count": 46,
     "metadata": {},
     "output_type": "execute_result"
    }
   ],
   "source": [
    "accuracy_score(alvo_treino, previsoes_treino)"
   ]
  },
  {
   "cell_type": "code",
   "execution_count": 47,
   "id": "09ea2e1d",
   "metadata": {},
   "outputs": [
    {
     "data": {
      "text/plain": [
       "array([[237,  52],\n",
       "       [ 39, 313]], dtype=int64)"
      ]
     },
     "execution_count": 47,
     "metadata": {},
     "output_type": "execute_result"
    }
   ],
   "source": [
    "confusion_matrix(alvo_treino, previsoes_treino)"
   ]
  },
  {
   "cell_type": "code",
   "execution_count": 48,
   "id": "802c75d4",
   "metadata": {},
   "outputs": [],
   "source": [
    "#Validação Cruzada"
   ]
  },
  {
   "cell_type": "code",
   "execution_count": 49,
   "id": "f4a79746",
   "metadata": {},
   "outputs": [],
   "source": [
    "kfold = KFold(n_splits = 30, shuffle=True, random_state = 5)"
   ]
  },
  {
   "cell_type": "code",
   "execution_count": 50,
   "id": "78a97aa2",
   "metadata": {},
   "outputs": [],
   "source": [
    "modelo = LogisticRegression(random_state=1, max_iter = 800, penalty = 'l2', tol = 0.0001, C = 2, solver = 'lbfgs')\n",
    "resultado = cross_val_score(modelo, previsores, alvo, cv = kfold)"
   ]
  },
  {
   "cell_type": "code",
   "execution_count": 51,
   "id": "8fefc71f",
   "metadata": {},
   "outputs": [
    {
     "name": "stdout",
     "output_type": "stream",
     "text": [
      "Acuracia Média: 85.83%\n"
     ]
    }
   ],
   "source": [
    "print('Acuracia Média: %.2f%%' % (resultado.mean() * 100))"
   ]
  }
 ],
 "metadata": {
  "kernelspec": {
   "display_name": "Python 3",
   "language": "python",
   "name": "python3"
  },
  "language_info": {
   "codemirror_mode": {
    "name": "ipython",
    "version": 3
   },
   "file_extension": ".py",
   "mimetype": "text/x-python",
   "name": "python",
   "nbconvert_exporter": "python",
   "pygments_lexer": "ipython3",
   "version": "3.8.8"
  }
 },
 "nbformat": 4,
 "nbformat_minor": 5
}
