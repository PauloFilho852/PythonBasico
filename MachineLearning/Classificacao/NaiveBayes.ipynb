{
 "cells": [
  {
   "cell_type": "code",
   "execution_count": 1,
   "id": "c789140f",
   "metadata": {},
   "outputs": [],
   "source": [
    "import os\n",
    "import numpy as np\n",
    "import pandas as pd\n",
    "import pickle\n",
    "from sklearn.model_selection import train_test_split\n",
    "from sklearn.model_selection import KFold\n",
    "from sklearn.model_selection import cross_val_score\n",
    "from sklearn.metrics import accuracy_score, confusion_matrix, classification_report\n",
    "from sklearn.naive_bayes import GaussianNB"
   ]
  },
  {
   "cell_type": "code",
   "execution_count": 2,
   "id": "e3655e47",
   "metadata": {},
   "outputs": [],
   "source": [
    "previsores_file = open(f'{os.getcwd()}\\\\Tratamento e Pre-Processamento\\\\Dados\\\\heart_previsores_ecd_esc.pkl', 'rb')\n",
    "previsores = pickle.load(previsores_file)\n",
    "previsores_file.close()\n",
    "previsores\n",
    "\n",
    "alvo_file = open(f'{os.getcwd()}\\\\Tratamento e Pre-Processamento\\\\Dados\\\\heart_alvo.pkl', 'rb')\n",
    "alvo = pickle.load(alvo_file)\n",
    "alvo_file.close()"
   ]
  },
  {
   "cell_type": "code",
   "execution_count": 3,
   "id": "9c66e2e8",
   "metadata": {},
   "outputs": [],
   "source": [
    "#Separando em treino e teste\n",
    "previsores_treino, previsores_teste, alvo_treino, alvo_teste = train_test_split(previsores, alvo, test_size = 0.3, random_state = 0)\n"
   ]
  },
  {
   "cell_type": "code",
   "execution_count": 4,
   "id": "097282d6",
   "metadata": {},
   "outputs": [
    {
     "data": {
      "text/plain": [
       "GaussianNB()"
      ]
     },
     "execution_count": 4,
     "metadata": {},
     "output_type": "execute_result"
    }
   ],
   "source": [
    "#Fazendo o treinamento\n",
    "\n",
    "naive = GaussianNB()\n",
    "naive.fit(previsores_treino, alvo_treino)"
   ]
  },
  {
   "cell_type": "code",
   "execution_count": 5,
   "id": "39f6918b",
   "metadata": {},
   "outputs": [],
   "source": [
    "#Testando o previsores de teste\n",
    "previsoes_naive = naive.predict(previsores_teste)"
   ]
  },
  {
   "cell_type": "code",
   "execution_count": 6,
   "id": "1c1f3eab",
   "metadata": {},
   "outputs": [
    {
     "name": "stdout",
     "output_type": "stream",
     "text": [
      "Acurácia: 84.78%\n"
     ]
    }
   ],
   "source": [
    "#Comparanto com o alvo teste para ver a acurácia.\n",
    "\n",
    "print('Acurácia: %.2f%%' % (accuracy_score(alvo_teste, previsoes_naive) * 100))"
   ]
  },
  {
   "cell_type": "code",
   "execution_count": 7,
   "id": "c9449b03",
   "metadata": {},
   "outputs": [
    {
     "data": {
      "text/plain": [
       "array([[100,  21],\n",
       "       [ 21, 134]], dtype=int64)"
      ]
     },
     "execution_count": 7,
     "metadata": {},
     "output_type": "execute_result"
    }
   ],
   "source": [
    "confusion_matrix(alvo_teste, previsoes_naive)"
   ]
  },
  {
   "cell_type": "code",
   "execution_count": 8,
   "id": "f90cd81a",
   "metadata": {},
   "outputs": [
    {
     "name": "stdout",
     "output_type": "stream",
     "text": [
      "              precision    recall  f1-score   support\n",
      "\n",
      "           0       0.83      0.83      0.83       121\n",
      "           1       0.86      0.86      0.86       155\n",
      "\n",
      "    accuracy                           0.85       276\n",
      "   macro avg       0.85      0.85      0.85       276\n",
      "weighted avg       0.85      0.85      0.85       276\n",
      "\n"
     ]
    }
   ],
   "source": [
    "print(classification_report(alvo_teste, previsoes_naive))"
   ]
  },
  {
   "cell_type": "code",
   "execution_count": 9,
   "id": "34aed99f",
   "metadata": {},
   "outputs": [],
   "source": [
    "#Testando com os próprios dados de treino\n",
    "\n",
    "previsoes_treino = naive.predict(previsores_treino)"
   ]
  },
  {
   "cell_type": "code",
   "execution_count": 10,
   "id": "773578ea",
   "metadata": {},
   "outputs": [
    {
     "data": {
      "text/plain": [
       "0.8611544461778471"
      ]
     },
     "execution_count": 10,
     "metadata": {},
     "output_type": "execute_result"
    }
   ],
   "source": [
    "#Verificando a acurácia na previsão sobre os dados de treino (valor parecido com dados de teste - \"bom\")\n",
    "accuracy_score(alvo_treino, previsoes_treino)"
   ]
  },
  {
   "cell_type": "code",
   "execution_count": 11,
   "id": "9e4ed3bf",
   "metadata": {},
   "outputs": [
    {
     "data": {
      "text/plain": [
       "array([[248,  41],\n",
       "       [ 48, 304]], dtype=int64)"
      ]
     },
     "execution_count": 11,
     "metadata": {},
     "output_type": "execute_result"
    }
   ],
   "source": [
    "confusion_matrix(alvo_treino, previsoes_treino)"
   ]
  },
  {
   "cell_type": "code",
   "execution_count": 12,
   "id": "6953d8b5",
   "metadata": {},
   "outputs": [],
   "source": [
    "#Validação Cruzada"
   ]
  },
  {
   "cell_type": "code",
   "execution_count": 13,
   "id": "414a6564",
   "metadata": {},
   "outputs": [],
   "source": [
    "#Separando dados em folds --\n",
    "kfold = KFold(n_splits = 30, shuffle = True, random_state = 5)"
   ]
  },
  {
   "cell_type": "code",
   "execution_count": 14,
   "id": "9a909fd0",
   "metadata": {},
   "outputs": [],
   "source": [
    "#Fazendo o treinamento\n",
    "modelo = GaussianNB()\n",
    "resultado = cross_val_score(modelo, previsores, alvo, cv = kfold)"
   ]
  },
  {
   "cell_type": "code",
   "execution_count": 15,
   "id": "970ceeee",
   "metadata": {},
   "outputs": [
    {
     "name": "stdout",
     "output_type": "stream",
     "text": [
      "Acurácia Média: 85.17%\n"
     ]
    }
   ],
   "source": [
    "print('Acurácia Média: %.2f%%' % (resultado.mean()* 100))"
   ]
  }
 ],
 "metadata": {
  "kernelspec": {
   "display_name": "Python 3",
   "language": "python",
   "name": "python3"
  },
  "language_info": {
   "codemirror_mode": {
    "name": "ipython",
    "version": 3
   },
   "file_extension": ".py",
   "mimetype": "text/x-python",
   "name": "python",
   "nbconvert_exporter": "python",
   "pygments_lexer": "ipython3",
   "version": "3.8.8"
  }
 },
 "nbformat": 4,
 "nbformat_minor": 5
}
