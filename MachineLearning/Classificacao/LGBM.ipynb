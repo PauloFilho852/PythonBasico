{
 "cells": [
  {
   "cell_type": "code",
   "execution_count": 456,
   "id": "46989b12",
   "metadata": {},
   "outputs": [],
   "source": [
    "#pip install lightgbm"
   ]
  },
  {
   "cell_type": "code",
   "execution_count": 457,
   "id": "85698cf6",
   "metadata": {},
   "outputs": [],
   "source": [
    "import os\n",
    "from datetime import datetime\n",
    "import numpy as np\n",
    "import pandas as pd\n",
    "import pickle\n",
    "from sklearn.model_selection import train_test_split\n",
    "from sklearn.metrics import accuracy_score, confusion_matrix, classification_report\n",
    "from sklearn.model_selection import KFold\n",
    "from sklearn.model_selection import cross_val_score\n",
    "import lightgbm as lgb"
   ]
  },
  {
   "cell_type": "code",
   "execution_count": 458,
   "id": "fcbbe509",
   "metadata": {},
   "outputs": [],
   "source": [
    "previsores_file = open(f'{os.getcwd()}\\\\Tratamento e Pre-Processamento\\\\Dados\\\\heart_previsores.pkl', 'rb')\n",
    "previsores = pickle.load(previsores_file)\n",
    "previsores_file.close()\n",
    "\n",
    "\n",
    "alvo_file = open(f'{os.getcwd()}\\\\Tratamento e Pre-Processamento\\\\Dados\\\\heart_alvo.pkl', 'rb')\n",
    "alvo = pickle.load(alvo_file)\n",
    "alvo_file.close()"
   ]
  },
  {
   "cell_type": "code",
   "execution_count": 459,
   "id": "e9a4be81",
   "metadata": {},
   "outputs": [],
   "source": [
    "previsores_treino, previsores_teste, alvo_treino, alvo_teste = train_test_split(previsores, alvo, test_size = 0.3, random_state = 0)\n"
   ]
  },
  {
   "cell_type": "code",
   "execution_count": 460,
   "id": "d8a7fa6a",
   "metadata": {},
   "outputs": [],
   "source": [
    "dataset_treino = lgb.Dataset(previsores_treino, alvo_treino)"
   ]
  },
  {
   "cell_type": "code",
   "execution_count": 461,
   "id": "e3f553e7",
   "metadata": {},
   "outputs": [],
   "source": [
    "parametros = {'num_leaves': 150, 'objective': 'binary', 'max_depth': 2, 'learning_rate': 0.05, 'max_bin': 150}"
   ]
  },
  {
   "cell_type": "code",
   "execution_count": 462,
   "id": "2bb60e30",
   "metadata": {},
   "outputs": [
    {
     "name": "stdout",
     "output_type": "stream",
     "text": [
      "[LightGBM] [Info] Number of positive: 352, number of negative: 289\n",
      "[LightGBM] [Info] Auto-choosing row-wise multi-threading, the overhead of testing was 0.000123 seconds.\n",
      "You can set `force_row_wise=true` to remove the overhead.\n",
      "And if memory is not enough, you can set `force_col_wise=true`.\n",
      "[LightGBM] [Info] Total Bins 373\n",
      "[LightGBM] [Info] Number of data points in the train set: 641, number of used features: 11\n",
      "[LightGBM] [Info] [binary:BoostFromScore]: pavg=0.549142 -> initscore=0.197204\n",
      "[LightGBM] [Info] Start training from score 0.197204\n"
     ]
    },
    {
     "data": {
      "text/plain": [
       "datetime.timedelta(microseconds=15573)"
      ]
     },
     "execution_count": 462,
     "metadata": {},
     "output_type": "execute_result"
    }
   ],
   "source": [
    "inicio = datetime.now()\n",
    "lgbm = lgb.train(parametros, dataset_treino, num_boost_round = 150)\n",
    "fim = datetime.now()\n",
    "tempo = fim - inicio\n",
    "tempo"
   ]
  },
  {
   "cell_type": "code",
   "execution_count": 463,
   "id": "7fac5a94",
   "metadata": {},
   "outputs": [],
   "source": [
    "previsoes_lgbm = lgbm.predict(previsores_teste)"
   ]
  },
  {
   "cell_type": "code",
   "execution_count": 464,
   "id": "fa3e7d25",
   "metadata": {},
   "outputs": [
    {
     "data": {
      "text/plain": [
       "(276,)"
      ]
     },
     "execution_count": 464,
     "metadata": {},
     "output_type": "execute_result"
    }
   ],
   "source": [
    "previsoes_lgbm.shape"
   ]
  },
  {
   "cell_type": "code",
   "execution_count": 465,
   "id": "22ddebac",
   "metadata": {},
   "outputs": [],
   "source": [
    "for i in range(0,276):\n",
    "    if(previsoes_lgbm[i] >= 0.5):\n",
    "        previsoes_lgbm[i] = 1\n",
    "    else:\n",
    "        previsoes_lgbm[i] = 0        "
   ]
  },
  {
   "cell_type": "code",
   "execution_count": 466,
   "id": "507be7f4",
   "metadata": {},
   "outputs": [
    {
     "name": "stdout",
     "output_type": "stream",
     "text": [
      "Acurácia: 87.32%\n"
     ]
    }
   ],
   "source": [
    "print('Acurácia: %.2f%%' % (accuracy_score(alvo_teste, previsoes_lgbm) * 100))"
   ]
  },
  {
   "cell_type": "code",
   "execution_count": 467,
   "id": "cf4501ba",
   "metadata": {},
   "outputs": [
    {
     "data": {
      "text/plain": [
       "array([[104,  17],\n",
       "       [ 18, 137]], dtype=int64)"
      ]
     },
     "execution_count": 467,
     "metadata": {},
     "output_type": "execute_result"
    }
   ],
   "source": [
    "confusion_matrix(alvo_teste, previsoes_lgbm)"
   ]
  },
  {
   "cell_type": "code",
   "execution_count": 468,
   "id": "47bebd74",
   "metadata": {},
   "outputs": [
    {
     "name": "stdout",
     "output_type": "stream",
     "text": [
      "              precision    recall  f1-score   support\n",
      "\n",
      "           0       0.85      0.86      0.86       121\n",
      "           1       0.89      0.88      0.89       155\n",
      "\n",
      "    accuracy                           0.87       276\n",
      "   macro avg       0.87      0.87      0.87       276\n",
      "weighted avg       0.87      0.87      0.87       276\n",
      "\n"
     ]
    }
   ],
   "source": [
    "print(classification_report(alvo_teste, previsoes_lgbm))"
   ]
  },
  {
   "cell_type": "code",
   "execution_count": 469,
   "id": "3ba9795c",
   "metadata": {},
   "outputs": [
    {
     "data": {
      "text/plain": [
       "(641,)"
      ]
     },
     "execution_count": 469,
     "metadata": {},
     "output_type": "execute_result"
    }
   ],
   "source": [
    "previsoes_treino = lgbm.predict(previsores_treino)\n",
    "previsoes_treino.shape"
   ]
  },
  {
   "cell_type": "code",
   "execution_count": 470,
   "id": "213ef8c3",
   "metadata": {},
   "outputs": [],
   "source": [
    "for i in range(0,641):\n",
    "    if(previsoes_treino[i] >= 0.5):\n",
    "        previsoes_treino[i] = 1\n",
    "    else:\n",
    "        previsoes_treino[i] = 0   "
   ]
  },
  {
   "cell_type": "code",
   "execution_count": 471,
   "id": "aad93e04",
   "metadata": {},
   "outputs": [
    {
     "data": {
      "text/plain": [
       "0.9017160686427457"
      ]
     },
     "execution_count": 471,
     "metadata": {},
     "output_type": "execute_result"
    }
   ],
   "source": [
    "accuracy_score(alvo_treino, previsoes_treino)"
   ]
  },
  {
   "cell_type": "code",
   "execution_count": 472,
   "id": "5e91ac38",
   "metadata": {},
   "outputs": [
    {
     "data": {
      "text/plain": [
       "array([[247,  42],\n",
       "       [ 21, 331]], dtype=int64)"
      ]
     },
     "execution_count": 472,
     "metadata": {},
     "output_type": "execute_result"
    }
   ],
   "source": [
    "confusion_matrix(alvo_treino, previsoes_treino)"
   ]
  },
  {
   "cell_type": "code",
   "execution_count": 473,
   "id": "6351bba8",
   "metadata": {},
   "outputs": [],
   "source": [
    "#Validação Cruzada"
   ]
  },
  {
   "cell_type": "code",
   "execution_count": 474,
   "id": "62f279e2",
   "metadata": {},
   "outputs": [],
   "source": [
    "kfold = KFold(n_splits = 30, shuffle = True, random_state = 5)"
   ]
  },
  {
   "cell_type": "code",
   "execution_count": 475,
   "id": "ad8e5bf2",
   "metadata": {},
   "outputs": [
    {
     "name": "stdout",
     "output_type": "stream",
     "text": [
      "[LightGBM] [Info] Number of positive: 489, number of negative: 397\n",
      "[LightGBM] [Info] Auto-choosing row-wise multi-threading, the overhead of testing was 0.000070 seconds.\n",
      "You can set `force_row_wise=true` to remove the overhead.\n",
      "And if memory is not enough, you can set `force_col_wise=true`.\n",
      "[LightGBM] [Info] Total Bins 394\n",
      "[LightGBM] [Info] Number of data points in the train set: 886, number of used features: 11\n",
      "[LightGBM] [Info] [binary:BoostFromScore]: pavg=0.551919 -> initscore=0.208426\n",
      "[LightGBM] [Info] Start training from score 0.208426\n",
      "[LightGBM] [Info] Number of positive: 490, number of negative: 396\n",
      "[LightGBM] [Info] Auto-choosing row-wise multi-threading, the overhead of testing was 0.000085 seconds.\n",
      "You can set `force_row_wise=true` to remove the overhead.\n",
      "And if memory is not enough, you can set `force_col_wise=true`.\n",
      "[LightGBM] [Info] Total Bins 397\n",
      "[LightGBM] [Info] Number of data points in the train set: 886, number of used features: 11\n",
      "[LightGBM] [Info] [binary:BoostFromScore]: pavg=0.553047 -> initscore=0.212991\n",
      "[LightGBM] [Info] Start training from score 0.212991\n",
      "[LightGBM] [Info] Number of positive: 486, number of negative: 400\n",
      "[LightGBM] [Info] Auto-choosing col-wise multi-threading, the overhead of testing was 0.000183 seconds.\n",
      "You can set `force_col_wise=true` to remove the overhead.\n",
      "[LightGBM] [Info] Total Bins 391\n",
      "[LightGBM] [Info] Number of data points in the train set: 886, number of used features: 11\n",
      "[LightGBM] [Info] [binary:BoostFromScore]: pavg=0.548533 -> initscore=0.194744\n",
      "[LightGBM] [Info] Start training from score 0.194744\n",
      "[LightGBM] [Info] Number of positive: 487, number of negative: 399\n",
      "[LightGBM] [Info] Auto-choosing row-wise multi-threading, the overhead of testing was 0.000084 seconds.\n",
      "You can set `force_row_wise=true` to remove the overhead.\n",
      "And if memory is not enough, you can set `force_col_wise=true`.\n",
      "[LightGBM] [Info] Total Bins 395\n",
      "[LightGBM] [Info] Number of data points in the train set: 886, number of used features: 11\n",
      "[LightGBM] [Info] [binary:BoostFromScore]: pavg=0.549661 -> initscore=0.199303\n",
      "[LightGBM] [Info] Start training from score 0.199303\n",
      "[LightGBM] [Info] Number of positive: 490, number of negative: 396\n",
      "[LightGBM] [Info] Auto-choosing row-wise multi-threading, the overhead of testing was 0.000086 seconds.\n",
      "You can set `force_row_wise=true` to remove the overhead.\n",
      "And if memory is not enough, you can set `force_col_wise=true`.\n",
      "[LightGBM] [Info] Total Bins 396\n",
      "[LightGBM] [Info] Number of data points in the train set: 886, number of used features: 11\n",
      "[LightGBM] [Info] [binary:BoostFromScore]: pavg=0.553047 -> initscore=0.212991\n",
      "[LightGBM] [Info] Start training from score 0.212991\n",
      "[LightGBM] [Info] Number of positive: 489, number of negative: 397\n",
      "[LightGBM] [Info] Auto-choosing row-wise multi-threading, the overhead of testing was 0.000102 seconds.\n",
      "You can set `force_row_wise=true` to remove the overhead.\n",
      "And if memory is not enough, you can set `force_col_wise=true`.\n",
      "[LightGBM] [Info] Total Bins 396\n",
      "[LightGBM] [Info] Number of data points in the train set: 886, number of used features: 11\n",
      "[LightGBM] [Info] [binary:BoostFromScore]: pavg=0.551919 -> initscore=0.208426\n",
      "[LightGBM] [Info] Start training from score 0.208426\n",
      "[LightGBM] [Info] Number of positive: 490, number of negative: 396\n",
      "[LightGBM] [Info] Auto-choosing row-wise multi-threading, the overhead of testing was 0.000092 seconds.\n",
      "You can set `force_row_wise=true` to remove the overhead.\n",
      "And if memory is not enough, you can set `force_col_wise=true`.\n",
      "[LightGBM] [Info] Total Bins 394\n",
      "[LightGBM] [Info] Number of data points in the train set: 886, number of used features: 11\n",
      "[LightGBM] [Info] [binary:BoostFromScore]: pavg=0.553047 -> initscore=0.212991\n",
      "[LightGBM] [Info] Start training from score 0.212991\n",
      "[LightGBM] [Info] Number of positive: 491, number of negative: 395\n",
      "[LightGBM] [Info] Auto-choosing row-wise multi-threading, the overhead of testing was 0.000121 seconds.\n",
      "You can set `force_row_wise=true` to remove the overhead.\n",
      "And if memory is not enough, you can set `force_col_wise=true`.\n",
      "[LightGBM] [Info] Total Bins 394\n",
      "[LightGBM] [Info] Number of data points in the train set: 886, number of used features: 11\n",
      "[LightGBM] [Info] [binary:BoostFromScore]: pavg=0.554176 -> initscore=0.217558\n",
      "[LightGBM] [Info] Start training from score 0.217558\n",
      "[LightGBM] [Info] Number of positive: 491, number of negative: 395\n",
      "[LightGBM] [Info] Auto-choosing row-wise multi-threading, the overhead of testing was 0.000122 seconds.\n",
      "You can set `force_row_wise=true` to remove the overhead.\n",
      "And if memory is not enough, you can set `force_col_wise=true`.\n",
      "[LightGBM] [Info] Total Bins 394\n",
      "[LightGBM] [Info] Number of data points in the train set: 886, number of used features: 11\n",
      "[LightGBM] [Info] [binary:BoostFromScore]: pavg=0.554176 -> initscore=0.217558\n",
      "[LightGBM] [Info] Start training from score 0.217558\n",
      "[LightGBM] [Info] Number of positive: 490, number of negative: 396\n",
      "[LightGBM] [Info] Auto-choosing row-wise multi-threading, the overhead of testing was 0.000067 seconds.\n",
      "You can set `force_row_wise=true` to remove the overhead.\n",
      "And if memory is not enough, you can set `force_col_wise=true`.\n",
      "[LightGBM] [Info] Total Bins 395\n",
      "[LightGBM] [Info] Number of data points in the train set: 886, number of used features: 11\n",
      "[LightGBM] [Info] [binary:BoostFromScore]: pavg=0.553047 -> initscore=0.212991\n",
      "[LightGBM] [Info] Start training from score 0.212991\n",
      "[LightGBM] [Info] Number of positive: 492, number of negative: 394\n",
      "[LightGBM] [Info] Auto-choosing row-wise multi-threading, the overhead of testing was 0.000088 seconds.\n",
      "You can set `force_row_wise=true` to remove the overhead.\n",
      "And if memory is not enough, you can set `force_col_wise=true`.\n",
      "[LightGBM] [Info] Total Bins 396\n",
      "[LightGBM] [Info] Number of data points in the train set: 886, number of used features: 11\n",
      "[LightGBM] [Info] [binary:BoostFromScore]: pavg=0.555305 -> initscore=0.222128\n",
      "[LightGBM] [Info] Start training from score 0.222128\n",
      "[LightGBM] [Info] Number of positive: 484, number of negative: 402\n",
      "[LightGBM] [Info] Auto-choosing row-wise multi-threading, the overhead of testing was 0.000074 seconds.\n",
      "You can set `force_row_wise=true` to remove the overhead.\n",
      "And if memory is not enough, you can set `force_col_wise=true`.\n",
      "[LightGBM] [Info] Total Bins 395\n",
      "[LightGBM] [Info] Number of data points in the train set: 886, number of used features: 11\n",
      "[LightGBM] [Info] [binary:BoostFromScore]: pavg=0.546275 -> initscore=0.185633\n",
      "[LightGBM] [Info] Start training from score 0.185633\n",
      "[LightGBM] [Info] Number of positive: 489, number of negative: 397\n",
      "[LightGBM] [Info] Auto-choosing row-wise multi-threading, the overhead of testing was 0.000088 seconds.\n",
      "You can set `force_row_wise=true` to remove the overhead.\n",
      "And if memory is not enough, you can set `force_col_wise=true`.\n",
      "[LightGBM] [Info] Total Bins 395\n",
      "[LightGBM] [Info] Number of data points in the train set: 886, number of used features: 11\n",
      "[LightGBM] [Info] [binary:BoostFromScore]: pavg=0.551919 -> initscore=0.208426\n",
      "[LightGBM] [Info] Start training from score 0.208426\n",
      "[LightGBM] [Info] Number of positive: 489, number of negative: 397\n",
      "[LightGBM] [Info] Auto-choosing row-wise multi-threading, the overhead of testing was 0.000127 seconds.\n",
      "You can set `force_row_wise=true` to remove the overhead.\n",
      "And if memory is not enough, you can set `force_col_wise=true`.\n",
      "[LightGBM] [Info] Total Bins 397\n",
      "[LightGBM] [Info] Number of data points in the train set: 886, number of used features: 11\n",
      "[LightGBM] [Info] [binary:BoostFromScore]: pavg=0.551919 -> initscore=0.208426\n",
      "[LightGBM] [Info] Start training from score 0.208426\n",
      "[LightGBM] [Info] Number of positive: 494, number of negative: 392\n",
      "[LightGBM] [Info] Auto-choosing row-wise multi-threading, the overhead of testing was 0.000088 seconds.\n",
      "You can set `force_row_wise=true` to remove the overhead.\n",
      "And if memory is not enough, you can set `force_col_wise=true`.\n",
      "[LightGBM] [Info] Total Bins 396\n",
      "[LightGBM] [Info] Number of data points in the train set: 886, number of used features: 11\n",
      "[LightGBM] [Info] [binary:BoostFromScore]: pavg=0.557562 -> initscore=0.231274\n",
      "[LightGBM] [Info] Start training from score 0.231274\n",
      "[LightGBM] [Info] Number of positive: 488, number of negative: 398\n",
      "[LightGBM] [Info] Auto-choosing row-wise multi-threading, the overhead of testing was 0.000123 seconds.\n",
      "You can set `force_row_wise=true` to remove the overhead.\n",
      "And if memory is not enough, you can set `force_col_wise=true`.\n",
      "[LightGBM] [Info] Total Bins 396\n",
      "[LightGBM] [Info] Number of data points in the train set: 886, number of used features: 11\n",
      "[LightGBM] [Info] [binary:BoostFromScore]: pavg=0.550790 -> initscore=0.203863\n",
      "[LightGBM] [Info] Start training from score 0.203863\n",
      "[LightGBM] [Info] Number of positive: 489, number of negative: 397\n",
      "[LightGBM] [Info] Auto-choosing row-wise multi-threading, the overhead of testing was 0.000086 seconds.\n",
      "You can set `force_row_wise=true` to remove the overhead.\n",
      "And if memory is not enough, you can set `force_col_wise=true`.\n",
      "[LightGBM] [Info] Total Bins 396\n",
      "[LightGBM] [Info] Number of data points in the train set: 886, number of used features: 11\n",
      "[LightGBM] [Info] [binary:BoostFromScore]: pavg=0.551919 -> initscore=0.208426\n",
      "[LightGBM] [Info] Start training from score 0.208426\n",
      "[LightGBM] [Info] Number of positive: 488, number of negative: 399\n",
      "[LightGBM] [Info] Auto-choosing row-wise multi-threading, the overhead of testing was 0.000095 seconds.\n",
      "You can set `force_row_wise=true` to remove the overhead.\n",
      "And if memory is not enough, you can set `force_col_wise=true`.\n",
      "[LightGBM] [Info] Total Bins 396\n",
      "[LightGBM] [Info] Number of data points in the train set: 887, number of used features: 11\n",
      "[LightGBM] [Info] [binary:BoostFromScore]: pavg=0.550169 -> initscore=0.201354\n",
      "[LightGBM] [Info] Start training from score 0.201354\n",
      "[LightGBM] [Info] Number of positive: 490, number of negative: 397\n",
      "[LightGBM] [Info] Auto-choosing row-wise multi-threading, the overhead of testing was 0.000063 seconds.\n",
      "You can set `force_row_wise=true` to remove the overhead.\n",
      "And if memory is not enough, you can set `force_col_wise=true`.\n",
      "[LightGBM] [Info] Total Bins 394\n",
      "[LightGBM] [Info] Number of data points in the train set: 887, number of used features: 11\n",
      "[LightGBM] [Info] [binary:BoostFromScore]: pavg=0.552424 -> initscore=0.210469\n",
      "[LightGBM] [Info] Start training from score 0.210469\n",
      "[LightGBM] [Info] Number of positive: 490, number of negative: 397\n",
      "[LightGBM] [Info] Auto-choosing row-wise multi-threading, the overhead of testing was 0.000104 seconds.\n",
      "You can set `force_row_wise=true` to remove the overhead.\n",
      "And if memory is not enough, you can set `force_col_wise=true`.\n",
      "[LightGBM] [Info] Total Bins 394\n",
      "[LightGBM] [Info] Number of data points in the train set: 887, number of used features: 11\n",
      "[LightGBM] [Info] [binary:BoostFromScore]: pavg=0.552424 -> initscore=0.210469\n",
      "[LightGBM] [Info] Start training from score 0.210469\n",
      "[LightGBM] [Info] Number of positive: 491, number of negative: 396\n",
      "[LightGBM] [Info] Auto-choosing row-wise multi-threading, the overhead of testing was 0.000059 seconds.\n",
      "You can set `force_row_wise=true` to remove the overhead.\n",
      "And if memory is not enough, you can set `force_col_wise=true`.\n",
      "[LightGBM] [Info] Total Bins 394\n",
      "[LightGBM] [Info] Number of data points in the train set: 887, number of used features: 11\n",
      "[LightGBM] [Info] [binary:BoostFromScore]: pavg=0.553551 -> initscore=0.215030\n",
      "[LightGBM] [Info] Start training from score 0.215030\n",
      "[LightGBM] [Info] Number of positive: 491, number of negative: 396\n",
      "[LightGBM] [Info] Auto-choosing row-wise multi-threading, the overhead of testing was 0.000110 seconds.\n",
      "You can set `force_row_wise=true` to remove the overhead.\n",
      "And if memory is not enough, you can set `force_col_wise=true`.\n",
      "[LightGBM] [Info] Total Bins 395\n",
      "[LightGBM] [Info] Number of data points in the train set: 887, number of used features: 11\n",
      "[LightGBM] [Info] [binary:BoostFromScore]: pavg=0.553551 -> initscore=0.215030\n",
      "[LightGBM] [Info] Start training from score 0.215030\n",
      "[LightGBM] [Info] Number of positive: 493, number of negative: 394\n",
      "[LightGBM] [Info] Auto-choosing row-wise multi-threading, the overhead of testing was 0.000089 seconds.\n",
      "You can set `force_row_wise=true` to remove the overhead.\n",
      "And if memory is not enough, you can set `force_col_wise=true`.\n",
      "[LightGBM] [Info] Total Bins 396\n",
      "[LightGBM] [Info] Number of data points in the train set: 887, number of used features: 11\n",
      "[LightGBM] [Info] [binary:BoostFromScore]: pavg=0.555806 -> initscore=0.224158\n",
      "[LightGBM] [Info] Start training from score 0.224158\n",
      "[LightGBM] [Info] Number of positive: 494, number of negative: 393\n"
     ]
    },
    {
     "name": "stdout",
     "output_type": "stream",
     "text": [
      "[LightGBM] [Info] Auto-choosing row-wise multi-threading, the overhead of testing was 0.000094 seconds.\n",
      "You can set `force_row_wise=true` to remove the overhead.\n",
      "And if memory is not enough, you can set `force_col_wise=true`.\n",
      "[LightGBM] [Info] Total Bins 397\n",
      "[LightGBM] [Info] Number of data points in the train set: 887, number of used features: 11\n",
      "[LightGBM] [Info] [binary:BoostFromScore]: pavg=0.556933 -> initscore=0.228726\n",
      "[LightGBM] [Info] Start training from score 0.228726\n",
      "[LightGBM] [Info] Number of positive: 493, number of negative: 394\n",
      "[LightGBM] [Info] Auto-choosing row-wise multi-threading, the overhead of testing was 0.000096 seconds.\n",
      "You can set `force_row_wise=true` to remove the overhead.\n",
      "And if memory is not enough, you can set `force_col_wise=true`.\n",
      "[LightGBM] [Info] Total Bins 395\n",
      "[LightGBM] [Info] Number of data points in the train set: 887, number of used features: 11\n",
      "[LightGBM] [Info] [binary:BoostFromScore]: pavg=0.555806 -> initscore=0.224158\n",
      "[LightGBM] [Info] Start training from score 0.224158\n",
      "[LightGBM] [Info] Number of positive: 487, number of negative: 400\n",
      "[LightGBM] [Info] Auto-choosing row-wise multi-threading, the overhead of testing was 0.000113 seconds.\n",
      "You can set `force_row_wise=true` to remove the overhead.\n",
      "And if memory is not enough, you can set `force_col_wise=true`.\n",
      "[LightGBM] [Info] Total Bins 395\n",
      "[LightGBM] [Info] Number of data points in the train set: 887, number of used features: 11\n",
      "[LightGBM] [Info] [binary:BoostFromScore]: pavg=0.549042 -> initscore=0.196800\n",
      "[LightGBM] [Info] Start training from score 0.196800\n",
      "[LightGBM] [Info] Number of positive: 489, number of negative: 398\n",
      "[LightGBM] [Info] Auto-choosing row-wise multi-threading, the overhead of testing was 0.000103 seconds.\n",
      "You can set `force_row_wise=true` to remove the overhead.\n",
      "And if memory is not enough, you can set `force_col_wise=true`.\n",
      "[LightGBM] [Info] Total Bins 394\n",
      "[LightGBM] [Info] Number of data points in the train set: 887, number of used features: 11\n",
      "[LightGBM] [Info] [binary:BoostFromScore]: pavg=0.551297 -> initscore=0.205910\n",
      "[LightGBM] [Info] Start training from score 0.205910\n",
      "[LightGBM] [Info] Number of positive: 492, number of negative: 395\n",
      "[LightGBM] [Info] Auto-choosing row-wise multi-threading, the overhead of testing was 0.000085 seconds.\n",
      "You can set `force_row_wise=true` to remove the overhead.\n",
      "And if memory is not enough, you can set `force_col_wise=true`.\n",
      "[LightGBM] [Info] Total Bins 397\n",
      "[LightGBM] [Info] Number of data points in the train set: 887, number of used features: 11\n",
      "[LightGBM] [Info] [binary:BoostFromScore]: pavg=0.554679 -> initscore=0.219593\n",
      "[LightGBM] [Info] Start training from score 0.219593\n",
      "[LightGBM] [Info] Number of positive: 493, number of negative: 394\n",
      "[LightGBM] [Info] Auto-choosing row-wise multi-threading, the overhead of testing was 0.000068 seconds.\n",
      "You can set `force_row_wise=true` to remove the overhead.\n",
      "And if memory is not enough, you can set `force_col_wise=true`.\n",
      "[LightGBM] [Info] Total Bins 394\n",
      "[LightGBM] [Info] Number of data points in the train set: 887, number of used features: 11\n",
      "[LightGBM] [Info] [binary:BoostFromScore]: pavg=0.555806 -> initscore=0.224158\n",
      "[LightGBM] [Info] Start training from score 0.224158\n",
      "[LightGBM] [Info] Number of positive: 494, number of negative: 393\n",
      "[LightGBM] [Info] Auto-choosing row-wise multi-threading, the overhead of testing was 0.000067 seconds.\n",
      "You can set `force_row_wise=true` to remove the overhead.\n",
      "And if memory is not enough, you can set `force_col_wise=true`.\n",
      "[LightGBM] [Info] Total Bins 394\n",
      "[LightGBM] [Info] Number of data points in the train set: 887, number of used features: 11\n",
      "[LightGBM] [Info] [binary:BoostFromScore]: pavg=0.556933 -> initscore=0.228726\n",
      "[LightGBM] [Info] Start training from score 0.228726\n"
     ]
    }
   ],
   "source": [
    "modelo =  lgb.LGBMClassifier(num_leaves= 150, objective = 'binary', max_depth = 2, learning_rate = 0.05, max_bin = 150)\n",
    "resultado = cross_val_score(modelo, previsores, alvo, cv = kfold)"
   ]
  },
  {
   "cell_type": "code",
   "execution_count": 476,
   "id": "a6f870b3",
   "metadata": {},
   "outputs": [
    {
     "name": "stdout",
     "output_type": "stream",
     "text": [
      "Acurácia Média: 85.94%\n"
     ]
    }
   ],
   "source": [
    "print('Acurácia Média: %.2f%%' % (resultado.mean() * 100))"
   ]
  }
 ],
 "metadata": {
  "kernelspec": {
   "display_name": "Python 3",
   "language": "python",
   "name": "python3"
  },
  "language_info": {
   "codemirror_mode": {
    "name": "ipython",
    "version": 3
   },
   "file_extension": ".py",
   "mimetype": "text/x-python",
   "name": "python",
   "nbconvert_exporter": "python",
   "pygments_lexer": "ipython3",
   "version": "3.8.8"
  }
 },
 "nbformat": 4,
 "nbformat_minor": 5
}
