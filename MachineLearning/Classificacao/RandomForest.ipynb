{
 "cells": [
  {
   "cell_type": "code",
   "execution_count": 293,
   "id": "85698cf6",
   "metadata": {},
   "outputs": [],
   "source": [
    "import os\n",
    "import numpy as np\n",
    "import pandas as pd\n",
    "import pickle\n",
    "from sklearn.model_selection import train_test_split\n",
    "from sklearn.metrics import accuracy_score, confusion_matrix, classification_report\n",
    "from sklearn.model_selection import KFold\n",
    "from sklearn.model_selection import cross_val_score\n",
    "from sklearn.ensemble import RandomForestClassifier"
   ]
  },
  {
   "cell_type": "code",
   "execution_count": 294,
   "id": "fcbbe509",
   "metadata": {},
   "outputs": [],
   "source": [
    "previsores_file = open(f'{os.getcwd()}\\\\Tratamento e Pre-Processamento\\\\Dados\\\\heart_previsores.pkl', 'rb')\n",
    "previsores = pickle.load(previsores_file)\n",
    "previsores_file.close()\n",
    "\n",
    "\n",
    "alvo_file = open(f'{os.getcwd()}\\\\Tratamento e Pre-Processamento\\\\Dados\\\\heart_alvo.pkl', 'rb')\n",
    "alvo = pickle.load(alvo_file)\n",
    "alvo_file.close()"
   ]
  },
  {
   "cell_type": "code",
   "execution_count": 295,
   "id": "e9a4be81",
   "metadata": {},
   "outputs": [],
   "source": [
    "previsores_treino, previsores_teste, alvo_treino, alvo_teste = train_test_split(previsores, alvo, test_size = 0.3, random_state = 0)\n"
   ]
  },
  {
   "cell_type": "code",
   "execution_count": 296,
   "id": "e3f553e7",
   "metadata": {},
   "outputs": [
    {
     "data": {
      "text/plain": [
       "RandomForestClassifier(criterion='entropy', max_depth=4, n_estimators=150,\n",
       "                       random_state=0)"
      ]
     },
     "execution_count": 296,
     "metadata": {},
     "output_type": "execute_result"
    }
   ],
   "source": [
    "random = RandomForestClassifier(n_estimators=150, criterion = 'entropy', random_state = 0, max_depth = 4)\n",
    "random.fit(previsores_treino, alvo_treino)"
   ]
  },
  {
   "cell_type": "code",
   "execution_count": 297,
   "id": "7fac5a94",
   "metadata": {},
   "outputs": [],
   "source": [
    "previsoes_random = random.predict(previsores_teste)"
   ]
  },
  {
   "cell_type": "code",
   "execution_count": 298,
   "id": "507be7f4",
   "metadata": {},
   "outputs": [
    {
     "name": "stdout",
     "output_type": "stream",
     "text": [
      "Acurácia: 86.59%\n"
     ]
    }
   ],
   "source": [
    "print('Acurácia: %.2f%%' % (accuracy_score(alvo_teste, previsoes_random) * 100))"
   ]
  },
  {
   "cell_type": "code",
   "execution_count": 299,
   "id": "cf4501ba",
   "metadata": {},
   "outputs": [
    {
     "data": {
      "text/plain": [
       "array([[103,  18],\n",
       "       [ 19, 136]], dtype=int64)"
      ]
     },
     "execution_count": 299,
     "metadata": {},
     "output_type": "execute_result"
    }
   ],
   "source": [
    "confusion_matrix(alvo_teste, previsoes_random)"
   ]
  },
  {
   "cell_type": "code",
   "execution_count": 300,
   "id": "47bebd74",
   "metadata": {},
   "outputs": [
    {
     "name": "stdout",
     "output_type": "stream",
     "text": [
      "              precision    recall  f1-score   support\n",
      "\n",
      "           0       0.84      0.85      0.85       121\n",
      "           1       0.88      0.88      0.88       155\n",
      "\n",
      "    accuracy                           0.87       276\n",
      "   macro avg       0.86      0.86      0.86       276\n",
      "weighted avg       0.87      0.87      0.87       276\n",
      "\n"
     ]
    }
   ],
   "source": [
    "print(classification_report(alvo_teste, previsoes_random))"
   ]
  },
  {
   "cell_type": "code",
   "execution_count": 301,
   "id": "3ba9795c",
   "metadata": {},
   "outputs": [],
   "source": [
    "previsoes_treino = random.predict(previsores_treino)"
   ]
  },
  {
   "cell_type": "code",
   "execution_count": 302,
   "id": "aad93e04",
   "metadata": {},
   "outputs": [
    {
     "data": {
      "text/plain": [
       "0.890795631825273"
      ]
     },
     "execution_count": 302,
     "metadata": {},
     "output_type": "execute_result"
    }
   ],
   "source": [
    "accuracy_score(alvo_treino, previsoes_treino)"
   ]
  },
  {
   "cell_type": "code",
   "execution_count": 303,
   "id": "5e91ac38",
   "metadata": {},
   "outputs": [
    {
     "data": {
      "text/plain": [
       "array([[241,  48],\n",
       "       [ 22, 330]], dtype=int64)"
      ]
     },
     "execution_count": 303,
     "metadata": {},
     "output_type": "execute_result"
    }
   ],
   "source": [
    "confusion_matrix(alvo_treino, previsoes_treino)"
   ]
  },
  {
   "cell_type": "code",
   "execution_count": 304,
   "id": "6351bba8",
   "metadata": {},
   "outputs": [],
   "source": [
    "#Validação Cruzada"
   ]
  },
  {
   "cell_type": "code",
   "execution_count": 305,
   "id": "62f279e2",
   "metadata": {},
   "outputs": [],
   "source": [
    "kfold = KFold(n_splits = 30, shuffle = True, random_state = 5)"
   ]
  },
  {
   "cell_type": "code",
   "execution_count": 306,
   "id": "ad8e5bf2",
   "metadata": {},
   "outputs": [],
   "source": [
    "modelo = RandomForestClassifier(n_estimators = 150, criterion = 'entropy', random_state = 0, max_depth = 4)\n",
    "resultado = cross_val_score(modelo, previsores, alvo, cv = kfold)"
   ]
  },
  {
   "cell_type": "code",
   "execution_count": 307,
   "id": "a6f870b3",
   "metadata": {},
   "outputs": [
    {
     "name": "stdout",
     "output_type": "stream",
     "text": [
      "Acurácia Média: 85.92%\n"
     ]
    }
   ],
   "source": [
    "print('Acurácia Média: %.2f%%' % (resultado.mean() * 100))"
   ]
  }
 ],
 "metadata": {
  "kernelspec": {
   "display_name": "Python 3",
   "language": "python",
   "name": "python3"
  },
  "language_info": {
   "codemirror_mode": {
    "name": "ipython",
    "version": 3
   },
   "file_extension": ".py",
   "mimetype": "text/x-python",
   "name": "python",
   "nbconvert_exporter": "python",
   "pygments_lexer": "ipython3",
   "version": "3.8.8"
  }
 },
 "nbformat": 4,
 "nbformat_minor": 5
}
