{
 "cells": [
  {
   "cell_type": "code",
   "execution_count": 1,
   "id": "85698cf6",
   "metadata": {},
   "outputs": [],
   "source": [
    "import os\n",
    "from datetime import datetime\n",
    "import numpy as np\n",
    "import pandas as pd\n",
    "import pickle\n",
    "from sklearn.model_selection import train_test_split\n",
    "from sklearn.metrics import accuracy_score, confusion_matrix, classification_report\n",
    "from sklearn.model_selection import KFold\n",
    "from sklearn.model_selection import cross_val_score\n",
    "from sklearn.neural_network import MLPClassifier"
   ]
  },
  {
   "cell_type": "code",
   "execution_count": 2,
   "id": "fcbbe509",
   "metadata": {},
   "outputs": [],
   "source": [
    "previsores_file = open(f'{os.getcwd()}\\\\Dados\\\\heart_previsores_esc.pkl', 'rb')\n",
    "previsores = pickle.load(previsores_file)\n",
    "previsores_file.close()\n",
    "\n",
    "\n",
    "alvo_file = open(f'{os.getcwd()}\\\\Dados\\\\heart_alvo.pkl', 'rb')\n",
    "alvo = pickle.load(alvo_file)\n",
    "alvo_file.close()"
   ]
  },
  {
   "cell_type": "code",
   "execution_count": 3,
   "id": "e9a4be81",
   "metadata": {},
   "outputs": [],
   "source": [
    "previsores_treino, previsores_teste, alvo_treino, alvo_teste = train_test_split(previsores, alvo, test_size = 0.3, \n",
    "                                                                                random_state = 0)\n"
   ]
  },
  {
   "cell_type": "code",
   "execution_count": 4,
   "id": "d8a7fa6a",
   "metadata": {},
   "outputs": [],
   "source": [
    "#QUANTIDADE DE NEURÔNIOS NAS CAMADAS OCULTAS: defautl: 100\n",
    "\n",
    "#Quantidade = (Ne + Ns)/2 = (11 + 1)/2 = 6 --> 11 neurônios de entrada (1 para cada atributo de entrada) e 1 de saída \n",
    "#Quantidade = (2/3)*Ne + Ns = (2/3)*11 + 1 = 8\n"
   ]
  },
  {
   "cell_type": "code",
   "execution_count": 5,
   "id": "7fac5a94",
   "metadata": {},
   "outputs": [],
   "source": [
    "classificador_mlp = MLPClassifier(hidden_layer_sizes = (6), activation = 'relu', solver = 'adam', max_iter = 800,\n",
    "                                 tol=0.0001, random_state = 3, verbose = False, max_fun = 20000)"
   ]
  },
  {
   "cell_type": "code",
   "execution_count": 6,
   "id": "fa3e7d25",
   "metadata": {},
   "outputs": [
    {
     "data": {
      "text/plain": [
       "MLPClassifier(hidden_layer_sizes=6, max_fun=20000, max_iter=800, random_state=3)"
      ]
     },
     "execution_count": 6,
     "metadata": {},
     "output_type": "execute_result"
    }
   ],
   "source": [
    "classificador_mlp.fit(previsores_treino, alvo_treino)"
   ]
  },
  {
   "cell_type": "code",
   "execution_count": 7,
   "id": "22ddebac",
   "metadata": {},
   "outputs": [
    {
     "name": "stdout",
     "output_type": "stream",
     "text": [
      "Acurácia: 86.23%\n"
     ]
    }
   ],
   "source": [
    "previsoes = classificador_mlp.predict(previsores_teste)\n",
    "print('Acurácia: %.2f%%' % (accuracy_score(alvo_teste, previsoes) * 100))"
   ]
  },
  {
   "cell_type": "code",
   "execution_count": 8,
   "id": "cf4501ba",
   "metadata": {},
   "outputs": [
    {
     "data": {
      "text/plain": [
       "array([[ 98,  23],\n",
       "       [ 15, 140]], dtype=int64)"
      ]
     },
     "execution_count": 8,
     "metadata": {},
     "output_type": "execute_result"
    }
   ],
   "source": [
    "confusion_matrix(alvo_teste, previsoes)"
   ]
  },
  {
   "cell_type": "code",
   "execution_count": 9,
   "id": "47bebd74",
   "metadata": {},
   "outputs": [
    {
     "name": "stdout",
     "output_type": "stream",
     "text": [
      "              precision    recall  f1-score   support\n",
      "\n",
      "           0       0.87      0.81      0.84       121\n",
      "           1       0.86      0.90      0.88       155\n",
      "\n",
      "    accuracy                           0.86       276\n",
      "   macro avg       0.86      0.86      0.86       276\n",
      "weighted avg       0.86      0.86      0.86       276\n",
      "\n"
     ]
    }
   ],
   "source": [
    "print(classification_report(alvo_teste, previsoes))"
   ]
  },
  {
   "cell_type": "code",
   "execution_count": 10,
   "id": "3ba9795c",
   "metadata": {},
   "outputs": [
    {
     "name": "stdout",
     "output_type": "stream",
     "text": [
      "Acurácia: 87.36%\n"
     ]
    }
   ],
   "source": [
    "#Verificação de overfitting\n",
    "previsoes_treino = classificador_mlp.predict(previsores_treino)\n",
    "print('Acurácia: %.2f%%' % (accuracy_score(alvo_treino, previsoes_treino) * 100))"
   ]
  },
  {
   "cell_type": "code",
   "execution_count": 11,
   "id": "5e91ac38",
   "metadata": {},
   "outputs": [
    {
     "data": {
      "text/plain": [
       "array([[240,  49],\n",
       "       [ 32, 320]], dtype=int64)"
      ]
     },
     "execution_count": 11,
     "metadata": {},
     "output_type": "execute_result"
    }
   ],
   "source": [
    "confusion_matrix(alvo_treino, previsoes_treino)"
   ]
  },
  {
   "cell_type": "code",
   "execution_count": 12,
   "id": "6351bba8",
   "metadata": {},
   "outputs": [],
   "source": [
    "#Validação Cruzada"
   ]
  },
  {
   "cell_type": "code",
   "execution_count": 13,
   "id": "ad8e5bf2",
   "metadata": {},
   "outputs": [
    {
     "name": "stdout",
     "output_type": "stream",
     "text": [
      "Acurácia Média: 85.18%\n"
     ]
    }
   ],
   "source": [
    "kfold = KFold(n_splits = 30, shuffle = True, random_state = 5)\n",
    "modelo =  MLPClassifier(hidden_layer_sizes = (6), activation = 'relu', solver = 'adam', max_iter = 800,\n",
    "                                 tol=0.0001, random_state = 3, verbose = False, max_fun = 20000)\n",
    "resultado = cross_val_score(modelo, previsores, alvo, cv = kfold)\n",
    "print('Acurácia Média: %.2f%%' % (resultado.mean() * 100))"
   ]
  }
 ],
 "metadata": {
  "kernelspec": {
   "display_name": "Python 3",
   "language": "python",
   "name": "python3"
  },
  "language_info": {
   "codemirror_mode": {
    "name": "ipython",
    "version": 3
   },
   "file_extension": ".py",
   "mimetype": "text/x-python",
   "name": "python",
   "nbconvert_exporter": "python",
   "pygments_lexer": "ipython3",
   "version": "3.8.8"
  }
 },
 "nbformat": 4,
 "nbformat_minor": 5
}
