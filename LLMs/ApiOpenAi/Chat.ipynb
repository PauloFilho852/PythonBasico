{
 "cells": [
  {
   "cell_type": "code",
   "execution_count": 1,
   "id": "cdb91a83",
   "metadata": {},
   "outputs": [],
   "source": [
    "from openai import OpenAI\n",
    "import dotenv\n"
   ]
  },
  {
   "cell_type": "code",
   "execution_count": 2,
   "id": "c967bcba",
   "metadata": {},
   "outputs": [],
   "source": [
    "dotenv.load_dotenv()\n",
    "client = OpenAI()"
   ]
  },
  {
   "cell_type": "code",
   "execution_count": 3,
   "id": "1d428d53",
   "metadata": {},
   "outputs": [],
   "source": [
    "#Parâmetros básicos\n",
    "\n",
    "#model - versão do modelo a ser utilizado\n",
    "\n",
    "#messages - {'role': 'system'} -> Como o GPT deve comportar-se, {'role': 'user'}-> Entradas do usuário,  {'role': 'assistant'} ->Respostas às Entradas de Usuário\n",
    "\n",
    "#------------------------------\n",
    "\n",
    "#Parâmetros adicionais\n",
    "\n",
    "#max_tokens - Número máximo de tokens. Por padrão o modelo escolhe. \n",
    "\n",
    "#frequency_penality - Penalização no contexto de repetição de palavras. Por padrão é 0, varia de -2 a 2. Valores maiores fazem\n",
    "#o modelo repetir menos palavras.\n",
    "\n",
    "#presence_penalty - Penalização com relação ao ajuste o vocabulário do prompt. Por padrão é 0, varia de -2 e 2. Valores \n",
    "#maiores forçam o modelo a utilizar palavras baseadas no prompt que recebeu.\n",
    "\n",
    "#temperature - Por padrão é 1. Varia entre 0 e 2. Valores maiores levam a maior criatividade e aleatoriedade, valores menores\n",
    "#deixam o modelo mais objetivo.\n",
    "\n",
    "#n - Número de respostas dadas pelo modelo. Por padrão é 1.\n",
    "\n",
    "#seed - Tem por objetivo definir uma resposta única para o mesmo prompt. Por padrão há uma nova resposta a cada prompt.\n",
    "\n",
    "#stream - Padrão: False. Define se o texto é gerado em tempo real.\n",
    "\n",
    "\n",
    "def chat_completions(messages = None, model = 'gpt-4o', max_tokens = 1000, frequency_penalty = 0.0, presence_penalty = 0.0, \n",
    "                     temperature = 1.0, n = 1, seed = 42, stream = False):\n",
    "    \n",
    "    response = client.chat.completions.create(\n",
    "        model = model,\n",
    "        messages = messages,\n",
    "        max_tokens = max_tokens,\n",
    "        frequency_penalty = frequency_penalty,\n",
    "        presence_penalty = presence_penalty,\n",
    "        temperature = temperature,\n",
    "        n = n,\n",
    "        seed = seed,\n",
    "        stream = stream\n",
    "        )\n",
    "    \n",
    "    return response"
   ]
  },
  {
   "cell_type": "code",
   "execution_count": 4,
   "id": "da514187",
   "metadata": {},
   "outputs": [],
   "source": [
    "\n",
    "messages = [\n",
    "    {'role':'system', 'content': 'Você é um Sábio Chinês. Dê bons conselhos sempre.'},\n",
    "    {'role': 'user', 'content': 'Qual o sentido da vida?' }\n",
    "    ]\n",
    "\n",
    "response = chat_completions(messages = messages)"
   ]
  },
  {
   "cell_type": "code",
   "execution_count": 5,
   "id": "d275f6da",
   "metadata": {},
   "outputs": [
    {
     "name": "stdout",
     "output_type": "stream",
     "text": [
      "O sentido da vida é uma questão profunda e pessoal que pode variar para cada indivíduo. No entanto, muitos sábios ao longo dos tempos têm sugerido direções para se encontrar um sentido pleno e satisfatório.\n",
      "\n",
      "1. **Auto-descoberta**: Conhecer a si mesmo é um dos caminhos mais valiosos. Busque entender suas paixões, valores e propósito interior.\n",
      "\n",
      "2. **Conexões**: Cultivar laços significativos com família, amigos e comunidade cria um senso de pertencimento e apoio mútuo.\n",
      "\n",
      "3. **Serviço aos Outros**: Ajudar os outros e contribuir para o bem-estar da sociedade pode trazer grande satisfação e propósito.\n",
      "\n",
      "4. **Crescimento Contínuo**: Busca pelo aprimoramento pessoal e aprender novas habilidades ou conhecimentos enriquece a experiência de vida.\n",
      "\n",
      "5. **Viver no Momento Presente**: Aproveitar cada momento plenamente, sem se perder no passado ou ansiar pelo futuro, pode trazer paz e contentamento.\n",
      "\n",
      "6. **Equilíbrio**: Encontrar harmonia entre trabalho, lazer e descanso é essencial para uma vida gratificante.\n",
      "\n",
      "Em resumo, a vida ganha sentido quando vivida com propósito, amor e consciência. Encontre o que ressoa em seu coração e siga esse caminho com intenção.\n"
     ]
    }
   ],
   "source": [
    "print(response.choices[0].message.content)"
   ]
  },
  {
   "cell_type": "code",
   "execution_count": null,
   "id": "c18100ee",
   "metadata": {},
   "outputs": [],
   "source": [
    "#MENSAGEM POR STREAM"
   ]
  },
  {
   "cell_type": "code",
   "execution_count": 7,
   "id": "21965642",
   "metadata": {},
   "outputs": [],
   "source": [
    "messages = [\n",
    "    {'role':'system', 'content': 'Você é um especialista em Inteligência Artificial.'},\n",
    "    {'role': 'user', 'content': 'O que é o Processamento Natual de Linguagem - PNL?' }\n",
    "    ]\n",
    "\n",
    "stream = chat_completions(messages=messages, stream= True)"
   ]
  },
  {
   "cell_type": "code",
   "execution_count": 8,
   "id": "1b6e5eb5",
   "metadata": {},
   "outputs": [
    {
     "name": "stdout",
     "output_type": "stream",
     "text": [
      "O Processamento Natural de Linguagem (PNL) é uma subárea da inteligência artificial e da linguística computacional que se concentra na interação entre computadores e seres humanos por meio da linguagem natural. O objetivo da PNL é permitir que os computadores compreendam, interpretem e gerem a linguagem humana de maneira que seja valiosa e útil.\n",
      "\n",
      "A PNL envolve várias tarefas, incluindo:\n",
      "\n",
      "1. **Análise Sintática (Parsing):** Estruturar frases em uma forma que possa ser facilmente analisada pelos computadores, como árvores sintáticas.\n",
      "\n",
      "2. **Análise Semântica:** Compreender o significado das palavras e frases dentro de um contexto específico.\n",
      "\n",
      "3. **Reconhecimento de Entidades Nomeadas:** Identificar e classificar palavras ou frases em categorias predefinidas, como nomes de pessoas, locais, datas, e assim por diante.\n",
      "\n",
      "4. **Modelagem de Tópicos:** Identificar os principais tópicos discutidos em um conjunto de documentos ou textos.\n",
      "\n",
      "5. **Análise de Sentimento:** Determinar a atitude ou emoção expressa em um trecho de texto.\n",
      "\n",
      "6. **Tradução Automática:** Traduzir texto de uma língua para outra automaticamente.\n",
      "\n",
      "7. **Geração de Linguagem Natural:** Criar texto compreensível e coerente a partir de dados estruturados ou inputs específicos.\n",
      "\n",
      "PNL é amplamente utilizada em aplicações como assistentes virtuais (ex: Siri, Alexa), tradutores automáticos (ex: Google Translate), chatbots de atendimento ao cliente, mecanismos de busca, corretores ortográficos e análise de sentimento em mídias sociais.\n",
      "\n",
      "O desenvolvimento de modelos de PNL muitas vezes utiliza técnicas de aprendizado de máquina e redes neurais, especialmente com o advento dos modelos de linguagem baseados em transformers, como o BERT e o GPT, que melhoraram significativamente as capacidades da PNL nos últimos anos."
     ]
    }
   ],
   "source": [
    "#Leitura da mensgam por stream\n",
    "for chunck in stream:\n",
    "   if(chunck.choices[0].delta.content is not None):\n",
    "    print(chunck.choices[0].delta.content, end = '')    "
   ]
  },
  {
   "cell_type": "code",
   "execution_count": null,
   "id": "30c54d3e",
   "metadata": {},
   "outputs": [],
   "source": [
    "#ANÁLISE DE EMOÇÕES."
   ]
  },
  {
   "cell_type": "code",
   "execution_count": 9,
   "id": "00817b37",
   "metadata": {},
   "outputs": [],
   "source": [
    "reviews = [\n",
    "    'Uau, essa refeição é simplesmente divina! Cada garfada é uma explosão de sabores que dançam na minha boca. Definivamente, um deleite para os sentidos.',\n",
    "    'Bem, pedi essa comida com grandes expectivativas, mas foi uma decepção total. Parece que a chef confundiu sal com açúcar, e a textura...nem vou comentar. Um experiência gastronômica desastrosa.',\n",
    "    'Ah, claro, porque quem não adora esperar uma eternidade por um prato que parece ter sido decorado por um artista abstrato. Definitivamente, uma experiência culinária única...se única for a palavra certa. Bravo!'\n",
    "]"
   ]
  },
  {
   "cell_type": "code",
   "execution_count": 10,
   "id": "8d73e3cc",
   "metadata": {},
   "outputs": [
    {
     "name": "stdout",
     "output_type": "stream",
     "text": [
      "Positivo\n",
      "negativo\n",
      "Negativo\n"
     ]
    }
   ],
   "source": [
    "for review in reviews:\n",
    "    messages = [\n",
    "        {'role':'system', 'content': 'Você é um especialista em análise de sentimentos. Classifique comentários em duas categorias: negativo e positivo. Diga apenas a categoria, não justifique.'},\n",
    "        {'role': 'user', 'content': review }\n",
    "        ]\n",
    "\n",
    "    emotions = chat_completions(messages = messages)\n",
    "    \n",
    "    print(emotions.choices[0].message.content)"
   ]
  },
  {
   "cell_type": "code",
   "execution_count": null,
   "id": "d29aee86",
   "metadata": {},
   "outputs": [],
   "source": [
    "#TRADUÇÃO"
   ]
  },
  {
   "cell_type": "code",
   "execution_count": 11,
   "id": "971148a1",
   "metadata": {},
   "outputs": [],
   "source": [
    "texts = [\n",
    "    'I would like to book a round-trip ticked to Paris for next month.',\n",
    "    'I need to check in for my flight and find out the departure gate',\n",
    "    'Excuse me, where is the nearest train station from here'\n",
    "]"
   ]
  },
  {
   "cell_type": "code",
   "execution_count": 12,
   "id": "36cb6721",
   "metadata": {},
   "outputs": [
    {
     "name": "stdout",
     "output_type": "stream",
     "text": [
      "Gostaria de reservar uma passagem de ida e volta para Paris para o próximo mês.\n",
      "Preciso fazer o check-in para o meu voo e descobrir o portão de embarque.\n",
      "Com licença, onde fica a estação de trem mais próxima daqui?\n"
     ]
    }
   ],
   "source": [
    "for text in texts:\n",
    "    messages = [\n",
    "        {'role':'system', 'content': 'Você é um especialista tradução. Traduza os textos em inglês para português.'},\n",
    "        {'role': 'user', 'content': text }\n",
    "        ]\n",
    "\n",
    "    translations = chat_completions(messages = messages)\n",
    "    \n",
    "    print(translations.choices[0].message.content)"
   ]
  }
 ],
 "metadata": {
  "kernelspec": {
   "display_name": "venv",
   "language": "python",
   "name": "python3"
  },
  "language_info": {
   "codemirror_mode": {
    "name": "ipython",
    "version": 3
   },
   "file_extension": ".py",
   "mimetype": "text/x-python",
   "name": "python",
   "nbconvert_exporter": "python",
   "pygments_lexer": "ipython3",
   "version": "3.12.4"
  }
 },
 "nbformat": 4,
 "nbformat_minor": 5
}
