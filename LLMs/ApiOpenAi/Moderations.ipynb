{
 "cells": [
  {
   "cell_type": "code",
   "execution_count": 1,
   "id": "c8600f13-de51-43f8-96ce-df79edcfe154",
   "metadata": {},
   "outputs": [],
   "source": [
    "from openai import OpenAI\n",
    "import os\n",
    "import dotenv"
   ]
  },
  {
   "cell_type": "code",
   "execution_count": 2,
   "id": "0eed1846-27c0-46ef-bcf3-8e1770f1158e",
   "metadata": {},
   "outputs": [],
   "source": [
    "dotenv.load_dotenv()\n",
    "client = OpenAI()"
   ]
  },
  {
   "cell_type": "code",
   "execution_count": 3,
   "id": "b83f8643-cc40-42cf-8477-d2c937b40f79",
   "metadata": {},
   "outputs": [],
   "source": [
    "#Parâmetros básicos\n",
    "#input - O prompt de entrada\n",
    "\n",
    "#Parâmetro opcional\n",
    "#model - Modelos de moderação. Há duas categorias: 'text-moderation-latest', text-moderation-stable'\n",
    "\n",
    "response = client.moderations.create(input = 'I want to kill them.', model = 'text-moderation-stable')"
   ]
  },
  {
   "cell_type": "code",
   "execution_count": 5,
   "id": "72238db0-9952-4d51-94b7-1e74c6e28398",
   "metadata": {},
   "outputs": [],
   "source": [
    "results = response.results[0].categories"
   ]
  },
  {
   "cell_type": "code",
   "execution_count": 6,
   "id": "2b117f97-191e-41c8-99b1-ea022ec6a4d4",
   "metadata": {},
   "outputs": [
    {
     "name": "stdout",
     "output_type": "stream",
     "text": [
      "harassment\n",
      "harassment_threatening\n",
      "violence\n",
      "harassment/threatening\n"
     ]
    }
   ],
   "source": [
    "for result in results:\n",
    "    if result[1] == True:\n",
    "        print(result[0])"
   ]
  }
 ],
 "metadata": {
  "kernelspec": {
   "display_name": "venv",
   "language": "python",
   "name": "python3"
  },
  "language_info": {
   "codemirror_mode": {
    "name": "ipython",
    "version": 3
   },
   "file_extension": ".py",
   "mimetype": "text/x-python",
   "name": "python",
   "nbconvert_exporter": "python",
   "pygments_lexer": "ipython3",
   "version": "3.12.4"
  }
 },
 "nbformat": 4,
 "nbformat_minor": 5
}
