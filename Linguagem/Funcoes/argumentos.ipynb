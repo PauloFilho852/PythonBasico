{
 "cells": [
  {
   "cell_type": "code",
   "execution_count": 5,
   "id": "649afd27",
   "metadata": {},
   "outputs": [
    {
     "name": "stdout",
     "output_type": "stream",
     "text": [
      "Oi, Paulinho.\n",
      "Oi, Python.\n"
     ]
    }
   ],
   "source": [
    "#Argumentos somente posicionais, não aceitam nomeação\n",
    "\n",
    "#Exemplo de parâmetros que podem ser chamados com argumentos nomeados\n",
    "def function(param):\n",
    "    print(param)\n",
    "    return\n",
    "\n",
    "#Exemplo de parâmetros que não podem ser chamados com argumentos nomeados\n",
    "#A barra indica essa situação (todos os parâmetros antes da barra)\n",
    "def function2(param, /):\n",
    "    print(param)\n",
    "    \n",
    "    \n",
    "function(param = 'Oi, Paulinho.')\n",
    "\n",
    "param = 'Oi, Python.'\n",
    "\n",
    "function2(param) #Argumento somente posicional"
   ]
  },
  {
   "cell_type": "code",
   "execution_count": 12,
   "id": "c3848ca1",
   "metadata": {},
   "outputs": [
    {
     "name": "stdout",
     "output_type": "stream",
     "text": [
      "Paulo\n"
     ]
    }
   ],
   "source": [
    "#Argumentos somente nomeados\n",
    "\n",
    "# os parâmetros a direita do asterisco apenas aceitam argumento nomeados\n",
    "def cumprimentar(*, nome):\n",
    "    print(nome)\n",
    "    \n",
    "cumprimentar(nome = 'Paulo')"
   ]
  },
  {
   "cell_type": "code",
   "execution_count": 13,
   "id": "79db00a9",
   "metadata": {},
   "outputs": [
    {
     "name": "stdout",
     "output_type": "stream",
     "text": [
      "Olá, Paulo. Seja bem-vindo!\n"
     ]
    }
   ],
   "source": [
    "#Parâmetros para argumentos de todos os tipos.\n",
    "\n",
    "def cumprimentar(nome, /, mensagem1 = 'Olá', *, mensagem2):\n",
    "    print (f'{mensagem1}, {nome}. {mensagem2}!')\n",
    "    \n",
    "cumprimentar('Paulo', mensagem2 = 'Seja bem-vindo' )    "
   ]
  }
 ],
 "metadata": {
  "kernelspec": {
   "display_name": "Python 3",
   "language": "python",
   "name": "python3"
  },
  "language_info": {
   "codemirror_mode": {
    "name": "ipython",
    "version": 3
   },
   "file_extension": ".py",
   "mimetype": "text/x-python",
   "name": "python",
   "nbconvert_exporter": "python",
   "pygments_lexer": "ipython3",
   "version": "3.8.8"
  }
 },
 "nbformat": 4,
 "nbformat_minor": 5
}
