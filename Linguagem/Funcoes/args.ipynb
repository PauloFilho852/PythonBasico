{
 "cells": [
  {
   "cell_type": "code",
   "execution_count": 4,
   "id": "69eec8da",
   "metadata": {},
   "outputs": [
    {
     "name": "stdout",
     "output_type": "stream",
     "text": [
      "0\n",
      "36\n"
     ]
    }
   ],
   "source": [
    "#*args recebe os argumentos excedentes e coloca em uma tupla. Não é um argumento obrigatório.\n",
    "def somar(*args):\n",
    "    return sum(args)\n",
    "\n",
    "print(somar())\n",
    "print(somar(1,2,3,4,5,6,7,8))   "
   ]
  },
  {
   "cell_type": "code",
   "execution_count": 5,
   "id": "68d008ab",
   "metadata": {},
   "outputs": [
    {
     "data": {
      "text/plain": [
       "15"
      ]
     },
     "execution_count": 5,
     "metadata": {},
     "output_type": "execute_result"
    }
   ],
   "source": [
    "def somar(nome, email, *args):\n",
    "    return sum(args)\n",
    "\n",
    "somar('paulo', 'paulo@mail.com', 1,2,3,4,5)"
   ]
  },
  {
   "cell_type": "code",
   "execution_count": 6,
   "id": "c187ae08",
   "metadata": {},
   "outputs": [
    {
     "data": {
      "text/plain": [
       "15"
      ]
     },
     "execution_count": 6,
     "metadata": {},
     "output_type": "execute_result"
    }
   ],
   "source": [
    "def somar(*args): #Empacota os argumentos em uma tupla.\n",
    "    return sum(args)\n",
    "\n",
    "numeros = [1,2,3,4,5]\n",
    "\n",
    "#*numeros: desenpacota a lista e passa 5 argumentos.\n",
    "somar(*numeros)"
   ]
  }
 ],
 "metadata": {
  "kernelspec": {
   "display_name": "Python 3",
   "language": "python",
   "name": "python3"
  },
  "language_info": {
   "codemirror_mode": {
    "name": "ipython",
    "version": 3
   },
   "file_extension": ".py",
   "mimetype": "text/x-python",
   "name": "python",
   "nbconvert_exporter": "python",
   "pygments_lexer": "ipython3",
   "version": "3.8.8"
  }
 },
 "nbformat": 4,
 "nbformat_minor": 5
}
