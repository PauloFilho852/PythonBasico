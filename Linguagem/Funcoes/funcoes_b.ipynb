{
 "cells": [
  {
   "cell_type": "code",
   "execution_count": 2,
   "id": "2f74ba32",
   "metadata": {},
   "outputs": [],
   "source": [
    " #Função sem retorno\n",
    "def print_msg_hello():    \n",
    "    print('Olá, funções!')\n",
    "    \n",
    "print_msg_hello()"
   ]
  },
  {
   "cell_type": "code",
   "execution_count": 6,
   "id": "ab637fc8",
   "metadata": {},
   "outputs": [],
   "source": [
    "#Função sem retorno com parâmetro\n",
    "def print_text(text): \n",
    "    print(text)"
   ]
  },
  {
   "cell_type": "code",
   "execution_count": 1,
   "id": "6bd85afe",
   "metadata": {},
   "outputs": [],
   "source": [
    "#Função com retorno e com parâmetro\n",
    "def pow(x): \n",
    "    p = x ** 2\n",
    "    return p"
   ]
  }
 ],
 "metadata": {
  "kernelspec": {
   "display_name": "Python 3",
   "language": "python",
   "name": "python3"
  },
  "language_info": {
   "codemirror_mode": {
    "name": "ipython",
    "version": 3
   },
   "file_extension": ".py",
   "mimetype": "text/x-python",
   "name": "python",
   "nbconvert_exporter": "python",
   "pygments_lexer": "ipython3",
   "version": "3.12.4"
  }
 },
 "nbformat": 4,
 "nbformat_minor": 5
}
