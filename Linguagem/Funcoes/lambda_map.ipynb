{
 "cells": [
  {
   "cell_type": "code",
   "execution_count": 6,
   "id": "15a36805",
   "metadata": {},
   "outputs": [
    {
     "name": "stdout",
     "output_type": "stream",
     "text": [
      "olá\n"
     ]
    }
   ],
   "source": [
    "function = lambda:print('olá') #Sem parâmentro e sem retorno\n",
    "function()"
   ]
  },
  {
   "cell_type": "code",
   "execution_count": 7,
   "id": "6adcc257",
   "metadata": {},
   "outputs": [
    {
     "name": "stdout",
     "output_type": "stream",
     "text": [
      "4\n"
     ]
    }
   ],
   "source": [
    "function2 = lambda x,y: x * y # recebe x e y e retorna x * y\n",
    "function2(2,2)"
   ]
  },
  {
   "cell_type": "code",
   "execution_count": 8,
   "id": "a1b591e4",
   "metadata": {},
   "outputs": [
    {
     "data": {
      "text/plain": [
       "[16, 25, 36, 49, 121, 81, 100]"
      ]
     },
     "execution_count": 8,
     "metadata": {},
     "output_type": "execute_result"
    }
   ],
   "source": [
    "lista = [4,5,6,7,11,9,10]\n",
    "areas = list(map(lambda x: x**2, lista))\n",
    "areas"
   ]
  },
  {
   "cell_type": "code",
   "execution_count": 2,
   "id": "5488a0dc",
   "metadata": {},
   "outputs": [
    {
     "name": "stdout",
     "output_type": "stream",
     "text": [
      "['Douglas Adams', 'Isaac Asymov', 'Leigh Brackett', 'Ray Bradbury', 'Orson Scott Card', 'Arthur C. Clarke', 'Robert Heinlen', 'Frank Herbert', 'H G Wells']\n"
     ]
    }
   ],
   "source": [
    "autores = ['Isaac Asymov', 'Ray Bradbury', 'Robert Heinlen', 'Arthur C. Clarke', 'Frank Herbert', 'Orson Scott Card', \n",
    "           'Douglas Adams', 'H G Wells', 'Leigh Brackett']\n",
    "\n",
    "\n",
    "autores.sort(key = lambda sobrenome: sobrenome.split(' ')[-1].lower())\n",
    "\n",
    "print(autores)"
   ]
  },
  {
   "cell_type": "code",
   "execution_count": 6,
   "id": "133b6db8",
   "metadata": {},
   "outputs": [
    {
     "name": "stdout",
     "output_type": "stream",
     "text": [
      "6\n",
      "11\n",
      "18\n"
     ]
    }
   ],
   "source": [
    "def retorna_lambda(a, b, c):\n",
    "    return lambda x: a * x ** 2 + b * x + c\n",
    "\n",
    "_lambda = retorna_lambda(1,2,3)\n",
    "\n",
    "print(_lambda(1))\n",
    "print(_lambda(2))\n",
    "print(retorna_lambda(2, 3, 4)(2))"
   ]
  }
 ],
 "metadata": {
  "kernelspec": {
   "display_name": "Python 3",
   "language": "python",
   "name": "python3"
  },
  "language_info": {
   "codemirror_mode": {
    "name": "ipython",
    "version": 3
   },
   "file_extension": ".py",
   "mimetype": "text/x-python",
   "name": "python",
   "nbconvert_exporter": "python",
   "pygments_lexer": "ipython3",
   "version": "3.12.4"
  }
 },
 "nbformat": 4,
 "nbformat_minor": 5
}
