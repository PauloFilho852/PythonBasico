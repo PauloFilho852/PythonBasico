{
 "cells": [
  {
   "cell_type": "code",
   "execution_count": 2,
   "id": "c6c68edf",
   "metadata": {},
   "outputs": [
    {
     "name": "stdout",
     "output_type": "stream",
     "text": [
      "4294967296\n"
     ]
    }
   ],
   "source": [
    "def pow(x, y):\n",
    "    return x ** y\n",
    "\n",
    "#ARGUMENTOS NOMEADOS (keyword arguments) permitem a troca de ordem dos argumentos,\n",
    "resultado = pow(y = 32, x = 2)\n",
    "print(resultado)"
   ]
  },
  {
   "cell_type": "code",
   "execution_count": null,
   "id": "25e984e2",
   "metadata": {},
   "outputs": [],
   "source": []
  },
  {
   "cell_type": "code",
   "execution_count": 24,
   "id": "ff120144",
   "metadata": {},
   "outputs": [
    {
     "name": "stdout",
     "output_type": "stream",
     "text": [
      "8\n",
      "8\n",
      "8\n",
      "8\n"
     ]
    }
   ],
   "source": [
    "#PARÂMETRO PADRÃO (devem vir ao fim da lista de parâmetros)\n",
    "def pow(x = 2, y = 3):\n",
    "    return x ** y\n",
    "\n",
    "resultado = pow()\n",
    "print(resultado)\n",
    "resultado = pow(y = 3, x = 2)\n",
    "print(resultado)\n",
    "resultado = pow(2,3)\n",
    "print(resultado)\n",
    "resultado = pow(2, y = 3)\n",
    "print(resultado)"
   ]
  },
  {
   "cell_type": "code",
   "execution_count": 15,
   "id": "c3a23df9",
   "metadata": {},
   "outputs": [
    {
     "data": {
      "text/plain": [
       "2"
      ]
     },
     "execution_count": 15,
     "metadata": {},
     "output_type": "execute_result"
    }
   ],
   "source": [
    "#INFORMANDO O ESCOPO (variáveis global e local com mesmo nome)\n",
    "total = 1\n",
    "\n",
    "def funcao():\n",
    "    #global total: quer dizer que a variável 'total' se refere ao escopo global (evita ambiguidade e obtenção de erro)\n",
    "    #Inicializar a variável dentro do escopo local também evitaria o erro: total = 0\n",
    "    global total \n",
    "    total = total + 1\n",
    "    return total\n",
    "\n",
    "funcao()"
   ]
  },
  {
   "cell_type": "code",
   "execution_count": 25,
   "id": "ded834e0",
   "metadata": {},
   "outputs": [
    {
     "name": "stdout",
     "output_type": "stream",
     "text": [
      "1\n"
     ]
    }
   ],
   "source": [
    "#FUNÇÃO DENTRO DE FUNÇÃO\n",
    "\n",
    "def fora():\n",
    "    contador = 0;\n",
    "    def dentro():\n",
    "        nonlocal contador # informa que a variável 'contador' é da função de fora.\n",
    "        contador = contador + 1\n",
    "        return contador\n",
    "    return dentro()\n",
    "\n",
    "print(fora())        "
   ]
  },
  {
   "cell_type": "code",
   "execution_count": 2,
   "id": "dedbd303",
   "metadata": {},
   "outputs": [
    {
     "name": "stdout",
     "output_type": "stream",
     "text": [
      "6\n"
     ]
    }
   ],
   "source": [
    "#DESENPACOTAMENTO DE ENUMERAVEIS\n",
    "def soma(a, b, c):\n",
    "    print(a + b +c)\n",
    "\n",
    "lista = [1, 2,3]\n",
    "\n",
    "#Desenpacota a lista\n",
    "soma(*lista)"
   ]
  }
 ],
 "metadata": {
  "kernelspec": {
   "display_name": "Python 3",
   "language": "python",
   "name": "python3"
  },
  "language_info": {
   "codemirror_mode": {
    "name": "ipython",
    "version": 3
   },
   "file_extension": ".py",
   "mimetype": "text/x-python",
   "name": "python",
   "nbconvert_exporter": "python",
   "pygments_lexer": "ipython3",
   "version": "3.12.4"
  }
 },
 "nbformat": 4,
 "nbformat_minor": 5
}
