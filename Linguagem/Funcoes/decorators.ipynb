{
 "cells": [
  {
   "cell_type": "code",
   "execution_count": 44,
   "id": "b5d936e7",
   "metadata": {},
   "outputs": [
    {
     "name": "stdout",
     "output_type": "stream",
     "text": [
      "Bom dia, Paulinho!\n",
      "Você está aprendendo Python.\n",
      "Atenciosamente, eu.\n"
     ]
    }
   ],
   "source": [
    "#'Decorando' uma função.\n",
    "\n",
    "def saudacao(mensagem):\n",
    "    def msg_completa():\n",
    "        print('Bom dia, Paulinho!')\n",
    "        mensagem()\n",
    "        print('Atenciosamente, eu.')\n",
    "    \n",
    "    return msg_completa #Retorna a função msg_completa.\n",
    "\n",
    "def mensagem():\n",
    "    print('Você está aprendendo Python.')\n",
    "\n",
    "#Decorando a função mensagem.\n",
    "msg = saudacao(mensagem)\n",
    "\n",
    "msg()"
   ]
  },
  {
   "cell_type": "code",
   "execution_count": 40,
   "id": "4160230e",
   "metadata": {},
   "outputs": [
    {
     "name": "stdout",
     "output_type": "stream",
     "text": [
      "Bom dia, Paulinho!\n",
      "Você está aprendendo Python.\n",
      "Atenciosamente, eu.\n"
     ]
    }
   ],
   "source": [
    "#Decorators (sintax sugar).\n",
    "\n",
    "def saudacao(mensagem):\n",
    "    def msg_completa():\n",
    "        print('Bom dia, Paulinho!')\n",
    "        mensagem()\n",
    "        print('Atenciosamente, eu.')\n",
    "    \n",
    "    return msg_completa\n",
    "\n",
    "#Usando o decorator\n",
    "@saudacao\n",
    "def mensagem():\n",
    "    print('Você está aprendendo Python.')\n",
    "    return\n",
    "\n",
    "mensagem() #A função saudacao é chamada e usa como argumeno a função mensagem. saudacao retorna msg_copleta"
   ]
  },
  {
   "cell_type": "code",
   "execution_count": 1,
   "id": "912105a2",
   "metadata": {},
   "outputs": [
    {
     "data": {
      "text/plain": [
       "'PAULO'"
      ]
     },
     "execution_count": 1,
     "metadata": {},
     "output_type": "execute_result"
    }
   ],
   "source": [
    "def to_upper(word):\n",
    "    def convert(content): #content é o argumento da função word.\n",
    "        return word(content).upper()\n",
    "    \n",
    "    return convert\n",
    "\n",
    "@to_upper #Usando o decorator \n",
    "def word(content):\n",
    "    return content\n",
    "\n",
    "word('Paulo') #A função to_upper é chamada e usa como argumeno a função word. to_upper retorna convert."
   ]
  },
  {
   "cell_type": "code",
   "execution_count": 45,
   "id": "aea28dfa",
   "metadata": {},
   "outputs": [
    {
     "name": "stdout",
     "output_type": "stream",
     "text": [
      "PAULO\n",
      "PAULO CARVALHO\n"
     ]
    }
   ],
   "source": [
    "def to_upper(word):\n",
    "    def convert(*args): #argumentos da função word em uma tupla.\n",
    "        return word(*args).upper() #chama a função word desenpacotando a tupla args.   \n",
    "    return convert\n",
    "\n",
    "@to_upper\n",
    "def word(*content):    \n",
    "    return ' '.join(content)\n",
    "\n",
    "w = word('Paulo')\n",
    "print(w)\n",
    "\n",
    "w = word('Paulo', 'Carvalho')\n",
    "print(w)"
   ]
  },
  {
   "cell_type": "code",
   "execution_count": 23,
   "id": "0a150f2b",
   "metadata": {},
   "outputs": [
    {
     "name": "stdout",
     "output_type": "stream",
     "text": [
      "100\n",
      "Primeiro valor incorreto\n"
     ]
    }
   ],
   "source": [
    "#Decorator com valor\n",
    "\n",
    "def receber_valor(valor): #Recebe o valor que está no decorator.\n",
    "    def receber_funcao(funcao): #Recebe a função. \n",
    "        def receber_argumentos(*args): #Recebe os argumentos em um tupla.\n",
    "            if args and args[0] == valor: #Verifica se o primero valor é igual ao que está no decorator.\n",
    "                return funcao(*args) #Chamada da função desenpacotando a tupla.\n",
    "            return 'Primeiro valor incorreto'\n",
    "        \n",
    "        return receber_argumentos\n",
    "    \n",
    "    return receber_funcao\n",
    "    \n",
    "\n",
    "@receber_valor(10) #Usando decorator com valor.\n",
    "def funcao(*args):\n",
    "    return sum(args)\n",
    "\n",
    "valor = funcao(10,20,30,40)\n",
    "print(valor)\n",
    "\n",
    "valor = funcao(20, 30, 40, 50)\n",
    "print(valor)"
   ]
  },
  {
   "cell_type": "code",
   "execution_count": 46,
   "id": "4c0ed4fe",
   "metadata": {},
   "outputs": [
    {
     "name": "stdout",
     "output_type": "stream",
     "text": [
      "20\n",
      "somar\n",
      "Soma dois números.\n"
     ]
    }
   ],
   "source": [
    "from functools import wraps\n",
    "\n",
    "def decorar(funcao):\n",
    "    @wraps(funcao) #Mantém a documentação de somar **.\n",
    "    def operar(*args):\n",
    "        \"\"\"Eu sou a função operar dentro de decorar\"\"\"\n",
    "        return funcao(*args)   \n",
    "    return operar\n",
    "\n",
    "@decorar\n",
    "def somar(*args):\n",
    "    \"\"\"Soma dois números.\"\"\"\n",
    "    return sum(args)\n",
    "\n",
    "\n",
    "#Ao se chamar somar, chama-se operar, que é o retorno decorar.\n",
    "print(somar(10,10))\n",
    "print(somar.__name__) #wraps mantém a documentação de somar **\n",
    "print(somar.__doc__) #wraps mantém a documentação de somar **"
   ]
  },
  {
   "cell_type": "code",
   "execution_count": 35,
   "id": "a431aa19",
   "metadata": {},
   "outputs": [
    {
     "name": "stdout",
     "output_type": "stream",
     "text": [
      "Paulo\n",
      "Paulo\n",
      "Paulo\n",
      "Paulo\n",
      "Paulo\n"
     ]
    }
   ],
   "source": [
    "#Decorators com tipos\n",
    "\n",
    "def receber_tipos(*tipos):\n",
    "    def receber_funcao(funcao):\n",
    "        def receber_argumentos(*args):\n",
    "            novo_args = []\n",
    "            for (arg, tipo) in zip(args, tipos):\n",
    "                novo_args.append(tipo(arg)) #Convertento cada argumento para um tipo.              \n",
    "            return funcao(*novo_args)\n",
    "        \n",
    "        return receber_argumentos\n",
    "    \n",
    "    return receber_funcao\n",
    "\n",
    "@receber_tipos(str, int)\n",
    "def repetir_msg(msg, times):\n",
    "    for i in range(times):\n",
    "        print(msg)\n",
    "\n",
    "repetir_msg('Paulo', '5')"
   ]
  }
 ],
 "metadata": {
  "kernelspec": {
   "display_name": "Python 3",
   "language": "python",
   "name": "python3"
  },
  "language_info": {
   "codemirror_mode": {
    "name": "ipython",
    "version": 3
   },
   "file_extension": ".py",
   "mimetype": "text/x-python",
   "name": "python",
   "nbconvert_exporter": "python",
   "pygments_lexer": "ipython3",
   "version": "3.12.4"
  }
 },
 "nbformat": 4,
 "nbformat_minor": 5
}
