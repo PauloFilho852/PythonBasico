{
 "cells": [
  {
   "cell_type": "code",
   "execution_count": 5,
   "metadata": {},
   "outputs": [
    {
     "name": "stdout",
     "output_type": "stream",
     "text": [
      "A cor favorita de marcos é verde.\n",
      "A cor favorita de julia é amarelo.\n",
      "A cor favorita de fernanda é azul.\n",
      "A cor favorita de vanessa é branco.\n"
     ]
    }
   ],
   "source": [
    "#**kwargs coloca valores extras em um dicionário. Exige argumentos nomeados.\n",
    "#Não é obrigatório.\n",
    "\n",
    "def cores_favoritas(**kwargs):\n",
    "    for pessoa, cor in kwargs.items():\n",
    "        print(f'A cor favorita de {pessoa} é {cor}.')\n",
    "\n",
    "\n",
    "cores_favoritas(marcos = 'verde', julia = 'amarelo', fernanda = 'azul', vanessa = 'branco')"
   ]
  },
  {
   "cell_type": "code",
   "execution_count": null,
   "metadata": {},
   "outputs": [],
   "source": [
    "\"\"\"\n",
    "Ordem dos parâmetros\n",
    "1 - Parâmetros obrigatórios\n",
    "2 - *args\n",
    "3 - Parametros com valor default\n",
    "3 - **kwargs\n",
    "\"\"\" "
   ]
  },
  {
   "cell_type": "code",
   "execution_count": 6,
   "metadata": {},
   "outputs": [
    {
     "name": "stdout",
     "output_type": "stream",
     "text": [
      "Paulo Filho.\n"
     ]
    }
   ],
   "source": [
    "def mostra_nome(**kwargs):\n",
    "    return f\"{kwargs['nome']} {kwargs['sobrenome']}.\"\n",
    "\n",
    "nome = {'nome': 'Paulo', 'sobrenome': 'Filho'}\n",
    "\n",
    "\n",
    "#Desenpacota o dicionário nome\n",
    "print(mostra_nome(**nome))"
   ]
  },
  {
   "cell_type": "code",
   "execution_count": 7,
   "metadata": {},
   "outputs": [
    {
     "name": "stdout",
     "output_type": "stream",
     "text": [
      "6\n"
     ]
    }
   ],
   "source": [
    "def soma(a, b, c):\n",
    "    print(a + b + c)\n",
    "\n",
    "dicionario = dict(a = 1, b = 2, c = 3)\n",
    "\n",
    "#Desenpacotamento do dicionário, para usar os valores como argumento.\n",
    "#os nomes das chaves deve ser os mesmos dos parâmetros.\n",
    "soma(**dicionario)"
   ]
  }
 ],
 "metadata": {
  "kernelspec": {
   "display_name": "Python 3",
   "language": "python",
   "name": "python3"
  },
  "language_info": {
   "codemirror_mode": {
    "name": "ipython",
    "version": 3
   },
   "file_extension": ".py",
   "mimetype": "text/x-python",
   "name": "python",
   "nbconvert_exporter": "python",
   "pygments_lexer": "ipython3",
   "version": "3.12.4"
  }
 },
 "nbformat": 4,
 "nbformat_minor": 2
}
