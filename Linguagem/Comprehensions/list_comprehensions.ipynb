{
 "cells": [
  {
   "cell_type": "code",
   "execution_count": 15,
   "id": "bfbdb734",
   "metadata": {},
   "outputs": [
    {
     "data": {
      "text/plain": [
       "[10, 11, 12, 13, 14]"
      ]
     },
     "execution_count": 15,
     "metadata": {},
     "output_type": "execute_result"
    }
   ],
   "source": [
    "lista = [valor + 10 for valor in range(5)] # para cada valor na faixa de 0 a 4, som-se 10 e forma-se a lista.\n",
    "lista"
   ]
  },
  {
   "cell_type": "code",
   "execution_count": 14,
   "id": "40012d78",
   "metadata": {},
   "outputs": [
    {
     "data": {
      "text/plain": [
       "[0, 4, 8, 12, 16, 20, 24, 28]"
      ]
     },
     "execution_count": 14,
     "metadata": {},
     "output_type": "execute_result"
    }
   ],
   "source": [
    "list_multiplos_de_4 = [numero for numero in range(30) if numero % 4 == 0] #múltiplos de 4.\n",
    "list_multiplos_de_4"
   ]
  },
  {
   "cell_type": "code",
   "execution_count": 12,
   "id": "b4577ad0",
   "metadata": {},
   "outputs": [
    {
     "data": {
      "text/plain": [
       "['vermelha', 'azul', 'azul', 'azul', 'azul', 'azul']"
      ]
     },
     "execution_count": 12,
     "metadata": {},
     "output_type": "execute_result"
    }
   ],
   "source": [
    "conceito = ['azul' if nota>=6 else 'vermelha' for nota in range(1,11) if nota > 4]\n",
    "conceito"
   ]
  },
  {
   "cell_type": "code",
   "execution_count": 11,
   "id": "d8e24268",
   "metadata": {},
   "outputs": [
    {
     "data": {
      "text/plain": [
       "[100, 400, 900, 1600]"
      ]
     },
     "execution_count": 11,
     "metadata": {},
     "output_type": "execute_result"
    }
   ],
   "source": [
    "lista_fonte = [10, 20, 30, 40]\n",
    "\n",
    "def processar(valor):\n",
    "   return valor * valor\n",
    "\n",
    "lista = [processar(valor) for valor in lista_fonte]\n",
    "lista"
   ]
  },
  {
   "cell_type": "code",
   "execution_count": 10,
   "id": "9520564e",
   "metadata": {},
   "outputs": [
    {
     "name": "stdout",
     "output_type": "stream",
     "text": [
      "['P', 'A', 'U', 'L', 'O', ' ', 'C', 'A', 'R', 'V', 'A', 'L', 'H', 'O', ' ', 'D', 'E', ' ', 'M', 'E', 'D', 'E', 'I', 'R', 'O', 'S', ' ', 'F', 'I', 'L', 'H', 'O']\n"
     ]
    }
   ],
   "source": [
    "nome = \"paulo carvalho de medeiros filho\"\n",
    "\n",
    "print([letra.upper() for letra in nome])"
   ]
  },
  {
   "cell_type": "code",
   "execution_count": 9,
   "id": "006bf472",
   "metadata": {},
   "outputs": [
    {
     "name": "stdout",
     "output_type": "stream",
     "text": [
      "['Paulo', 'Carvalho', 'de', 'Medeiros', 'Filho']\n"
     ]
    }
   ],
   "source": [
    "nome_completo = ['paulo', 'carvalho', 'de', 'medeiros', 'filho']\n",
    "\n",
    "print([nome.capitalize() if nome != 'de' else nome for nome in nome_completo] )"
   ]
  },
  {
   "cell_type": "code",
   "execution_count": 4,
   "id": "71d5b6cd",
   "metadata": {},
   "outputs": [
    {
     "name": "stdout",
     "output_type": "stream",
     "text": [
      "[[1, 2, 3], [1, 2, 3], [1, 2, 3]]\n"
     ]
    }
   ],
   "source": [
    "#Aninhamento de 'fors'\n",
    "tabuleiro = [[numero for numero in range(1,4)] for val in range(1,4)]\n",
    "print(tabuleiro)"
   ]
  },
  {
   "cell_type": "code",
   "execution_count": 26,
   "id": "4d543496",
   "metadata": {},
   "outputs": [
    {
     "name": "stdout",
     "output_type": "stream",
     "text": [
      "[[2, 4, 6], [8, 10, 12], [14, 16, 18]]\n"
     ]
    }
   ],
   "source": [
    "\n",
    "listas = [[1, 2, 3], [4, 5, 6], [7, 8, 9]]\n",
    "result = [[value * 2 for value in lista ] for lista in listas]\n",
    "\n",
    "print(result)"
   ]
  }
 ],
 "metadata": {
  "kernelspec": {
   "display_name": "Python 3",
   "language": "python",
   "name": "python3"
  },
  "language_info": {
   "codemirror_mode": {
    "name": "ipython",
    "version": 3
   },
   "file_extension": ".py",
   "mimetype": "text/x-python",
   "name": "python",
   "nbconvert_exporter": "python",
   "pygments_lexer": "ipython3",
   "version": "3.12.4"
  }
 },
 "nbformat": 4,
 "nbformat_minor": 5
}
