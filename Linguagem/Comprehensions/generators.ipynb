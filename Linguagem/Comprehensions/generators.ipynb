{
 "cells": [
  {
   "cell_type": "code",
   "execution_count": 8,
   "id": "8f60650b",
   "metadata": {},
   "outputs": [],
   "source": [
    "#from sys import getsizeof"
   ]
  },
  {
   "cell_type": "code",
   "execution_count": 2,
   "id": "065fccf9",
   "metadata": {},
   "outputs": [
    {
     "name": "stdout",
     "output_type": "stream",
     "text": [
      "<generator object <genexpr> at 0x000001D18BBBCEE0>\n",
      "True\n",
      "(True, True, True, True, False)\n",
      "()\n"
     ]
    }
   ],
   "source": [
    "nomes =  ['Carlos', 'Camila', 'Carla', 'Cassiano', 'Cristina', 'Vanessa']\n",
    "\n",
    "generator = (nome[0] == 'C' for nome in nomes)\n",
    "\n",
    "#O objeto somente é armazenado em memória na hora do uso\n",
    "print(generator)\n",
    "\n",
    "#tuple faz gerar todos elementos \n",
    "print(tuple(generator))\n",
    "\n",
    "#Não há mais elemento para gerar\n",
    "print(tuple(generator))"
   ]
  }
 ],
 "metadata": {
  "kernelspec": {
   "display_name": "Python 3",
   "language": "python",
   "name": "python3"
  },
  "language_info": {
   "codemirror_mode": {
    "name": "ipython",
    "version": 3
   },
   "file_extension": ".py",
   "mimetype": "text/x-python",
   "name": "python",
   "nbconvert_exporter": "python",
   "pygments_lexer": "ipython3",
   "version": "3.12.4"
  }
 },
 "nbformat": 4,
 "nbformat_minor": 5
}
