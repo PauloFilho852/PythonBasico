{
 "cells": [
  {
   "cell_type": "code",
   "execution_count": 1,
   "id": "331d4fc6",
   "metadata": {},
   "outputs": [],
   "source": [
    "from functools import reduce"
   ]
  },
  {
   "cell_type": "code",
   "execution_count": 2,
   "id": "db312137",
   "metadata": {},
   "outputs": [
    {
     "name": "stdout",
     "output_type": "stream",
     "text": [
      "120\n"
     ]
    }
   ],
   "source": [
    "dados = [2, 3, 4, 5]\n",
    "\n",
    "#primeira iteração: multiplica os dois primeiros elementos do iterável.\n",
    "#Outras iterações: multiplica o resultado anterior com o próximo elemento\n",
    "resultado = reduce(lambda x, y: x * y, dados)\n",
    "\n",
    "print(resultado)"
   ]
  }
 ],
 "metadata": {
  "kernelspec": {
   "display_name": "Python 3",
   "language": "python",
   "name": "python3"
  },
  "language_info": {
   "codemirror_mode": {
    "name": "ipython",
    "version": 3
   },
   "file_extension": ".py",
   "mimetype": "text/x-python",
   "name": "python",
   "nbconvert_exporter": "python",
   "pygments_lexer": "ipython3",
   "version": "3.12.4"
  }
 },
 "nbformat": 4,
 "nbformat_minor": 5
}
