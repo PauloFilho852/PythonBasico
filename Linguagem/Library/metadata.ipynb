{
 "cells": [
  {
   "cell_type": "code",
   "execution_count": 10,
   "metadata": {},
   "outputs": [
    {
     "name": "stdout",
     "output_type": "stream",
     "text": [
      "'pip vesrion: 24.2\n",
      "____________________\n",
      "24.2\n",
      "____________________\n",
      "['Metadata-Version', 'Name', 'Version', 'Summary', 'Author-email', 'License', 'Project-URL', 'Project-URL', 'Project-URL', 'Project-URL', 'Classifier', 'Classifier', 'Classifier', 'Classifier', 'Classifier', 'Classifier', 'Classifier', 'Classifier', 'Classifier', 'Classifier', 'Classifier', 'Classifier', 'Classifier', 'Classifier', 'Requires-Python', 'Description-Content-Type', 'License-File', 'License-File', 'Description']\n",
      "____________________\n",
      "853\n"
     ]
    }
   ],
   "source": [
    "from importlib import metadata\n",
    "\n",
    "#Vesrsão do pip instalada\n",
    "print(f\"'pip vesrion: {metadata.version('pip')}\")\n",
    "\n",
    "#Metadados do pip no pacote metadada\n",
    "metadados_pip = metadata.metadata('pip')\n",
    "\n",
    "##Vesrsão do pip instalada\n",
    "print('_' * 20)\n",
    "print(metadados_pip['Version'])\n",
    "\n",
    "print('_' * 20)\n",
    "print(list(metadados_pip))\n",
    "\n",
    "print('_' * 20)\n",
    "print(len(metadata.files('pip')))"
   ]
  }
 ],
 "metadata": {
  "kernelspec": {
   "display_name": "Python 3",
   "language": "python",
   "name": "python3"
  },
  "language_info": {
   "codemirror_mode": {
    "name": "ipython",
    "version": 3
   },
   "file_extension": ".py",
   "mimetype": "text/x-python",
   "name": "python",
   "nbconvert_exporter": "python",
   "pygments_lexer": "ipython3",
   "version": "3.12.4"
  }
 },
 "nbformat": 4,
 "nbformat_minor": 2
}
