{
 "cells": [
  {
   "cell_type": "code",
   "execution_count": 6,
   "id": "652b3bfc",
   "metadata": {},
   "outputs": [
    {
     "name": "stdout",
     "output_type": "stream",
     "text": [
      "0.32450238813285803\n",
      "0.8476954955726189\n",
      "0.9139603236163482\n",
      "0.5338481098582427\n",
      "0.40703380645551446\n",
      "0.9049693003195995\n",
      "0.5439644137142032\n",
      "0.457956675759414\n",
      "0.8792292760769391\n",
      "0.5093479219429403\n"
     ]
    }
   ],
   "source": [
    "from random import random\n",
    "for i in range(10):\n",
    "    print(random()) #Número real entre 0 e 1"
   ]
  },
  {
   "cell_type": "code",
   "execution_count": 5,
   "id": "0eae8abc",
   "metadata": {},
   "outputs": [
    {
     "name": "stdout",
     "output_type": "stream",
     "text": [
      "5.914992543289735\n",
      "3.995512154124555\n",
      "5.235873163569189\n",
      "4.492512658838768\n",
      "3.854539215971037\n",
      "5.011307646967216\n",
      "6.2229386824685005\n",
      "6.439699684779909\n",
      "3.123795825388691\n",
      "4.64317244186503\n"
     ]
    }
   ],
   "source": [
    "from random import uniform\n",
    "for i in range(10):\n",
    "    print(uniform(3, 7)) #Gera um número real no intervalo especificado."
   ]
  },
  {
   "cell_type": "code",
   "execution_count": 10,
   "id": "9724ec5a",
   "metadata": {},
   "outputs": [
    {
     "name": "stdout",
     "output_type": "stream",
     "text": [
      "18,39,33,48,48,54,"
     ]
    }
   ],
   "source": [
    "from random import randint\n",
    "for i in range(6):\n",
    "    print(randint(1,60), end=',')#Gera números inteiros no intervalo especificado\n",
    "    "
   ]
  },
  {
   "cell_type": "code",
   "execution_count": 24,
   "id": "b80a7226",
   "metadata": {},
   "outputs": [
    {
     "name": "stdout",
     "output_type": "stream",
     "text": [
      "tesoura\n"
     ]
    }
   ],
   "source": [
    "from random import choice\n",
    "\n",
    "jogadas = ['pedra', 'papel', 'tesoura']\n",
    "\n",
    "print(choice(jogadas)) #Seleciona um item aleatório do iterável"
   ]
  },
  {
   "cell_type": "code",
   "execution_count": 26,
   "id": "4856f717",
   "metadata": {},
   "outputs": [
    {
     "name": "stdout",
     "output_type": "stream",
     "text": [
      "['K', 'Q', 'A', 'J', '2', '3', '4', '5', '6', '7']\n",
      "['K', '6', 'Q', '7', '3', 'J', '2', '4', '5', 'A']\n"
     ]
    }
   ],
   "source": [
    "from random import shuffle\n",
    "\n",
    "cartas = ['K', 'Q', 'A', 'J', '2', '3', '4', '5', '6', '7']\n",
    "\n",
    "print(cartas) #Ordem de criação\n",
    "\n",
    "shuffle(cartas) #Pões os elementos em ordem aleatória\n",
    "\n",
    "print(cartas)"
   ]
  }
 ],
 "metadata": {
  "kernelspec": {
   "display_name": "Python 3",
   "language": "python",
   "name": "python3"
  },
  "language_info": {
   "codemirror_mode": {
    "name": "ipython",
    "version": 3
   },
   "file_extension": ".py",
   "mimetype": "text/x-python",
   "name": "python",
   "nbconvert_exporter": "python",
   "pygments_lexer": "ipython3",
   "version": "3.8.8"
  }
 },
 "nbformat": 4,
 "nbformat_minor": 5
}
