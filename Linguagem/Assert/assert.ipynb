{
 "cells": [
  {
   "cell_type": "code",
   "execution_count": 1,
   "metadata": {},
   "outputs": [
    {
     "name": "stdout",
     "output_type": "stream",
     "text": [
      "A validação precisa ser verdeira.\n",
      "True\n"
     ]
    }
   ],
   "source": [
    "def function(validacao):\n",
    "    #Caso a expressão com assert ser false, será lançado um erro\n",
    "    assert validacao == True, \"A validação precisa ser verdeira.\"\n",
    "\n",
    "    return validacao\n",
    "\n",
    "try:\n",
    "    print(function(False))\n",
    "except AssertionError as err:\n",
    "    print(err)\n",
    "\n",
    "try:\n",
    "    print(function(True))\n",
    "except AssertionError as err:\n",
    "    print(err)\n",
    " "
   ]
  }
 ],
 "metadata": {
  "kernelspec": {
   "display_name": "Python 3",
   "language": "python",
   "name": "python3"
  },
  "language_info": {
   "codemirror_mode": {
    "name": "ipython",
    "version": 3
   },
   "file_extension": ".py",
   "mimetype": "text/x-python",
   "name": "python",
   "nbconvert_exporter": "python",
   "pygments_lexer": "ipython3",
   "version": "3.12.4"
  }
 },
 "nbformat": 4,
 "nbformat_minor": 2
}
