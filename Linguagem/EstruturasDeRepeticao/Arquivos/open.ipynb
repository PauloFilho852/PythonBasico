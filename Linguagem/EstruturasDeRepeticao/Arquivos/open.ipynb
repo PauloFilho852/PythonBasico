{
 "cells": [
  {
   "cell_type": "code",
   "execution_count": 20,
   "id": "7455c53f",
   "metadata": {},
   "outputs": [
    {
     "name": "stdout",
     "output_type": "stream",
     "text": [
      "<_io.TextIOWrapper name='file.txt' mode='r' encoding='UTF-8'>\n",
      "<class '_io.TextIOWrapper'>\n",
      "<class 'str'>\n",
      "['Eu estou estudando na Geek University e estou aprendendo muito no curso de Python.', 'Segunda linha.', 'Terceira linha.']\n"
     ]
    }
   ],
   "source": [
    "#Leitura de arquivos\n",
    "#função open() ->na forma mais simples, utiliza-se apenas um argumento, que é o nome do arquivo\n",
    "#e retorna um _io.TextIOWrapper. Por padrão abre o arquivo para leitura, por isso o arquivo deve\n",
    "#existir.\n",
    "path = 'file.txt'\n",
    "file = open(path, encoding = 'UTF-8') #abre o arquivo\n",
    "print(file)\n",
    "print(type(file))\n",
    "\n",
    "content = file.read() #ler todo o arquivo e vai para o final. \n",
    "file.close() #Fecha o arquivo\n",
    "\n",
    "print(type(content))\n",
    "print(content.splitlines())#Separa em linhas"
   ]
  }
 ],
 "metadata": {
  "kernelspec": {
   "display_name": "Python 3",
   "language": "python",
   "name": "python3"
  },
  "language_info": {
   "codemirror_mode": {
    "name": "ipython",
    "version": 3
   },
   "file_extension": ".py",
   "mimetype": "text/x-python",
   "name": "python",
   "nbconvert_exporter": "python",
   "pygments_lexer": "ipython3",
   "version": "3.8.8"
  }
 },
 "nbformat": 4,
 "nbformat_minor": 5
}
