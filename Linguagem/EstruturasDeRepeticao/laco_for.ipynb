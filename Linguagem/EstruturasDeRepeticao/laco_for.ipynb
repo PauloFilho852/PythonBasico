{
 "cells": [
  {
   "cell_type": "code",
   "execution_count": 8,
   "id": "16ad0f00",
   "metadata": {},
   "outputs": [
    {
     "name": "stdout",
     "output_type": "stream",
     "text": [
      "0\n",
      "1\n",
      "2\n",
      "3\n",
      "4\n",
      "5\n",
      "6\n",
      "7\n",
      "8\n",
      "9\n"
     ]
    }
   ],
   "source": [
    "for i in range(10): #Começa em 0\n",
    "    print(i)"
   ]
  },
  {
   "cell_type": "code",
   "execution_count": 1,
   "id": "4615b35e",
   "metadata": {},
   "outputs": [
    {
     "name": "stdout",
     "output_type": "stream",
     "text": [
      "Paulo\n",
      "Carla\n",
      "Pedro\n"
     ]
    }
   ],
   "source": [
    "tupla = (\"Paulo\", \"Carla\", \"Pedro\")\n",
    "\n",
    "for i in tupla:\n",
    "    print(i)\n"
   ]
  },
  {
   "cell_type": "code",
   "execution_count": 11,
   "id": "6860c2fd",
   "metadata": {},
   "outputs": [
    {
     "name": "stdout",
     "output_type": "stream",
     "text": [
      "1\n",
      "2\n",
      "3\n",
      "4\n",
      "5\n",
      "6\n",
      "7\n",
      "8\n",
      "9\n"
     ]
    }
   ],
   "source": [
    "for i in range(1,10): # o 10 não é incluso\n",
    "    print(i)\n"
   ]
  },
  {
   "cell_type": "code",
   "execution_count": 14,
   "id": "829d2e6c",
   "metadata": {},
   "outputs": [
    {
     "name": "stdout",
     "output_type": "stream",
     "text": [
      "2\n",
      "4\n",
      "6\n",
      "8\n",
      "10\n",
      "12\n",
      "14\n",
      "16\n",
      "18\n",
      "20\n"
     ]
    }
   ],
   "source": [
    "for i in range(2,22,2): # de 2 a 22, variando de 2 em 2, o 22 não é incluso\n",
    "    print(i)"
   ]
  },
  {
   "cell_type": "code",
   "execution_count": 18,
   "id": "31507207",
   "metadata": {},
   "outputs": [],
   "source": [
    "lista = ['Paulo','Carla','Pedro']"
   ]
  },
  {
   "cell_type": "code",
   "execution_count": 20,
   "id": "67f8e5c2",
   "metadata": {},
   "outputs": [
    {
     "name": "stdout",
     "output_type": "stream",
     "text": [
      "Paulo\n",
      "Carla\n",
      "Pedro\n"
     ]
    }
   ],
   "source": [
    "for x in lista:\n",
    "    print(x)"
   ]
  },
  {
   "cell_type": "code",
   "execution_count": 22,
   "id": "63a5ad4a",
   "metadata": {},
   "outputs": [],
   "source": [
    "Dic = {'A': 'Jesus', 'B': 'Maria', 'C': 'José'}"
   ]
  },
  {
   "cell_type": "code",
   "execution_count": 24,
   "id": "1b65343c",
   "metadata": {},
   "outputs": [
    {
     "data": {
      "text/plain": [
       "{'A': 'Jesus', 'B': 'Maria', 'C': 'José'}"
      ]
     },
     "execution_count": 24,
     "metadata": {},
     "output_type": "execute_result"
    }
   ],
   "source": [
    "Dic"
   ]
  },
  {
   "cell_type": "code",
   "execution_count": 27,
   "id": "a8a78e2a",
   "metadata": {},
   "outputs": [
    {
     "name": "stdout",
     "output_type": "stream",
     "text": [
      "Jesus\n",
      "Maria\n",
      "José\n"
     ]
    }
   ],
   "source": [
    "for i in Dic:\n",
    "    print(Dic[i])\n"
   ]
  },
  {
   "cell_type": "code",
   "execution_count": 28,
   "id": "248bd39a",
   "metadata": {},
   "outputs": [
    {
     "data": {
      "text/plain": [
       "dict_items([('A', 'Jesus'), ('B', 'Maria'), ('C', 'José')])"
      ]
     },
     "execution_count": 28,
     "metadata": {},
     "output_type": "execute_result"
    }
   ],
   "source": [
    "Dic.items()"
   ]
  },
  {
   "cell_type": "code",
   "execution_count": 29,
   "id": "bc8cd732",
   "metadata": {},
   "outputs": [
    {
     "name": "stdout",
     "output_type": "stream",
     "text": [
      "A Jesus\n",
      "B Maria\n",
      "C José\n"
     ]
    }
   ],
   "source": [
    "for x,z in Dic.items():\n",
    "    print(x,z)"
   ]
  },
  {
   "cell_type": "code",
   "execution_count": 1,
   "id": "0e5ab72c",
   "metadata": {},
   "outputs": [
    {
     "name": "stdout",
     "output_type": "stream",
     "text": [
      "Letra: P. Indice: 0.\n",
      "Letra: a. Indice: 1.\n",
      "Letra: u. Indice: 2.\n",
      "Letra: l. Indice: 3.\n",
      "Letra: o. Indice: 4.\n",
      "Letra: F. Indice: 5.\n",
      "Letra: i. Indice: 6.\n",
      "Letra: l. Indice: 7.\n",
      "Letra: h. Indice: 8.\n",
      "Letra: o. Indice: 9.\n"
     ]
    }
   ],
   "source": [
    "#Laço com enumerate\n",
    "nome = 'PauloFilho'\n",
    "for i,v in enumerate(nome):\n",
    "    print(f'Letra: {v}. Indice: {i}.')"
   ]
  },
  {
   "cell_type": "code",
   "execution_count": 2,
   "id": "30a0f61e",
   "metadata": {},
   "outputs": [
    {
     "name": "stdout",
     "output_type": "stream",
     "text": [
      "(0, 'P')\n",
      "(1, 'a')\n",
      "(2, 'u')\n",
      "(3, 'l')\n",
      "(4, 'o')\n",
      "(5, 'F')\n",
      "(6, 'i')\n",
      "(7, 'l')\n",
      "(8, 'h')\n",
      "(9, 'o')\n"
     ]
    }
   ],
   "source": [
    "for enum in enumerate(nome):\n",
    "    print(enum)"
   ]
  },
  {
   "cell_type": "code",
   "execution_count": null,
   "id": "27844ff1",
   "metadata": {},
   "outputs": [],
   "source": [
    "#contagem regressiva\n",
    "for num in range(10, 0, -1):\n",
    "    print(num)"
   ]
  }
 ],
 "metadata": {
  "kernelspec": {
   "display_name": "Python 3",
   "language": "python",
   "name": "python3"
  },
  "language_info": {
   "codemirror_mode": {
    "name": "ipython",
    "version": 3
   },
   "file_extension": ".py",
   "mimetype": "text/x-python",
   "name": "python",
   "nbconvert_exporter": "python",
   "pygments_lexer": "ipython3",
   "version": "3.12.4"
  }
 },
 "nbformat": 4,
 "nbformat_minor": 5
}
