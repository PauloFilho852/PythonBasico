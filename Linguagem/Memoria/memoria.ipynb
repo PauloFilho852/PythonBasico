{
 "cells": [
  {
   "cell_type": "code",
   "execution_count": 17,
   "id": "f93aa61d",
   "metadata": {},
   "outputs": [
    {
     "name": "stdout",
     "output_type": "stream",
     "text": [
      "x vale 10 e y vale 10. Ambos referenciam o mesmo objeto.\n",
      "x vale 11 e y vale 10. Eles não mais referenciam o mesmo objeto\n",
      "z vale 10 e y vale 10. Ambos referenciam o mesmo objeto.\n",
      "z vale 10 e y vale 12. Eles não mais referenciam o mesmo objeto\n"
     ]
    }
   ],
   "source": [
    "x = 10\n",
    "y = x\n",
    "\n",
    "if(id(x) == id(y)):\n",
    "    print(f'x vale {x} e y vale {y}. Ambos referenciam o mesmo objeto.')\n",
    "else:\n",
    "    print(f'x vale {x} e y vale {y}. Eles não mais referenciam o mesmo objeto')\n",
    "    \n",
    "x = x + 1\n",
    "\n",
    "if(id(x) == id(y)):\n",
    "    print(f'x vale {x} e y vale {y}. Ambos referenciam o mesmo objeto.')\n",
    "else:\n",
    "    print(f'x vale {x} e y vale {y}. Eles não mais referenciam o mesmo objeto')\n",
    "\n",
    "z = 10\n",
    "\n",
    "if(id(z) == id(y)):\n",
    "    print(f'z vale {z} e y vale {y}. Ambos referenciam o mesmo objeto.')\n",
    "else:\n",
    "    print(f'z vale {z} e y vale {y}. Eles não mais referenciam o mesmo objeto')\n",
    "    \n",
    "y = 12\n",
    "\n",
    "if(id(z) == id(x)):\n",
    "    print(f'z vale {z} e y vale {y}. Ambos referenciam o mesmo objeto.')\n",
    "else:\n",
    "    print(f'z vale {z} e y vale {y}. Eles não mais referenciam o mesmo objeto')\n",
    "    "
   ]
  },
  {
   "cell_type": "code",
   "execution_count": 13,
   "id": "51070dba",
   "metadata": {},
   "outputs": [
    {
     "name": "stdout",
     "output_type": "stream",
     "text": [
      "5\n",
      "5\n"
     ]
    }
   ],
   "source": [
    "a = 5\n",
    "\n",
    "def modificar(a):\n",
    "    a = 10\n",
    "    return\n",
    "\n",
    "print(a)\n",
    "\n",
    "modificar(a) #O argumento passado é o valor, não a referência.\n",
    "\n",
    "print(a)"
   ]
  },
  {
   "cell_type": "code",
   "execution_count": 18,
   "id": "aea65b08",
   "metadata": {},
   "outputs": [
    {
     "name": "stdout",
     "output_type": "stream",
     "text": [
      "140719004395312\n",
      "140719004395440\n"
     ]
    }
   ],
   "source": [
    "x = 1\n",
    "\n",
    "print(id(x))\n",
    "\n",
    "x = 5\n",
    "\n",
    "print(id(x)) "
   ]
  }
 ],
 "metadata": {
  "kernelspec": {
   "display_name": "Python 3",
   "language": "python",
   "name": "python3"
  },
  "language_info": {
   "codemirror_mode": {
    "name": "ipython",
    "version": 3
   },
   "file_extension": ".py",
   "mimetype": "text/x-python",
   "name": "python",
   "nbconvert_exporter": "python",
   "pygments_lexer": "ipython3",
   "version": "3.8.8"
  }
 },
 "nbformat": 4,
 "nbformat_minor": 5
}
