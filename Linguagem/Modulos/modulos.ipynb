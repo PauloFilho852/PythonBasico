{
 "cells": [
  {
   "cell_type": "code",
   "execution_count": 1,
   "id": "c062704f",
   "metadata": {},
   "outputs": [],
   "source": [
    "#Um módulo é um arquivo Python. Um pacote é um pasta com uma coleção de módulos.\n",
    "\n",
    "#OBS: Nas versões 2.x do Python, um pacote Python deve conter um arquivo __init__.py.\n",
    "#Nas versões do Python 3.x, não é mais obrigatória a utilização deste arquivo, mas\n",
    "#normalmente ainda é utilizado para manter compatibilidade."
   ]
  },
  {
   "cell_type": "code",
   "execution_count": null,
   "id": "d01f627e",
   "metadata": {},
   "outputs": [],
   "source": [
    "#Para instalação de pacotes Python utilizamos o Python Installer Package - PIP\n",
    "#pip install [package_name]"
   ]
  },
  {
   "cell_type": "code",
   "execution_count": null,
   "id": "ce370729",
   "metadata": {},
   "outputs": [],
   "source": [
    "#Módulo random possui várias funções para criação de números pseudo-aleatórios\n",
    "\n",
    "#Importando todo o módulo: todas as funções, atributos, classes e propriedades ficam disponíveis na memória.\n",
    "#import random\n",
    "#print(random.random())\n",
    "\n",
    "#Aferindo um alias ao módulo\n",
    "#import random as rd\n",
    "#print(rd.random())\n",
    "\n",
    "#Importando uma função específica (melhor aproveitamento de memória).\n",
    "#from random import random\n",
    "#print(random())\n",
    "\n",
    "#Aferindo um alias a um função do módulo\n",
    "#from random import randint as rdi, random as rd\n",
    "#print(rdi(1,10))\n",
    "#print(rd())\n",
    "\n",
    "\n",
    "#Boa práticas ao se importar diversas funções de um módulo\n",
    "#from random import (\n",
    "#random,\n",
    "#randint,\n",
    "#shuffle,\n",
    "#choice\n",
    "#)\n",
    "\n",
    "#Importando todo o módulo sem precisar chamar a partir do nome do módulo.\n",
    "#from random import *\n",
    "#print(random())\n",
    "\n",
    "#Importando de um pacote\n",
    "#from package_name.mudule_name import function_name\n",
    "#function_name()"
   ]
  }
 ],
 "metadata": {
  "kernelspec": {
   "display_name": "Python 3",
   "language": "python",
   "name": "python3"
  },
  "language_info": {
   "codemirror_mode": {
    "name": "ipython",
    "version": 3
   },
   "file_extension": ".py",
   "mimetype": "text/x-python",
   "name": "python",
   "nbconvert_exporter": "python",
   "pygments_lexer": "ipython3",
   "version": "3.8.8"
  }
 },
 "nbformat": 4,
 "nbformat_minor": 5
}
