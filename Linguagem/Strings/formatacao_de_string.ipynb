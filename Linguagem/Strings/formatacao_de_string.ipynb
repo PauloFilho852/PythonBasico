{
 "cells": [
  {
   "cell_type": "code",
   "execution_count": 1,
   "id": "38a60913",
   "metadata": {},
   "outputs": [],
   "source": [
    "from math import sqrt\n",
    "from math import factorial\n",
    "import random"
   ]
  },
  {
   "cell_type": "code",
   "execution_count": null,
   "id": "f8d6fe62",
   "metadata": {},
   "outputs": [],
   "source": [
    "n = 18\n",
    "raiz = sqrt(n) #Caso fose 'import math', usaríarmos a referência math (math.sqrt()). Mas, usamos 'from math import sqrt'\n",
    "\n",
    "print('A raiz quadrada de {} é igual a {:.2f}'.format(n,raiz))\n",
    "\n",
    "raiz_2 = n**0.5\n",
    "\n",
    "print(f'A raiz quadrada de {n} é igual a {raiz_2:.3f}')"
   ]
  }
 ],
 "metadata": {
  "kernelspec": {
   "display_name": "Python 3",
   "language": "python",
   "name": "python3"
  },
  "language_info": {
   "codemirror_mode": {
    "name": "ipython",
    "version": 3
   },
   "file_extension": ".py",
   "mimetype": "text/x-python",
   "name": "python",
   "nbconvert_exporter": "python",
   "pygments_lexer": "ipython3",
   "version": "3.12.4"
  }
 },
 "nbformat": 4,
 "nbformat_minor": 5
}
