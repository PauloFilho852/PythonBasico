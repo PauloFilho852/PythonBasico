{
 "cells": [
  {
   "cell_type": "code",
   "execution_count": 3,
   "metadata": {},
   "outputs": [
    {
     "name": "stdout",
     "output_type": "stream",
     "text": [
      "olá\n",
      "oláolá\n",
      "oláoláolá\n",
      "oláoláoláolá\n",
      "oláoláoláoláolá\n",
      "oláoláoláoláoláolá\n",
      "oláoláoláoláoláoláolá\n",
      "oláoláoláoláoláoláoláolá\n",
      "oláoláoláoláoláoláoláoláolá\n"
     ]
    }
   ],
   "source": [
    "#Multiplicação de uma string\n",
    "string = 'olá'\n",
    "for i in range(1,10):\n",
    "    print (string * i)"
   ]
  },
  {
   "cell_type": "code",
   "execution_count": 4,
   "metadata": {},
   "outputs": [
    {
     "name": "stdout",
     "output_type": "stream",
     "text": [
      "olá1\n",
      "olá2\n",
      "olá3\n",
      "olá4\n",
      "olá5\n",
      "olá6\n",
      "olá7\n",
      "olá8\n",
      "olá9\n"
     ]
    }
   ],
   "source": [
    "string = 'olá'\n",
    "for i in range(1,10):\n",
    "    print (string + str(i))"
   ]
  },
  {
   "cell_type": "code",
   "execution_count": 5,
   "metadata": {},
   "outputs": [
    {
     "name": "stdout",
     "output_type": "stream",
     "text": [
      "😍\n",
      "😍😍\n",
      "😍😍😍\n",
      "😍😍😍😍\n",
      "😍😍😍😍😍\n",
      "😍😍😍😍😍😍\n",
      "😍😍😍😍😍😍😍\n",
      "😍😍😍😍😍😍😍😍\n",
      "😍😍😍😍😍😍😍😍😍\n",
      "😍😍😍😍😍😍😍😍😍😍\n"
     ]
    }
   ],
   "source": [
    "#Emogis Unicode: https://apps.timwithlock.info/emoji/tables/unicode\n",
    "#Unicode original U+1F60D\n",
    "#Modificado U0001F60D\n",
    "for num in range(1,11):\n",
    "    print('\\U0001F60D' * num)"
   ]
  }
 ],
 "metadata": {
  "kernelspec": {
   "display_name": "Python 3",
   "language": "python",
   "name": "python3"
  },
  "language_info": {
   "codemirror_mode": {
    "name": "ipython",
    "version": 3
   },
   "file_extension": ".py",
   "mimetype": "text/x-python",
   "name": "python",
   "nbconvert_exporter": "python",
   "pygments_lexer": "ipython3",
   "version": "3.12.4"
  }
 },
 "nbformat": 4,
 "nbformat_minor": 2
}
