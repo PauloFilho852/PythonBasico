{
 "cells": [
  {
   "cell_type": "code",
   "execution_count": 1,
   "id": "55537e34",
   "metadata": {},
   "outputs": [],
   "source": [
    "#Slincing - Fatiamento"
   ]
  },
  {
   "cell_type": "code",
   "execution_count": 10,
   "id": "aa8bb29c",
   "metadata": {},
   "outputs": [],
   "source": [
    "frase = 'Python é uma linguagem muito poderosa!'"
   ]
  },
  {
   "cell_type": "code",
   "execution_count": 4,
   "id": "7274afa7",
   "metadata": {},
   "outputs": [
    {
     "data": {
      "text/plain": [
       "'Python'"
      ]
     },
     "execution_count": 4,
     "metadata": {},
     "output_type": "execute_result"
    }
   ],
   "source": [
    "frase[0:6] # o último índice não é inclusivo"
   ]
  },
  {
   "cell_type": "code",
   "execution_count": 6,
   "id": "24bdcd3c",
   "metadata": {},
   "outputs": [
    {
     "data": {
      "text/plain": [
       "'Py'"
      ]
     },
     "execution_count": 6,
     "metadata": {},
     "output_type": "execute_result"
    }
   ],
   "source": [
    "frase[0:2]"
   ]
  },
  {
   "cell_type": "code",
   "execution_count": 8,
   "id": "be64b984",
   "metadata": {},
   "outputs": [
    {
     "data": {
      "text/plain": [
       "'Python é uma'"
      ]
     },
     "execution_count": 8,
     "metadata": {},
     "output_type": "execute_result"
    }
   ],
   "source": [
    "frase[:12]"
   ]
  },
  {
   "cell_type": "code",
   "execution_count": 11,
   "id": "c6ebe489",
   "metadata": {},
   "outputs": [
    {
     "data": {
      "text/plain": [
       "'!'"
      ]
     },
     "execution_count": 11,
     "metadata": {},
     "output_type": "execute_result"
    }
   ],
   "source": [
    "frase[-1] # indexação de traz para frente"
   ]
  },
  {
   "cell_type": "code",
   "execution_count": 13,
   "id": "01582173",
   "metadata": {},
   "outputs": [
    {
     "data": {
      "text/plain": [
       "'poderosa'"
      ]
     },
     "execution_count": 13,
     "metadata": {},
     "output_type": "execute_result"
    }
   ],
   "source": [
    "frase[-9:-1]"
   ]
  },
  {
   "cell_type": "code",
   "execution_count": 15,
   "id": "84619074",
   "metadata": {},
   "outputs": [
    {
     "data": {
      "text/plain": [
       "'Python é uma linguagem muito poderosa!'"
      ]
     },
     "execution_count": 15,
     "metadata": {},
     "output_type": "execute_result"
    }
   ],
   "source": [
    "frase[::1] # pula de 1 em 1 caracter"
   ]
  },
  {
   "cell_type": "code",
   "execution_count": 17,
   "id": "d7a722f3",
   "metadata": {},
   "outputs": [
    {
     "data": {
      "text/plain": [
       "'Pto  m igae ut oeoa'"
      ]
     },
     "execution_count": 17,
     "metadata": {},
     "output_type": "execute_result"
    }
   ],
   "source": [
    "frase[::2] # pula de 2 em 2 caracteres"
   ]
  },
  {
   "cell_type": "code",
   "execution_count": 19,
   "id": "1053c220",
   "metadata": {},
   "outputs": [
    {
     "data": {
      "text/plain": [
       "'Ph u namuoora'"
      ]
     },
     "execution_count": 19,
     "metadata": {},
     "output_type": "execute_result"
    }
   ],
   "source": [
    "frase[::3]# pula de 3 em 3"
   ]
  },
  {
   "cell_type": "code",
   "execution_count": 20,
   "id": "fb3a2a55",
   "metadata": {},
   "outputs": [
    {
     "data": {
      "text/plain": [
       "'!asoredop otium megaugnil amu é nohtyP'"
      ]
     },
     "execution_count": 20,
     "metadata": {},
     "output_type": "execute_result"
    }
   ],
   "source": [
    "frase[::-1] # pula de 1 em 1 de traz para frente"
   ]
  }
 ],
 "metadata": {
  "kernelspec": {
   "display_name": "Python 3",
   "language": "python",
   "name": "python3"
  },
  "language_info": {
   "codemirror_mode": {
    "name": "ipython",
    "version": 3
   },
   "file_extension": ".py",
   "mimetype": "text/x-python",
   "name": "python",
   "nbconvert_exporter": "python",
   "pygments_lexer": "ipython3",
   "version": "3.8.8"
  }
 },
 "nbformat": 4,
 "nbformat_minor": 5
}
