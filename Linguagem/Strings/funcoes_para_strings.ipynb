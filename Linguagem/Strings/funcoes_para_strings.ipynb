{
 "cells": [
  {
   "cell_type": "code",
   "execution_count": 1,
   "metadata": {},
   "outputs": [
    {
     "name": "stdout",
     "output_type": "stream",
     "text": [
      "\n",
      "Esta é uma string\n",
      "de várias linhas\n",
      "\n",
      "ola, mundo!\n",
      "\n",
      "ESTA É UMA STRING\n",
      "DE VÁRIAS LINHAS\n",
      "\n",
      "\n",
      "esta é uma string\n",
      "de várias linhas\n",
      "\n",
      "['', 'Esta é uma string', 'de várias linhas']\n",
      "\n",
      "\n",
      "Ola, mundo!\n",
      "Ola, Mundo!\n",
      "['ola,', 'mundo!']\n",
      "!odnum ,alo\n",
      "ola, Paulinho!\n",
      "<class 'str'>\n"
     ]
    }
   ],
   "source": [
    "multiline = \"\"\"\n",
    "Esta é uma string\n",
    "de várias linhas\n",
    "\"\"\"\n",
    "simpleline = 'ola, mundo!'\n",
    "\n",
    "print(multiline)\n",
    "print(simpleline)\n",
    "\n",
    "print(multiline.upper())\n",
    "print(multiline.lower())\n",
    "print(multiline.splitlines())\n",
    "print('\\n')\n",
    "print(simpleline.capitalize())\n",
    "print(simpleline.title())\n",
    "print(simpleline.split())\n",
    "print(simpleline[::-1])\n",
    "print(simpleline.replace('mundo', 'Paulinho'))\n",
    "print(type(simpleline))"
   ]
  }
 ],
 "metadata": {
  "kernelspec": {
   "display_name": "Python 3",
   "language": "python",
   "name": "python3"
  },
  "language_info": {
   "codemirror_mode": {
    "name": "ipython",
    "version": 3
   },
   "file_extension": ".py",
   "mimetype": "text/x-python",
   "name": "python",
   "nbconvert_exporter": "python",
   "pygments_lexer": "ipython3",
   "version": "3.12.4"
  }
 },
 "nbformat": 4,
 "nbformat_minor": 2
}
