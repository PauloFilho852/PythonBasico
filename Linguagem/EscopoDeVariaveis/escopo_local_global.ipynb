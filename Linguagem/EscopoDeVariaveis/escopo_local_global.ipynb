{
 "cells": [
  {
   "cell_type": "code",
   "execution_count": 1,
   "metadata": {},
   "outputs": [
    {
     "name": "stdout",
     "output_type": "stream",
     "text": [
      "None\n",
      "5\n"
     ]
    }
   ],
   "source": [
    "a = False\n",
    "c = None\n",
    "\n",
    "#b tem escopo local, pois sua existência depende da condição.\n",
    "#c tem escopo global, pois é declarado fora do escopo if\n",
    "if a:\n",
    "    b = 5 \n",
    "    c = 8 \n",
    "\n",
    "#print(b) #NameError: name b is not defined\n",
    "print(c)\n",
    "\n",
    "def fuction(): # z tem escopo local (pertence à função)\n",
    "    d = 5\n",
    "    return d\n",
    "\n",
    "print(fuction())"
   ]
  }
 ],
 "metadata": {
  "kernelspec": {
   "display_name": "Python 3",
   "language": "python",
   "name": "python3"
  },
  "language_info": {
   "codemirror_mode": {
    "name": "ipython",
    "version": 3
   },
   "file_extension": ".py",
   "mimetype": "text/x-python",
   "name": "python",
   "nbconvert_exporter": "python",
   "pygments_lexer": "ipython3",
   "version": "3.12.4"
  }
 },
 "nbformat": 4,
 "nbformat_minor": 2
}
