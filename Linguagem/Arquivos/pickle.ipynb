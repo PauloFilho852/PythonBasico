{
 "cells": [
  {
   "cell_type": "code",
   "execution_count": 1,
   "id": "ac450791",
   "metadata": {},
   "outputs": [],
   "source": [
    "#Serializando com pickle\n",
    "import pickle\n",
    "\n",
    "path = 'Workdir\\\\animais.pck'\n",
    "\n",
    "class Animal:\n",
    "    def __init__(self, nome):\n",
    "        self.nome = nome\n",
    "    \n",
    "    def comer(self):\n",
    "        print(f'{self.nome} está comento')\n",
    "        \n",
    "class Gato(Animal):\n",
    "    def __init__(self, nome):\n",
    "        super().__init__(nome)\n",
    "\n",
    "    def miar(self):\n",
    "        print(f'{self.nome} está miando.')\n",
    "        \n",
    "gato1 = Gato('Felix')\n",
    "gato2 = Gato('Tom')\n",
    "\n",
    "with open(path, 'wb') as file: #Abrir para escrita binária\n",
    "    pickle.dump((gato1, gato2), file) #Serialização binária"
   ]
  },
  {
   "cell_type": "code",
   "execution_count": 2,
   "id": "7b25ae48",
   "metadata": {},
   "outputs": [
    {
     "name": "stdout",
     "output_type": "stream",
     "text": [
      "Os gatos são Felix e Tom\n",
      "Felix está comento\n",
      "Tom está miando.\n",
      "Tipo: <class '__main__.Gato'>\n"
     ]
    }
   ],
   "source": [
    "#Desserializando\n",
    "import pickle\n",
    "\n",
    "path = 'Workdir\\\\animais.pck'\n",
    "\n",
    "with open(path, 'rb') as file: #Abrir para leitura binária\n",
    "    gato1, gato2 = pickle.load(file)\n",
    "    print(f'Os gatos são {gato1.nome} e {gato2.nome}')\n",
    "    gato1.comer()\n",
    "    gato2.miar()\n",
    "    print(f'Tipo: {type(gato1)}')"
   ]
  }
 ],
 "metadata": {
  "kernelspec": {
   "display_name": "Python 3",
   "language": "python",
   "name": "python3"
  },
  "language_info": {
   "codemirror_mode": {
    "name": "ipython",
    "version": 3
   },
   "file_extension": ".py",
   "mimetype": "text/x-python",
   "name": "python",
   "nbconvert_exporter": "python",
   "pygments_lexer": "ipython3",
   "version": "3.12.4"
  }
 },
 "nbformat": 4,
 "nbformat_minor": 5
}
