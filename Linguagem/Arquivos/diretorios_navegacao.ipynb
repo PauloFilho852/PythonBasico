{
 "cells": [
  {
   "cell_type": "code",
   "execution_count": 1,
   "metadata": {},
   "outputs": [],
   "source": [
    "#Os trechos de código deve ser executados de cima para baixo, em sequência.\n",
    "import os"
   ]
  },
  {
   "cell_type": "code",
   "execution_count": 2,
   "metadata": {},
   "outputs": [
    {
     "name": "stdout",
     "output_type": "stream",
     "text": [
      "c:\\Users\\paulo\\OneDrive\\Documentos\\Cursos\\Python\\Linguagem\\Arquivos\n",
      "c:\\Users\\paulo\\OneDrive\\Documentos\\Cursos\\Python\\Linguagem\n"
     ]
    }
   ],
   "source": [
    "#Pega o 'Current Work Directory'\n",
    "cwd = os.getcwd()\n",
    "\n",
    "print(cwd)\n",
    "\n",
    "#Para mudar o diretório, podemos usar o chdir() (Change Directory)\n",
    "os.chdir('..') #Volta um diretório na ávore\n",
    "\n",
    "cwd = os.getcwd()\n",
    "\n",
    "print(cwd)"
   ]
  },
  {
   "cell_type": "code",
   "execution_count": 3,
   "metadata": {},
   "outputs": [
    {
     "name": "stdout",
     "output_type": "stream",
     "text": [
      "True\n"
     ]
    }
   ],
   "source": [
    "#Verifica se o caminho é absoluto ou relativo\n",
    "print(os.path.isabs(cwd))"
   ]
  },
  {
   "cell_type": "code",
   "execution_count": 4,
   "metadata": {},
   "outputs": [
    {
     "name": "stdout",
     "output_type": "stream",
     "text": [
      "nt\n"
     ]
    }
   ],
   "source": [
    "print(os.name)"
   ]
  },
  {
   "cell_type": "code",
   "execution_count": 5,
   "metadata": {},
   "outputs": [
    {
     "name": "stdout",
     "output_type": "stream",
     "text": [
      "c:\\Users\\paulo\\OneDrive\\Documentos\\Cursos\\Python\\Linguagem\\Arquivos\\Workdir\n"
     ]
    }
   ],
   "source": [
    "#Cria um caminho com base no diretório corrente\n",
    "path = os.path.join(os.getcwd(), 'Arquivos', 'Workdir')\n",
    "\n",
    "os.chdir(path)\n",
    "\n",
    "print(os.getcwd())"
   ]
  },
  {
   "cell_type": "code",
   "execution_count": 6,
   "metadata": {},
   "outputs": [
    {
     "name": "stdout",
     "output_type": "stream",
     "text": [
      "c:\\Users\\paulo\\OneDrive\\Documentos\\Cursos\\Python\\Linguagem\\Arquivos\n",
      "['file.txt', 'modos.ipynb', 'read.ipynb', 'seek.ipynb', 'sistema_de_arquivos.ipynb', 'string_io.ipynb', 'with.ipynb', 'Workdir', 'write.ipynb']\n"
     ]
    }
   ],
   "source": [
    "os.chdir('..')\n",
    "\n",
    "print(os.getcwd())\n",
    "\n",
    "print(os.listdir())"
   ]
  },
  {
   "cell_type": "code",
   "execution_count": 7,
   "metadata": {},
   "outputs": [
    {
     "name": "stdout",
     "output_type": "stream",
     "text": [
      "['$RECYCLE.BIN', 'Apto', 'System Volume Information', 'Teste', 'Trabalho']\n"
     ]
    }
   ],
   "source": [
    "print(os.listdir('D:\\\\'))"
   ]
  },
  {
   "cell_type": "code",
   "execution_count": 17,
   "metadata": {},
   "outputs": [
    {
     "name": "stdout",
     "output_type": "stream",
     "text": [
      "[<DirEntry 'file.txt'>, <DirEntry 'modos.ipynb'>, <DirEntry 'read.ipynb'>, <DirEntry 'seek.ipynb'>, <DirEntry 'sistema_de_arquivos.ipynb'>, <DirEntry 'string_io.ipynb'>, <DirEntry 'with.ipynb'>, <DirEntry 'Workdir'>, <DirEntry 'write.ipynb'>]\n",
      "<DirEntry 'file.txt'>\n",
      "31806672368405429\n",
      "False\n",
      "True\n",
      "False\n",
      "file.txt\n",
      ".\\file.txt\n",
      "os.stat_result(st_mode=33206, st_ino=0, st_dev=0, st_nlink=0, st_uid=0, st_gid=0, st_size=117, st_atime=1724086211, st_mtime=1723659318, st_ctime=1723677741)\n"
     ]
    }
   ],
   "source": [
    "scandir_obj = os.scandir()\n",
    "\n",
    "files = list(scandir_obj)\n",
    "print(files)\n",
    "print(files[0])\n",
    "\n",
    "print(files[0].inode())\n",
    "print(files[0].is_dir())\n",
    "print(files[0].is_file())\n",
    "print(files[0].is_symlink())\n",
    "print(files[0].name)\n",
    "print(files[0].path)\n",
    "print(files[0].stat())\n",
    "\n",
    "scandir_obj.close()"
   ]
  }
 ],
 "metadata": {
  "kernelspec": {
   "display_name": "Python 3",
   "language": "python",
   "name": "python3"
  },
  "language_info": {
   "codemirror_mode": {
    "name": "ipython",
    "version": 3
   },
   "file_extension": ".py",
   "mimetype": "text/x-python",
   "name": "python",
   "nbconvert_exporter": "python",
   "pygments_lexer": "ipython3",
   "version": "3.12.4"
  }
 },
 "nbformat": 4,
 "nbformat_minor": 2
}
