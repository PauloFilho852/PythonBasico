{
 "cells": [
  {
   "cell_type": "code",
   "execution_count": 11,
   "id": "230329a9",
   "metadata": {},
   "outputs": [],
   "source": [
    "#seek() -> Utiliza-se para movimentar o cursor pelo arquivo.\n"
   ]
  },
  {
   "cell_type": "code",
   "execution_count": 2,
   "id": "34cc58ba",
   "metadata": {},
   "outputs": [
    {
     "name": "stdout",
     "output_type": "stream",
     "text": [
      "Eu estou estudando na Geek University e estou aprendendo muito no curso de Python.\n",
      "Segunda linha.\n",
      "Terceira linha.\n",
      "\n",
      "Eu estou estudando na Geek University e estou aprendendo muito no curso de Python.\n",
      "Segunda linha.\n",
      "Terceira linha.\n",
      "\n",
      "Geek University e estou aprendendo muito no curso de Python.\n",
      "Segunda linha.\n",
      "Terceira linha.\n",
      "\n"
     ]
    }
   ],
   "source": [
    "path = 'Workdir\\\\file.txt'\n",
    "\n",
    "file = open(path, encoding='UTF-8')\n",
    "\n",
    "print(file.read())\n",
    "\n",
    "file.seek(0) # Volta ao início do arquivo.\n",
    "\n",
    "print(file.read())\n",
    "\n",
    "file.seek(22)#Volta ao 23º caracter\n",
    "\n",
    "print(file.read())\n",
    "\n",
    "file.close() # fecha o arquivo"
   ]
  },
  {
   "cell_type": "code",
   "execution_count": 3,
   "id": "0c2dacc4",
   "metadata": {},
   "outputs": [
    {
     "name": "stdout",
     "output_type": "stream",
     "text": [
      "Eu estou estudando na Geek University e estou aprendendo muito no curso de Python.\n",
      "\n"
     ]
    }
   ],
   "source": [
    "path = 'Workdir\\\\file.txt'\n",
    "\n",
    "file = open(path, encoding='UTF-8')\n",
    "\n",
    "print(file.readline()) # ler linha por linha\n",
    "\n",
    "file.close()"
   ]
  },
  {
   "cell_type": "code",
   "execution_count": 4,
   "id": "b3664281",
   "metadata": {},
   "outputs": [
    {
     "name": "stdout",
     "output_type": "stream",
     "text": [
      "['Eu estou estudando na Geek University e estou aprendendo muito no curso de Python.\\n', 'Segunda linha.\\n', 'Terceira linha.\\n']\n"
     ]
    }
   ],
   "source": [
    "path = 'Workdir\\\\file.txt'\n",
    "\n",
    "file = open(path, encoding='UTF-8')\n",
    "\n",
    "print(file.readlines()) # ler todas linhas e coloca numa lista\n",
    "\n",
    "file.close()"
   ]
  },
  {
   "cell_type": "code",
   "execution_count": 5,
   "id": "a0f4cef5",
   "metadata": {},
   "outputs": [
    {
     "name": "stdout",
     "output_type": "stream",
     "text": [
      "Eu estou estudando na Geek University e estou apre\n"
     ]
    }
   ],
   "source": [
    "path = 'Workdir\\\\file.txt'\n",
    "\n",
    "file = open(path, encoding='UTF-8')\n",
    "\n",
    "content = None\n",
    "\n",
    "if not file.closed: #verifica se arquivo está aberto\n",
    "    content = file.read(50) # Ler 50 ceracteres\n",
    "    file.close()\n",
    "\n",
    "if content != None:\n",
    "    print(content)\n"
   ]
  }
 ],
 "metadata": {
  "kernelspec": {
   "display_name": "Python 3",
   "language": "python",
   "name": "python3"
  },
  "language_info": {
   "codemirror_mode": {
    "name": "ipython",
    "version": 3
   },
   "file_extension": ".py",
   "mimetype": "text/x-python",
   "name": "python",
   "nbconvert_exporter": "python",
   "pygments_lexer": "ipython3",
   "version": "3.12.4"
  }
 },
 "nbformat": 4,
 "nbformat_minor": 5
}
