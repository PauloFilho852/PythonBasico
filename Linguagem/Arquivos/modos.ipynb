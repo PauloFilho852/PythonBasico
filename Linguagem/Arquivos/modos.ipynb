{
 "cells": [
  {
   "cell_type": "code",
   "execution_count": 1,
   "id": "718775ff",
   "metadata": {},
   "outputs": [],
   "source": [
    "# r ->Abre para leitura - padrão\n",
    "# w ->Abre para escrita (cria se não existe, sobrescreve caso o arquivo já exista)\n",
    "# a ->Abre para escrita (cria se não existe, adiciona conteúdo ao final caso já exista)\n",
    "# x ->Abre para escrita (somente se o arquivo não existir)\n",
    "# r+ ->Abre para leitura e escrita. Permite uso do seek() para escrita.\n",
    "\n",
    "path = 'Workdir\\\\texto.txt'"
   ]
  },
  {
   "cell_type": "code",
   "execution_count": 9,
   "id": "f7b3d2f1",
   "metadata": {},
   "outputs": [
    {
     "name": "stdout",
     "output_type": "stream",
     "text": [
      "O arquvivo já existe! erro [Errno 17] File exists: 'Workdir\\\\texto.txt'\n",
      "Paulo\n",
      "Carvalho\n",
      "Olá, paulinho.\n",
      "\n"
     ]
    }
   ],
   "source": [
    "try:\n",
    "    with open(path,'x', encoding='UTF-8') as file:\n",
    "        file.write('Olá, paulinho.')\n",
    "except FileExistsError as err:\n",
    "    print(f'O arquvivo já existe! erro {err}')\n",
    "    \n",
    "with open(path, encoding = 'UTF-8') as file:\n",
    "    print(file.read())"
   ]
  },
  {
   "cell_type": "code",
   "execution_count": 10,
   "id": "762d5554",
   "metadata": {},
   "outputs": [
    {
     "name": "stdout",
     "output_type": "stream",
     "text": [
      "Paulo\n",
      "Carvalho\n",
      "Olá, paulinho.\n",
      "Olá, paulinho.\n",
      "\n"
     ]
    }
   ],
   "source": [
    "with open(path, 'a', encoding = 'UTF-8') as file:\n",
    "    file.write('Olá, paulinho.\\n')\n",
    "    \n",
    "with open(path, encoding = 'UTF-8') as file:\n",
    "    print(file.read())"
   ]
  },
  {
   "cell_type": "code",
   "execution_count": 11,
   "id": "7920a090",
   "metadata": {},
   "outputs": [
    {
     "name": "stdout",
     "output_type": "stream",
     "text": [
      "Poilo\n",
      "Corvilho\n",
      "Olá, paulinho.\n",
      "Olá, paulinho.\n",
      "\n"
     ]
    }
   ],
   "source": [
    "with open(path, 'r+', encoding = 'UTF-8') as file:\n",
    "    file.write('Poilo\\nCorvilho\\n') #substitui os caracteres correspondentes (quebra de linha é um caracter)\n",
    "    file.seek(0)\n",
    "    print(file.read())"
   ]
  }
 ],
 "metadata": {
  "kernelspec": {
   "display_name": "Python 3",
   "language": "python",
   "name": "python3"
  },
  "language_info": {
   "codemirror_mode": {
    "name": "ipython",
    "version": 3
   },
   "file_extension": ".py",
   "mimetype": "text/x-python",
   "name": "python",
   "nbconvert_exporter": "python",
   "pygments_lexer": "ipython3",
   "version": "3.12.4"
  }
 },
 "nbformat": 4,
 "nbformat_minor": 5
}
