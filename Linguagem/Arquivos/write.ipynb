{
 "cells": [
  {
   "cell_type": "code",
   "execution_count": 2,
   "id": "790cc5f9",
   "metadata": {},
   "outputs": [
    {
     "name": "stdout",
     "output_type": "stream",
     "text": [
      "Um linha via código\n",
      "Outra linha via código\n"
     ]
    }
   ],
   "source": [
    "#Se não existir é criado\n",
    "with open('Workdir\\\\texto.txt', 'w') as file:\n",
    "    file.write('Um linha via código\\n')\n",
    "    file.write('Outra linha via código')\n",
    "\n",
    "#lendo\n",
    "with open('Workdir\\\\texto.txt') as file:\n",
    "    print(file.read())"
   ]
  },
  {
   "cell_type": "code",
   "execution_count": null,
   "id": "68586884",
   "metadata": {},
   "outputs": [],
   "source": [
    "#Abre o arquivo para escrita e, em seguida, fecha\n",
    "open('file2.txt','w').close()"
   ]
  }
 ],
 "metadata": {
  "kernelspec": {
   "display_name": "Python 3",
   "language": "python",
   "name": "python3"
  },
  "language_info": {
   "codemirror_mode": {
    "name": "ipython",
    "version": 3
   },
   "file_extension": ".py",
   "mimetype": "text/x-python",
   "name": "python",
   "nbconvert_exporter": "python",
   "pygments_lexer": "ipython3",
   "version": "3.12.4"
  }
 },
 "nbformat": 4,
 "nbformat_minor": 5
}
