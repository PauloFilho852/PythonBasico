{
 "cells": [
  {
   "cell_type": "code",
   "execution_count": 13,
   "metadata": {},
   "outputs": [
    {
     "name": "stdout",
     "output_type": "stream",
     "text": [
      "['Nome', 'País', 'Altura (em cm)']\n",
      "['Ryu', 'Japão', '175']\n",
      "['Ken', 'EUA', '175']\n",
      "['Chun-Li', 'China', '165']\n",
      "['Guile', 'EUA', '185']\n",
      "['E. Honda', 'Japão', '185']\n",
      "['Dhalsim', 'Índia', '176']\n",
      "['Blanka', 'Brasil', '192']\n",
      "['Zangief', 'Rússia', '214']\n"
     ]
    }
   ],
   "source": [
    "#Sem reader\n",
    "path = 'Workdir\\\\lutadores.csv'\n",
    "\n",
    "lista = []\n",
    "\n",
    "with open(path, encoding = 'UTF-8') as file:\n",
    "    content = file.read()\n",
    "    linhas = content.splitlines() #Tansforma em uma lista em que os items são as linhas do arquivo\n",
    "    for linha in linhas:\n",
    "        linha = linha.split(',') #Transforma cada linha em uma lista, cujo critério de separação é a vírgula.\n",
    "        print(linha)"
   ]
  },
  {
   "cell_type": "code",
   "execution_count": 16,
   "metadata": {},
   "outputs": [
    {
     "name": "stdout",
     "output_type": "stream",
     "text": [
      "['Ryu', 'Japão', '175']\n",
      "['Ken', 'EUA', '175']\n",
      "['Chun-Li', 'China', '165']\n",
      "['Guile', 'EUA', '185']\n",
      "['E. Honda', 'Japão', '185']\n",
      "['Dhalsim', 'Índia', '176']\n",
      "['Blanka', 'Brasil', '192']\n",
      "['Zangief', 'Rússia', '214']\n"
     ]
    }
   ],
   "source": [
    "#Com o reader\n",
    "from csv import reader\n",
    "\n",
    "path = 'Workdir\\\\lutadores.csv'\n",
    "\n",
    "with open(path, encoding = 'UTF-8') as file:\n",
    "    csv_content = reader(file, delimiter=',') #Tranforma o csv em um iterator\n",
    "    next(csv_content) #pula o cabeçalho\n",
    "    for linha in csv_content:\n",
    "        print(linha)"
   ]
  },
  {
   "cell_type": "code",
   "execution_count": 15,
   "metadata": {},
   "outputs": [
    {
     "name": "stdout",
     "output_type": "stream",
     "text": [
      "{'Nome': 'Ryu', 'País': 'Japão', 'Altura (em cm)': '175'}\n",
      "{'Nome': 'Ken', 'País': 'EUA', 'Altura (em cm)': '175'}\n",
      "{'Nome': 'Chun-Li', 'País': 'China', 'Altura (em cm)': '165'}\n",
      "{'Nome': 'Guile', 'País': 'EUA', 'Altura (em cm)': '185'}\n",
      "{'Nome': 'E. Honda', 'País': 'Japão', 'Altura (em cm)': '185'}\n",
      "{'Nome': 'Dhalsim', 'País': 'Índia', 'Altura (em cm)': '176'}\n",
      "{'Nome': 'Blanka', 'País': 'Brasil', 'Altura (em cm)': '192'}\n",
      "{'Nome': 'Zangief', 'País': 'Rússia', 'Altura (em cm)': '214'}\n"
     ]
    }
   ],
   "source": [
    "#Com DictReader\n",
    "\n",
    "from csv import DictReader\n",
    "\n",
    "with open(path, encoding = 'UTF-8') as file:\n",
    "    csv_content = DictReader(file, delimiter=',') #Tranforma o csv em um iterator    \n",
    "    for linha in csv_content:\n",
    "        print(linha)"
   ]
  }
 ],
 "metadata": {
  "kernelspec": {
   "display_name": "venv",
   "language": "python",
   "name": "python3"
  },
  "language_info": {
   "codemirror_mode": {
    "name": "ipython",
    "version": 3
   },
   "file_extension": ".py",
   "mimetype": "text/x-python",
   "name": "python",
   "nbconvert_exporter": "python",
   "pygments_lexer": "ipython3",
   "version": "3.12.4"
  }
 },
 "nbformat": 4,
 "nbformat_minor": 2
}
