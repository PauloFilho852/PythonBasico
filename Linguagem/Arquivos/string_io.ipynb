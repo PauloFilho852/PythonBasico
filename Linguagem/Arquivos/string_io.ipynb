{
 "cells": [
  {
   "cell_type": "code",
   "execution_count": 32,
   "id": "f271a4d0",
   "metadata": {},
   "outputs": [
    {
     "name": "stdout",
     "output_type": "stream",
     "text": [
      "Este é apenas uma string normal.\n",
      "\n",
      "Este é apenas uma string normal.\n",
      "Outro texto.\n"
     ]
    }
   ],
   "source": [
    "#StrigIO -> Utilizado para ler e criar arquivos em memória\n",
    "from io import StringIO\n",
    "\n",
    "mensagem = 'Este é apenas uma string normal.\\n'\n",
    "\n",
    "arquivo = StringIO(mensagem)\n",
    "\n",
    "print(arquivo.read()) #Vai pro fim do arquivo.\n",
    "\n",
    "arquivo.write('Outro texto.')\n",
    "\n",
    "arquivo.seek(0) #Retorna ao início de arquivo.\n",
    "\n",
    "print(arquivo.read())"
   ]
  }
 ],
 "metadata": {
  "kernelspec": {
   "display_name": "Python 3",
   "language": "python",
   "name": "python3"
  },
  "language_info": {
   "codemirror_mode": {
    "name": "ipython",
    "version": 3
   },
   "file_extension": ".py",
   "mimetype": "text/x-python",
   "name": "python",
   "nbconvert_exporter": "python",
   "pygments_lexer": "ipython3",
   "version": "3.8.8"
  }
 },
 "nbformat": 4,
 "nbformat_minor": 5
}
