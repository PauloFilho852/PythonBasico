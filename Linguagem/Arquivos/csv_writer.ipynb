{
 "cells": [
  {
   "cell_type": "code",
   "execution_count": 6,
   "id": "a982eec5",
   "metadata": {},
   "outputs": [
    {
     "name": "stdout",
     "output_type": "stream",
     "text": [
      "Infome nome do filme: O Senhor dos Anéis\n",
      "Informe o genero:Fantasia\n",
      "Informe a duracao (em minutos):233\n",
      "Infome nome do filme: O Senhor dos Anéis II\n",
      "Informe o genero:Fantasia\n",
      "Informe a duracao (em minutos):244\n",
      "Infome nome do filme: O Senhor dos Anéis III\n",
      "Informe o genero:Fantasia\n",
      "Informe a duracao (em minutos):254\n",
      "Infome nome do filme: sair\n"
     ]
    }
   ],
   "source": [
    "#Escrevendo com writer\n",
    "from csv import writer\n",
    "\n",
    "path = 'Workdir\\\\filmes.csv'\n",
    "\n",
    "with open(path, 'w') as file:\n",
    "    csv_writer = writer(file)\n",
    "    filme = ''\n",
    "    csv_writer.writerow(['Título', 'Gênero', 'Duração'])\n",
    "    while filme.upper() != 'SAIR':\n",
    "        filme = input('Infome nome do filme: ')\n",
    "        if(filme.upper() != 'SAIR'):\n",
    "            genero = input('Informe o genero:')\n",
    "            duracao = input('Informe a duracao (em minutos):')\n",
    "            csv_writer.writerow([filme, genero, duracao])"
   ]
  },
  {
   "cell_type": "code",
   "execution_count": 9,
   "id": "569d42a9",
   "metadata": {},
   "outputs": [
    {
     "name": "stdout",
     "output_type": "stream",
     "text": [
      "Infome nome do filme: Avatar I\n",
      "Informe o genero:Ficção\n",
      "Informe a duracao (em minutos):220\n",
      "Infome nome do filme: Avatar II\n",
      "Informe o genero:Ficção\n",
      "Informe a duracao (em minutos):240\n",
      "Infome nome do filme: sair\n"
     ]
    }
   ],
   "source": [
    "#DictWriter\n",
    "from csv import DictWriter\n",
    "\n",
    "path = 'Workdir\\\\filmes.csv'\n",
    "\n",
    "with open(path, 'w') as file:\n",
    "    cabecalho = ['Título', 'Gênero', 'Duração']\n",
    "    csv_writer = DictWriter(file, fieldnames = cabecalho)\n",
    "    csv_writer.writeheader()\n",
    "    filme =  ''\n",
    "    while filme.upper() != 'SAIR':\n",
    "        filme = input('Infome nome do filme: ')\n",
    "        if(filme.upper() != 'SAIR'):\n",
    "            genero = input('Informe o genero:')\n",
    "            duracao = input('Informe a duracao (em minutos):')\n",
    "            csv_writer.writerow({'Título':filme, 'Gênero': genero, 'Duração': duracao})\n"
   ]
  }
 ],
 "metadata": {
  "kernelspec": {
   "display_name": "Python 3",
   "language": "python",
   "name": "python3"
  },
  "language_info": {
   "codemirror_mode": {
    "name": "ipython",
    "version": 3
   },
   "file_extension": ".py",
   "mimetype": "text/x-python",
   "name": "python",
   "nbconvert_exporter": "python",
   "pygments_lexer": "ipython3",
   "version": "3.8.8"
  }
 },
 "nbformat": 4,
 "nbformat_minor": 5
}
