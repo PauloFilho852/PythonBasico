{
 "cells": [
  {
   "cell_type": "code",
   "execution_count": 1,
   "metadata": {},
   "outputs": [],
   "source": [
    "#Executar os códigos de cima para baixo, em sequência.\n",
    "import os"
   ]
  },
  {
   "cell_type": "code",
   "execution_count": 4,
   "metadata": {},
   "outputs": [
    {
     "name": "stdout",
     "output_type": "stream",
     "text": [
      "True\n",
      "False\n",
      "True\n"
     ]
    }
   ],
   "source": [
    "#Descobrindo se uma arquivo ou diretório existe\n",
    "print(os.path.exists('Workdir\\\\file.txt'))\n",
    "print(os.path.exists('other.txt'))\n",
    "print(os.path.exists('Workdir'))"
   ]
  },
  {
   "cell_type": "code",
   "execution_count": 3,
   "metadata": {},
   "outputs": [],
   "source": [
    "#Cria um diretório\n",
    "os.mkdir('Workdir2')"
   ]
  },
  {
   "cell_type": "code",
   "execution_count": 5,
   "metadata": {},
   "outputs": [],
   "source": [
    "#Criar uma árvore de diretórios (Workdir3 e Workdir4 foram criados)\n",
    "os.makedirs('Workdir2\\\\Workdir3\\\\Workdir4') #Erro se existir\n",
    "#os.makedirs('Workdir2\\\\Workdir3\\\\Workdir4', exist_ok=True) #Se existir, ok."
   ]
  },
  {
   "cell_type": "code",
   "execution_count": 7,
   "metadata": {},
   "outputs": [],
   "source": [
    "#Renomeia um diretório ou arquivo\n",
    "os.rename('Workdir2\\\\Workdir3\\\\Workdir4', 'Workdir2\\\\Workdir3\\\\RenamedDir') #Erro se não existir"
   ]
  },
  {
   "cell_type": "code",
   "execution_count": null,
   "metadata": {},
   "outputs": [],
   "source": [
    "#Deleta arquivos (não vai para lixeira)\n",
    "os.remove('filename') #Erro se não existir"
   ]
  },
  {
   "cell_type": "code",
   "execution_count": null,
   "metadata": {},
   "outputs": [],
   "source": [
    "#Remove diretorio\n",
    "os.rmdir('dirname') #Erro se não existir ou não estiver vazio"
   ]
  },
  {
   "cell_type": "code",
   "execution_count": 10,
   "metadata": {},
   "outputs": [],
   "source": [
    "#Remove uma ramificação de diretórios vazios.\n",
    "os.removedirs('Workdir2\\\\Workdir3\\\\RenamedDir') #Erro se não existir. Pára o processamento se o diretório não estiver vazio."
   ]
  },
  {
   "cell_type": "code",
   "execution_count": 11,
   "metadata": {},
   "outputs": [
    {
     "name": "stdout",
     "output_type": "stream",
     "text": [
      "Criei um diretório temporário em C:\\Users\\paulo\\AppData\\Local\\Temp\\tmplnmuv53t\n"
     ]
    }
   ],
   "source": [
    "import tempfile\n",
    "\n",
    "#Criando diretório e, a seguir, um arquivo temporário\n",
    "\n",
    "with tempfile.TemporaryDirectory() as tmp: #Cria um diretório temporário\n",
    "    print(f'Criei um diretório temporário em {tmp}')\n",
    "    with open(os.path.join(tmp, 'temp.txt'), 'w') as file: #Cria um arquivo temporário no diretório temporário\n",
    "        file.write('Este é um arquivo temporário.')\n",
    "    input('Digite algo para concluir.')"
   ]
  },
  {
   "cell_type": "code",
   "execution_count": 12,
   "metadata": {},
   "outputs": [
    {
     "name": "stdout",
     "output_type": "stream",
     "text": [
      "b'Paulo Filho.\\n'\n"
     ]
    }
   ],
   "source": [
    "#Criando um arquivo temporário\n",
    "with tempfile.TemporaryFile() as temp_file:\n",
    "    temp_file.write(b'Paulo Filho.\\n') #Escreve de forma binária\n",
    "    temp_file.seek(0)\n",
    "    print(temp_file.read())"
   ]
  },
  {
   "cell_type": "code",
   "execution_count": 15,
   "metadata": {},
   "outputs": [
    {
     "name": "stdout",
     "output_type": "stream",
     "text": [
      "Abrindo arquivo temporário: C:\\Users\\paulo\\AppData\\Local\\Temp\\tmpjxbs326j.\n",
      "b'Ola, Python!'\n"
     ]
    }
   ],
   "source": [
    "#Criando um arquivo temporário nomeado.\n",
    "\n",
    "with tempfile.NamedTemporaryFile() as temp_file:\n",
    "    print(f'Abrindo arquivo temporário: {temp_file.name}.')\n",
    "    temp_file.write(b'Ola, Python!')\n",
    "    temp_file.seek(0)\n",
    "    print(temp_file.read())"
   ]
  }
 ],
 "metadata": {
  "kernelspec": {
   "display_name": "Python 3",
   "language": "python",
   "name": "python3"
  },
  "language_info": {
   "codemirror_mode": {
    "name": "ipython",
    "version": 3
   },
   "file_extension": ".py",
   "mimetype": "text/x-python",
   "name": "python",
   "nbconvert_exporter": "python",
   "pygments_lexer": "ipython3",
   "version": "3.12.4"
  }
 },
 "nbformat": 4,
 "nbformat_minor": 2
}
