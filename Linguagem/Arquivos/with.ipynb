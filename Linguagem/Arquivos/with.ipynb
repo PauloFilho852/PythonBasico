{
 "cells": [
  {
   "cell_type": "code",
   "execution_count": 2,
   "id": "420bd9fc",
   "metadata": {},
   "outputs": [
    {
     "name": "stdout",
     "output_type": "stream",
     "text": [
      "Eu estou estudando na Geek University e estou aprendendo muito no curso de Python.\n",
      "Segunda linha.\n",
      "Terceira linha.\n",
      "\n"
     ]
    }
   ],
   "source": [
    "with open('Workdir\\\\file.txt') as file: # O bloco with fecha o arquivo após o uso.\n",
    "    print(file.read())"
   ]
  }
 ],
 "metadata": {
  "kernelspec": {
   "display_name": "Python 3",
   "language": "python",
   "name": "python3"
  },
  "language_info": {
   "codemirror_mode": {
    "name": "ipython",
    "version": 3
   },
   "file_extension": ".py",
   "mimetype": "text/x-python",
   "name": "python",
   "nbconvert_exporter": "python",
   "pygments_lexer": "ipython3",
   "version": "3.12.4"
  }
 },
 "nbformat": 4,
 "nbformat_minor": 5
}
