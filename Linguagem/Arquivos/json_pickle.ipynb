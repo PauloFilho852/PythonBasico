{
 "cells": [
  {
   "cell_type": "code",
   "execution_count": 3,
   "id": "c9b49e24",
   "metadata": {},
   "outputs": [],
   "source": [
    "#pip install jsonpickle"
   ]
  },
  {
   "cell_type": "code",
   "execution_count": 16,
   "id": "fddfec10",
   "metadata": {},
   "outputs": [
    {
     "name": "stdout",
     "output_type": "stream",
     "text": [
      "<class 'str'>\n",
      "[\"produto\", {\"PlayStation 4\": [\"Novo\", \"220\", 2340]}]\n"
     ]
    }
   ],
   "source": [
    "import json\n",
    "\n",
    "result = json.dumps(['produto', {'PlayStation 4': ('Novo', '220', 2340)}])\n",
    "\n",
    "print(type(result))\n",
    "print(result)"
   ]
  },
  {
   "cell_type": "code",
   "execution_count": 4,
   "id": "f3473b7f",
   "metadata": {},
   "outputs": [
    {
     "name": "stdout",
     "output_type": "stream",
     "text": [
      "<class 'str'>\n",
      "{\"py/object\": \"__main__.Gato\", \"_Gato__nome\": \"Felix\", \"_Gato__raca\": \"Vira-latas\"}\n",
      "<class '__main__.Gato'>\n",
      "Felix\n",
      "Vira-latas\n"
     ]
    }
   ],
   "source": [
    "import jsonpickle\n",
    "\n",
    "class Gato:\n",
    "    def __init__(self, nome, raca):\n",
    "        self.__nome = nome\n",
    "        self.__raca = raca\n",
    "    \n",
    "    @property\n",
    "    def nome(self):\n",
    "        return self.__nome\n",
    "    \n",
    "    @property\n",
    "    def raca(self):\n",
    "        return self.__raca\n",
    "\n",
    "    \n",
    "felix = Gato('Felix', 'Vira-latas')\n",
    "\n",
    "felix_json_string = jsonpickle.encode(felix)\n",
    "\n",
    "print(type(felix_json_string))\n",
    "print(felix_json_string)\n",
    "\n",
    "felix = jsonpickle.decode(felix_json_string)\n",
    "\n",
    "print(type(felix))\n",
    "print(felix.nome)\n",
    "print(felix.raca)"
   ]
  }
 ],
 "metadata": {
  "kernelspec": {
   "display_name": "Python 3",
   "language": "python",
   "name": "python3"
  },
  "language_info": {
   "codemirror_mode": {
    "name": "ipython",
    "version": 3
   },
   "file_extension": ".py",
   "mimetype": "text/x-python",
   "name": "python",
   "nbconvert_exporter": "python",
   "pygments_lexer": "ipython3",
   "version": "3.12.4"
  }
 },
 "nbformat": 4,
 "nbformat_minor": 5
}
