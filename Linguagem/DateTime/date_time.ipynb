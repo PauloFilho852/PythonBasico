{
 "cells": [
  {
   "cell_type": "code",
   "execution_count": 34,
   "id": "19101091",
   "metadata": {},
   "outputs": [
    {
     "name": "stdout",
     "output_type": "stream",
     "text": [
      "<class 'datetime.datetime'>\n",
      "datetime.datetime(2024, 9, 4, 13, 47, 15, 613839)\n",
      "2024-09-04 13:47:15.613839\n",
      "2024-09-04 16:00:00\n",
      "9999\n",
      "1\n"
     ]
    }
   ],
   "source": [
    "import datetime\n",
    "\n",
    "date = datetime.datetime.now()\n",
    "\n",
    "print(type(date))\n",
    "print(repr(date))\n",
    "print(date)\n",
    "\n",
    "date = date.replace(hour=16, minute=0, second=0, microsecond = 0)\n",
    "\n",
    "print(date)\n",
    "\n",
    "print(datetime.MAXYEAR)\n",
    "print(datetime.MINYEAR)"
   ]
  },
  {
   "cell_type": "code",
   "execution_count": 35,
   "id": "7505f708",
   "metadata": {},
   "outputs": [
    {
     "name": "stdout",
     "output_type": "stream",
     "text": [
      "<class 'datetime.datetime'>\n",
      "2019-11-02 00:00:00\n",
      "2019\n",
      "11\n",
      "2\n"
     ]
    }
   ],
   "source": [
    "#import datetime\n",
    "date = datetime.datetime(2019, 11, 2, 0)\n",
    "print(type(date))\n",
    "print(date)\n",
    "print(date.year)\n",
    "print(date.month)\n",
    "print(date.day)"
   ]
  },
  {
   "cell_type": "code",
   "execution_count": 36,
   "id": "7071962b",
   "metadata": {},
   "outputs": [
    {
     "name": "stdout",
     "output_type": "stream",
     "text": [
      "<class 'datetime.timedelta'>\n",
      "datetime.timedelta(days=364, seconds=36623, microseconds=733193)\n",
      "364\n",
      "36623\n"
     ]
    }
   ],
   "source": [
    "#import datetime\n",
    "agora = datetime.datetime.now()\n",
    "\n",
    "depois = datetime.datetime(2025, 9, 4, 0)\n",
    "\n",
    "delta = depois - agora\n",
    "print(type(delta))\n",
    "print(repr(delta))\n",
    "print(delta.days)\n",
    "print(delta.seconds)"
   ]
  },
  {
   "cell_type": "code",
   "execution_count": 37,
   "id": "2ea75480",
   "metadata": {},
   "outputs": [
    {
     "name": "stdout",
     "output_type": "stream",
     "text": [
      "<class 'datetime.datetime'>\n",
      "2024-09-05 13:50:06.058692\n"
     ]
    }
   ],
   "source": [
    "#import datetime\n",
    "hoje = datetime.datetime.now()\n",
    "\n",
    "um_dia = datetime.timedelta(days = 1)\n",
    "\n",
    "amanha = hoje + um_dia\n",
    "\n",
    "print(type(amanha))\n",
    "print(amanha)"
   ]
  },
  {
   "cell_type": "code",
   "execution_count": 43,
   "id": "c16db0c3",
   "metadata": {},
   "outputs": [
    {
     "name": "stdout",
     "output_type": "stream",
     "text": [
      "<class 'datetime.datetime'>\n",
      "2023-05-25 00:00:00\n",
      "<class 'datetime.date'>\n",
      "2023-05-25\n"
     ]
    }
   ],
   "source": [
    "#import datetime\n",
    "str_date = '25/05/2023'\n",
    "date = datetime.datetime.strptime(str_date, '%d/%m/%Y')\n",
    "\n",
    "print(type(date))\n",
    "print(date)\n",
    "\n",
    "print(type(date.date()))\n",
    "print(date.date())"
   ]
  },
  {
   "cell_type": "code",
   "execution_count": 51,
   "id": "981d4bfb",
   "metadata": {},
   "outputs": [
    {
     "name": "stdout",
     "output_type": "stream",
     "text": [
      "<class 'str'>\n",
      "04/09/2024\n"
     ]
    }
   ],
   "source": [
    "hoje_data = datetime.datetime.today()\n",
    "\n",
    "hoje_string = hoje_data.strftime('%d/%m/%Y')\n",
    "\n",
    "print(type(hoje_string))\n",
    "print(hoje_string)"
   ]
  },
  {
   "cell_type": "code",
   "execution_count": 53,
   "id": "f233716b",
   "metadata": {},
   "outputs": [
    {
     "name": "stdout",
     "output_type": "stream",
     "text": [
      "<class 'datetime.time'>\n",
      "11:45:00\n"
     ]
    }
   ],
   "source": [
    "hora_almoco = datetime.time(11, 45, 0)\n",
    "\n",
    "print(type(hora_almoco))\n",
    "print(hora_almoco)"
   ]
  },
  {
   "cell_type": "code",
   "execution_count": 49,
   "id": "4bb875db",
   "metadata": {},
   "outputs": [
    {
     "name": "stdout",
     "output_type": "stream",
     "text": [
      "<class 'datetime.datetime'>\n",
      "2024-09-05 00:00:00\n",
      "3\n"
     ]
    }
   ],
   "source": [
    "amanha_zero_horas = datetime.datetime.combine(datetime.datetime.now() + datetime.timedelta(days = 1), datetime.time())\n",
    "print(type(amanha_zero_horas))\n",
    "print(amanha_zero_horas)\n",
    "print(amanha_zero_horas.weekday())"
   ]
  },
  {
   "cell_type": "code",
   "execution_count": 68,
   "id": "568c075c",
   "metadata": {},
   "outputs": [
    {
     "name": "stdout",
     "output_type": "stream",
     "text": [
      "0.21778270000140765\n",
      "0.1855333999992581\n"
     ]
    }
   ],
   "source": [
    "import timeit\n",
    "#Quanto tempo demora para executar a expressão '-'.join(str(n) for n in range(100)) 10000 vezes\n",
    "\n",
    "#Generator\n",
    "tempo = timeit.timeit('\"-\".join(str(n) for n in range(100))', number = 10000)\n",
    "print(tempo)\n",
    "\n",
    "#List Comprehensions\n",
    "tempo = timeit.timeit('\"-\".join([str(n) for n in range(100)])', number = 10000)\n",
    "print(tempo)"
   ]
  },
  {
   "cell_type": "code",
   "execution_count": 4,
   "id": "35619469",
   "metadata": {},
   "outputs": [
    {
     "name": "stdout",
     "output_type": "stream",
     "text": [
      "0.8725644000005559\n"
     ]
    }
   ],
   "source": [
    "import timeit, functools\n",
    "\n",
    "def function(n):\n",
    "    result = 0\n",
    "    for i in range(n):\n",
    "        result = result + i\n",
    "    return result\n",
    "\n",
    "#Executa function 10 mil vezes com argumento de valor igual 10.\n",
    "time = timeit.timeit(functools.partial(function, 10), number=1000000)\n",
    "\n",
    "print(time)"
   ]
  }
 ],
 "metadata": {
  "kernelspec": {
   "display_name": "Python 3",
   "language": "python",
   "name": "python3"
  },
  "language_info": {
   "codemirror_mode": {
    "name": "ipython",
    "version": 3
   },
   "file_extension": ".py",
   "mimetype": "text/x-python",
   "name": "python",
   "nbconvert_exporter": "python",
   "pygments_lexer": "ipython3",
   "version": "3.12.4"
  }
 },
 "nbformat": 4,
 "nbformat_minor": 5
}
