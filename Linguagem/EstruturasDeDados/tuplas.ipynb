{
 "cells": [
  {
   "cell_type": "code",
   "execution_count": 2,
   "id": "b249dee5",
   "metadata": {},
   "outputs": [],
   "source": [
    "#tuplas são imutáveis"
   ]
  },
  {
   "cell_type": "code",
   "execution_count": 29,
   "id": "0cfc6dbe",
   "metadata": {},
   "outputs": [
    {
     "data": {
      "text/plain": [
       "(1, 2, 3, 4, 5, 6)"
      ]
     },
     "execution_count": 29,
     "metadata": {},
     "output_type": "execute_result"
    }
   ],
   "source": [
    "tp = (1,2,3,4,5,6)\n",
    "tp"
   ]
  },
  {
   "cell_type": "code",
   "execution_count": 30,
   "id": "340216da",
   "metadata": {},
   "outputs": [
    {
     "data": {
      "text/plain": [
       "tuple"
      ]
     },
     "execution_count": 30,
     "metadata": {},
     "output_type": "execute_result"
    }
   ],
   "source": [
    "type(tp)"
   ]
  },
  {
   "cell_type": "code",
   "execution_count": 31,
   "id": "b6d1d0d8",
   "metadata": {},
   "outputs": [
    {
     "data": {
      "text/plain": [
       "1"
      ]
     },
     "execution_count": 31,
     "metadata": {},
     "output_type": "execute_result"
    }
   ],
   "source": [
    "tp.count(1)"
   ]
  },
  {
   "cell_type": "code",
   "execution_count": 32,
   "id": "9e95a48b",
   "metadata": {},
   "outputs": [
    {
     "data": {
      "text/plain": [
       "4"
      ]
     },
     "execution_count": 32,
     "metadata": {},
     "output_type": "execute_result"
    }
   ],
   "source": [
    "tp[3]"
   ]
  },
  {
   "cell_type": "code",
   "execution_count": 33,
   "id": "32da9505",
   "metadata": {},
   "outputs": [],
   "source": [
    "tp2 = 'a', 'b', 'c'"
   ]
  },
  {
   "cell_type": "code",
   "execution_count": 34,
   "id": "a147514b",
   "metadata": {},
   "outputs": [
    {
     "data": {
      "text/plain": [
       "('a', 'b', 'c')"
      ]
     },
     "execution_count": 34,
     "metadata": {},
     "output_type": "execute_result"
    }
   ],
   "source": [
    "tp2"
   ]
  },
  {
   "cell_type": "code",
   "execution_count": 35,
   "id": "6d5bd6db",
   "metadata": {},
   "outputs": [
    {
     "data": {
      "text/plain": [
       "tuple"
      ]
     },
     "execution_count": 35,
     "metadata": {},
     "output_type": "execute_result"
    }
   ],
   "source": [
    "type(tp2)"
   ]
  },
  {
   "cell_type": "code",
   "execution_count": 36,
   "id": "032c6539",
   "metadata": {},
   "outputs": [],
   "source": [
    "lista = list(tp)"
   ]
  },
  {
   "cell_type": "code",
   "execution_count": 37,
   "id": "a303a851",
   "metadata": {},
   "outputs": [
    {
     "data": {
      "text/plain": [
       "[1, 2, 3, 4, 5, 6]"
      ]
     },
     "execution_count": 37,
     "metadata": {},
     "output_type": "execute_result"
    }
   ],
   "source": [
    "lista"
   ]
  },
  {
   "cell_type": "code",
   "execution_count": 38,
   "id": "ecfe6113",
   "metadata": {},
   "outputs": [],
   "source": [
    "lista.append(7)"
   ]
  },
  {
   "cell_type": "code",
   "execution_count": 39,
   "id": "0fe0a545",
   "metadata": {},
   "outputs": [
    {
     "data": {
      "text/plain": [
       "(1, 2, 3, 4, 5, 6, 7)"
      ]
     },
     "execution_count": 39,
     "metadata": {},
     "output_type": "execute_result"
    }
   ],
   "source": [
    "tp3 = tuple(lista)\n",
    "tp3"
   ]
  },
  {
   "cell_type": "code",
   "execution_count": null,
   "id": "62a6b2b8",
   "metadata": {},
   "outputs": [],
   "source": [
    "tp = (4) #Isso não é uma tupla\n",
    "tp = (4,) #Tupla"
   ]
  },
  {
   "cell_type": "code",
   "execution_count": 1,
   "id": "cf5360c1",
   "metadata": {},
   "outputs": [
    {
     "data": {
      "text/plain": [
       "tuple"
      ]
     },
     "execution_count": 1,
     "metadata": {},
     "output_type": "execute_result"
    }
   ],
   "source": [
    "tp = ()\n",
    "type(tp)"
   ]
  },
  {
   "cell_type": "code",
   "execution_count": 2,
   "id": "e3c0156f",
   "metadata": {},
   "outputs": [
    {
     "data": {
      "text/plain": [
       "(0, 1, 2, 3, 4, 5, 6, 7, 8, 9, 10)"
      ]
     },
     "execution_count": 2,
     "metadata": {},
     "output_type": "execute_result"
    }
   ],
   "source": [
    "tupla = tuple(range(11))\n",
    "tupla"
   ]
  }
 ],
 "metadata": {
  "kernelspec": {
   "display_name": "Python 3",
   "language": "python",
   "name": "python3"
  },
  "language_info": {
   "codemirror_mode": {
    "name": "ipython",
    "version": 3
   },
   "file_extension": ".py",
   "mimetype": "text/x-python",
   "name": "python",
   "nbconvert_exporter": "python",
   "pygments_lexer": "ipython3",
   "version": "3.12.4"
  }
 },
 "nbformat": 4,
 "nbformat_minor": 5
}
