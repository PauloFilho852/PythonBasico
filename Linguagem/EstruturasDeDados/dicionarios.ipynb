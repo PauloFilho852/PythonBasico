{
 "cells": [
  {
   "cell_type": "code",
   "execution_count": 5,
   "id": "4e6fcb2b",
   "metadata": {},
   "outputs": [
    {
     "name": "stdout",
     "output_type": "stream",
     "text": [
      "<class 'dict'>\n",
      "1\n"
     ]
    }
   ],
   "source": [
    "dic  = {'A': 1, 'B':2, 'C': 3}\n",
    "print(type(dic))\n",
    "print(dic['A'])"
   ]
  },
  {
   "cell_type": "code",
   "execution_count": 7,
   "id": "d19fdeb1",
   "metadata": {},
   "outputs": [
    {
     "data": {
      "text/plain": [
       "{'a': 'A', 'b': 'B', 'c': 'C'}"
      ]
     },
     "execution_count": 7,
     "metadata": {},
     "output_type": "execute_result"
    }
   ],
   "source": [
    "dic = dict(a = 'A', b = 'B', c = 'C')\n",
    "dic"
   ]
  },
  {
   "cell_type": "code",
   "execution_count": 8,
   "id": "f0403af0",
   "metadata": {},
   "outputs": [
    {
     "data": {
      "text/plain": [
       "3"
      ]
     },
     "execution_count": 8,
     "metadata": {},
     "output_type": "execute_result"
    }
   ],
   "source": [
    "len(dic)"
   ]
  },
  {
   "cell_type": "code",
   "execution_count": 11,
   "id": "59c3bd29",
   "metadata": {},
   "outputs": [
    {
     "data": {
      "text/plain": [
       "dict_keys(['A', 'B', 'C'])"
      ]
     },
     "execution_count": 11,
     "metadata": {},
     "output_type": "execute_result"
    }
   ],
   "source": [
    "dic.keys()"
   ]
  },
  {
   "cell_type": "code",
   "execution_count": 13,
   "id": "b648d065",
   "metadata": {},
   "outputs": [
    {
     "data": {
      "text/plain": [
       "dict_values([1, 2, 3])"
      ]
     },
     "execution_count": 13,
     "metadata": {},
     "output_type": "execute_result"
    }
   ],
   "source": [
    "dic.values()"
   ]
  },
  {
   "cell_type": "code",
   "execution_count": 14,
   "id": "1207f327",
   "metadata": {},
   "outputs": [],
   "source": [
    "dic2 = {'D': 6}"
   ]
  },
  {
   "cell_type": "code",
   "execution_count": 25,
   "id": "14e1d6ec",
   "metadata": {},
   "outputs": [],
   "source": [
    "#Atualiza, caso a chave exista, do contrário, adiciona.\n",
    "dic.update(dic2)"
   ]
  },
  {
   "cell_type": "code",
   "execution_count": 27,
   "id": "b5c5fdec",
   "metadata": {},
   "outputs": [
    {
     "data": {
      "text/plain": [
       "{'A': 1, 'B': 2, 'C': 3, 'D': 6}"
      ]
     },
     "execution_count": 27,
     "metadata": {},
     "output_type": "execute_result"
    }
   ],
   "source": [
    "dic"
   ]
  },
  {
   "cell_type": "code",
   "execution_count": 28,
   "id": "dfb2c0e8",
   "metadata": {},
   "outputs": [
    {
     "data": {
      "text/plain": [
       "{'A': 1, 'B': 2, 'C': 3}"
      ]
     },
     "execution_count": 28,
     "metadata": {},
     "output_type": "execute_result"
    }
   ],
   "source": [
    "del dic['D']\n",
    "dic"
   ]
  },
  {
   "cell_type": "code",
   "execution_count": 30,
   "id": "86bda984",
   "metadata": {},
   "outputs": [],
   "source": [
    "dic.clear() # limpa todo o dicionário"
   ]
  },
  {
   "cell_type": "code",
   "execution_count": 32,
   "id": "6615485d",
   "metadata": {},
   "outputs": [
    {
     "data": {
      "text/plain": [
       "{}"
      ]
     },
     "execution_count": 32,
     "metadata": {},
     "output_type": "execute_result"
    }
   ],
   "source": [
    "dic"
   ]
  },
  {
   "cell_type": "code",
   "execution_count": 33,
   "id": "c92ee2af",
   "metadata": {},
   "outputs": [],
   "source": [
    "dic['F'] = True"
   ]
  },
  {
   "cell_type": "code",
   "execution_count": 34,
   "id": "3a562e31",
   "metadata": {},
   "outputs": [],
   "source": [
    "dic['G'] = False"
   ]
  },
  {
   "cell_type": "code",
   "execution_count": 35,
   "id": "dd277252",
   "metadata": {},
   "outputs": [],
   "source": [
    "dic['H'] = 'String'"
   ]
  },
  {
   "cell_type": "code",
   "execution_count": 37,
   "id": "aa3f2e55",
   "metadata": {},
   "outputs": [],
   "source": [
    "dic['I'] = 10"
   ]
  },
  {
   "cell_type": "code",
   "execution_count": 39,
   "id": "6bc852df",
   "metadata": {},
   "outputs": [
    {
     "data": {
      "text/plain": [
       "{'F': True, 'G': False, 'H': 'String', 'I': 10}"
      ]
     },
     "execution_count": 39,
     "metadata": {},
     "output_type": "execute_result"
    }
   ],
   "source": [
    "dic"
   ]
  },
  {
   "cell_type": "code",
   "execution_count": 41,
   "id": "878c9e9c",
   "metadata": {},
   "outputs": [
    {
     "data": {
      "text/plain": [
       "{'F': True, 'G': True, 'H': 'String', 'I': 10}"
      ]
     },
     "execution_count": 41,
     "metadata": {},
     "output_type": "execute_result"
    }
   ],
   "source": [
    "#Atualiza\n",
    "dic['G'] =True\n",
    "dic\n"
   ]
  },
  {
   "cell_type": "code",
   "execution_count": 43,
   "id": "53105d51",
   "metadata": {},
   "outputs": [],
   "source": [
    "#Ou adiciona, caso não haja um chave existente.\n",
    "dic['J'] = {'K': 1, 'L':2}"
   ]
  },
  {
   "cell_type": "code",
   "execution_count": 45,
   "id": "ad981a75",
   "metadata": {},
   "outputs": [
    {
     "data": {
      "text/plain": [
       "{'F': True, 'G': True, 'H': 'String', 'I': 10, 'J': {'K': 1, 'L': 2}}"
      ]
     },
     "execution_count": 45,
     "metadata": {},
     "output_type": "execute_result"
    }
   ],
   "source": [
    "dic"
   ]
  },
  {
   "cell_type": "code",
   "execution_count": 47,
   "id": "23f180ca",
   "metadata": {},
   "outputs": [
    {
     "data": {
      "text/plain": [
       "{'K': 1, 'L': 2}"
      ]
     },
     "execution_count": 47,
     "metadata": {},
     "output_type": "execute_result"
    }
   ],
   "source": [
    "dic['J']"
   ]
  },
  {
   "cell_type": "code",
   "execution_count": 48,
   "id": "8fae3580",
   "metadata": {},
   "outputs": [
    {
     "data": {
      "text/plain": [
       "{'G': True, 'H': 'String', 'I': 10, 'J': {'K': 1, 'L': 2}}"
      ]
     },
     "execution_count": 48,
     "metadata": {},
     "output_type": "execute_result"
    }
   ],
   "source": [
    "valor = dic.pop('F')\n",
    "dic"
   ]
  },
  {
   "cell_type": "code",
   "execution_count": 10,
   "id": "b8fb063c",
   "metadata": {},
   "outputs": [
    {
     "data": {
      "text/plain": [
       "'A'"
      ]
     },
     "execution_count": 10,
     "metadata": {},
     "output_type": "execute_result"
    }
   ],
   "source": [
    "#Retorna o valor com a chave 'a' especificada.\n",
    "dic.get('G')"
   ]
  },
  {
   "cell_type": "code",
   "execution_count": 12,
   "id": "041b781c",
   "metadata": {},
   "outputs": [
    {
     "data": {
      "text/plain": [
       "str"
      ]
     },
     "execution_count": 12,
     "metadata": {},
     "output_type": "execute_result"
    }
   ],
   "source": [
    "#Retorna a string com a mensagem 'Não encontrado', caso não encotre a valor com a chave 'g'.\n",
    "valor = dic.get('F', 'Não encontrado')\n",
    "type(valor)"
   ]
  },
  {
   "cell_type": "code",
   "execution_count": 13,
   "id": "4223a270",
   "metadata": {},
   "outputs": [
    {
     "data": {
      "text/plain": [
       "{'Nome': 'Desconhecido',\n",
       " 'Pontos': 'Desconhecido',\n",
       " 'Email': 'Desconhecido',\n",
       " 'Profile': 'Desconhecido'}"
      ]
     },
     "execution_count": 13,
     "metadata": {},
     "output_type": "execute_result"
    }
   ],
   "source": [
    "#Recebe um valor iterável e um valor simples.\n",
    "usuario ={}.fromkeys(['Nome', 'Pontos', 'Email', 'Profile'], 'Desconhecido')\n",
    "usuario"
   ]
  },
  {
   "cell_type": "code",
   "execution_count": 14,
   "id": "f24be391",
   "metadata": {},
   "outputs": [
    {
     "data": {
      "text/plain": [
       "{1: 'novo',\n",
       " 2: 'novo',\n",
       " 3: 'novo',\n",
       " 4: 'novo',\n",
       " 5: 'novo',\n",
       " 6: 'novo',\n",
       " 7: 'novo',\n",
       " 8: 'novo',\n",
       " 9: 'novo',\n",
       " 10: 'novo'}"
      ]
     },
     "execution_count": 14,
     "metadata": {},
     "output_type": "execute_result"
    }
   ],
   "source": [
    "items = {}.fromkeys(range(1,11), 'novo')\n",
    "items"
   ]
  },
  {
   "cell_type": "code",
   "execution_count": 1,
   "id": "771b450c",
   "metadata": {},
   "outputs": [
    {
     "name": "stdout",
     "output_type": "stream",
     "text": [
      "jan\n",
      "fev\n",
      "mar\n",
      "100\n",
      "250\n",
      "400\n"
     ]
    }
   ],
   "source": [
    "#Iterando em um dicionário\n",
    "receita = {'jan':100, 'fev': 250, 'mar': 400}\n",
    "\n",
    "for key in receita:\n",
    "    print(key)\n",
    "\n",
    "for key in receita:\n",
    "    print(receita[key])"
   ]
  },
  {
   "cell_type": "code",
   "execution_count": 6,
   "id": "abeeb629",
   "metadata": {},
   "outputs": [
    {
     "name": "stdout",
     "output_type": "stream",
     "text": [
      "Chave: jan.\n",
      "Chave: fev.\n",
      "Chave: mar.\n"
     ]
    }
   ],
   "source": [
    "receita = {'jan':100, 'fev': 250, 'mar': 400}\n",
    "\n",
    "for key in receita.keys():\n",
    "    print(f'Chave: {key}.')\n"
   ]
  },
  {
   "cell_type": "code",
   "execution_count": 7,
   "id": "d5713c80",
   "metadata": {},
   "outputs": [
    {
     "name": "stdout",
     "output_type": "stream",
     "text": [
      "100\n",
      "250\n",
      "400\n"
     ]
    }
   ],
   "source": [
    "receita = {'jan':100, 'fev': 250, 'mar': 400}\n",
    "for value in receita.values():\n",
    "    print(value)"
   ]
  },
  {
   "cell_type": "code",
   "execution_count": 10,
   "id": "4585982b",
   "metadata": {},
   "outputs": [
    {
     "name": "stdout",
     "output_type": "stream",
     "text": [
      "Chave: jan. Valor: 100.\n",
      "Chave: fev. Valor: 250.\n",
      "Chave: mar. Valor: 400.\n"
     ]
    }
   ],
   "source": [
    "receita = {'jan':100, 'fev': 250, 'mar': 400}\n",
    "for key, value in receita.items():\n",
    "    print(f'Chave: {key}. Valor: {value}.')"
   ]
  },
  {
   "cell_type": "code",
   "execution_count": 11,
   "id": "cc310edb",
   "metadata": {},
   "outputs": [
    {
     "name": "stdout",
     "output_type": "stream",
     "text": [
      "750\n",
      "400\n",
      "100\n",
      "3\n"
     ]
    }
   ],
   "source": [
    "receita = {'jan':100, 'fev': 250, 'mar': 400}\n",
    "print(sum(receita.values()))\n",
    "print(max(receita.values()))\n",
    "print(min(receita.values()))\n",
    "print(len(receita.values()))"
   ]
  }
 ],
 "metadata": {
  "kernelspec": {
   "display_name": "Python 3 (ipykernel)",
   "language": "python",
   "name": "python3"
  },
  "language_info": {
   "codemirror_mode": {
    "name": "ipython",
    "version": 3
   },
   "file_extension": ".py",
   "mimetype": "text/x-python",
   "name": "python",
   "nbconvert_exporter": "python",
   "pygments_lexer": "ipython3",
   "version": "3.12.4"
  }
 },
 "nbformat": 4,
 "nbformat_minor": 5
}
