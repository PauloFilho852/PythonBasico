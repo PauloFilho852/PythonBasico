{
 "cells": [
  {
   "cell_type": "code",
   "execution_count": 1,
   "id": "56ebd3a6",
   "metadata": {},
   "outputs": [],
   "source": [
    "#Listas podem ter elementos de tipos diferentes"
   ]
  },
  {
   "cell_type": "code",
   "execution_count": null,
   "id": "f1320080",
   "metadata": {},
   "outputs": [],
   "source": [
    "lista = ['Paulo', 'Pedro', 'Carla']\n",
    "lista"
   ]
  },
  {
   "cell_type": "code",
   "execution_count": 19,
   "id": "c8c0e1d9",
   "metadata": {},
   "outputs": [
    {
     "data": {
      "text/plain": [
       "[1, 2, 3, 4, 5]"
      ]
     },
     "execution_count": 19,
     "metadata": {},
     "output_type": "execute_result"
    }
   ],
   "source": [
    "lista2 = [5, 4, 3, 2, 1]\n",
    "lista2.sort() #Ordena uma lista do tipo numérica\n",
    "lista2"
   ]
  },
  {
   "cell_type": "code",
   "execution_count": null,
   "id": "d440e882",
   "metadata": {},
   "outputs": [],
   "source": [
    "#Reverso da lista. Funcao sem retorno. Atua na própria lista\n",
    "lista2.reverse()\n",
    "print(lista2)"
   ]
  },
  {
   "cell_type": "code",
   "execution_count": 14,
   "id": "25140970",
   "metadata": {},
   "outputs": [
    {
     "data": {
      "text/plain": [
       "[7, 1, 2, 3, 4, 5]"
      ]
     },
     "execution_count": 14,
     "metadata": {},
     "output_type": "execute_result"
    }
   ],
   "source": [
    "lista2.insert(0, 7) #insere o elemento 7 na posição 0\n",
    "lista2"
   ]
  },
  {
   "cell_type": "code",
   "execution_count": 15,
   "id": "f86ce943",
   "metadata": {},
   "outputs": [
    {
     "data": {
      "text/plain": [
       "[7, 1, 2, 3, 4, 5, 8]"
      ]
     },
     "execution_count": 15,
     "metadata": {},
     "output_type": "execute_result"
    }
   ],
   "source": [
    "lista2.append(8) #inclui o elemento 8\n",
    "lista2"
   ]
  },
  {
   "cell_type": "code",
   "execution_count": null,
   "id": "397c9486",
   "metadata": {},
   "outputs": [],
   "source": [
    "lista2.remove(7) #Remove o elemento 7\n",
    "lista2"
   ]
  },
  {
   "cell_type": "code",
   "execution_count": null,
   "id": "6c6f53c8",
   "metadata": {},
   "outputs": [],
   "source": [
    "#elemento = lista.pop() #Remove primeiro elemento da lista\n",
    "elemento = lista2.pop(3) #Remove o elemento de índice"
   ]
  },
  {
   "cell_type": "code",
   "execution_count": null,
   "id": "828338cb",
   "metadata": {},
   "outputs": [],
   "source": [
    "#Limpa a lista\n",
    "lista.clear()"
   ]
  },
  {
   "cell_type": "code",
   "execution_count": null,
   "id": "f38b30ee",
   "metadata": {},
   "outputs": [],
   "source": [
    "lista3 = []\n",
    "type(lista)"
   ]
  },
  {
   "cell_type": "code",
   "execution_count": 11,
   "id": "39f52d97",
   "metadata": {},
   "outputs": [
    {
     "data": {
      "text/plain": [
       "list"
      ]
     },
     "execution_count": 11,
     "metadata": {},
     "output_type": "execute_result"
    }
   ],
   "source": [
    "lista3 = list()\n",
    "type(lista3)"
   ]
  },
  {
   "cell_type": "code",
   "execution_count": 7,
   "id": "a4efb8a1",
   "metadata": {},
   "outputs": [
    {
     "name": "stdout",
     "output_type": "stream",
     "text": [
      "['A', 'B', 'C', 'D']\n"
     ]
    }
   ],
   "source": [
    "lista3 = list('ABCD')\n",
    "print(lista3)"
   ]
  },
  {
   "cell_type": "code",
   "execution_count": 27,
   "id": "083e96da",
   "metadata": {},
   "outputs": [
    {
     "data": {
      "text/plain": [
       "['A', 'B', 'C', 'D', 'E']"
      ]
     },
     "execution_count": 27,
     "metadata": {},
     "output_type": "execute_result"
    }
   ],
   "source": [
    "lista3.append('E')\n",
    "lista3"
   ]
  },
  {
   "cell_type": "code",
   "execution_count": 28,
   "id": "a080b26a",
   "metadata": {},
   "outputs": [
    {
     "data": {
      "text/plain": [
       "['B', 'C', 'D', 'E']"
      ]
     },
     "execution_count": 28,
     "metadata": {},
     "output_type": "execute_result"
    }
   ],
   "source": [
    "del lista3[0]\n",
    "lista3"
   ]
  },
  {
   "cell_type": "code",
   "execution_count": 29,
   "id": "9f30ca9d",
   "metadata": {},
   "outputs": [
    {
     "data": {
      "text/plain": [
       "['B', 'C', 'D']"
      ]
     },
     "execution_count": 29,
     "metadata": {},
     "output_type": "execute_result"
    }
   ],
   "source": [
    "lista3.remove('E')\n",
    "lista2"
   ]
  },
  {
   "cell_type": "code",
   "execution_count": 33,
   "id": "2c84ceaa",
   "metadata": {},
   "outputs": [
    {
     "data": {
      "text/plain": [
       "['Paulo', 'Pedro', 'Carla', 1.25]"
      ]
     },
     "execution_count": 33,
     "metadata": {},
     "output_type": "execute_result"
    }
   ],
   "source": [
    "lista.append(1.25) #Tipos diferentes\n",
    "lista"
   ]
  },
  {
   "cell_type": "code",
   "execution_count": 34,
   "id": "4b50157b",
   "metadata": {},
   "outputs": [
    {
     "data": {
      "text/plain": [
       "['Paulo', 'Pedro', 'Carla']"
      ]
     },
     "execution_count": 34,
     "metadata": {},
     "output_type": "execute_result"
    }
   ],
   "source": [
    "lista.remove(1.25)\n",
    "lista"
   ]
  },
  {
   "cell_type": "code",
   "execution_count": null,
   "id": "6f9adce4",
   "metadata": {},
   "outputs": [],
   "source": [
    "#Contagem de valores iguais. Quantidade de elementos 1 na lista\n",
    "lista = [1,1,1,2,3,5,4,9]\n",
    "print(lista.count(1))"
   ]
  },
  {
   "cell_type": "code",
   "execution_count": null,
   "id": "2edaccab",
   "metadata": {},
   "outputs": [],
   "source": [
    "#adiciona o elemento lista na lista: lista.append([55, 65, 75])\n",
    "#Inclui cada um dos elementos da lista na lista. Argumento de extend é um elemento enumerável:\n",
    "lista.extend([55, 65, 75])\n",
    "print(lista)"
   ]
  },
  {
   "cell_type": "code",
   "execution_count": null,
   "id": "0b0ad3dd",
   "metadata": {},
   "outputs": [],
   "source": [
    "#Cópia de uma lista (Deep Copy)\n",
    "lista_copy = lista.copy()\n",
    "print(lista_copy)"
   ]
  },
  {
   "cell_type": "code",
   "execution_count": null,
   "id": "7cce7f19",
   "metadata": {},
   "outputs": [],
   "source": [
    "#Juntado duas listas\n",
    "lista = [99,56,43]\n",
    "lista3 = lista + lista2\n",
    "print(lista3)"
   ]
  },
  {
   "cell_type": "code",
   "execution_count": null,
   "id": "02504d7f",
   "metadata": {},
   "outputs": [],
   "source": [
    "#Multiplica os elementos\n",
    "lista = lista * 3\n",
    "print(lista)"
   ]
  },
  {
   "cell_type": "code",
   "execution_count": null,
   "id": "08d78e73",
   "metadata": {},
   "outputs": [],
   "source": [
    "#Mesclando elementos de uma lista\n",
    "nome_lista = [\"Paulo\", \"Carvalho\" , \"de\", \"Medeiros\"]\n",
    "nome = ' '.join(nome_lista)#Mesclagem separada por um espaço\n",
    "print(nome)"
   ]
  },
  {
   "cell_type": "code",
   "execution_count": null,
   "id": "e5263869",
   "metadata": {},
   "outputs": [],
   "source": [
    "#Listas com enumerate\n",
    "cores = ['verde', 'amarelo', 'azul', 'branco']\n",
    "for index, cor in enumerate(cores):\n",
    "    print(f'Indice: {index}. Cor: {cor}.')\n",
    "print(list(enumerate(cores)))"
   ]
  },
  {
   "cell_type": "code",
   "execution_count": null,
   "id": "473b01c8",
   "metadata": {},
   "outputs": [],
   "source": [
    "#Retorna o indice do primeiro elemento encotrado.\n",
    "print(cores.index('verde'))\n",
    "print(cores.index('amarelo', 1)) #busca a partir do índice 1.\n",
    "print(cores.index('azul', 0, 3)) #entre 0 e 3"
   ]
  },
  {
   "cell_type": "code",
   "execution_count": null,
   "id": "269abcd0",
   "metadata": {},
   "outputs": [],
   "source": [
    "#Slice de listas [inicio:fim:passo]\n",
    "#Todos o elemento iniciando em 1, de 2 em 2\n",
    "lista = [1,2,3,4,5,6,7,8]\n",
    "print(lista[1::2])\n",
    "\n",
    "#Mostrando a lista revertida\n",
    "#Todos os elementos de -1 em -1 \n",
    "print(lista[::-1])"
   ]
  },
  {
   "cell_type": "code",
   "execution_count": null,
   "id": "bb01b281",
   "metadata": {},
   "outputs": [],
   "source": [
    "#Desempacotamento de lista\n",
    "lista = [1,2,3]\n",
    "num1, num2, num3 = lista\n",
    "print(f'{num1}, {num2} e {num3}.')\n"
   ]
  },
  {
   "cell_type": "code",
   "execution_count": null,
   "id": "b5c71823",
   "metadata": {},
   "outputs": [],
   "source": [
    "#Tamanho da lista\n",
    "print(len(lista))\n",
    "#Soma, máximo e mínimo (se todos os elemetos forem números reais)\n",
    "print(sum(lista))\n",
    "print(max(lista))\n",
    "print(min(lista))"
   ]
  }
 ],
 "metadata": {
  "kernelspec": {
   "display_name": "Python 3",
   "language": "python",
   "name": "python3"
  },
  "language_info": {
   "codemirror_mode": {
    "name": "ipython",
    "version": 3
   },
   "file_extension": ".py",
   "mimetype": "text/x-python",
   "name": "python",
   "nbconvert_exporter": "python",
   "pygments_lexer": "ipython3",
   "version": "3.12.4"
  }
 },
 "nbformat": 4,
 "nbformat_minor": 5
}
