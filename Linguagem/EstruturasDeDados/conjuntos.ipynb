{
 "cells": [
  {
   "cell_type": "code",
   "execution_count": 1,
   "metadata": {},
   "outputs": [
    {
     "name": "stdout",
     "output_type": "stream",
     "text": [
      "b\n",
      "1\n",
      "35.52\n",
      "44\n"
     ]
    }
   ],
   "source": [
    "#Sets não possuem valores repetidos\n",
    "#Sets não são acessíveis por índice\n",
    "#Sets guardam a ordenação\n",
    "\n",
    "conjunto = {1, 'b', 35.52, 44}\n",
    "\n",
    "for valor in conjunto:\n",
    "    print(valor)"
   ]
  },
  {
   "cell_type": "code",
   "execution_count": 4,
   "metadata": {},
   "outputs": [
    {
     "name": "stdout",
     "output_type": "stream",
     "text": [
      "{35.52, 44}\n"
     ]
    }
   ],
   "source": [
    "conjunto = {1, 'b', 35.52, 44}\n",
    "\n",
    "conjunto.remove('b') #Gera KeyError caso não seja encontrado o elemento\n",
    "conjunto.discard(1) # não há geração de erro\n",
    "\n",
    "print(conjunto)\n"
   ]
  },
  {
   "cell_type": "code",
   "execution_count": 5,
   "metadata": {},
   "outputs": [
    {
     "name": "stdout",
     "output_type": "stream",
     "text": [
      "{33, 44, 77, 22, 55, 87, 25}\n"
     ]
    }
   ],
   "source": [
    "conjunto_a = {22,33,44,55,77}\n",
    "conjunto_b = {25, 33, 44, 87}\n",
    "\n",
    "uniao = conjunto_a.union(conjunto_b)\n",
    "#uniao = conjunto_a | conjunto_b \n",
    "\n",
    "print(uniao)"
   ]
  },
  {
   "cell_type": "code",
   "execution_count": 6,
   "metadata": {},
   "outputs": [
    {
     "name": "stdout",
     "output_type": "stream",
     "text": [
      "{33, 44}\n"
     ]
    }
   ],
   "source": [
    "conjunto_a = {22,33,44,55,77}\n",
    "conjunto_b = {25, 33, 44, 87}\n",
    "\n",
    "intercecao = conjunto_a.intersection(conjunto_b)\n",
    "#intercecao = conjunto_a & conjunto_b\n",
    "\n",
    "print(intercecao)"
   ]
  },
  {
   "cell_type": "code",
   "execution_count": 9,
   "metadata": {},
   "outputs": [
    {
     "name": "stdout",
     "output_type": "stream",
     "text": [
      "{77, 22, 55}\n"
     ]
    }
   ],
   "source": [
    "conjunto_a = {22,33,44,55,77}\n",
    "conjunto_b = {25, 33, 44, 87}\n",
    "\n",
    "diferenca = conjunto_a.difference(conjunto_b)\n",
    "\n",
    "print(diferenca)"
   ]
  },
  {
   "cell_type": "code",
   "execution_count": null,
   "metadata": {},
   "outputs": [],
   "source": []
  }
 ],
 "metadata": {
  "kernelspec": {
   "display_name": "Python 3",
   "language": "python",
   "name": "python3"
  },
  "language_info": {
   "codemirror_mode": {
    "name": "ipython",
    "version": 3
   },
   "file_extension": ".py",
   "mimetype": "text/x-python",
   "name": "python",
   "nbconvert_exporter": "python",
   "pygments_lexer": "ipython3",
   "version": "3.12.4"
  }
 },
 "nbformat": 4,
 "nbformat_minor": 2
}
