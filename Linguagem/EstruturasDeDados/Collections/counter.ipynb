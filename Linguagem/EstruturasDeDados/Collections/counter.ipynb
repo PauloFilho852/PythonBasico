{
 "cells": [
  {
   "cell_type": "code",
   "execution_count": 1,
   "metadata": {},
   "outputs": [],
   "source": [
    "from collections import Counter "
   ]
  },
  {
   "cell_type": "code",
   "execution_count": 2,
   "metadata": {},
   "outputs": [
    {
     "name": "stdout",
     "output_type": "stream",
     "text": [
      "<class 'collections.Counter'>\n",
      "Counter({1: 6, 2: 2, 70: 2, 55: 1})\n"
     ]
    }
   ],
   "source": [
    "lista = [1,1,1,1,1,1,2,2,55,70,70]\n",
    "\n",
    "counter = Counter(lista)\n",
    "\n",
    "print(type(counter))\n",
    "print(counter)"
   ]
  },
  {
   "cell_type": "code",
   "execution_count": 3,
   "metadata": {},
   "outputs": [
    {
     "name": "stdout",
     "output_type": "stream",
     "text": [
      "Counter({'l': 2, 'o': 2, 'P': 1, 'a': 1, 'u': 1, ' ': 1, 'F': 1, 'i': 1, 'h': 1})\n"
     ]
    }
   ],
   "source": [
    "print(Counter(\"Paulo Filho\"))"
   ]
  },
  {
   "cell_type": "code",
   "execution_count": 4,
   "metadata": {},
   "outputs": [
    {
     "name": "stdout",
     "output_type": "stream",
     "text": [
      "[(1, 6), (2, 2), (70, 2)]\n"
     ]
    }
   ],
   "source": [
    "lista = [1,1,1,1,1,1,2,2,55,70,70]\n",
    "\n",
    "counter = Counter(lista)\n",
    "\n",
    "print(counter.most_common(3))"
   ]
  }
 ],
 "metadata": {
  "kernelspec": {
   "display_name": "Python 3",
   "language": "python",
   "name": "python3"
  },
  "language_info": {
   "codemirror_mode": {
    "name": "ipython",
    "version": 3
   },
   "file_extension": ".py",
   "mimetype": "text/x-python",
   "name": "python",
   "nbconvert_exporter": "python",
   "pygments_lexer": "ipython3",
   "version": "3.12.4"
  }
 },
 "nbformat": 4,
 "nbformat_minor": 2
}
