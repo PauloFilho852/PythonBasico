{
 "cells": [
  {
   "cell_type": "code",
   "execution_count": 2,
   "id": "745b3adb",
   "metadata": {},
   "outputs": [],
   "source": [
    "from collections import namedtuple"
   ]
  },
  {
   "cell_type": "code",
   "execution_count": 10,
   "id": "e590e208",
   "metadata": {},
   "outputs": [
    {
     "name": "stdout",
     "output_type": "stream",
     "text": [
      "cachorro(idade=2, raca='Chow-Chow', nome='Ray')\n",
      "Idade: 2.\n",
      "Nome: Ray.\n",
      "Indice da raça: 1\n"
     ]
    }
   ],
   "source": [
    "cachorro = namedtuple('cachorro', ['idade', 'raca', 'nome'])\n",
    "ray = cachorro(idade=2, raca = 'Chow-Chow', nome = 'Ray')\n",
    "print(ray)\n",
    "print(f'Idade: {ray[0]}.')\n",
    "print(f'Nome: {ray.nome}.')\n",
    "index = ray.index('Chow-Chow')\n",
    "print(f'Indice da raça: {index}')"
   ]
  },
  {
   "cell_type": "code",
   "execution_count": 11,
   "id": "859cecc8",
   "metadata": {},
   "outputs": [
    {
     "name": "stdout",
     "output_type": "stream",
     "text": [
      "1\n"
     ]
    }
   ],
   "source": [
    "cachorro = namedtuple('cachorro', ['idade', 'raca', 'nome'])\n",
    "ray = cachorro(idade=2, raca = 'Chow-Chow', nome = 'Ray')\n",
    "print(ray.count('Chow-Chow'))"
   ]
  }
 ],
 "metadata": {
  "kernelspec": {
   "display_name": "Python 3",
   "language": "python",
   "name": "python3"
  },
  "language_info": {
   "codemirror_mode": {
    "name": "ipython",
    "version": 3
   },
   "file_extension": ".py",
   "mimetype": "text/x-python",
   "name": "python",
   "nbconvert_exporter": "python",
   "pygments_lexer": "ipython3",
   "version": "3.8.8"
  }
 },
 "nbformat": 4,
 "nbformat_minor": 5
}
