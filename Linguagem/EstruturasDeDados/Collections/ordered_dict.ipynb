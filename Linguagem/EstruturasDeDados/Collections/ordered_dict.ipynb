{
 "cells": [
  {
   "cell_type": "code",
   "execution_count": 1,
   "metadata": {},
   "outputs": [],
   "source": [
    "from collections import OrderedDict"
   ]
  },
  {
   "cell_type": "code",
   "execution_count": 2,
   "metadata": {},
   "outputs": [
    {
     "name": "stdout",
     "output_type": "stream",
     "text": [
      "Chave: a. Valor: 1.\n",
      "Chave: b. Valor: 2.\n",
      "Chave: c. Valor: 3.\n",
      "Chave: d. Valor: 4.\n",
      "Chave: e. Valor: 5.\n"
     ]
    }
   ],
   "source": [
    "#OrderedDict garante a ordem dos elementos. A ordem dos elementos é critério\n",
    "#de identificação em uma operação relacional (tal como dict1 == dict2).\n",
    "dicionario = OrderedDict({'a':1, 'b': 2, 'c': 3, 'd': 4, 'e': 5})\n",
    "\n",
    "for key, value in dicionario.items():\n",
    "    print(f'Chave: {key}. Valor: {value}.')"
   ]
  }
 ],
 "metadata": {
  "kernelspec": {
   "display_name": "Python 3",
   "language": "python",
   "name": "python3"
  },
  "language_info": {
   "codemirror_mode": {
    "name": "ipython",
    "version": 3
   },
   "file_extension": ".py",
   "mimetype": "text/x-python",
   "name": "python",
   "nbconvert_exporter": "python",
   "pygments_lexer": "ipython3",
   "version": "3.12.4"
  }
 },
 "nbformat": 4,
 "nbformat_minor": 2
}
