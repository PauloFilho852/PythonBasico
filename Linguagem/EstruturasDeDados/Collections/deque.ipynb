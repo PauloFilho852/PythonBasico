{
 "cells": [
  {
   "cell_type": "code",
   "execution_count": 2,
   "id": "f85785af",
   "metadata": {},
   "outputs": [],
   "source": [
    "from collections import deque"
   ]
  },
  {
   "cell_type": "code",
   "execution_count": 3,
   "id": "eda9e01c",
   "metadata": {},
   "outputs": [
    {
     "name": "stdout",
     "output_type": "stream",
     "text": [
      "deque(['g', 'e', 'e', 'k'])\n"
     ]
    }
   ],
   "source": [
    "deq = deque('geek')\n",
    "print(deq)"
   ]
  },
  {
   "cell_type": "code",
   "execution_count": 6,
   "id": "9af82742",
   "metadata": {},
   "outputs": [
    {
     "name": "stdout",
     "output_type": "stream",
     "text": [
      "deque(['i', 'g', 'e', 'e', 'k', 'y'])\n",
      "deque(['g', 'e', 'e', 'k'])\n"
     ]
    }
   ],
   "source": [
    "deq = deque('geek')\n",
    "deq.append('y') #adiciona no fim\n",
    "deq.appendleft('i')\n",
    "print(deq)\n",
    "deq.pop() # remove o último elemento (mais às direita)\n",
    "deq.popleft() #remove primeiro elemtento\n",
    "print(deq)"
   ]
  }
 ],
 "metadata": {
  "kernelspec": {
   "display_name": "Python 3",
   "language": "python",
   "name": "python3"
  },
  "language_info": {
   "codemirror_mode": {
    "name": "ipython",
    "version": 3
   },
   "file_extension": ".py",
   "mimetype": "text/x-python",
   "name": "python",
   "nbconvert_exporter": "python",
   "pygments_lexer": "ipython3",
   "version": "3.8.8"
  }
 },
 "nbformat": 4,
 "nbformat_minor": 5
}
