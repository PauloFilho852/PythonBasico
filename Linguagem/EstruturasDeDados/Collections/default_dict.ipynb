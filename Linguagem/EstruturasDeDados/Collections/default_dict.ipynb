{
 "cells": [
  {
   "cell_type": "code",
   "execution_count": 1,
   "metadata": {},
   "outputs": [],
   "source": [
    "from collections import defaultdict"
   ]
  },
  {
   "cell_type": "code",
   "execution_count": 2,
   "metadata": {},
   "outputs": [
    {
     "name": "stdout",
     "output_type": "stream",
     "text": [
      "Programação em Python: Essencial.\n",
      "0\n",
      "defaultdict(<function <lambda> at 0x00000158DD552520>, {'curso': 'Programação em Python: Essencial.', 'invalidkey': 0})\n"
     ]
    }
   ],
   "source": [
    "#Valor padrão adicionado ao se tentar acessar um chave inválida\n",
    "dicionario = defaultdict(lambda:0)\n",
    "dicionario['curso'] = 'Programação em Python: Essencial.'\n",
    "\n",
    "print(dicionario['curso'])\n",
    "print(dicionario['invalidkey'])\n",
    "\n",
    "print(dicionario)"
   ]
  }
 ],
 "metadata": {
  "kernelspec": {
   "display_name": "Python 3",
   "language": "python",
   "name": "python3"
  },
  "language_info": {
   "codemirror_mode": {
    "name": "ipython",
    "version": 3
   },
   "file_extension": ".py",
   "mimetype": "text/x-python",
   "name": "python",
   "nbconvert_exporter": "python",
   "pygments_lexer": "ipython3",
   "version": "3.12.4"
  }
 },
 "nbformat": 4,
 "nbformat_minor": 2
}
