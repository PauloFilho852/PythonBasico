{
 "cells": [
  {
   "cell_type": "code",
   "execution_count": 1,
   "metadata": {},
   "outputs": [
    {
     "name": "stdout",
     "output_type": "stream",
     "text": [
      "10000000\n",
      "<class 'int'>\n"
     ]
    }
   ],
   "source": [
    "\n",
    "#Tipo inteiro\n",
    "num = 10_000_000\n",
    "print(num)\n",
    "print(type(num))"
   ]
  },
  {
   "cell_type": "code",
   "execution_count": 2,
   "metadata": {},
   "outputs": [
    {
     "name": "stdout",
     "output_type": "stream",
     "text": [
      "1267650600228229401496703205376\n",
      "<class 'int'>\n"
     ]
    }
   ],
   "source": [
    "#Em Python não há a limitação a 64 bits\n",
    "numero_muito_longo = 2 ** 100\n",
    "print(numero_muito_longo)\n",
    "print(type(numero_muito_longo))"
   ]
  },
  {
   "cell_type": "code",
   "execution_count": 3,
   "metadata": {},
   "outputs": [
    {
     "name": "stdout",
     "output_type": "stream",
     "text": [
      "2.44\n",
      "<class 'float'>\n"
     ]
    }
   ],
   "source": [
    "#Tipo float\n",
    "float_num = 2.44\n",
    "print(float_num)\n",
    "print(type(float_num))"
   ]
  },
  {
   "cell_type": "code",
   "execution_count": 4,
   "metadata": {},
   "outputs": [
    {
     "name": "stdout",
     "output_type": "stream",
     "text": [
      "(5+2j)\n",
      "<class 'complex'>\n"
     ]
    }
   ],
   "source": [
    "#Números complexos\n",
    "complex_num = 5 + 2j\n",
    "print(complex_num)\n",
    "print(type(complex_num))"
   ]
  },
  {
   "cell_type": "code",
   "execution_count": 5,
   "metadata": {},
   "outputs": [
    {
     "name": "stdout",
     "output_type": "stream",
     "text": [
      "bool1: True. bool2: False.\n",
      "<class 'bool'>\n"
     ]
    }
   ],
   "source": [
    "#Tipo boolenado\n",
    "bool1 = True\n",
    "bool2 = False\n",
    "print(f'bool1: {bool1}. bool2: {bool2}.')\n",
    "print(type(bool1))"
   ]
  },
  {
   "cell_type": "code",
   "execution_count": 7,
   "metadata": {},
   "outputs": [
    {
     "name": "stdout",
     "output_type": "stream",
     "text": [
      "\n",
      "Esta é uma string\n",
      "de várias linhas\n",
      "\n",
      "ola, mundo!\n"
     ]
    }
   ],
   "source": [
    "#Tipo string\n",
    "multiline = \"\"\"\n",
    "Esta é uma string\n",
    "de várias linhas\n",
    "\"\"\"\n",
    "simpleline = 'ola, mundo!'\n",
    "\n",
    "print(multiline)\n",
    "print(simpleline)"
   ]
  },
  {
   "cell_type": "code",
   "execution_count": 1,
   "metadata": {},
   "outputs": [
    {
     "name": "stdout",
     "output_type": "stream",
     "text": [
      "None is false.\n"
     ]
    }
   ],
   "source": [
    "#None quer dizer que o tipo não esta definido. Seu valor expressão condicional é False\n",
    "none = None\n",
    "\n",
    "if none:\n",
    "    print('None is True.')\n",
    "else:\n",
    "    print('None is false.')\n",
    "\n"
   ]
  }
 ],
 "metadata": {
  "kernelspec": {
   "display_name": "Python 3",
   "language": "python",
   "name": "python3"
  },
  "language_info": {
   "codemirror_mode": {
    "name": "ipython",
    "version": 3
   },
   "file_extension": ".py",
   "mimetype": "text/x-python",
   "name": "python",
   "nbconvert_exporter": "python",
   "pygments_lexer": "ipython3",
   "version": "3.12.4"
  }
 },
 "nbformat": 4,
 "nbformat_minor": 2
}
