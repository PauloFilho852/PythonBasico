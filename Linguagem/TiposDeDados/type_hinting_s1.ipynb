{
 "cells": [
  {
   "cell_type": "code",
   "execution_count": 2,
   "metadata": {},
   "outputs": [
    {
     "name": "stdout",
     "output_type": "stream",
     "text": [
      "15\n",
      "True\n",
      "{'a': <class 'str'>, 'b': <class 'int'>, 'return': <class 'int'>}\n",
      "{'x': <class 'str'>, 'y': <class 'int'>, 'z': <class 'bool'>}\n"
     ]
    }
   ],
   "source": [
    "#Type Hinting (dica de tipo) não é tipagem estática. Não há restrições do interpretador Python.\n",
    "#O tipo são verificados com o comando mypy\n",
    "def function(a: str, b: int) -> int:\n",
    "    c: int = int(a) + b\n",
    "    return c\n",
    "\n",
    "x: str = '10'\n",
    "y: int = 5\n",
    "z: bool = False\n",
    "\n",
    "print(function(x,y))\n",
    "\n",
    "x = True #Definindo um novo tipo para variável x.\n",
    "\n",
    "print(x)\n",
    "\n",
    "print(function.__annotations__)#Exibindo os tipos de parâmetros e retorno da função\n",
    "\n",
    "print(__annotations__)#Exibindo os tipos das variáveis globais"
   ]
  },
  {
   "cell_type": "code",
   "execution_count": 3,
   "metadata": {},
   "outputs": [
    {
     "name": "stdout",
     "output_type": "stream",
     "text": [
      "Paulo\n",
      "Filho\n",
      "4\n",
      "6\n"
     ]
    }
   ],
   "source": [
    "lista: list[str] = ['Paulo', 'Filho'] # Na lista declara-se apenas um tipo que define todos os elementos\n",
    "tupla: tuple[int, int] = (4,6) # Na tupla é necessário indicar o tipo de cada elemento.\n",
    "\n",
    "for item in lista:\n",
    "    print(item)\n",
    "\n",
    "for item in tupla:\n",
    "    print(item)"
   ]
  }
 ],
 "metadata": {
  "kernelspec": {
   "display_name": "venv",
   "language": "python",
   "name": "python3"
  },
  "language_info": {
   "codemirror_mode": {
    "name": "ipython",
    "version": 3
   },
   "file_extension": ".py",
   "mimetype": "text/x-python",
   "name": "python",
   "nbconvert_exporter": "python",
   "pygments_lexer": "ipython3",
   "version": "3.12.4"
  }
 },
 "nbformat": 4,
 "nbformat_minor": 2
}
