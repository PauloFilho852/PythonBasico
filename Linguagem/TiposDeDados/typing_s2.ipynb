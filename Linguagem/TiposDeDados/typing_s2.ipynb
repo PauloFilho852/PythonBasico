{
 "cells": [
  {
   "cell_type": "code",
   "execution_count": 1,
   "id": "5b6b1ab3",
   "metadata": {},
   "outputs": [],
   "source": [
    "#A verificação de tipos com as classes do módulo typing são feitas executando o código com mypy."
   ]
  },
  {
   "cell_type": "code",
   "execution_count": 1,
   "id": "4065542a",
   "metadata": {},
   "outputs": [
    {
     "data": {
      "text/plain": [
       "'algo'"
      ]
     },
     "execution_count": 1,
     "metadata": {},
     "output_type": "execute_result"
    }
   ],
   "source": [
    "from typing import Literal\n",
    "\n",
    "#verificação dos valores definidos por Literal['conectado', desconectado]\n",
    "#Devendo ser 'conectado' ou 'desconectado'.\n",
    "\n",
    "def retornar_stastus(usurario) -> Literal['conectado', 'desconectado']:\n",
    "    return 'algo'\n",
    "\n",
    "retornar_stastus('Paulo')"
   ]
  },
  {
   "cell_type": "code",
   "execution_count": 2,
   "id": "fd5f3889",
   "metadata": {},
   "outputs": [
    {
     "name": "stdout",
     "output_type": "stream",
     "text": [
      "5 + 3 = 8\n"
     ]
    }
   ],
   "source": [
    "#validação dos valores definidos por Literal['+', '-']\n",
    "#Devendo ser '+' ou '-'\n",
    "\n",
    "def calcular_v1(operacao: Literal['+', '-'], num1: int, num2: int) -> None:\n",
    "    if operacao == '+':\n",
    "        print(f'{num1} + {num2} = {num1 + num2}')\n",
    "    elif operacao == '-':\n",
    "        print(f'{num1} - {num2} = {num1 - num2}')\n",
    "    else:\n",
    "        raise ValueError(f'Operação inválida: {operacao!r}') #!r -> coloca aspas simples na string operacao.    \n",
    "\n",
    "    \n",
    "calcular_v1('+', 5, 3)"
   ]
  },
  {
   "cell_type": "code",
   "execution_count": 14,
   "id": "dbbbd1d8",
   "metadata": {},
   "outputs": [
    {
     "data": {
      "text/plain": [
       "10"
      ]
     },
     "execution_count": 14,
     "metadata": {},
     "output_type": "execute_result"
    }
   ],
   "source": [
    "from typing import Union\n",
    "\n",
    "#O retorno da função deve ser do tipo str ou do tipo int\n",
    "\n",
    "def somar(num1: int, num2: int) -> Union[str, int]: \n",
    "    resultado = num1 + num2\n",
    "    \n",
    "    return resultado\n",
    "    \n",
    "somar(5, 5)\n",
    "    "
   ]
  },
  {
   "cell_type": "code",
   "execution_count": null,
   "id": "f5b77e54",
   "metadata": {},
   "outputs": [],
   "source": [
    "from typing import Final\n",
    "\n",
    "#Criando constantes \n",
    "\n",
    "NOME: Final = 'Constante'\n",
    "\n",
    "print(NOME)\n",
    "\n",
    "NOME = 'outro valor'#mypy indica que é um constate."
   ]
  },
  {
   "cell_type": "code",
   "execution_count": null,
   "id": "6382a445",
   "metadata": {},
   "outputs": [],
   "source": [
    "from typing import final\n",
    "\n",
    "#Nenhuma outra classe pode extender a classe pessoa.\n",
    "@final\n",
    "class Pessoa:\n",
    "    pass\n",
    "    \n",
    "    #Esse método não pode ser sobrescrito.\n",
    "    @final\n",
    "    def estudar(self):\n",
    "        print('Estudando e estagiando...')"
   ]
  },
  {
   "cell_type": "code",
   "execution_count": 18,
   "id": "c1c969f8",
   "metadata": {},
   "outputs": [
    {
     "name": "stdout",
     "output_type": "stream",
     "text": [
      "{'versao': '3.8.5', 'atualizacao': 2020}\n"
     ]
    }
   ],
   "source": [
    "from typing import TypedDict\n",
    "\n",
    "#O objeto da classe é um dicionário, com os tipos especificados.\n",
    "class Dict(TypedDict):\n",
    "   versao: str\n",
    "   atualizacao: int\n",
    "\n",
    "dic = Dict(versao = '3.8.5', atualizacao=2020)\n",
    "\n",
    "print(dic)        "
   ]
  },
  {
   "cell_type": "code",
   "execution_count": 21,
   "id": "9fb859c5",
   "metadata": {},
   "outputs": [
    {
     "name": "stdout",
     "output_type": "stream",
     "text": [
      "Driving a car!\n",
      "Riding a bicycle!\n"
     ]
    }
   ],
   "source": [
    "from typing import Protocol\n",
    "\n",
    "# Definindo um protocolo que espera um método 'drive'\n",
    "class VehicleProtocol(Protocol):\n",
    "    def drive(self) -> None:\n",
    "        pass\n",
    "\n",
    "# Classes que implementam o protocolo, mas não herdam dele explicitamente\n",
    "class Car:\n",
    "    def drive(self) -> None:\n",
    "        print(\"Driving a car!\")\n",
    "\n",
    "class Bicycle:\n",
    "    def drive(self) -> None:\n",
    "        print(\"Riding a bicycle!\")\n",
    "\n",
    "# Função que aceita objetos que sigam o protocolo 'VehicleProtocol'\n",
    "def start_trip(vehicle: VehicleProtocol) -> None:\n",
    "    vehicle.drive()\n",
    "\n",
    "# Instâncias que possuem o método 'drive', portanto, seguem o protocolo\n",
    "car = Car()\n",
    "bike = Bicycle()\n",
    "\n",
    "# Chama a função com objetos que seguem o protocolo 'VehicleProtocol'\n",
    "start_trip(car)   # Saída: Driving a car!\n",
    "start_trip(bike)  # Saída: Riding a bicycle!"
   ]
  }
 ],
 "metadata": {
  "kernelspec": {
   "display_name": "venv",
   "language": "python",
   "name": "python3"
  },
  "language_info": {
   "codemirror_mode": {
    "name": "ipython",
    "version": 3
   },
   "file_extension": ".py",
   "mimetype": "text/x-python",
   "name": "python",
   "nbconvert_exporter": "python",
   "pygments_lexer": "ipython3",
   "version": "3.12.4"
  }
 },
 "nbformat": 4,
 "nbformat_minor": 5
}
