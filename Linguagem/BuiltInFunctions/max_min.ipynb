{
 "cells": [
  {
   "cell_type": "code",
   "execution_count": 4,
   "id": "407bb459",
   "metadata": {},
   "outputs": [
    {
     "name": "stdout",
     "output_type": "stream",
     "text": [
      "<class 'list'>: 10\n",
      "<class 'tuple'>: 10\n",
      "<class 'set'>: 10\n",
      "<class 'dict'>: 10\n"
     ]
    }
   ],
   "source": [
    "lista = list(range(11))\n",
    "tupla = tuple(lista)\n",
    "conjunto = set(tupla)\n",
    "dicionario = {str(value):value for value in range(11)}\n",
    "\n",
    "print(f'{type(lista)}: {max(lista)}')\n",
    "print(f'{type(tupla)}: {max(tupla)}')\n",
    "print(f'{type(conjunto)}: {max(conjunto)}')\n",
    "print(f'{type(dicionario)}: {max(dicionario.values())}')"
   ]
  },
  {
   "cell_type": "code",
   "execution_count": 6,
   "id": "2282e01c",
   "metadata": {},
   "outputs": [
    {
     "data": {
      "text/plain": [
       "10"
      ]
     },
     "execution_count": 6,
     "metadata": {},
     "output_type": "execute_result"
    }
   ],
   "source": [
    "max(1, 2, 3, 10)"
   ]
  },
  {
   "cell_type": "code",
   "execution_count": 7,
   "id": "d2d69ede",
   "metadata": {},
   "outputs": [
    {
     "data": {
      "text/plain": [
       "'e'"
      ]
     },
     "execution_count": 7,
     "metadata": {},
     "output_type": "execute_result"
    }
   ],
   "source": [
    "#Leva em conta a ordem alfabética\n",
    "max('e', 'a', 'd', 'b', 'c')"
   ]
  },
  {
   "cell_type": "code",
   "execution_count": 8,
   "id": "e8f5eeb2",
   "metadata": {},
   "outputs": [
    {
     "name": "stdout",
     "output_type": "stream",
     "text": [
      "<class 'list'>: 0\n",
      "<class 'tuple'>: 0\n",
      "<class 'set'>: 0\n",
      "<class 'dict'>: 0\n"
     ]
    }
   ],
   "source": [
    "lista = list(range(11))\n",
    "tupla = tuple(lista)\n",
    "conjunto = set(tupla)\n",
    "dicionario = {str(value):value for value in range(11)}\n",
    "\n",
    "print(f'{type(lista)}: {min(lista)}')\n",
    "print(f'{type(tupla)}: {min(tupla)}')\n",
    "print(f'{type(conjunto)}: {min(conjunto)}')\n",
    "print(f'{type(dicionario)}: {min(dicionario.values())}')"
   ]
  },
  {
   "cell_type": "code",
   "execution_count": 9,
   "id": "5954520a",
   "metadata": {},
   "outputs": [
    {
     "data": {
      "text/plain": [
       "1"
      ]
     },
     "execution_count": 9,
     "metadata": {},
     "output_type": "execute_result"
    }
   ],
   "source": [
    "min(1, 2, 3, 10)"
   ]
  },
  {
   "cell_type": "code",
   "execution_count": 10,
   "id": "da63a1bf",
   "metadata": {},
   "outputs": [
    {
     "data": {
      "text/plain": [
       "'a'"
      ]
     },
     "execution_count": 10,
     "metadata": {},
     "output_type": "execute_result"
    }
   ],
   "source": [
    "#Leva em conta a ordem alfabética\n",
    "min('e', 'a', 'd', 'b', 'c')"
   ]
  },
  {
   "cell_type": "code",
   "execution_count": 11,
   "id": "6eabc192",
   "metadata": {},
   "outputs": [
    {
     "name": "stdout",
     "output_type": "stream",
     "text": [
      "Tim\n",
      "Arya\n"
     ]
    }
   ],
   "source": [
    "#Leva em conta a ordem alfabética\n",
    "nomes = ['Arya', 'Samson', 'Dora', 'Tim', 'Olivander']\n",
    "print(max(nomes))\n",
    "print(min(nomes))"
   ]
  },
  {
   "cell_type": "code",
   "execution_count": 12,
   "id": "97bd9cf2",
   "metadata": {},
   "outputs": [
    {
     "name": "stdout",
     "output_type": "stream",
     "text": [
      "Olivander\n"
     ]
    }
   ],
   "source": [
    "nomes = ['Arya', 'Samson', 'Dora', 'Tim', 'Olivander']\n",
    "print(max(nomes, key=lambda nome: len(nome)))"
   ]
  },
  {
   "cell_type": "code",
   "execution_count": 14,
   "id": "037da86b",
   "metadata": {},
   "outputs": [
    {
     "name": "stdout",
     "output_type": "stream",
     "text": [
      "{'titulo': 'Ana Lua', 'playcount': 32}\n"
     ]
    }
   ],
   "source": [
    "musicas = [\n",
    "    {'titulo': 'Índios', 'playcount':3},\n",
    "    {'titulo': 'Pais e Filhos', 'playcount':2},\n",
    "    {'titulo': 'Do lado de cá', 'playcount':4},\n",
    "    {'titulo': 'Ana Lua', 'playcount':32}\n",
    "]\n",
    "\n",
    "print(max(musicas, key = lambda musica:musica['playcount'] ))"
   ]
  },
  {
   "cell_type": "code",
   "execution_count": null,
   "id": "9933e316",
   "metadata": {},
   "outputs": [],
   "source": []
  }
 ],
 "metadata": {
  "kernelspec": {
   "display_name": "Python 3",
   "language": "python",
   "name": "python3"
  },
  "language_info": {
   "codemirror_mode": {
    "name": "ipython",
    "version": 3
   },
   "file_extension": ".py",
   "mimetype": "text/x-python",
   "name": "python",
   "nbconvert_exporter": "python",
   "pygments_lexer": "ipython3",
   "version": "3.8.8"
  }
 },
 "nbformat": 4,
 "nbformat_minor": 5
}
