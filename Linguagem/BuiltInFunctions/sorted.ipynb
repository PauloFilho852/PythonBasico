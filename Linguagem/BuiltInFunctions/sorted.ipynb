{
 "cells": [
  {
   "cell_type": "code",
   "execution_count": null,
   "id": "db89e16b",
   "metadata": {},
   "outputs": [],
   "source": [
    "#Podemos usar sorted() com qualquer iterável"
   ]
  },
  {
   "cell_type": "code",
   "execution_count": 7,
   "id": "154cfd53",
   "metadata": {},
   "outputs": [
    {
     "name": "stdout",
     "output_type": "stream",
     "text": [
      "[1, 4, 4, 6, 7, 8, 9, 52]\n"
     ]
    }
   ],
   "source": [
    "tupla = (1,4,52,7,4,8,9,6)\n",
    "result = sorted(tupla)\n",
    "print(result)"
   ]
  },
  {
   "cell_type": "code",
   "execution_count": 8,
   "id": "f0c3fd21",
   "metadata": {},
   "outputs": [
    {
     "name": "stdout",
     "output_type": "stream",
     "text": [
      "[52, 9, 8, 7, 6, 4, 4, 1]\n"
     ]
    }
   ],
   "source": [
    "tupla = (1,4,52,7,4,8,9,6)\n",
    "result = sorted(tupla, reverse = True)\n",
    "print(result)"
   ]
  },
  {
   "cell_type": "code",
   "execution_count": 13,
   "id": "5cbfcfa5",
   "metadata": {},
   "outputs": [
    {
     "name": "stdout",
     "output_type": "stream",
     "text": [
      "[{'username': 'bob123', 'tweets': []}, {'username': 'carla', 'tweets': ['Eu amo gato']}, {'username': 'doggo', 'tweets': ['Eu gosto de cachorros', 'Eu vou sair hoje.']}, {'username': 'gal', 'tweets': []}, {'username': 'jeff', 'tweets': []}, {'username': 'samuel', 'tweets': ['Eu adoro bolos', 'Eu adoro pizza']}]\n"
     ]
    }
   ],
   "source": [
    "usuarios = [\n",
    "    {\"username\": \"samuel\", \"tweets\": ['Eu adoro bolos', 'Eu adoro pizza']},\n",
    "    {\"username\": \"carla\", \"tweets\": ['Eu amo gato']},\n",
    "    {\"username\": \"jeff\", \"tweets\": []},\n",
    "    {\"username\": \"bob123\", \"tweets\": []},\n",
    "    {\"username\": \"doggo\", \"tweets\": ['Eu gosto de cachorros', 'Eu vou sair hoje.']},\n",
    "    {\"username\": \"gal\", \"tweets\": []},\n",
    "]\n",
    "\n",
    "print(sorted(usuarios, key=lambda usuarios:usuarios['username'], reverse = False))"
   ]
  },
  {
   "cell_type": "code",
   "execution_count": 15,
   "id": "f354e7d6",
   "metadata": {},
   "outputs": [
    {
     "name": "stdout",
     "output_type": "stream",
     "text": [
      "[{'titulo': 'Ana Lua', 'playcount': 32}, {'titulo': 'Do lado de cá', 'playcount': 4}, {'titulo': 'Índios', 'playcount': 3}, {'titulo': 'Pais e Filhos', 'playcount': 2}]\n"
     ]
    }
   ],
   "source": [
    "musicas = [\n",
    "    {'titulo': 'Índios', 'playcount':3},\n",
    "    {'titulo': 'Pais e Filhos', 'playcount':2},\n",
    "    {'titulo': 'Do lado de cá', 'playcount':4},\n",
    "    {'titulo': 'Ana Lua', 'playcount':32}\n",
    "]\n",
    "\n",
    "print(sorted(musicas, key = lambda musica:musica['playcount'], reverse = True))"
   ]
  }
 ],
 "metadata": {
  "kernelspec": {
   "display_name": "Python 3",
   "language": "python",
   "name": "python3"
  },
  "language_info": {
   "codemirror_mode": {
    "name": "ipython",
    "version": 3
   },
   "file_extension": ".py",
   "mimetype": "text/x-python",
   "name": "python",
   "nbconvert_exporter": "python",
   "pygments_lexer": "ipython3",
   "version": "3.8.8"
  }
 },
 "nbformat": 4,
 "nbformat_minor": 5
}
