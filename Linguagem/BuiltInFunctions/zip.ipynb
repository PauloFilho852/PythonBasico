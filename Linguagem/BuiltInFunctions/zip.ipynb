{
 "cells": [
  {
   "cell_type": "code",
   "execution_count": null,
   "id": "3de217f4",
   "metadata": {},
   "outputs": [],
   "source": [
    "#zip cria um objeto iterável chamado zip, que agrupa elementos dois ou mais interáveis no formato de tupla,\n",
    "#dentro de um iterável desejado"
   ]
  },
  {
   "cell_type": "code",
   "execution_count": 1,
   "id": "a7be4fb0",
   "metadata": {},
   "outputs": [
    {
     "name": "stdout",
     "output_type": "stream",
     "text": [
      "<zip object at 0x000001BF8246BFC0>\n",
      "<class 'zip'>\n",
      "[(1, 4, 'a'), (2, 5, 'b'), (3, 6, 'c')]\n",
      "[]\n"
     ]
    }
   ],
   "source": [
    "#Dentro de uma lista\n",
    "lista1 = [1, 2, 3]\n",
    "lista2 = [4, 5, 6]\n",
    "\n",
    "_zip = zip(lista1, lista2, 'abc')\n",
    "\n",
    "print(_zip)\n",
    "print(type(_zip))\n",
    "print(list(_zip))\n",
    "\n",
    "\n",
    "print(list(_zip))"
   ]
  },
  {
   "cell_type": "code",
   "execution_count": 3,
   "id": "d3589a61",
   "metadata": {},
   "outputs": [
    {
     "name": "stdout",
     "output_type": "stream",
     "text": [
      "<zip object at 0x00000274A398D2C0>\n",
      "<class 'zip'>\n",
      "{1: 4, 2: 5, 3: 6}\n",
      "[]\n"
     ]
    }
   ],
   "source": [
    "#Dentro de um dicionário\n",
    "lista1 = [1, 2, 3]\n",
    "lista2 = [4, 5, 6]\n",
    "\n",
    "_zip = zip(lista1, lista2)\n",
    "\n",
    "print(_zip)\n",
    "print(type(_zip))\n",
    "print(dict(_zip))\n",
    "\n",
    "#Após o uso o objeto é removido da memória\n",
    "print(list(_zip))"
   ]
  },
  {
   "cell_type": "code",
   "execution_count": 6,
   "id": "b050b9ac",
   "metadata": {},
   "outputs": [
    {
     "name": "stdout",
     "output_type": "stream",
     "text": [
      "[(1, 3, 7), (2, 4, 8)]\n"
     ]
    }
   ],
   "source": [
    "#Os agrupamentos são baseados no iterável de menor número de elementos\n",
    "lista1 = [1, 2]\n",
    "lista2 = [3, 4, 5, 6]\n",
    "lista3 = [7, 8, 9, 10, 11]\n",
    "_zip = zip(lista1, lista2, lista3)\n",
    "\n",
    "print(list(_zip))"
   ]
  },
  {
   "cell_type": "code",
   "execution_count": 8,
   "id": "331eb984",
   "metadata": {},
   "outputs": [
    {
     "name": "stdout",
     "output_type": "stream",
     "text": [
      "[(1, 6, 11), (2, 7, 12), (3, 8, 13), (4, 9, 14), (5, 10, 15)]\n"
     ]
    }
   ],
   "source": [
    "tupla = (1, 2, 3, 4, 5)\n",
    "lista = [6, 7, 8, 9, 10]\n",
    "dicionario = {'a':11, 'b':12, 'c':13, 'd':14, 'e': 15}\n",
    "\n",
    "_zip = zip(tupla, lista, dicionario.values())\n",
    "\n",
    "print(list(_zip))"
   ]
  },
  {
   "cell_type": "code",
   "execution_count": 9,
   "id": "a9478f24",
   "metadata": {},
   "outputs": [
    {
     "name": "stdout",
     "output_type": "stream",
     "text": [
      "{'maria': 98, 'pedro': 91, 'carla': 78}\n"
     ]
    }
   ],
   "source": [
    "prova1 = [80, 91, 78]\n",
    "prova2 = [98, 89, 53]\n",
    "alunos = ['maria', 'pedro', 'carla']\n",
    "\n",
    "final = {dado[0]:max(dado[1], dado[2]) for dado in zip(alunos, prova1, prova2)}\n",
    "print(final)"
   ]
  }
 ],
 "metadata": {
  "kernelspec": {
   "display_name": "Python 3",
   "language": "python",
   "name": "python3"
  },
  "language_info": {
   "codemirror_mode": {
    "name": "ipython",
    "version": 3
   },
   "file_extension": ".py",
   "mimetype": "text/x-python",
   "name": "python",
   "nbconvert_exporter": "python",
   "pygments_lexer": "ipython3",
   "version": "3.12.4"
  }
 },
 "nbformat": 4,
 "nbformat_minor": 5
}
