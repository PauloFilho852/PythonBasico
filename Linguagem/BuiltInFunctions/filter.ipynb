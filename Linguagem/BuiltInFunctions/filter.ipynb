{
 "cells": [
  {
   "cell_type": "code",
   "execution_count": 2,
   "id": "b4a2fef9",
   "metadata": {},
   "outputs": [],
   "source": [
    "import statistics "
   ]
  },
  {
   "cell_type": "code",
   "execution_count": 3,
   "id": "eb2bdad5",
   "metadata": {},
   "outputs": [
    {
     "name": "stdout",
     "output_type": "stream",
     "text": [
      "[2.7, 4.1]\n",
      "[]\n"
     ]
    }
   ],
   "source": [
    "dados = [1.3, 2.7, 0.8, 4.1, -0.1]\n",
    "\n",
    "mean = statistics.mean(dados)\n",
    "\n",
    "result = filter(lambda x: x > mean, dados)\n",
    "\n",
    "\n",
    "print(list(result))\n",
    "\n",
    "#result é retirado da memória após o uso por list\n",
    "print(list(result))"
   ]
  },
  {
   "cell_type": "code",
   "execution_count": 5,
   "id": "20e70363",
   "metadata": {},
   "outputs": [
    {
     "name": "stdout",
     "output_type": "stream",
     "text": [
      "['Argentina', 'Brasil', 'Chile', 'Colombia', 'Equador', 'Venezuela']\n"
     ]
    }
   ],
   "source": [
    "#Forma intuitiva\n",
    "paises = ['', 'Argentina', '', 'Brasil', 'Chile', '', 'Colombia', '', 'Equador', '', '', 'Venezuela']\n",
    "\n",
    "result = filter(lambda dado: dado != '', paises)\n",
    "\n",
    "print(list(result))"
   ]
  },
  {
   "cell_type": "code",
   "execution_count": 6,
   "id": "98265ee0",
   "metadata": {},
   "outputs": [
    {
     "name": "stdout",
     "output_type": "stream",
     "text": [
      "['Argentina', 'Brasil', 'Chile', 'Colombia', 'Equador', 'Venezuela']\n"
     ]
    }
   ],
   "source": [
    "#Forma não intuitiva\n",
    "paises = ['', 'Argentina', '', 'Brasil', 'Chile', '', 'Colombia', '', 'Equador', '', '', 'Venezuela']\n",
    "\n",
    "result = filter(None, paises)\n",
    "\n",
    "print(list(result))"
   ]
  },
  {
   "cell_type": "code",
   "execution_count": 8,
   "id": "4924ecd7",
   "metadata": {},
   "outputs": [
    {
     "name": "stdout",
     "output_type": "stream",
     "text": [
      "[{'username': 'jeff', 'tweets': []}, {'username': 'bob123', 'tweets': []}, {'username': 'gal', 'tweets': []}]\n"
     ]
    }
   ],
   "source": [
    "usuarios = [\n",
    "    {\"username\": \"samuel\", \"tweets\": ['Eu adoro bolos', 'Eu adoro pizza']},\n",
    "    {\"username\": \"carla\", \"tweets\": ['Eu amo gato']},\n",
    "    {\"username\": \"jeff\", \"tweets\": []},\n",
    "    {\"username\": \"bob123\", \"tweets\": []},\n",
    "    {\"username\": \"doggo\", \"tweets\": ['Eu gosto de cachorros', 'Eu vou sair hoje.']},\n",
    "    {\"username\": \"gal\", \"tweets\": []},\n",
    "]\n",
    "\n",
    "inativos = list(filter(lambda usuario: len(usuario['tweets']) ==  0, usuarios))\n",
    "print(inativos)"
   ]
  },
  {
   "cell_type": "code",
   "execution_count": 13,
   "id": "55d4da26",
   "metadata": {},
   "outputs": [
    {
     "name": "stdout",
     "output_type": "stream",
     "text": [
      "['Sua intrutora é Ana.']\n"
     ]
    }
   ],
   "source": [
    "#map e filter\n",
    "nomes = ['Vanessa', 'Ana', 'Maria']\n",
    "\n",
    "#Cria uma lista contendo 'Sua intrutora é' + nome, desde que cada nome tenhe menos de 5 caracteres\n",
    "#O segundo argumento de map é um iteravel provindo de um filter, que usa o iteral nomes\n",
    "lista = list(map(lambda nome: f'Sua intrutora é {nome}.', filter(lambda nome: len(nome) < 5, nomes)))\n",
    "\n",
    "\n",
    "print(lista)"
   ]
  }
 ],
 "metadata": {
  "kernelspec": {
   "display_name": "Python 3",
   "language": "python",
   "name": "python3"
  },
  "language_info": {
   "codemirror_mode": {
    "name": "ipython",
    "version": 3
   },
   "file_extension": ".py",
   "mimetype": "text/x-python",
   "name": "python",
   "nbconvert_exporter": "python",
   "pygments_lexer": "ipython3",
   "version": "3.8.8"
  }
 },
 "nbformat": 4,
 "nbformat_minor": 5
}
