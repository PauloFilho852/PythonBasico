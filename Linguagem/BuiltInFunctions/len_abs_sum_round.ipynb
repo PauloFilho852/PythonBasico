{
 "cells": [
  {
   "cell_type": "code",
   "execution_count": 5,
   "id": "6f7fe3f5",
   "metadata": {},
   "outputs": [
    {
     "name": "stdout",
     "output_type": "stream",
     "text": [
      "15\n"
     ]
    }
   ],
   "source": [
    "#len retorna o tamanho de um iterável\n",
    "print(len('Geek University'))\n",
    "print(len(range(0,10)))"
   ]
  },
  {
   "cell_type": "code",
   "execution_count": 7,
   "id": "11b98f58",
   "metadata": {},
   "outputs": [
    {
     "name": "stdout",
     "output_type": "stream",
     "text": [
      "5\n"
     ]
    }
   ],
   "source": [
    "#abs retorna o valor absoluto de um número\n",
    "print(abs(-5))"
   ]
  },
  {
   "cell_type": "code",
   "execution_count": 8,
   "id": "2b0ad63b",
   "metadata": {},
   "outputs": [
    {
     "name": "stdout",
     "output_type": "stream",
     "text": [
      "15\n",
      "20\n"
     ]
    }
   ],
   "source": [
    "#sum retorna a soma total dos elementos (podendo ter um valor inicial como parâmetro de entrada)\n",
    "print(sum([1, 2, 3, 4, 5],))\n",
    "print(sum([1, 2, 3, 4, 5], 5))"
   ]
  },
  {
   "cell_type": "code",
   "execution_count": 9,
   "id": "674f2228",
   "metadata": {},
   "outputs": [
    {
     "name": "stdout",
     "output_type": "stream",
     "text": [
      "15\n"
     ]
    }
   ],
   "source": [
    "dicionario = {'a': 1, 'b': 2, 'c': 3, 'd': 4, 'e': 5}\n",
    "print(sum(dicionario.values()))"
   ]
  },
  {
   "cell_type": "code",
   "execution_count": 11,
   "id": "49e0c440",
   "metadata": {},
   "outputs": [
    {
     "name": "stdout",
     "output_type": "stream",
     "text": [
      "10\n",
      "10.28\n"
     ]
    }
   ],
   "source": [
    "#round retorna um número arredondado para n dígitos de precisão de casas decimais. Se a precisão for informada,\n",
    "#retorna o inteiro mais próximo da entrada\n",
    "print(round(10.2))\n",
    "print(round(10.27857, 2))"
   ]
  },
  {
   "cell_type": "code",
   "execution_count": null,
   "id": "324cb7c5",
   "metadata": {},
   "outputs": [],
   "source": []
  }
 ],
 "metadata": {
  "kernelspec": {
   "display_name": "Python 3",
   "language": "python",
   "name": "python3"
  },
  "language_info": {
   "codemirror_mode": {
    "name": "ipython",
    "version": 3
   },
   "file_extension": ".py",
   "mimetype": "text/x-python",
   "name": "python",
   "nbconvert_exporter": "python",
   "pygments_lexer": "ipython3",
   "version": "3.8.8"
  }
 },
 "nbformat": 4,
 "nbformat_minor": 5
}
