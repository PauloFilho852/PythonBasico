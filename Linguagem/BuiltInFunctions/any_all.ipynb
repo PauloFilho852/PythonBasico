{
 "cells": [
  {
   "cell_type": "code",
   "execution_count": 7,
   "id": "95469e9b",
   "metadata": {},
   "outputs": [
    {
     "name": "stdout",
     "output_type": "stream",
     "text": [
      "False\n",
      "True\n",
      "True\n"
     ]
    }
   ],
   "source": [
    "#ALL\n",
    "#Retorna True se todos os elementos forem representações de verdadeiro ou se o iteravel tiver vazio.\n",
    "print(all([0, 1, 2, 3, 4, 5]))#0 representa False, logo retorna False\n",
    "print(all([1, 2, 3, 4, 5]))# Retorna True\n",
    "print(all([]))#Retorna True"
   ]
  },
  {
   "cell_type": "code",
   "execution_count": 3,
   "id": "ca3d6e46",
   "metadata": {},
   "outputs": [
    {
     "name": "stdout",
     "output_type": "stream",
     "text": [
      "True\n",
      "True\n"
     ]
    }
   ],
   "source": [
    "print(all('olá_pyhton.'))\n",
    "print(all('olá python.'))"
   ]
  },
  {
   "cell_type": "code",
   "execution_count": 6,
   "id": "67595cdc",
   "metadata": {},
   "outputs": [
    {
     "name": "stdout",
     "output_type": "stream",
     "text": [
      "[True, True, True, True]\n",
      "True\n",
      "[True, True, True, True, False]\n",
      "False\n"
     ]
    }
   ],
   "source": [
    "nomes = ['Carlos', 'Camila', 'Cassiano', 'Cristina']\n",
    "\n",
    "\n",
    "#Todos começam com C (a comprehension retorna uma lista de booleanos)\n",
    "lista = [nome[0] == 'C' for nome in nomes]\n",
    "\n",
    "print(lista)\n",
    "print(all(lista)) \n",
    "\n",
    "nomes = ['Carlos', 'Camila', 'Cassiano', 'Cristina', 'Daniel']\n",
    "\n",
    "#Nem todos começam com C (a comprehension retorna uma lista de booleanos)\n",
    "lista = [nome[0] == 'C' for nome in nomes]\n",
    "\n",
    "print(lista)\n",
    "print(all(lista)) "
   ]
  },
  {
   "cell_type": "code",
   "execution_count": 2,
   "id": "05d10fd0",
   "metadata": {},
   "outputs": [
    {
     "name": "stdout",
     "output_type": "stream",
     "text": [
      "False\n",
      "True\n",
      "False\n"
     ]
    }
   ],
   "source": [
    "#ANY\n",
    "#Retorna True se qualquer elemento do iteravel for verdadeiro. Se o interavel estiver vazio, retorna false\n",
    "print(any([0, '', False, 0, None, 0]))#Representações de que podem ser convertida em False, logo retorna False\n",
    "print(any([0, 1, 0, 0, 0]))# Retorna True\n",
    "print(any([]))#Retorna False."
   ]
  }
 ],
 "metadata": {
  "kernelspec": {
   "display_name": "Python 3",
   "language": "python",
   "name": "python3"
  },
  "language_info": {
   "codemirror_mode": {
    "name": "ipython",
    "version": 3
   },
   "file_extension": ".py",
   "mimetype": "text/x-python",
   "name": "python",
   "nbconvert_exporter": "python",
   "pygments_lexer": "ipython3",
   "version": "3.8.8"
  }
 },
 "nbformat": 4,
 "nbformat_minor": 5
}
