{
 "cells": [
  {
   "cell_type": "code",
   "execution_count": 3,
   "id": "2d25a5fd",
   "metadata": {},
   "outputs": [],
   "source": [
    "import math"
   ]
  },
  {
   "cell_type": "code",
   "execution_count": 5,
   "id": "d0f4ecf0",
   "metadata": {},
   "outputs": [
    {
     "name": "stdout",
     "output_type": "stream",
     "text": [
      "12.566370614359172\n"
     ]
    }
   ],
   "source": [
    "def calcular_area_circulo(raio):\n",
    "    \"\"\" Caucula a área de um circulo o o raio fornecido.\"\"\"\n",
    "    return math.pi * (raio ** 2)\n",
    "\n",
    "print(calcular_area_circulo(2))"
   ]
  },
  {
   "cell_type": "code",
   "execution_count": 6,
   "id": "16adcdb5",
   "metadata": {},
   "outputs": [
    {
     "name": "stdout",
     "output_type": "stream",
     "text": [
      "[3.141592653589793, 12.566370614359172, 28.274333882308138, 50.26548245743669, 78.53981633974483]\n",
      "[]\n"
     ]
    }
   ],
   "source": [
    "raios = [1, 2, 3, 4, 5]\n",
    "areas = map(calcular_area_circulo, raios)\n",
    "\n",
    "print(list(areas))\n",
    "\n",
    "#Após uso, é retirado da memória.\n",
    "print(list(areas))"
   ]
  },
  {
   "cell_type": "code",
   "execution_count": 12,
   "id": "7427dd95",
   "metadata": {},
   "outputs": [
    {
     "name": "stdout",
     "output_type": "stream",
     "text": [
      "[3.141592653589793, 12.566370614359172, 28.274333882308138, 50.26548245743669, 78.53981633974483]\n"
     ]
    }
   ],
   "source": [
    "raios = [1, 2, 3, 4, 5]\n",
    "\n",
    "print(list(map(lambda raio: math.pi * (raio ** 2), raios)))"
   ]
  }
 ],
 "metadata": {
  "kernelspec": {
   "display_name": "Python 3",
   "language": "python",
   "name": "python3"
  },
  "language_info": {
   "codemirror_mode": {
    "name": "ipython",
    "version": 3
   },
   "file_extension": ".py",
   "mimetype": "text/x-python",
   "name": "python",
   "nbconvert_exporter": "python",
   "pygments_lexer": "ipython3",
   "version": "3.8.8"
  }
 },
 "nbformat": 4,
 "nbformat_minor": 5
}
