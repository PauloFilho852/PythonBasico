{
 "cells": [
  {
   "cell_type": "code",
   "execution_count": null,
   "id": "8f75756a",
   "metadata": {},
   "outputs": [],
   "source": [
    "#A função reversed() funciona com qualquer iterável."
   ]
  },
  {
   "cell_type": "code",
   "execution_count": 5,
   "id": "c6b8e806",
   "metadata": {},
   "outputs": [
    {
     "name": "stdout",
     "output_type": "stream",
     "text": [
      "<list_reverseiterator object at 0x00000212E4242490>\n",
      "<class 'list_reverseiterator'>\n",
      "[5, 4, 3, 2, 1]\n",
      "[]\n"
     ]
    }
   ],
   "source": [
    "lista = [1, 2, 3, 4, 5]\n",
    "\n",
    "#A função retorna um tipo list_reverseiterator\n",
    "resultado = reversed(lista)\n",
    "\n",
    "print(resultado)\n",
    "print(type(resultado))\n",
    "print(list(resultado))\n",
    "\n",
    "#Após ser utilizado o objeto é removido da memória\n",
    "print(list(resultado))"
   ]
  },
  {
   "cell_type": "code",
   "execution_count": 6,
   "id": "da029ae8",
   "metadata": {},
   "outputs": [
    {
     "name": "stdout",
     "output_type": "stream",
     "text": [
      "ytisrevinU keeG"
     ]
    }
   ],
   "source": [
    "for letra in reversed('Geek University'):\n",
    "    print(letra, end='') #Imprime todas as letras na mesma linha."
   ]
  },
  {
   "cell_type": "code",
   "execution_count": 7,
   "id": "522057a2",
   "metadata": {},
   "outputs": [
    {
     "name": "stdout",
     "output_type": "stream",
     "text": [
      "ytisrevinU keeG\n"
     ]
    }
   ],
   "source": [
    "print(''.join(list(reversed('Geek University'))))"
   ]
  },
  {
   "cell_type": "code",
   "execution_count": 9,
   "id": "350ba220",
   "metadata": {},
   "outputs": [
    {
     "name": "stdout",
     "output_type": "stream",
     "text": [
      "9\n",
      "8\n",
      "7\n",
      "6\n",
      "5\n",
      "4\n",
      "3\n",
      "2\n",
      "1\n",
      "0\n"
     ]
    }
   ],
   "source": [
    "for i in reversed(range(0,10)):\n",
    "    print(i)"
   ]
  }
 ],
 "metadata": {
  "kernelspec": {
   "display_name": "Python 3",
   "language": "python",
   "name": "python3"
  },
  "language_info": {
   "codemirror_mode": {
    "name": "ipython",
    "version": 3
   },
   "file_extension": ".py",
   "mimetype": "text/x-python",
   "name": "python",
   "nbconvert_exporter": "python",
   "pygments_lexer": "ipython3",
   "version": "3.8.8"
  }
 },
 "nbformat": 4,
 "nbformat_minor": 5
}
