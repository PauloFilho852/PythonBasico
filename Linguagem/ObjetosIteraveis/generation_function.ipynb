{
 "cells": [
  {
   "cell_type": "code",
   "execution_count": null,
   "id": "299bd17d",
   "metadata": {},
   "outputs": [],
   "source": [
    "#Generetors são tipos iteráveis (iterables) que também  são iterators"
   ]
  },
  {
   "cell_type": "code",
   "execution_count": 1,
   "id": "cf8ead66",
   "metadata": {},
   "outputs": [
    {
     "name": "stdout",
     "output_type": "stream",
     "text": [
      "<generator object conta_ate at 0x0000024B7BC37D00>\n",
      "1\n",
      "2\n",
      "3\n",
      "4\n",
      "5\n",
      "[1, 2, 3, 4, 5, 6, 7, 8, 9, 10]\n"
     ]
    }
   ],
   "source": [
    "#Generator Function\n",
    "\n",
    "def conta_ate(valor_maximo):\n",
    "    contador = 1\n",
    "    while contador <= valor_maximo:\n",
    "        yield contador\n",
    "        contador = contador + 1\n",
    "\n",
    "generator = conta_ate(5)\n",
    "\n",
    "print(generator)\n",
    "\n",
    "print(next(generator))\n",
    "\n",
    "for num in generator:\n",
    "    print(num)\n",
    "\n",
    "lista = list(conta_ate(10))\n",
    "print(lista)"
   ]
  }
 ],
 "metadata": {
  "kernelspec": {
   "display_name": "Python 3",
   "language": "python",
   "name": "python3"
  },
  "language_info": {
   "codemirror_mode": {
    "name": "ipython",
    "version": 3
   },
   "file_extension": ".py",
   "mimetype": "text/x-python",
   "name": "python",
   "nbconvert_exporter": "python",
   "pygments_lexer": "ipython3",
   "version": "3.12.4"
  }
 },
 "nbformat": 4,
 "nbformat_minor": 5
}
