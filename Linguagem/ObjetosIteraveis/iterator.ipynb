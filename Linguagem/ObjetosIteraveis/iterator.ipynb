{
 "cells": [
  {
   "cell_type": "code",
   "execution_count": null,
   "id": "84b6fa53",
   "metadata": {},
   "outputs": [],
   "source": [
    "#Iterable (iterável):\n",
    "#Retorna um iterator (iterador) por meio da funcão iter()\n",
    "\n",
    "#Iterator:\n",
    "#Retorna um elemento por vez por meio da função next()"
   ]
  },
  {
   "cell_type": "code",
   "execution_count": 10,
   "id": "32cb88db",
   "metadata": {},
   "outputs": [
    {
     "name": "stdout",
     "output_type": "stream",
     "text": [
      "<class 'list_iterator'>\n",
      "1\n",
      "2\n",
      "3\n",
      "4\n",
      "5\n",
      "6\n",
      "7\n",
      "8\n"
     ]
    }
   ],
   "source": [
    "#Iterable\n",
    "lista = [1, 2, 3, 4, 5, 6, 7, 8]\n",
    "\n",
    "#Iterator\n",
    "iterator = iter(lista)\n",
    "\n",
    "print(type(iterator))\n",
    "\n",
    "while True:\n",
    "    try:\n",
    "        print(next(iterator))\n",
    "    except StopIteration:\n",
    "        break"
   ]
  },
  {
   "cell_type": "code",
   "execution_count": 15,
   "id": "f7043f5d",
   "metadata": {},
   "outputs": [
    {
     "name": "stdout",
     "output_type": "stream",
     "text": [
      "1\n",
      "2\n",
      "3\n",
      "4\n",
      "5\n",
      "6\n",
      "7\n",
      "8\n",
      "9\n",
      "10\n",
      "[1, 2, 3, 4, 5, 6, 7, 8, 9, 10]\n"
     ]
    }
   ],
   "source": [
    "#Classe iterável (iterable)\n",
    "class Contador:\n",
    "    def __init__(self, menor, maior):\n",
    "        self.menor = menor\n",
    "        self.maior = maior\n",
    "            \n",
    "    def __iter__(self):\n",
    "        return self\n",
    "    \n",
    "    def __next__(self):\n",
    "        if self.menor < self.maior:\n",
    "            numero = self.menor\n",
    "            self.menor = self.menor + 1\n",
    "            return numero\n",
    "        raise StopIteration\n",
    "\n",
    "\n",
    "#Objeto iterável\n",
    "contador = Contador(1, 11)\n",
    "\n",
    "for num in contador:\n",
    "    print(num)\n",
    "    \n",
    "numeros = list(Contador(1,11))\n",
    "print(numeros)"
   ]
  }
 ],
 "metadata": {
  "kernelspec": {
   "display_name": "Python 3",
   "language": "python",
   "name": "python3"
  },
  "language_info": {
   "codemirror_mode": {
    "name": "ipython",
    "version": 3
   },
   "file_extension": ".py",
   "mimetype": "text/x-python",
   "name": "python",
   "nbconvert_exporter": "python",
   "pygments_lexer": "ipython3",
   "version": "3.8.8"
  }
 },
 "nbformat": 4,
 "nbformat_minor": 5
}
