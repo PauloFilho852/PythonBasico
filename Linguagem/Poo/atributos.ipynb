{
 "cells": [
  {
   "cell_type": "code",
   "execution_count": 17,
   "metadata": {},
   "outputs": [
    {
     "name": "stdout",
     "output_type": "stream",
     "text": [
      "127\n",
      "127\n",
      "220\n",
      "650\n",
      "pertence à classe não às instancias.\n"
     ]
    }
   ],
   "source": [
    "#Atributos e propriedades\n",
    "class Lampada:\n",
    "    \n",
    "    atributo_de_classe = 'pertence à classe não às instancias.'\n",
    "\n",
    "    def __init__(self, voltagem, potencia): #Construtor.\n",
    "        self.__voltagem = voltagem #Atributo de instância privado (convenção duplo underline).\n",
    "        self.potencia = potencia #Atributo de instância público.\n",
    "    \n",
    "    #Propriedades\n",
    "    @property\n",
    "    def voltagem(self) : #propriedade 'getter' de acesso ao atributo privado.\n",
    "        return self.__voltagem\n",
    "    \n",
    "    \n",
    "    @voltagem.setter #Propriedade 'setter' para modificação de atributos privados.\n",
    "    def voltagem(self, voltagem):\n",
    "        self.__voltagem = voltagem\n",
    "    \n",
    "\n",
    "lampada = Lampada(127, 650) #Cria instância\n",
    "\n",
    "print(lampada._Lampada__voltagem) #Acesso ao atributo privado (caso excepcional - Name Mangling).\n",
    "\n",
    "print(lampada.voltagem) #Acesso ao atributo privado por meio de propriedade 'getter' (caso comum).\n",
    "\n",
    "lampada.voltagem = 220 #Modificando atributo privado propriedade 'setter'.\n",
    "\n",
    "print(lampada.voltagem)\n",
    "\n",
    "print(lampada.potencia) #Acesso a atributo público.\n",
    "\n",
    "print(Lampada.atributo_de_classe) #Atributo de classe.\n"
   ]
  },
  {
   "cell_type": "code",
   "execution_count": 1,
   "metadata": {},
   "outputs": [
    {
     "name": "stdout",
     "output_type": "stream",
     "text": [
      "5\n",
      "{'_Lampada2__voltagem': 127, '_Lampada2__cor': 'branca', '_Lampada2__ligada': False, 'potencia': 650, 'atributo_dinamico': 5}\n",
      "{'_Lampada2__voltagem': 127, '_Lampada2__cor': 'branca', '_Lampada2__ligada': False}\n"
     ]
    }
   ],
   "source": [
    "#Atributos e propriedades\n",
    "class Lampada2:\n",
    "    \n",
    "    def __init__(self, voltagem, cor, potencia):\n",
    "        self.__voltagem = voltagem \n",
    "        self.__cor = cor\n",
    "        self.__ligada = False\n",
    "        self.potencia = potencia \n",
    "    \n",
    "lampada = Lampada2(127, 'branca', 650)\n",
    "        \n",
    "lampada.atributo_dinamico = 5 #Cria atributo dinâmico\n",
    "\n",
    "print(lampada.atributo_dinamico)\n",
    "\n",
    "print(lampada.__dict__) #Mostra os atributos da classe\n",
    "\n",
    "del lampada.atributo_dinamico #Apaga atributo dinâmico\n",
    "\n",
    "del lampada.potencia #Apaga atributo público\n",
    "\n",
    "print(lampada.__dict__)"
   ]
  }
 ],
 "metadata": {
  "kernelspec": {
   "display_name": "Python 3",
   "language": "python",
   "name": "python3"
  },
  "language_info": {
   "codemirror_mode": {
    "name": "ipython",
    "version": 3
   },
   "file_extension": ".py",
   "mimetype": "text/x-python",
   "name": "python",
   "nbconvert_exporter": "python",
   "pygments_lexer": "ipython3",
   "version": "3.12.4"
  }
 },
 "nbformat": 4,
 "nbformat_minor": 2
}
