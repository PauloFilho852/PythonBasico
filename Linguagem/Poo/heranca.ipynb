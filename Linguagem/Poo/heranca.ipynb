{
 "cells": [
  {
   "cell_type": "code",
   "execution_count": 16,
   "metadata": {},
   "outputs": [
    {
     "name": "stdout",
     "output_type": "stream",
     "text": [
      "Cliente Paulo. Nome: Paulo Filho. CPF: 125654. Renda: 5800\n",
      "Funcionário Paulo. Nome: Paulo Filho. CPF: 12564. Matricula: 3685\n",
      "{'renda': 5800, '_Pessoa__nome': 'Paulo', 'sobrenome': 'Filho', 'cpf': 125654}\n",
      "{'matricula': 3685, '_Pessoa__nome': 'Paulo', 'sobrenome': 'Filho', 'cpf': 12564}\n"
     ]
    }
   ],
   "source": [
    "class Pessoa:\n",
    "    \n",
    "    def __init__(self, nome, sobrenome, cpf):\n",
    "        self.__nome = nome #atributo privado\n",
    "        self.sobrenome = sobrenome\n",
    "        self.cpf = cpf\n",
    "\n",
    "    def imprimir(self):\n",
    "        return f'Nome: {self.__nome} {self.sobrenome}. CPF: {self.cpf}'\n",
    "    \n",
    "\n",
    "class Cliente(Pessoa):\n",
    "    \n",
    "    def __init__(self, renda, nome, sobrenome, cpf):\n",
    "        self.renda = renda\n",
    "        super().__init__(nome, sobrenome, cpf) #Metodo super() segue a Method Resolution Order - MRO\n",
    "        #Pessoa.__init__(self, nome, sobrenome, cpf) #Forma alternativa de chamar construtor da classe base.\n",
    "\n",
    "    def imprimir(self): #Método sobrescrito.        \n",
    "        return f'Cliente {self._Pessoa__nome}. ' + super().imprimir() + f'. Renda: {self.renda}' #herda atributos públicos e privados.\n",
    "    \n",
    "\n",
    "class Funcionario(Pessoa):\n",
    "    \n",
    "    def __init__(self, matricula, nome, sobrenome, cpf):\n",
    "        self.matricula = matricula\n",
    "        super().__init__(nome, sobrenome, cpf)\n",
    "    \n",
    "    def imprimir(self):\n",
    "        return f'Funcionário {self._Pessoa__nome}. ' + super().imprimir() + f'. Matricula: {self.matricula}'\n",
    "\n",
    "\n",
    "cliente = Cliente(5800, 'Paulo', 'Filho', 125654)\n",
    "\n",
    "print(cliente.imprimir())\n",
    "\n",
    "funcionario = Funcionario(3685, 'Paulo', 'Filho', 12564)\n",
    "\n",
    "print(funcionario.imprimir())\n",
    "\n",
    "print(cliente.__dict__)\n",
    "print(funcionario.__dict__)"
   ]
  }
 ],
 "metadata": {
  "kernelspec": {
   "display_name": "Python 3",
   "language": "python",
   "name": "python3"
  },
  "language_info": {
   "codemirror_mode": {
    "name": "ipython",
    "version": 3
   },
   "file_extension": ".py",
   "mimetype": "text/x-python",
   "name": "python",
   "nbconvert_exporter": "python",
   "pygments_lexer": "ipython3",
   "version": "3.12.4"
  }
 },
 "nbformat": 4,
 "nbformat_minor": 2
}
