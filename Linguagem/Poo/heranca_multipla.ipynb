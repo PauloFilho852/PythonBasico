{
 "cells": [
  {
   "cell_type": "code",
   "execution_count": 30,
   "id": "0efbe10f",
   "metadata": {},
   "outputs": [
    {
     "name": "stdout",
     "output_type": "stream",
     "text": [
      "Chamando construtor de Pinguim.\n",
      "Chamando construtor de Terrestre.\n",
      "Chamando construtor de Aquatico.\n",
      "Chamando construtor de Animal.\n",
      "Eu sou Recruta do mar! da terra!\n"
     ]
    },
    {
     "data": {
      "text/plain": [
       "[__main__.Pinguim,\n",
       " __main__.Terrestre,\n",
       " __main__.Aquatico,\n",
       " __main__.Animal,\n",
       " object]"
      ]
     },
     "execution_count": 30,
     "metadata": {},
     "output_type": "execute_result"
    }
   ],
   "source": [
    "#Multiderivação usando o MRO - Method Resolution Order\n",
    "class Animal:\n",
    "    \n",
    "    def __init__(self, nome):\n",
    "        print('Chamando construtor de Animal.')\n",
    "        self.__nome = nome\n",
    "    \n",
    "    def cumprimentar(self):\n",
    "        return f'Eu sou {self.__nome}'\n",
    "\n",
    "class Aquatico(Animal):\n",
    "    \n",
    "    def __init__(self, nome):\n",
    "        print('Chamando construtor de Aquatico.')\n",
    "        super().__init__(nome) # MRO\n",
    "    \n",
    "    def nadar(self):\n",
    "        return f'{self._Animal__nome} está nadando!'\n",
    "    \n",
    "    def cumprimentar(self):\n",
    "        return super().cumprimentar() + ' do mar!' # MRO\n",
    "    \n",
    "\n",
    "class Terrestre(Animal):\n",
    "    \n",
    "    def __init__(self, nome):\n",
    "        print('Chamando construtor de Terrestre.')\n",
    "        super().__init__(nome)\n",
    "    \n",
    "    def andar(self):\n",
    "        return f'{self._Animal__nome} está andando!'\n",
    "    \n",
    "    def cumprimentar(self):\n",
    "        return super().cumprimentar() + ' da terra!' # MRO\n",
    "\n",
    "\n",
    "class Pinguim(Terrestre, Aquatico): \n",
    "    def __init__(self, nome):\n",
    "        print('Chamando construtor de Pinguim.')\n",
    "        super().__init__(nome) # MRO\n",
    "        \n",
    "recruta = Pinguim('Recruta')\n",
    "\n",
    "\n",
    "print(recruta.cumprimentar())\n",
    "\n",
    "#MRO -> A ordem em que as classe aparecem representam a ordem de execução dos métodos\n",
    "#print(Pinguim.__mro__)\n",
    "Pinguim.mro()"
   ]
  }
 ],
 "metadata": {
  "kernelspec": {
   "display_name": "Python 3",
   "language": "python",
   "name": "python3"
  },
  "language_info": {
   "codemirror_mode": {
    "name": "ipython",
    "version": 3
   },
   "file_extension": ".py",
   "mimetype": "text/x-python",
   "name": "python",
   "nbconvert_exporter": "python",
   "pygments_lexer": "ipython3",
   "version": "3.8.8"
  }
 },
 "nbformat": 4,
 "nbformat_minor": 5
}
