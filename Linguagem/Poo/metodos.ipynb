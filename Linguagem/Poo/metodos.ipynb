{
 "cells": [
  {
   "cell_type": "code",
   "execution_count": 4,
   "id": "66bfcf29",
   "metadata": {},
   "outputs": [
    {
     "name": "stdout",
     "output_type": "stream",
     "text": [
      "True\n",
      "False\n",
      "Iluminando com Potencia de 100 watts.\n",
      "Iluminando com Potencia de 200 watts.\n",
      "Método estático!\n",
      "Método Privado!\n"
     ]
    }
   ],
   "source": [
    "class Lampada:\n",
    "    \n",
    "    potencia = 100 #Atributo de classe\n",
    "    \n",
    "    def __init__(self, cor, voltagem, luminosidade): #Construtor\n",
    "        self.__cor = cor\n",
    "        self.__voltagem = voltagem\n",
    "        self.__luminosidade = luminosidade\n",
    "        self.__ligada = False\n",
    "        \n",
    "    def ligar_desligar(self, ligada): #Método de instância\n",
    "        self.__ligada = ligada\n",
    "    \n",
    "    def __metodo_privado(self): #Método de instancia privado (convenção: duplo  underline)\n",
    "        print('Método Privado!')\n",
    "    \n",
    "    @classmethod\n",
    "    def iluminar(cls):#Método de classe com acesso atributos de classe\n",
    "        return f'Iluminando com Potencia de {cls.potencia} watts.'\n",
    "    \n",
    "    @staticmethod #Metodo estático não tem acesso a atributos de classe\n",
    "    def metodo_estatico():\n",
    "        print('Método estático!')\n",
    "    \n",
    "    @property\n",
    "    def ligada(self): #Propriedade 'getter'\n",
    "        return self.__ligada\n",
    "    \n",
    "\n",
    "lp = Lampada('branca,', 220, 'alta') #Objeto (instância) do tipo lâmpada.\n",
    "\n",
    "\n",
    "lp.ligar_desligar(True) # Forma usual de chamada um método de instância\n",
    "\n",
    "print(lp.ligada)\n",
    "\n",
    "Lampada.ligar_desligar(lp, False) #Outra forma de se chamar método de instância\n",
    "\n",
    "print(lp.ligada)\n",
    "\n",
    "\n",
    "print(Lampada.iluminar())#Chamada a método de classe\n",
    "\n",
    "Lampada.potencia = 200\n",
    "\n",
    "print(lp.iluminar())#Em Python, as referências de instâncias também dão acesso à métodos de classe\n",
    "\n",
    "\n",
    "Lampada.metodo_estatico() #Chamada de método estático\n",
    "\n",
    "lp._Lampada__metodo_privado() #Acesso a método privado (Name Mangling)"
   ]
  }
 ],
 "metadata": {
  "kernelspec": {
   "display_name": "Python 3",
   "language": "python",
   "name": "python3"
  },
  "language_info": {
   "codemirror_mode": {
    "name": "ipython",
    "version": 3
   },
   "file_extension": ".py",
   "mimetype": "text/x-python",
   "name": "python",
   "nbconvert_exporter": "python",
   "pygments_lexer": "ipython3",
   "version": "3.12.4"
  }
 },
 "nbformat": 4,
 "nbformat_minor": 5
}
