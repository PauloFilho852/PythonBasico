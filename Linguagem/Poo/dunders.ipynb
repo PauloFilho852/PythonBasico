{
 "cells": [
  {
   "cell_type": "code",
   "execution_count": 8,
   "metadata": {},
   "outputs": [
    {
     "name": "stdout",
     "output_type": "stream",
     "text": [
      "O Senhor os Aneis. Via __str__\n",
      "O Senhor os Aneis. Via __str__\n",
      "O Senhor os Aneis. Via __repr__\n",
      "550\n",
      "1100\n",
      "302500\n",
      "Objeto deletado da memória.\n",
      "Objeto deletado da memória.\n"
     ]
    }
   ],
   "source": [
    "class Livro:\n",
    "    def __init__(self, titulo, autor, paginas):\n",
    "        self.titulo = titulo\n",
    "        self.autor = autor\n",
    "        self.paginas = paginas\n",
    "\n",
    "    def __repr__(self): #Método dunder repr (representação do objeto). \n",
    "        return f'{self.titulo}. Via __repr__'\n",
    "    \n",
    "    def __str__(self): #Método dunder str (representação do objeto). \n",
    "        return f'{self.titulo}. Via __str__'\n",
    "    \n",
    "    def __len__(self):\n",
    "        return self.paginas\n",
    "    \n",
    "    def __del__(self):\n",
    "        print('Objeto deletado da memória.')\n",
    "    \n",
    "    def __add__(self, other):\n",
    "        if isinstance(other, Livro):\n",
    "            return self.paginas + other.paginas\n",
    "        else:\n",
    "            raise TypeError('Objeto precisa ser do tipo Livro')\n",
    "\n",
    "    def __mul__(self, other):\n",
    "        \n",
    "        if isinstance(other, Livro):\n",
    "            return self.paginas * other.paginas\n",
    "        else:\n",
    "            raise TypeError('Objeto precisa ser do tipo Livro')\n",
    "\n",
    "\n",
    "\n",
    "livro = Livro('O Senhor os Aneis', 'Paulo Filho', 550)\n",
    "\n",
    "livro2 = Livro('O Hobbit', 'Paulo Filho', 550)\n",
    "\n",
    "\n",
    "print(livro) #chama __str__() por padrão, caso não tenha chama __repr__()\n",
    "print(str(livro)) #chama __str__()\n",
    "print(repr(livro)) #chama __repr__()\n",
    "\n",
    "print(len(livro)) # chama __len__()\n",
    "\n",
    "print(livro + livro2) #chama o método __add__()\n",
    "print(livro2 * livro) #chama o método __mul__()\n",
    "\n",
    "del livro #Chama o método __del__() ao deletar o objeto da memória.\n",
    "del livro2"
   ]
  }
 ],
 "metadata": {
  "kernelspec": {
   "display_name": "Python 3",
   "language": "python",
   "name": "python3"
  },
  "language_info": {
   "codemirror_mode": {
    "name": "ipython",
    "version": 3
   },
   "file_extension": ".py",
   "mimetype": "text/x-python",
   "name": "python",
   "nbconvert_exporter": "python",
   "pygments_lexer": "ipython3",
   "version": "3.12.4"
  }
 },
 "nbformat": 4,
 "nbformat_minor": 2
}
