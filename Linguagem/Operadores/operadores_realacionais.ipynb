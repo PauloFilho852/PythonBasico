{
 "cells": [
  {
   "cell_type": "code",
   "execution_count": 3,
   "id": "4149c3b3",
   "metadata": {},
   "outputs": [
    {
     "data": {
      "text/plain": [
       "False"
      ]
     },
     "execution_count": 3,
     "metadata": {},
     "output_type": "execute_result"
    }
   ],
   "source": [
    "#Verifica se os valores dos objetos são iguais.\n",
    "igualdade = 5 == 6\n",
    "igualdade"
   ]
  },
  {
   "cell_type": "code",
   "execution_count": 5,
   "id": "2b86ff22",
   "metadata": {},
   "outputs": [
    {
     "data": {
      "text/plain": [
       "True"
      ]
     },
     "execution_count": 5,
     "metadata": {},
     "output_type": "execute_result"
    }
   ],
   "source": [
    "igualdade = 5 == 5\n",
    "igualdade"
   ]
  },
  {
   "cell_type": "code",
   "execution_count": 8,
   "id": "95080d62",
   "metadata": {},
   "outputs": [
    {
     "data": {
      "text/plain": [
       "True"
      ]
     },
     "execution_count": 8,
     "metadata": {},
     "output_type": "execute_result"
    }
   ],
   "source": [
    "desigualdade = 5 != 7\n",
    "desigualdade"
   ]
  },
  {
   "cell_type": "code",
   "execution_count": 20,
   "id": "8490711f",
   "metadata": {},
   "outputs": [
    {
     "data": {
      "text/plain": [
       "True"
      ]
     },
     "execution_count": 20,
     "metadata": {},
     "output_type": "execute_result"
    }
   ],
   "source": [
    "maior_que = 5 > 2\n",
    "maior_que"
   ]
  },
  {
   "cell_type": "code",
   "execution_count": 22,
   "id": "7f101346",
   "metadata": {},
   "outputs": [
    {
     "data": {
      "text/plain": [
       "False"
      ]
     },
     "execution_count": 22,
     "metadata": {},
     "output_type": "execute_result"
    }
   ],
   "source": [
    "menor_que = 5 < 2\n",
    "menor_que"
   ]
  },
  {
   "cell_type": "code",
   "execution_count": 17,
   "id": "a3d49364",
   "metadata": {},
   "outputs": [
    {
     "data": {
      "text/plain": [
       "False"
      ]
     },
     "execution_count": 17,
     "metadata": {},
     "output_type": "execute_result"
    }
   ],
   "source": [
    "maior_ou_igual = 5 >= 6\n",
    "maior_ou_igual"
   ]
  },
  {
   "cell_type": "code",
   "execution_count": 18,
   "id": "7ac52295",
   "metadata": {},
   "outputs": [
    {
     "data": {
      "text/plain": [
       "True"
      ]
     },
     "execution_count": 18,
     "metadata": {},
     "output_type": "execute_result"
    }
   ],
   "source": [
    "menor_ou_igual = 5 <= 6\n",
    "menor_ou_igual"
   ]
  },
  {
   "cell_type": "code",
   "execution_count": 4,
   "id": "31d0de86",
   "metadata": {},
   "outputs": [
    {
     "name": "stdout",
     "output_type": "stream",
     "text": [
      "Olá, Pyhton!\n"
     ]
    }
   ],
   "source": [
    "#Operador is verifica se as duas variáveis apontam para o mesmo objeto na memória.        \n",
    "lista = [ 1, 2, 3, 4,]\n",
    "lista2 = lista\n",
    "\n",
    "if lista is lista2:\n",
    "    print('Olá, Pyhton!')\n",
    "else:\n",
    "    print(f'{lista} não é {lista2}')"
   ]
  }
 ],
 "metadata": {
  "kernelspec": {
   "display_name": "Python 3",
   "language": "python",
   "name": "python3"
  },
  "language_info": {
   "codemirror_mode": {
    "name": "ipython",
    "version": 3
   },
   "file_extension": ".py",
   "mimetype": "text/x-python",
   "name": "python",
   "nbconvert_exporter": "python",
   "pygments_lexer": "ipython3",
   "version": "3.12.4"
  }
 },
 "nbformat": 4,
 "nbformat_minor": 5
}
