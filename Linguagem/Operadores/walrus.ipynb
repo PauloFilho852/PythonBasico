{
 "cells": [
  {
   "cell_type": "code",
   "execution_count": 1,
   "id": "c6f78d06",
   "metadata": {},
   "outputs": [
    {
     "name": "stdout",
     "output_type": "stream",
     "text": [
      "Paulo Filho\n",
      "Paulo Filho\n"
     ]
    }
   ],
   "source": [
    "#O operador walrus permite a declaração e o uso da variável em uma mesma expressão\n",
    "\n",
    "print(nome := 'Paulo Filho')\n",
    "\n",
    "print(nome)"
   ]
  },
  {
   "cell_type": "code",
   "execution_count": 8,
   "id": "616be653",
   "metadata": {},
   "outputs": [
    {
     "name": "stdout",
     "output_type": "stream",
     "text": [
      "Informe o nome de uma fruta: uva\n",
      "Informe o nome de uma fruta: pera\n",
      "Informe o nome de uma fruta: maçã\n",
      "Informe o nome de uma fruta: goiaba\n",
      "Informe o nome de uma fruta: banana\n",
      "Informe o nome de uma fruta: jaca\n",
      "['uva', 'pera', 'maçã', 'goiaba', 'banana']\n"
     ]
    }
   ],
   "source": [
    "cesta = []\n",
    "while (fruta := input('Informe o nome de uma fruta: ')) != 'jaca':\n",
    "            cesta.append(fruta)\n",
    "\n",
    "\n",
    "print(cesta)"
   ]
  }
 ],
 "metadata": {
  "kernelspec": {
   "display_name": "Python 3",
   "language": "python",
   "name": "python3"
  },
  "language_info": {
   "codemirror_mode": {
    "name": "ipython",
    "version": 3
   },
   "file_extension": ".py",
   "mimetype": "text/x-python",
   "name": "python",
   "nbconvert_exporter": "python",
   "pygments_lexer": "ipython3",
   "version": "3.8.8"
  }
 },
 "nbformat": 4,
 "nbformat_minor": 5
}
