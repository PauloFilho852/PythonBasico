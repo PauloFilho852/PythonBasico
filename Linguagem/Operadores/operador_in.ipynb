{
 "cells": [
  {
   "cell_type": "code",
   "execution_count": 1,
   "metadata": {},
   "outputs": [
    {
     "name": "stdout",
     "output_type": "stream",
     "text": [
      "A chave 'a' está no dicionário.\n",
      "O elemento 1 está na lista\n"
     ]
    }
   ],
   "source": [
    "dic = {'a':'A', 'b':'B'}\n",
    "lista = [1,2,3]\n",
    "\n",
    "if 'a' in dic:\n",
    "    print('A chave \\'a\\' está no dicionário.')\n",
    "\n",
    "if 1 in lista:\n",
    "    print('O elemento 1 está na lista')\n"
   ]
  }
 ],
 "metadata": {
  "kernelspec": {
   "display_name": "Python 3",
   "language": "python",
   "name": "python3"
  },
  "language_info": {
   "codemirror_mode": {
    "name": "ipython",
    "version": 3
   },
   "file_extension": ".py",
   "mimetype": "text/x-python",
   "name": "python",
   "nbconvert_exporter": "python",
   "pygments_lexer": "ipython3",
   "version": "3.12.4"
  }
 },
 "nbformat": 4,
 "nbformat_minor": 2
}
