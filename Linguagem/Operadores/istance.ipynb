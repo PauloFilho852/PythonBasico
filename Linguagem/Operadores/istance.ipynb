{
 "cells": [
  {
   "cell_type": "code",
   "execution_count": 1,
   "metadata": {},
   "outputs": [
    {
     "name": "stdout",
     "output_type": "stream",
     "text": [
      "a é uma variável do tipo inteiro\n"
     ]
    }
   ],
   "source": [
    "#isinstace() Verifica o tipo do objeto.\n",
    "\n",
    "a = 5\n",
    "\n",
    "if isinstance(a, int):\n",
    "    print('a é uma variável do tipo inteiro')"
   ]
  }
 ],
 "metadata": {
  "kernelspec": {
   "display_name": "Python 3",
   "language": "python",
   "name": "python3"
  },
  "language_info": {
   "codemirror_mode": {
    "name": "ipython",
    "version": 3
   },
   "file_extension": ".py",
   "mimetype": "text/x-python",
   "name": "python",
   "nbconvert_exporter": "python",
   "pygments_lexer": "ipython3",
   "version": "3.12.4"
  }
 },
 "nbformat": 4,
 "nbformat_minor": 2
}
