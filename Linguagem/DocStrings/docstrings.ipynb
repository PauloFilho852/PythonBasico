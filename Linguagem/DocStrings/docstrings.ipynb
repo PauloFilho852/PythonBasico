{
 "cells": [
  {
   "cell_type": "code",
   "execution_count": 2,
   "id": "4b7082b3",
   "metadata": {},
   "outputs": [
    {
     "name": "stdout",
     "output_type": "stream",
     "text": [
      "Help on function diz_oi in module __main__:\n",
      "\n",
      "diz_oi()\n",
      "    uma função simples que retorna a string 'Oi!'\n",
      "\n"
     ]
    }
   ],
   "source": [
    "#Documentando funções com docstrings\n",
    "\n",
    "def diz_oi():\n",
    "    \"\"\"uma função simples que retorna a string 'Oi!'\"\"\"\n",
    "    return 'Oi!'\n",
    "\n",
    "help(diz_oi)"
   ]
  },
  {
   "cell_type": "code",
   "execution_count": 3,
   "id": "7eabcee3",
   "metadata": {},
   "outputs": [
    {
     "data": {
      "text/plain": [
       "\"uma função simples que retorna a string 'Oi!'\""
      ]
     },
     "execution_count": 3,
     "metadata": {},
     "output_type": "execute_result"
    }
   ],
   "source": [
    "def diz_oi():\n",
    "    \"\"\"uma função simples que retorna a string 'Oi!'\"\"\"\n",
    "    return 'Oi!'\n",
    "\n",
    "diz_oi.__doc__"
   ]
  },
  {
   "cell_type": "code",
   "execution_count": 7,
   "id": "89fe1fd1",
   "metadata": {},
   "outputs": [
    {
     "name": "stdout",
     "output_type": "stream",
     "text": [
      "\n",
      "    Função que retonar o valor x um um número elevado a uma potência y.\n",
      "    :param x: base que se deseja elevar a uma potência.\n",
      "    :param y: potência a qual se deseja elevar.\n",
      "    :return: Retorna a base elevado à pontência.\n",
      "    \n"
     ]
    }
   ],
   "source": [
    "def _pow(x,y):\n",
    "    \"\"\"\n",
    "    Função que retonar o valor x um um número elevado a uma potência y.\n",
    "    :param x: base que se deseja elevar a uma potência.\n",
    "    :param y: potência a qual se deseja elevar.\n",
    "    :return: Retorna a base elevado à pontência.\n",
    "    \"\"\"\n",
    "    return x ** y\n",
    "\n",
    "print(_pow.__doc__)"
   ]
  },
  {
   "cell_type": "code",
   "execution_count": 8,
   "id": "8605ecd8",
   "metadata": {},
   "outputs": [
    {
     "name": "stdout",
     "output_type": "stream",
     "text": [
      "Help on function _pow in module __main__:\n",
      "\n",
      "_pow(x, y)\n",
      "    Função que retonar o valor x um um número elevado a uma potência y.\n",
      "    :param x: base que se deseja elevar a uma potência.\n",
      "    :param y: potência a qual se deseja elevar.\n",
      "    :return: Retorna a base elevado à pontência.\n",
      "\n",
      "None\n"
     ]
    }
   ],
   "source": [
    "def _pow(x,y):\n",
    "    \"\"\"\n",
    "    Função que retonar o valor x um um número elevado a uma potência y.\n",
    "    :param x: base que se deseja elevar a uma potência.\n",
    "    :param y: potência a qual se deseja elevar.\n",
    "    :return: Retorna a base elevado à pontência.\n",
    "    \"\"\"\n",
    "    return x ** y\n",
    "\n",
    "print(help(_pow))"
   ]
  }
 ],
 "metadata": {
  "kernelspec": {
   "display_name": "Python 3",
   "language": "python",
   "name": "python3"
  },
  "language_info": {
   "codemirror_mode": {
    "name": "ipython",
    "version": 3
   },
   "file_extension": ".py",
   "mimetype": "text/x-python",
   "name": "python",
   "nbconvert_exporter": "python",
   "pygments_lexer": "ipython3",
   "version": "3.8.8"
  }
 },
 "nbformat": 4,
 "nbformat_minor": 5
}
