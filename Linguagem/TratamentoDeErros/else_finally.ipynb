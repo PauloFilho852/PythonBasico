{
 "cells": [
  {
   "cell_type": "code",
   "execution_count": 2,
   "id": "311547c4",
   "metadata": {},
   "outputs": [
    {
     "name": "stdout",
     "output_type": "stream",
     "text": [
      "Informe um número:gf\n",
      "Valor em formato incorreto.\n"
     ]
    }
   ],
   "source": [
    "#else : caso haja erro except é executado, caso contrário else é executado \n",
    "num = None\n",
    "try:\n",
    "    num = int(input('Informe um número:'))\n",
    "except ValueError:\n",
    "    print('Valor em formato incorreto.')\n",
    "else:\n",
    "    print(num)"
   ]
  },
  {
   "cell_type": "code",
   "execution_count": 4,
   "id": "cf0aa2d2",
   "metadata": {},
   "outputs": [
    {
     "name": "stdout",
     "output_type": "stream",
     "text": [
      "Informe um número:ds\n",
      "Valor em formato incorreto.\n",
      "Sempre executado.\n"
     ]
    }
   ],
   "source": [
    "#finally é sempre executado, havendo uma exceção ou não\n",
    "num = None\n",
    "try:\n",
    "    num = int(input('Informe um número:'))\n",
    "except ValueError:\n",
    "    print('Valor em formato incorreto.')\n",
    "else:\n",
    "    print(num)\n",
    "finally:\n",
    "    print('Sempre executado.') #útil para liberação de recursos alocados"
   ]
  },
  {
   "cell_type": "code",
   "execution_count": 11,
   "id": "a375da40",
   "metadata": {},
   "outputs": [
    {
     "name": "stdout",
     "output_type": "stream",
     "text": [
      "Informe o primeiro número: 5\n",
      "Informe o segundo número: 0\n",
      "Ocorreu um problema: division by zero\n"
     ]
    }
   ],
   "source": [
    "#Except capturando vários erros\n",
    "def dividir(a, b):\n",
    "    try:\n",
    "        return int(a)/int(b)\n",
    "    except (ValueError, ZeroDivisionError) as err:\n",
    "        return f'Ocorreu um problema: {err}'\n",
    "\n",
    "num1 = input('Informe o primeiro número: ')\n",
    "num2 = input('Informe o segundo número: ')\n",
    "\n",
    "print(dividir(num1,num2))"
   ]
  }
 ],
 "metadata": {
  "kernelspec": {
   "display_name": "Python 3",
   "language": "python",
   "name": "python3"
  },
  "language_info": {
   "codemirror_mode": {
    "name": "ipython",
    "version": 3
   },
   "file_extension": ".py",
   "mimetype": "text/x-python",
   "name": "python",
   "nbconvert_exporter": "python",
   "pygments_lexer": "ipython3",
   "version": "3.8.8"
  }
 },
 "nbformat": 4,
 "nbformat_minor": 5
}
