{
 "cells": [
  {
   "cell_type": "code",
   "execution_count": 12,
   "metadata": {},
   "outputs": [
    {
     "name": "stdout",
     "output_type": "stream",
     "text": [
      "Erro genérico: ocorreu um erro.\n",
      "Erro específico: 'texto' precisa ser uma string.\n",
      "'texto' é uma string.\n",
      "Erro de nome: Ocorreu um erro de nome.\n"
     ]
    }
   ],
   "source": [
    "#raise: lança exceções. É uma palavra reservada.\n",
    "#try: tenta executar código com possibilidade de erro\n",
    "#except: trata a exceção\n",
    "\n",
    "def colorir(texto):\n",
    "    if type(texto) is not str:\n",
    "        raise TypeError(\"'texto' precisa ser uma string.\") #Lançamento da exceção\n",
    "    else:\n",
    "        print(\"'texto' é uma string.\")\n",
    "\n",
    "#Tratamento de forma genérica (não recomendado)\n",
    "try:\n",
    "    colorir(10)\n",
    "except:\n",
    "    print('Erro genérico: ocorreu um erro.')\n",
    "\n",
    "#Tratamento de erro específico\n",
    "try:\n",
    "    colorir(10)\n",
    "except TypeError as err:\n",
    "    print(f'Erro específico: {err}')\n",
    "\n",
    "#Tratamento de multiplos erros específico\n",
    "try:\n",
    "    colorir(\"texto\")\n",
    "    raise NameError('Ocorreu um erro de nome.')\n",
    "except TypeError as err:\n",
    "    print(f'Erro de tipo: {err}')\n",
    "except NameError as err:\n",
    "    print(f'Erro de nome: {err}')"
   ]
  }
 ],
 "metadata": {
  "kernelspec": {
   "display_name": "Python 3",
   "language": "python",
   "name": "python3"
  },
  "language_info": {
   "codemirror_mode": {
    "name": "ipython",
    "version": 3
   },
   "file_extension": ".py",
   "mimetype": "text/x-python",
   "name": "python",
   "nbconvert_exporter": "python",
   "pygments_lexer": "ipython3",
   "version": "3.12.4"
  }
 },
 "nbformat": 4,
 "nbformat_minor": 2
}
