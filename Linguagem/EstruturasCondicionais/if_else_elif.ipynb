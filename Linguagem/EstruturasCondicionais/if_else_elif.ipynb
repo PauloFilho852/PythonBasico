{
 "cells": [
  {
   "cell_type": "code",
   "execution_count": 1,
   "id": "c9a73242",
   "metadata": {},
   "outputs": [
    {
     "name": "stdout",
     "output_type": "stream",
     "text": [
      "Digite o valor de A.22\n"
     ]
    }
   ],
   "source": [
    "A = int(input('Digite o valor de A.'))"
   ]
  },
  {
   "cell_type": "code",
   "execution_count": 2,
   "id": "f9683538",
   "metadata": {},
   "outputs": [
    {
     "name": "stdout",
     "output_type": "stream",
     "text": [
      "Digite o valor de B.25\n"
     ]
    }
   ],
   "source": [
    "B = int(input('Digite o valor de B.'))"
   ]
  },
  {
   "cell_type": "code",
   "execution_count": 3,
   "id": "211f000b",
   "metadata": {},
   "outputs": [
    {
     "name": "stdout",
     "output_type": "stream",
     "text": [
      "A menor ou igual a B\n"
     ]
    }
   ],
   "source": [
    "if( A > B):\n",
    "    print('A é maior que B.')\n",
    "\n",
    "if(A <= B):\n",
    "    print('A menor ou igual a B')"
   ]
  },
  {
   "cell_type": "code",
   "execution_count": 6,
   "id": "3f22f41a",
   "metadata": {},
   "outputs": [
    {
     "name": "stdout",
     "output_type": "stream",
     "text": [
      "A é menor ou igual B\n"
     ]
    }
   ],
   "source": [
    "if(A > B):\n",
    "    print('A é maior que B')\n",
    "else:\n",
    "    print('A é menor ou igual B')"
   ]
  },
  {
   "cell_type": "code",
   "execution_count": 12,
   "id": "7b9bab50",
   "metadata": {},
   "outputs": [],
   "source": [
    "idade = 15\n",
    "sexo = 'F'"
   ]
  },
  {
   "cell_type": "code",
   "execution_count": 14,
   "id": "e00a54d1",
   "metadata": {},
   "outputs": [
    {
     "name": "stdout",
     "output_type": "stream",
     "text": [
      "Não é uma criança.\n",
      "Sexo feminino\n"
     ]
    }
   ],
   "source": [
    "if (idade < 9):\n",
    "    print('É uma criança.')\n",
    "    if (sexo == 'M'):\n",
    "        print('Sexo masculino.')\n",
    "    else:\n",
    "        print('Sexo feminino.')\n",
    "else:\n",
    "    print('Não é uma criança.')\n",
    "    if(sexo == 'M'):\n",
    "        print('Sexo masculino.')\n",
    "    else:\n",
    "        print('Sexo feminino')\n",
    "    "
   ]
  },
  {
   "cell_type": "code",
   "execution_count": 41,
   "id": "49d12217",
   "metadata": {},
   "outputs": [],
   "source": [
    "nota = 5"
   ]
  },
  {
   "cell_type": "code",
   "execution_count": 42,
   "id": "5964f597",
   "metadata": {},
   "outputs": [
    {
     "name": "stdout",
     "output_type": "stream",
     "text": [
      "Nota média.\n"
     ]
    }
   ],
   "source": [
    "if(nota <= 1 and nota > 0):\n",
    "    print('Nota muito baixa!')\n",
    "elif (nota > 1 and nota <= 4):\n",
    "    print('Nota baixa.')\n",
    "elif (nota > 4 and nota <= 7):\n",
    "    print('Nota média.')\n",
    "elif (nota > 7 and nota <= 10):\n",
    "    print('Nota alta!')\n",
    "else:\n",
    "    print('Nota inválida!')\n"
   ]
  }
 ],
 "metadata": {
  "kernelspec": {
   "display_name": "Python 3",
   "language": "python",
   "name": "python3"
  },
  "language_info": {
   "codemirror_mode": {
    "name": "ipython",
    "version": 3
   },
   "file_extension": ".py",
   "mimetype": "text/x-python",
   "name": "python",
   "nbconvert_exporter": "python",
   "pygments_lexer": "ipython3",
   "version": "3.8.8"
  }
 },
 "nbformat": 4,
 "nbformat_minor": 5
}
