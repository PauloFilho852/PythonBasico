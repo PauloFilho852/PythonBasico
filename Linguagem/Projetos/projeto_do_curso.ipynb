{
 "cells": [
  {
   "cell_type": "code",
   "execution_count": 1,
   "id": "17ddcb0b",
   "metadata": {},
   "outputs": [],
   "source": [
    "import numpy as np"
   ]
  },
  {
   "cell_type": "code",
   "execution_count": 2,
   "id": "7bb111b0",
   "metadata": {},
   "outputs": [
    {
     "name": "stdout",
     "output_type": "stream",
     "text": [
      "\n",
      "\n",
      "O número 5 que você digitou é menor que o número misterioso!\n",
      "\n",
      "\n",
      "O número  50 que você digitou é maior que o número misterioso!\n",
      "\n",
      "\n",
      "O número 25 que você digitou é menor que o número misterioso!\n",
      "\n",
      "\n",
      "O número 30 que você digitou é menor que o número misterioso!\n",
      "\n",
      "\n",
      "O número 35 que você digitou é menor que o número misterioso!\n",
      "\n",
      "\n",
      "O número 40 que você digitou é menor que o número misterioso!\n",
      "\n",
      "\n",
      "O número  45 que você digitou é maior que o número misterioso!\n",
      "\n",
      "\n",
      "O número  42 que você digitou é maior que o número misterioso!\n",
      "\n",
      "\n",
      "Parabéns, você acertou!\n"
     ]
    }
   ],
   "source": [
    "y = np.random.random(1) * 100\n",
    "y[0] /= 2\n",
    "y[0] = int(y[0])\n",
    "\n",
    "for i in range(10):\n",
    "    z = i + 1\n",
    "    w = str(z)    \n",
    "    x = int(input('Advinhe o número mistrioso. Digite um número entre  0 e 50 (tentativa ' + w + ' de 10)'))\n",
    "    print('\\n')\n",
    "    if(x == y[0]):\n",
    "        print('Parabéns, você acertou!')\n",
    "        break\n",
    "    elif (x < y[0]):\n",
    "        print('O número ' + str(x) + ' que você digitou é menor que o número misterioso!' )\n",
    "    elif(x > y[0]):\n",
    "        print('O número  ' + str(x) +  ' que você digitou é maior que o número misterioso!')\n",
    "    \n"
   ]
  }
 ],
 "metadata": {
  "kernelspec": {
   "display_name": "Python 3",
   "language": "python",
   "name": "python3"
  },
  "language_info": {
   "codemirror_mode": {
    "name": "ipython",
    "version": 3
   },
   "file_extension": ".py",
   "mimetype": "text/x-python",
   "name": "python",
   "nbconvert_exporter": "python",
   "pygments_lexer": "ipython3",
   "version": "3.12.4"
  }
 },
 "nbformat": 4,
 "nbformat_minor": 5
}
