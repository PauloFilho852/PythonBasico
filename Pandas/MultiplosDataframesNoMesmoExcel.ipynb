{
 "cells": [
  {
   "cell_type": "code",
   "execution_count": 1,
   "id": "e271c84d-30da-4f65-a5c4-13514e934a4f",
   "metadata": {},
   "outputs": [],
   "source": [
    "import pandas as pd"
   ]
  },
  {
   "cell_type": "code",
   "execution_count": 2,
   "id": "c6c20469-cfce-4493-b4f8-030affe4eb06",
   "metadata": {},
   "outputs": [],
   "source": [
    "df1 = pd.DataFrame({'A': ['A0','A1','A2','A3'],\n",
    "                   'B':['B0','B1','B2','B3'],\n",
    "                   'C':['C0','C1','C2','C3'],\n",
    "                   'D':['D0','D1','D2','D3']}, index = [0,1,2,3])\n",
    "\n",
    "df2 = pd.DataFrame({'A': ['A4','A5','A6','A7'],\n",
    "                   'B':['B4','B5','B6','B7'],\n",
    "                   'C':['C4','C5','C6','C7'],\n",
    "                   'D':['D1','D2','D3','D4']}, index = [4,5,6,7])\n",
    "\n",
    "df3 = pd.DataFrame({'A': ['A8','A9','A10','A11'],\n",
    "                   'B':['B8','B9','B10','B11'],\n",
    "                   'C':['C8','C9','C10','C11'],\n",
    "                   'D':['D8','D9','D10','D11']}, index = [8,9,10,11])"
   ]
  },
  {
   "cell_type": "code",
   "execution_count": 3,
   "id": "4e0705fb-c078-4e84-878b-84d2dd1c59fc",
   "metadata": {},
   "outputs": [],
   "source": [
    "with pd.ExcelWriter('MultiSheet.xlsx') as writer:\n",
    "    df1.to_excel(writer, sheet_name='Sheet1', index=False)\n",
    "    df2.to_excel(writer, sheet_name='Sheet2', index=False)\n",
    "    df3.to_excel(writer, sheet_name='Sheet3', index=False)"
   ]
  }
 ],
 "metadata": {
  "kernelspec": {
   "display_name": "Python 3 (ipykernel)",
   "language": "python",
   "name": "python3"
  },
  "language_info": {
   "codemirror_mode": {
    "name": "ipython",
    "version": 3
   },
   "file_extension": ".py",
   "mimetype": "text/x-python",
   "name": "python",
   "nbconvert_exporter": "python",
   "pygments_lexer": "ipython3",
   "version": "3.11.7"
  }
 },
 "nbformat": 4,
 "nbformat_minor": 5
}
