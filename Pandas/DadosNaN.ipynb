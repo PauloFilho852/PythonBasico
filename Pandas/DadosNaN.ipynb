{
 "cells": [
  {
   "cell_type": "code",
   "execution_count": 1,
   "id": "c8a1fc48",
   "metadata": {},
   "outputs": [],
   "source": [
    "import pandas as pd\n",
    "import numpy as np"
   ]
  },
  {
   "cell_type": "code",
   "execution_count": 24,
   "id": "e34fc587",
   "metadata": {},
   "outputs": [
    {
     "data": {
      "text/html": [
       "<div>\n",
       "<style scoped>\n",
       "    .dataframe tbody tr th:only-of-type {\n",
       "        vertical-align: middle;\n",
       "    }\n",
       "\n",
       "    .dataframe tbody tr th {\n",
       "        vertical-align: top;\n",
       "    }\n",
       "\n",
       "    .dataframe thead th {\n",
       "        text-align: right;\n",
       "    }\n",
       "</style>\n",
       "<table border=\"1\" class=\"dataframe\">\n",
       "  <thead>\n",
       "    <tr style=\"text-align: right;\">\n",
       "      <th></th>\n",
       "      <th>A</th>\n",
       "      <th>B</th>\n",
       "      <th>C</th>\n",
       "      <th>D</th>\n",
       "      <th>E</th>\n",
       "    </tr>\n",
       "  </thead>\n",
       "  <tbody>\n",
       "    <tr>\n",
       "      <th>2019-01-01</th>\n",
       "      <td>0.303865</td>\n",
       "      <td>-0.848883</td>\n",
       "      <td>1.877196</td>\n",
       "      <td>-0.634977</td>\n",
       "      <td>-1.014933</td>\n",
       "    </tr>\n",
       "    <tr>\n",
       "      <th>2019-01-02</th>\n",
       "      <td>-1.519974</td>\n",
       "      <td>-0.376308</td>\n",
       "      <td>0.082409</td>\n",
       "      <td>-0.299826</td>\n",
       "      <td>-0.103498</td>\n",
       "    </tr>\n",
       "    <tr>\n",
       "      <th>2019-01-03</th>\n",
       "      <td>-0.431277</td>\n",
       "      <td>-3.164727</td>\n",
       "      <td>-1.263799</td>\n",
       "      <td>0.667935</td>\n",
       "      <td>0.156341</td>\n",
       "    </tr>\n",
       "  </tbody>\n",
       "</table>\n",
       "</div>"
      ],
      "text/plain": [
       "                   A         B         C         D         E\n",
       "2019-01-01  0.303865 -0.848883  1.877196 -0.634977 -1.014933\n",
       "2019-01-02 -1.519974 -0.376308  0.082409 -0.299826 -0.103498\n",
       "2019-01-03 -0.431277 -3.164727 -1.263799  0.667935  0.156341"
      ]
     },
     "execution_count": 24,
     "metadata": {},
     "output_type": "execute_result"
    }
   ],
   "source": [
    "datas = pd.date_range('20190101', periods = 60, freq = 'D')\n",
    "df = pd.DataFrame(np.random.randn(60,5), index = datas, columns = list('ABCDE'))\n",
    "df.head(3)"
   ]
  },
  {
   "cell_type": "code",
   "execution_count": 25,
   "id": "51280532",
   "metadata": {},
   "outputs": [],
   "source": [
    "df['F'] = df.A[df.A > 0]"
   ]
  },
  {
   "cell_type": "code",
   "execution_count": 26,
   "id": "721ddade",
   "metadata": {},
   "outputs": [
    {
     "data": {
      "text/html": [
       "<div>\n",
       "<style scoped>\n",
       "    .dataframe tbody tr th:only-of-type {\n",
       "        vertical-align: middle;\n",
       "    }\n",
       "\n",
       "    .dataframe tbody tr th {\n",
       "        vertical-align: top;\n",
       "    }\n",
       "\n",
       "    .dataframe thead th {\n",
       "        text-align: right;\n",
       "    }\n",
       "</style>\n",
       "<table border=\"1\" class=\"dataframe\">\n",
       "  <thead>\n",
       "    <tr style=\"text-align: right;\">\n",
       "      <th></th>\n",
       "      <th>A</th>\n",
       "      <th>B</th>\n",
       "      <th>C</th>\n",
       "      <th>D</th>\n",
       "      <th>E</th>\n",
       "      <th>F</th>\n",
       "    </tr>\n",
       "  </thead>\n",
       "  <tbody>\n",
       "    <tr>\n",
       "      <th>2019-01-01</th>\n",
       "      <td>0.303865</td>\n",
       "      <td>-0.848883</td>\n",
       "      <td>1.877196</td>\n",
       "      <td>-0.634977</td>\n",
       "      <td>-1.014933</td>\n",
       "      <td>0.303865</td>\n",
       "    </tr>\n",
       "    <tr>\n",
       "      <th>2019-01-02</th>\n",
       "      <td>-1.519974</td>\n",
       "      <td>-0.376308</td>\n",
       "      <td>0.082409</td>\n",
       "      <td>-0.299826</td>\n",
       "      <td>-0.103498</td>\n",
       "      <td>NaN</td>\n",
       "    </tr>\n",
       "    <tr>\n",
       "      <th>2019-01-03</th>\n",
       "      <td>-0.431277</td>\n",
       "      <td>-3.164727</td>\n",
       "      <td>-1.263799</td>\n",
       "      <td>0.667935</td>\n",
       "      <td>0.156341</td>\n",
       "      <td>NaN</td>\n",
       "    </tr>\n",
       "  </tbody>\n",
       "</table>\n",
       "</div>"
      ],
      "text/plain": [
       "                   A         B         C         D         E         F\n",
       "2019-01-01  0.303865 -0.848883  1.877196 -0.634977 -1.014933  0.303865\n",
       "2019-01-02 -1.519974 -0.376308  0.082409 -0.299826 -0.103498       NaN\n",
       "2019-01-03 -0.431277 -3.164727 -1.263799  0.667935  0.156341       NaN"
      ]
     },
     "execution_count": 26,
     "metadata": {},
     "output_type": "execute_result"
    }
   ],
   "source": [
    "df.head(3)"
   ]
  },
  {
   "cell_type": "code",
   "execution_count": 27,
   "id": "106ff273",
   "metadata": {},
   "outputs": [
    {
     "data": {
      "text/html": [
       "<div>\n",
       "<style scoped>\n",
       "    .dataframe tbody tr th:only-of-type {\n",
       "        vertical-align: middle;\n",
       "    }\n",
       "\n",
       "    .dataframe tbody tr th {\n",
       "        vertical-align: top;\n",
       "    }\n",
       "\n",
       "    .dataframe thead th {\n",
       "        text-align: right;\n",
       "    }\n",
       "</style>\n",
       "<table border=\"1\" class=\"dataframe\">\n",
       "  <thead>\n",
       "    <tr style=\"text-align: right;\">\n",
       "      <th></th>\n",
       "      <th>A</th>\n",
       "      <th>B</th>\n",
       "      <th>C</th>\n",
       "      <th>D</th>\n",
       "      <th>E</th>\n",
       "      <th>F</th>\n",
       "    </tr>\n",
       "  </thead>\n",
       "  <tbody>\n",
       "    <tr>\n",
       "      <th>2019-01-01</th>\n",
       "      <td>0.303865</td>\n",
       "      <td>-0.848883</td>\n",
       "      <td>1.877196</td>\n",
       "      <td>-0.634977</td>\n",
       "      <td>-1.014933</td>\n",
       "      <td>0.303865</td>\n",
       "    </tr>\n",
       "    <tr>\n",
       "      <th>2019-01-06</th>\n",
       "      <td>1.393590</td>\n",
       "      <td>-0.348967</td>\n",
       "      <td>-0.493448</td>\n",
       "      <td>0.056077</td>\n",
       "      <td>0.686752</td>\n",
       "      <td>1.393590</td>\n",
       "    </tr>\n",
       "    <tr>\n",
       "      <th>2019-01-07</th>\n",
       "      <td>0.221874</td>\n",
       "      <td>0.615685</td>\n",
       "      <td>0.476601</td>\n",
       "      <td>0.396511</td>\n",
       "      <td>0.553035</td>\n",
       "      <td>0.221874</td>\n",
       "    </tr>\n",
       "  </tbody>\n",
       "</table>\n",
       "</div>"
      ],
      "text/plain": [
       "                   A         B         C         D         E         F\n",
       "2019-01-01  0.303865 -0.848883  1.877196 -0.634977 -1.014933  0.303865\n",
       "2019-01-06  1.393590 -0.348967 -0.493448  0.056077  0.686752  1.393590\n",
       "2019-01-07  0.221874  0.615685  0.476601  0.396511  0.553035  0.221874"
      ]
     },
     "execution_count": 27,
     "metadata": {},
     "output_type": "execute_result"
    }
   ],
   "source": [
    "df.dropna().head(3) #remove toda a linha com um campo NaN"
   ]
  },
  {
   "cell_type": "code",
   "execution_count": 33,
   "id": "8849cbfd",
   "metadata": {},
   "outputs": [
    {
     "data": {
      "text/html": [
       "<div>\n",
       "<style scoped>\n",
       "    .dataframe tbody tr th:only-of-type {\n",
       "        vertical-align: middle;\n",
       "    }\n",
       "\n",
       "    .dataframe tbody tr th {\n",
       "        vertical-align: top;\n",
       "    }\n",
       "\n",
       "    .dataframe thead th {\n",
       "        text-align: right;\n",
       "    }\n",
       "</style>\n",
       "<table border=\"1\" class=\"dataframe\">\n",
       "  <thead>\n",
       "    <tr style=\"text-align: right;\">\n",
       "      <th></th>\n",
       "      <th>A</th>\n",
       "      <th>B</th>\n",
       "      <th>C</th>\n",
       "      <th>D</th>\n",
       "      <th>E</th>\n",
       "      <th>F</th>\n",
       "    </tr>\n",
       "  </thead>\n",
       "  <tbody>\n",
       "    <tr>\n",
       "      <th>2019-01-01</th>\n",
       "      <td>0.303865</td>\n",
       "      <td>-0.848883</td>\n",
       "      <td>1.877196</td>\n",
       "      <td>-0.634977</td>\n",
       "      <td>-1.014933</td>\n",
       "      <td>0.303865</td>\n",
       "    </tr>\n",
       "    <tr>\n",
       "      <th>2019-01-02</th>\n",
       "      <td>-1.519974</td>\n",
       "      <td>-0.376308</td>\n",
       "      <td>0.082409</td>\n",
       "      <td>-0.299826</td>\n",
       "      <td>-0.103498</td>\n",
       "      <td>-0.028343</td>\n",
       "    </tr>\n",
       "    <tr>\n",
       "      <th>2019-01-03</th>\n",
       "      <td>-0.431277</td>\n",
       "      <td>-3.164727</td>\n",
       "      <td>-1.263799</td>\n",
       "      <td>0.667935</td>\n",
       "      <td>0.156341</td>\n",
       "      <td>-0.028343</td>\n",
       "    </tr>\n",
       "  </tbody>\n",
       "</table>\n",
       "</div>"
      ],
      "text/plain": [
       "                   A         B         C         D         E         F\n",
       "2019-01-01  0.303865 -0.848883  1.877196 -0.634977 -1.014933  0.303865\n",
       "2019-01-02 -1.519974 -0.376308  0.082409 -0.299826 -0.103498 -0.028343\n",
       "2019-01-03 -0.431277 -3.164727 -1.263799  0.667935  0.156341 -0.028343"
      ]
     },
     "execution_count": 33,
     "metadata": {},
     "output_type": "execute_result"
    }
   ],
   "source": [
    "df.fillna(np.mean(df.A)).head(3) # preenche os campos NaN da coluna F com a média da coluna A "
   ]
  },
  {
   "cell_type": "code",
   "execution_count": 34,
   "id": "4d58e4c9",
   "metadata": {},
   "outputs": [
    {
     "data": {
      "text/html": [
       "<div>\n",
       "<style scoped>\n",
       "    .dataframe tbody tr th:only-of-type {\n",
       "        vertical-align: middle;\n",
       "    }\n",
       "\n",
       "    .dataframe tbody tr th {\n",
       "        vertical-align: top;\n",
       "    }\n",
       "\n",
       "    .dataframe thead th {\n",
       "        text-align: right;\n",
       "    }\n",
       "</style>\n",
       "<table border=\"1\" class=\"dataframe\">\n",
       "  <thead>\n",
       "    <tr style=\"text-align: right;\">\n",
       "      <th></th>\n",
       "      <th>A</th>\n",
       "      <th>B</th>\n",
       "      <th>C</th>\n",
       "      <th>D</th>\n",
       "      <th>E</th>\n",
       "      <th>F</th>\n",
       "    </tr>\n",
       "  </thead>\n",
       "  <tbody>\n",
       "    <tr>\n",
       "      <th>2019-01-01</th>\n",
       "      <td>0.303865</td>\n",
       "      <td>-0.848883</td>\n",
       "      <td>1.877196</td>\n",
       "      <td>-0.634977</td>\n",
       "      <td>-1.014933</td>\n",
       "      <td>0.303865</td>\n",
       "    </tr>\n",
       "    <tr>\n",
       "      <th>2019-01-02</th>\n",
       "      <td>-1.519974</td>\n",
       "      <td>-0.376308</td>\n",
       "      <td>0.082409</td>\n",
       "      <td>-0.299826</td>\n",
       "      <td>-0.103498</td>\n",
       "      <td>---</td>\n",
       "    </tr>\n",
       "    <tr>\n",
       "      <th>2019-01-03</th>\n",
       "      <td>-0.431277</td>\n",
       "      <td>-3.164727</td>\n",
       "      <td>-1.263799</td>\n",
       "      <td>0.667935</td>\n",
       "      <td>0.156341</td>\n",
       "      <td>---</td>\n",
       "    </tr>\n",
       "  </tbody>\n",
       "</table>\n",
       "</div>"
      ],
      "text/plain": [
       "                   A         B         C         D         E         F\n",
       "2019-01-01  0.303865 -0.848883  1.877196 -0.634977 -1.014933  0.303865\n",
       "2019-01-02 -1.519974 -0.376308  0.082409 -0.299826 -0.103498       ---\n",
       "2019-01-03 -0.431277 -3.164727 -1.263799  0.667935  0.156341       ---"
      ]
     },
     "execution_count": 34,
     "metadata": {},
     "output_type": "execute_result"
    }
   ],
   "source": [
    "df.fillna(value = '---').head(3)"
   ]
  }
 ],
 "metadata": {
  "kernelspec": {
   "display_name": "venv",
   "language": "python",
   "name": "python3"
  },
  "language_info": {
   "codemirror_mode": {
    "name": "ipython",
    "version": 3
   },
   "file_extension": ".py",
   "mimetype": "text/x-python",
   "name": "python",
   "nbconvert_exporter": "python",
   "pygments_lexer": "ipython3",
   "version": "3.12.4"
  }
 },
 "nbformat": 4,
 "nbformat_minor": 5
}
