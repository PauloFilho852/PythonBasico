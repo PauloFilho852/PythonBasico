{
 "cells": [
  {
   "cell_type": "code",
   "execution_count": 4,
   "id": "921a6019",
   "metadata": {},
   "outputs": [],
   "source": [
    "import pandas as pd"
   ]
  },
  {
   "cell_type": "code",
   "execution_count": 10,
   "id": "9eb31bbc",
   "metadata": {},
   "outputs": [],
   "source": [
    "arrays = [[1,2,3,4],['red', 'blue', 'red', 'blue']]"
   ]
  },
  {
   "cell_type": "code",
   "execution_count": 11,
   "id": "4c1bee86",
   "metadata": {},
   "outputs": [
    {
     "data": {
      "text/plain": [
       "MultiIndex([(1,  'red'),\n",
       "            (2, 'blue'),\n",
       "            (3,  'red'),\n",
       "            (4, 'blue')],\n",
       "           names=['number', 'color'])"
      ]
     },
     "execution_count": 11,
     "metadata": {},
     "output_type": "execute_result"
    }
   ],
   "source": [
    "pd.MultiIndex.from_arrays(arrays, names = ('number', 'color')) # devem ter o mesmo tamanho (combinação de pares)"
   ]
  },
  {
   "cell_type": "code",
   "execution_count": 13,
   "id": "71b32ef3",
   "metadata": {},
   "outputs": [
    {
     "data": {
      "text/plain": [
       "MultiIndex([(1,  'red'),\n",
       "            (1, 'blue'),\n",
       "            (1,  'red'),\n",
       "            (1, 'blue'),\n",
       "            (2,  'red'),\n",
       "            (2, 'blue'),\n",
       "            (2,  'red'),\n",
       "            (2, 'blue'),\n",
       "            (3,  'red'),\n",
       "            (3, 'blue'),\n",
       "            (3,  'red'),\n",
       "            (3, 'blue'),\n",
       "            (4,  'red'),\n",
       "            (4, 'blue'),\n",
       "            (4,  'red'),\n",
       "            (4, 'blue')],\n",
       "           names=['number', 'color'])"
      ]
     },
     "execution_count": 13,
     "metadata": {},
     "output_type": "execute_result"
    }
   ],
   "source": [
    "pd.MultiIndex.from_product(arrays, names = ('number', 'color')) #produto cartesiano"
   ]
  },
  {
   "cell_type": "code",
   "execution_count": 14,
   "id": "25ca4a5d",
   "metadata": {},
   "outputs": [],
   "source": [
    "arrays2 = [[1,2,3,4],['red', 'blue']]"
   ]
  },
  {
   "cell_type": "code",
   "execution_count": 15,
   "id": "844cf33f",
   "metadata": {},
   "outputs": [
    {
     "data": {
      "text/plain": [
       "MultiIndex([(1,  'red'),\n",
       "            (1, 'blue'),\n",
       "            (2,  'red'),\n",
       "            (2, 'blue'),\n",
       "            (3,  'red'),\n",
       "            (3, 'blue'),\n",
       "            (4,  'red'),\n",
       "            (4, 'blue')],\n",
       "           names=['number', 'color'])"
      ]
     },
     "execution_count": 15,
     "metadata": {},
     "output_type": "execute_result"
    }
   ],
   "source": [
    "pd.MultiIndex.from_product(arrays2, names = ('number', 'color')) #produto cartesiano"
   ]
  }
 ],
 "metadata": {
  "kernelspec": {
   "display_name": "Python 3",
   "language": "python",
   "name": "python3"
  },
  "language_info": {
   "codemirror_mode": {
    "name": "ipython",
    "version": 3
   },
   "file_extension": ".py",
   "mimetype": "text/x-python",
   "name": "python",
   "nbconvert_exporter": "python",
   "pygments_lexer": "ipython3",
   "version": "3.8.8"
  }
 },
 "nbformat": 4,
 "nbformat_minor": 5
}
